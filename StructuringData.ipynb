{
 "cells": [
  {
   "cell_type": "markdown",
   "id": "56cbfa6d",
   "metadata": {},
   "source": [
    "# Structuring Data"
   ]
  },
  {
   "cell_type": "markdown",
   "id": "76e2a218",
   "metadata": {},
   "source": [
    "Let's import our collected data"
   ]
  },
  {
   "cell_type": "code",
   "execution_count": 62,
   "id": "752f1959",
   "metadata": {},
   "outputs": [],
   "source": [
    "import numpy as np\n",
    "import pandas as pd\n",
    "\n",
    "pd.set_option('display.max_colwidth', None)\n",
    "pd.set_option('float_format', '{:.4f}'.format)"
   ]
  },
  {
   "cell_type": "code",
   "execution_count": 63,
   "id": "7e1f441f",
   "metadata": {},
   "outputs": [],
   "source": [
    "raw_data = pd.read_csv(\"raw_data.csv\")"
   ]
  },
  {
   "cell_type": "code",
   "execution_count": 64,
   "id": "d610da9c",
   "metadata": {},
   "outputs": [
    {
     "data": {
      "text/html": [
       "<div>\n",
       "<style scoped>\n",
       "    .dataframe tbody tr th:only-of-type {\n",
       "        vertical-align: middle;\n",
       "    }\n",
       "\n",
       "    .dataframe tbody tr th {\n",
       "        vertical-align: top;\n",
       "    }\n",
       "\n",
       "    .dataframe thead th {\n",
       "        text-align: right;\n",
       "    }\n",
       "</style>\n",
       "<table border=\"1\" class=\"dataframe\">\n",
       "  <thead>\n",
       "    <tr style=\"text-align: right;\">\n",
       "      <th></th>\n",
       "      <th>id</th>\n",
       "      <th>title</th>\n",
       "      <th>neighborhood</th>\n",
       "      <th>price</th>\n",
       "      <th>info_features</th>\n",
       "      <th>features</th>\n",
       "      <th>description</th>\n",
       "    </tr>\n",
       "  </thead>\n",
       "  <tbody>\n",
       "    <tr>\n",
       "      <th>10369</th>\n",
       "      <td>103421919</td>\n",
       "      <td>Flat / apartment for sale in calle del Maresme, 114</td>\n",
       "      <td>El Besòs, Barcelona</td>\n",
       "      <td>328,000</td>\n",
       "      <td>['75 m²', '2 bed.', '6th floor exterior with lift']</td>\n",
       "      <td>[['75 m² built, 70 m² floor area', '2 bedrooms', '1 bathroom', 'Second hand/good condition', 'Fitted wardrobes', 'Individual heating'], ['6th floor exterior', 'With lift'], ['Air conditioning'], ['Consumption:', 'Emissions:']]</td>\n",
       "      <td>Spectacular apartment, with incredible views of all of Barcelona and the sea, very bright and completely renovated. 10 minutes from the beach and the Diagonal Mar shopping center. Very well connected, with metro, tram and buses next to it. Bright and quiet. Air conditioning, parquet and double-glazed tilt-and-turn aluminum windows with automatic blinds. With 2 double rooms with sea views. Direct from Owner.</td>\n",
       "    </tr>\n",
       "    <tr>\n",
       "      <th>10370</th>\n",
       "      <td>104388663</td>\n",
       "      <td>Flat / apartment for sale in calle Gerard Piera, 21</td>\n",
       "      <td>Les Corts, Barcelona</td>\n",
       "      <td>211,000</td>\n",
       "      <td>['96 m²', '3 bed.', '2nd floor exterior without lift']</td>\n",
       "      <td>[['96 m² built, 82 m² floor area', '3 bedrooms', '1 bathroom', 'Second hand/needs renovating', 'Built in 2009'], ['2nd floor exterior', 'No lift'], ['Consumption:', 'Emissions:']]</td>\n",
       "      <td>OPPORTUNITY PROPERTY WITHOUT POSSESSION, IT CANNOT BE VISITED, SUITABLE FOR INVESTORS OR NEIGHBORS WHO KNOW THE PROPERTY. FLOORWe have a wide portfolio of properties without possessionInmogestion. investment of real estate assets, purchase-sale of premises in profitability, purchase-sale and rental operations of offices, premises, warehouses and capital buildings and its entire province. Contact us for more information.It is located in the north of the Bajo Llobregat region, 34 kilometers from Barcelona, at the confluence of two rivers, the Llobregat, and the Noya. The municipality has an area of 12.84 km².The municipal area is crossed by the A-2 Northeast motorway at pK 586, in addition to the old N-II road, by the AP-7 Mediterranean motorway, which connects with Girona and Tarragona, and by the B-224 local road, which allows communication with Masquefa.</td>\n",
       "    </tr>\n",
       "    <tr>\n",
       "      <th>10371</th>\n",
       "      <td>102565756</td>\n",
       "      <td>Flat / apartment for sale in Les Corts</td>\n",
       "      <td>Les Corts, Barcelona</td>\n",
       "      <td>1,000,000</td>\n",
       "      <td>['175 m²', '4 bed.', '3rd floor exterior with lift']</td>\n",
       "      <td>[['175 m² built', '4 bedrooms', '3 bathrooms', 'Balcony', 'Second hand/needs renovating', 'Built in 1942', 'Individual heating: Natural gas'], ['3rd floor exterior', 'With lift'], ['Consumption:95 kWh/m² year']]</td>\n",
       "      <td>Great flat in Les Corts to refurbish with optional projectSpectacular apartment completely renovated in the area near Plaza Francesc Macia. It is an apartment with a balcony and east-west orientation in one of the most central areas of the city.It has 4 bedrooms, 3 of which are doubles, a large outdoor living room with a balcony, kitchen, two full bathrooms and a toilet.It is being reformed and you can still adopt the entire reform to your liking and measure.DON'T MISS THE CHANCE TO SEE IT!It is located practically at the vertex ofthe three best neighborhoods in Barcelona: SantGervasi, Eixample, and Les Corts. AroundIt has parks, supermarkets,schools and of the shopping center L'illa, as well as a leisure area such as Gran Sarría and Diagonal cinema halls and a variety of restaurants.</td>\n",
       "    </tr>\n",
       "    <tr>\n",
       "      <th>10372</th>\n",
       "      <td>104144321</td>\n",
       "      <td>Flat / apartment for sale in calle de Joan Güell, 220</td>\n",
       "      <td>Les Corts, Barcelona</td>\n",
       "      <td>320,000</td>\n",
       "      <td>['63 m²', '1 bed.', '1st floor exterior with lift']</td>\n",
       "      <td>[['63 m² built, 50 m² floor area', '1 bedroom', '1 bathroom', 'Terrace and balcony', 'Second hand/good condition', 'Storeroom', 'Built in 1967', 'Individual heating'], ['1st floor exterior', 'With lift'], ['Air conditioning'], ['Consumption:60 kWh/m² year', 'Emissions:356 kg CO2/m² year']]</td>\n",
       "      <td>Ethic Real Estate presents:Apartment, in Joan Güell, with clear views and lots of light.Upon entering the house, we find a generous space, ideal to put a coat closet on the right, and on the left, we find the kitchen, modern style and office, fully equipped, with dishwasher, oven, and refrigerator.We also find the very spacious living room, and with two windows with lots of light and clear views.We also access the bedroom, en suite with bathroom, which has access to the patio of lights of the house.The patio has a lot of space, ideal to use as a laundry room/storage room.Currently the house has only one room, but it is very easy to use a part of the dining room to have the second room.As additional features, the apartment has hot and cold air through ducts, and the building has an elevator and concierge.It is in a very well located Residential estate next to the Corte Ingles de Diagonal between Juan Guell street and Europa street.It also has transport options a few minutes walk away, both from the Maria Cristina metro (L3) and Les corts (L3).Contact us now to visit this wonderful home!</td>\n",
       "    </tr>\n",
       "    <tr>\n",
       "      <th>10373</th>\n",
       "      <td>103448998</td>\n",
       "      <td>Flat / apartment for sale in avenida Diagonal</td>\n",
       "      <td>Les Corts, Barcelona</td>\n",
       "      <td>1,300,000</td>\n",
       "      <td>['280 m²', '6 bed.', '5th floor exterior with lift']</td>\n",
       "      <td>[['280 m² built, 198 m² floor area', '6 bedrooms', '3 bathrooms', 'Terrace', 'Second hand/needs renovating', 'Orientation South', 'Individual heating: Natural gas'], ['5th floor exterior', 'With lift'], ['Consumption:77 kWh/m² year', 'Emissions:17 kg CO2/m² year']]</td>\n",
       "      <td>Fantastic and bright apartment of 280m² constructed for sale next to Francesc Macià Square, located on the emblematic Diagonal Avenue, in the Les Corts neighborhood.Housing to reform located on a top floor of a classic building. It has a lot of natural light.Distributed in a large living room with a fireplace, 6 bedrooms (5 doubles, 2 of them with access to a sunny 30m² terrace), a large kitchen, 2 full bathrooms, 1 toilet and separate laundry area.The apartment includes built-in closets and gas heating.It boasts an unbeatable location, very close to numerous green areas such as Turó Park, and in proximity to the La Illa Diagonal shopping center and María Cristina Square. It's well connected by public transportation and just a few minutes away from the main entry and exit routes of the city.\"Contact us for further information or to schedule a visit to the property.</td>\n",
       "    </tr>\n",
       "    <tr>\n",
       "      <th>10374</th>\n",
       "      <td>103923671</td>\n",
       "      <td>Flat / apartment for sale in calle de Can Segalar</td>\n",
       "      <td>Les Corts, Barcelona</td>\n",
       "      <td>1,425,000</td>\n",
       "      <td>['168 m²', '2 bed.', '3rd floor exterior with lift', 'Parking included', 'Parking included']</td>\n",
       "      <td>[['168 m² built', '2 bedrooms', '2 bathrooms', 'Terrace', 'Parking space included in the price', 'Second hand/good condition', 'Storeroom', 'Orientation North, East, West', 'Built in 2016', 'Individual heating: Natural gas', 'Access and property adapted for people with reduced mobility'], ['3rd floor exterior', 'With lift'], ['Air conditioning', 'Swimming pool'], ['Consumption:47 kWh/m² year', 'Emissions:9 kg CO2/m² year']]</td>\n",
       "      <td>FLAT WITH TERRACE, PARKING AND STORAGE ROOM IN LES CORTSIn a privileged enclave of Les Corts, in Can Segalar, we present this exceptional flat with a unique terrace. A stone's throw from Avenida Diagonal and Plaza Concordia, very close to the main shopping centres in the area; l'Illa and El Corte Inglés, the university area, national and international schools and all types of transport, not forgetting the pleasant walks from this area.In a young building from 2016, on an intermediate floor we find this exceptional refurbished flat of 168sqm according to plan, with a terrace and balcony of 68sqm perfect to enjoy open views to the city and outdoor moments from the comfort of your home. Once we enter the property we find an entrance hall that leads us to the day area composed of the large living-dining room with a square floor plan, kitchen and terrace. From the living-dining room, with its large windows, we have access to a charming balcony and a large terrace, both of 68m2 with unobstructed views, which can be enjoyed 365 days a year thanks to a glass window with an accordion opening. And from this terrace we access the fully equipped kitchen with its integrated utility room. Once we access from the corridor to the night area we find two bedrooms, one with an exterior en suite with an exterior dressing room and access to the balcony and another exterior single bedroom. It is worth noting that the furniture in both rooms is made to measure with great attention to detail. Originally there were three exterior rooms.On the rooftop there is a communal area with swimming pool and showers with panoramic views of Barcelona and solar panels. The property has gas central heating and ducted air conditioning.This fabulous flat is completed with a parking space and a storage room with direct access from the same property to make your day to day life easier, included in the price.Sold furnished without pictures.Call us to visit a property that will not leave you indifferent!</td>\n",
       "    </tr>\n",
       "    <tr>\n",
       "      <th>10375</th>\n",
       "      <td>104145792</td>\n",
       "      <td>Flat / apartment for sale in calle de Joan Güell</td>\n",
       "      <td>Les Corts, Barcelona</td>\n",
       "      <td>320,000</td>\n",
       "      <td>['63 m²', '1 bed.', '1st floor exterior with lift']</td>\n",
       "      <td>[['63 m² built, 50 m² floor area', '1 bedroom', '1 bathroom', 'Second hand/good condition', 'Built in 1967', 'No heating'], ['1st floor exterior', 'With lift'], ['Air conditioning'], ['Consumption:356 kWh/m² year', 'Emissions:60 kg CO2/m² year']]</td>\n",
       "      <td>Apartment, renovated, in Joan Guell, with clear views and lots of light.Upon entering the house, we find a generous space, ideal for placing a coat rack on the right, and on the left, we find the kitchen, modern style and office, fully equipped, with dishwasher, oven, and refrigerator. We also find the very spacious living room, and with two windows with lots of light and clear views. We also access the bedroom, en suite with bathroom, which has access to the patio of lights of the house. The patio has a lot of space, ideal for use as a laundry room/storage room.Currently the house has only one room, but it is very easy to use a part of the dining room to have the second room. As additional features, the apartment has hot and cold air through ducts, and the building has an elevator and concierge.It is in a very well located Residential estate next to the Corte Ingles de Diagonal between Juan Guell street and Europa street. It also has transport options a few minutes walk away, both from the Maria Cristina metro (L3) and Les corts (L3).EXCLUSIVE PRODUCT APIALIA GROUP.</td>\n",
       "    </tr>\n",
       "    <tr>\n",
       "      <th>10376</th>\n",
       "      <td>104199194</td>\n",
       "      <td>Penthouse for sale in calle de Galileu</td>\n",
       "      <td>Les Corts, Barcelona</td>\n",
       "      <td>420,000</td>\n",
       "      <td>['84 m²', '3 bed.', '5th floor exterior with lift']</td>\n",
       "      <td>[['84 m² built, 68 m² floor area', '3 bedrooms', '1 bathroom', 'Terrace', 'Second hand/good condition', 'Fitted wardrobes', 'Orientation North, South, East', 'Built in 1965', 'Individual heating: Natural gas', 'Access and property adapted for people with reduced mobility'], ['5th floor exterior', 'With lift'], ['Consumption:42 kWh/m² year', 'Emissions:27 kg CO2/m² year']]</td>\n",
       "      <td>Discover the city skyline from your new penthouse with a spacious terrace designed for enjoyment and relaxation. This exclusive 84 m² penthouse not only offers you a comfortable and habitable space, but also an outdoor sanctuary in your own home.The jewel in the crown is the spacious living-dining room, bathed in natural light, which extends majestically onto the terrace, an idyllic space where mornings and evenings become magical moments with views that capture the essence of urban life.With three bedrooms, each an invitation to rest and privacy, this penthouse is perfect for families or for those looking for extra space for an office or home studio. The practical kitchen has an additional exit to a convenient laundry area, thus maximizing efficiency and comfort.A functional bathroom and a cozy hall complete this penthouse.The property, which is in an impeccable state of conservation, has an elevator, guaranteeing accessibility and comfort.Do not miss the opportunity to be the proud owner of this penthouse, a place where every day feels like a getaway without leaving home. Contact us to discover your future home in the heights.At BIBIR we know that managing residential properties can be complicated and require a lot of time and effort. That is why we specialize in providing comprehensive solutions for the management of the sale of your property. With BIBIR, you will have the peace of mind of knowing that your property is in good hands and that you will receive a high quality and efficient service.In customer service. It is important to note that the advertised price does not include taxes, notary fees, agency fees and other expenses inherent to a sale. These expenses may vary depending on the type of property, location and other factors.</td>\n",
       "    </tr>\n",
       "    <tr>\n",
       "      <th>10377</th>\n",
       "      <td>103772481</td>\n",
       "      <td>Flat / apartment for sale in calle del Vallespir</td>\n",
       "      <td>Les Corts, Barcelona</td>\n",
       "      <td>315,000</td>\n",
       "      <td>['62 m²', '3 bed.', '4th floor interior with lift']</td>\n",
       "      <td>[['62 m² built, 56 m² floor area', '3 bedrooms', '1 bathroom', 'Balcony', 'Second hand/good condition', 'Orientation South, West', 'Built in 1970', 'No heating', 'Only outdoor access is adapted for people with reduced mobility'], ['4th floor interior', 'With lift'], ['Air conditioning'], ['Consumption:', 'Emissions:']]</td>\n",
       "      <td>Vallespir-Novell. High floor, three bedrooms. Restored property with elevator and ramp for reduced mobility. The house consists of three bedrooms, one double and two singles, separate kitchen, bathroom, living room with access to a balcony. Original apartment with terrazzo floors and aluminum exterior carpentry, air conditioning and armored door. Southwest orientation. Very interesting location in one of the most commercial streets of Les Corts, near Sants-Estació, library, Forus Les Corts gym, Maristes. Metro line 3 and several bus lines.</td>\n",
       "    </tr>\n",
       "    <tr>\n",
       "      <th>10378</th>\n",
       "      <td>104278013</td>\n",
       "      <td>Flat / apartment for sale in calle de Cabestany, 31</td>\n",
       "      <td>Les Corts, Barcelona</td>\n",
       "      <td>320,000</td>\n",
       "      <td>['71 m²', '2 bed.', 'Mezzanine exterior with lift']</td>\n",
       "      <td>[['71 m² built, 58 m² floor area', '2 bedrooms', '1 bathroom', 'Second hand/good condition', 'Fitted wardrobes', 'Orientation North, West', 'Built in 1978', 'No heating'], ['Mezzanine exterior', 'With lift'], ['Consumption:187 kWh/m² year', 'Emissions:39 kg CO2/m² year']]</td>\n",
       "      <td>At Armadans Sancho we exclusively offer this great investment opportunity. Housing rented with a long-term contract.The house is located in the Les Corts neighborhood, one of the most sought-after areas of the city, a few meters from Avd. Diagonal, its strategic location between the Eixample and Sarria-Sant Gervasi neighborhoods make it a unique area, where It can be found from small businesses to large stores, it combines parks and green areas with proximity to the main entrances and exits of the city, close to streets with a wide range of restaurants and leisure, with quiet areas to walk through, wide range of options. in education, and perfectly connected by metro and bus. Without a doubt, a perfect neighborhood where you can find the essentials for everyday life.The house is renovated, it is exterior to the street with a perfect distribution without corridors that allows you to make the most of its surface. It consists of a living room, a double room (both exterior), an interior single room with a built-in wardrobe, a kitchen with access to a laundry room and a bathroom. The house is completed with parquet floors.Don't miss this great investment opportunity with a secure future value.The following expenses are excluded from the purchase price: Taxes, Registration and notary expenses.</td>\n",
       "    </tr>\n",
       "    <tr>\n",
       "      <th>10379</th>\n",
       "      <td>104355316</td>\n",
       "      <td>Flat / apartment for sale in calle de Numància</td>\n",
       "      <td>Les Corts, Barcelona</td>\n",
       "      <td>280,000</td>\n",
       "      <td>['55 m²', '3 bed.', '1st floor exterior with lift']</td>\n",
       "      <td>[['55 m² built, 50 m² floor area', '3 bedrooms', '1 bathroom', 'Terrace and balcony', 'Second hand/needs renovating', 'Built in 1928', 'Individual heating: Natural gas'], ['1st floor exterior', 'With lift'], ['Consumption:219 kWh/m² year', 'Emissions:46 kg CO2/m² year']]</td>\n",
       "      <td>In the neighborhood of Les Corts, specifically on Numancia street with Travessera de les Corts, we have this first floor apartment (2nd real) to be completely renovated. The apartment has a nice living room with access to a balcony overlooking Numancia street. It has 1 double exterior bedroom also with a balcony to the street, 1 medium-sized room that overlooks the gallery and a third, where there is currently a closet. The kitchen has a good size, with ceramic hob and aluminum carpentry window. Bathroom with bathtub. The apartment has possibilities for a nice reform.</td>\n",
       "    </tr>\n",
       "    <tr>\n",
       "      <th>10380</th>\n",
       "      <td>103416294</td>\n",
       "      <td>Flat / apartment for sale in avenida Diagonal</td>\n",
       "      <td>Les Corts, Barcelona</td>\n",
       "      <td>1,380,000</td>\n",
       "      <td>['225 m²', '3 bed.', '2nd floor exterior with lift', 'Parking included', 'Parking included']</td>\n",
       "      <td>[['225 m² built, 190 m² floor area', '3 bedrooms', '3 bathrooms', 'Terrace and balcony', 'Parking space included in the price', 'Second hand/good condition', 'Fitted wardrobes', 'Storeroom', 'Built in 1980', 'Individual heating: Natural gas', 'Only outdoor access is adapted for people with reduced mobility'], ['2nd floor exterior', 'With lift'], ['Air conditioning'], ['Consumption:118,81 kWh/m² year', 'Emissions:24,35 kg CO2/m² year']]</td>\n",
       "      <td>EXCLUSIVE HOUSINGMagnificent apartment for sale located on the prestigious Avenida Diagonal.This property stands out for having a large terrace of more than 10m2, which can be accessed directly from the bright living room.In addition, it has a spacious hall that separates the day area from the night area. The living room is spacious and bright, with two separate rooms.The beautifully designed kitchen is fully equipped and has a utility room with a washing machine, dryer and access to a patio where we can hang our clothes.In the hallway we find a full bathroom for visitors and a service entrance.In the night area, there are three bedrooms with large closets, two of them doubles and one single, along with two full bathrooms. The apartment has a parking space for 2 cars, a parking space for 2 motorcycles and a storage room in the same building, with direct access from the elevator.In addition, the building has an elevator and concierge service. Its features include automatic blinds, appliances included, heating, air conditioning, aluminum exterior carpentry and built-in wardrobes.The location is unbeatable, a few minutes walk from La Illa Diagonal and close to the Barcelona Tennis Club and the Polo Club.The apartment has a constructed area of 225m² and a useful area of 190m².It has 3 bedrooms, 3 bathrooms, terrace, balcony, storage room and garage space included in the price.Air conditionerAccess adapted to people with reduced mobility.It is located on the second floor of the building, it is exterior and has an elevator. Don't miss the opportunity to acquire this magnificent apartment in one of the best areas of the city.</td>\n",
       "    </tr>\n",
       "    <tr>\n",
       "      <th>10381</th>\n",
       "      <td>104293372</td>\n",
       "      <td>Flat / apartment for sale in avenida de Sarrià</td>\n",
       "      <td>Les Corts, Barcelona</td>\n",
       "      <td>629,000</td>\n",
       "      <td>['115 m²', '3 bed.', '2nd floor exterior with lift']</td>\n",
       "      <td>[['115 m² built', '3 bedrooms', '2 bathrooms', 'Second hand/good condition', 'Storeroom', 'Orientation South', 'Individual heating: Natural gas'], ['2nd floor exterior', 'With lift'], ['Air conditioning'], ['Consumption:', 'Emissions:']]</td>\n",
       "      <td>Welcome to this fantastic apartment for sale! Located in a privileged area, right next to the Plaza de Francesc Macià, in the heart of the upper area. This apartment is ideal for a family looking for nearby amenities, such as shops and public transport.The condition of the property is excellent, as it is a new construction in a stately building. The distribution of three bedrooms and two bathrooms allows great comfort for the whole family. In addition, it has a storage room to store everything you need.On the 1st floor, with an elevator available, this apartment offers a unique opportunity to acquire a property in an unbeatable location. With a constructed area of 115 m², this apartment is perfect to enjoy family life.The south orientation and the heating by heat/cold pump with natural gas, make this apartment very cozy and comfortable. In addition, it has air conditioning for the hottest days.Do not miss the opportunity to visit this wonderful apartment for sale. Contact us for more information!</td>\n",
       "    </tr>\n",
       "    <tr>\n",
       "      <th>10382</th>\n",
       "      <td>103921581</td>\n",
       "      <td>Flat / apartment for sale in Gongora</td>\n",
       "      <td>Verdun, Barcelona</td>\n",
       "      <td>235,000</td>\n",
       "      <td>['81 m²', '3 bed.', '3rd floor exterior with lift']</td>\n",
       "      <td>[['81 m² built, 70 m² floor area', '3 bedrooms', '1 bathroom', 'Balcony', 'Second hand/good condition', 'Built in 2007'], ['3rd floor exterior', 'With lift'], ['Consumption:', 'Emissions:']]</td>\n",
       "      <td>Apartment for sale in C/ Gongora, Nous Barris - Verdum, between Rda. de Dalt and C/ Viladrosa. Good communications by Metro L4 Via Julia - L3 Roquetes and buses H2, D50, 132, 76, D29, D40 and 11.3rd floor apartment, building with elevator, in good condition and completely exterior, very bright and sunny. It has a constructed area of 81m2 (approx. 70m2 useful), distributed in:3 exterior bedrooms (2 doubles and 1 single)1 washing machine-storage areaLiving-dining room with access to balconyKitchen, fully equipped1 bathroom, equipped with bathtubOptional, parking space in the building.It has aluminum enclosures, luminaires, ceramic floor and supplies registered.Representative businesses in the area: El Tren Amarillo Nursery - L'Argimon, Escola Pia Luz Casanova - Marta Mata, Ctro. Educativo Sant Ferran, Wellcome Language School, Instituto La Guineueta, Mercado Montserrat - Guineueta - Canyelles, CAP Roquetes, La Sirena, Bon Area, Consum, Condis.</td>\n",
       "    </tr>\n",
       "    <tr>\n",
       "      <th>10383</th>\n",
       "      <td>103987638</td>\n",
       "      <td>Flat / apartment for sale in Verdun</td>\n",
       "      <td>Nou Barris, Barcelona</td>\n",
       "      <td>150,000</td>\n",
       "      <td>['45 m²', '2 bed.', '1st floor exterior without lift']</td>\n",
       "      <td>[['45 m² built, 39 m² floor area', '2 bedrooms', '1 bathroom', 'Second hand/good condition', 'Orientation East', 'Built in 1953', 'Individual heating: Electric'], ['1st floor exterior', 'No lift'], ['Consumption:162 kWh/m² year', 'Emissions:34 kg CO2/m² year']]</td>\n",
       "      <td>Flat in Barcelona, with 495.144 ft², 2 rooms and 1 bathrooms and Heating Air conditioning with heat pump.</td>\n",
       "    </tr>\n",
       "    <tr>\n",
       "      <th>10384</th>\n",
       "      <td>104095205</td>\n",
       "      <td>Flat / apartment for sale in calle de las Navas de Tolosa</td>\n",
       "      <td>El Camp de l'Arpa del Clot, Barcelona</td>\n",
       "      <td>249,633</td>\n",
       "      <td>['63 m²', '2 bed.', '2nd floor exterior with lift']</td>\n",
       "      <td>[['63 m² built, 55 m² floor area', '2 bedrooms', '1 bathroom', 'Second hand/needs renovating', 'Orientation North, West', 'Built in 2008', 'Individual heating: Natural gas'], ['2nd floor exterior', 'With lift'], ['Air conditioning'], ['Consumption:152 kWh/m² year', 'Emissions:31 kg CO2/m² year']]</td>\n",
       "      <td>NAVAS DE TOLOSA STREET: Apartment to partially renovate on the 2nd real floor of a semi-new building with a lift.House with a useful area of 55m² according to measurement (63m² built), with a good distribution without corridors and also without load-bearing walls.It has updated facilities and is equipped with heating, air conditioning, video intercom and exterior carpentry with double glass with thermal and acoustic insulation chamber.Located in a building in good condition, with a small communal terrace and less than 5 minutes walk from the Navas metro stop (L1).We have a plan of the current distribution of the house, with measurements taken \"in situ\", in the last photo of the ad.</td>\n",
       "    </tr>\n",
       "    <tr>\n",
       "      <th>10385</th>\n",
       "      <td>101548114</td>\n",
       "      <td>Flat / apartment for sale in El Camp de l'Arpa del Clot</td>\n",
       "      <td>Sant Martí, Barcelona</td>\n",
       "      <td>480,000</td>\n",
       "      <td>['93 m²', '3 bed.', '4th floor exterior with lift']</td>\n",
       "      <td>[['93 m² built, 78 m² floor area', '3 bedrooms', '2 bathrooms', 'Balcony', 'Second hand/good condition', 'Fitted wardrobes', 'Orientation West'], ['4th floor exterior', 'With lift'], ['Air conditioning', 'Swimming pool'], ['Consumption:43 kWh/m² year', 'Emissions:8 kg CO2/m² year']]</td>\n",
       "      <td>Fincas Llopart presents this magnificent apartment in the El Camp del Arpa del Clot area!PARKING WITH STORAGE ROOM (18.45M2) OPTIONAL• Parking space for a large car and a motorcycle (14.35m2)• Storage room (4.10m2) in the same parking spaceThe building is located in a traditional neighborhood, close to La Sagrada Familia, very well connected to the rest of the city.It is close to all local services and shops.It is a safe and familiar neighborhood with a pleasant atmosphere.It has numerous pedestrian passages that concentrate the commercial activity of the neighborhood.On the roof of the building there is a common area with a swimming pool and solarium from where you can enjoy fantastic views of the city.HOUSING DISTRIBUTION (78.29m2)• 3 bedrooms (1 double en-suite and 2 singles)• 2 bathrooms• Lounge• Kitchen Office• Terrace 1.54m2• Laundry• Year of construction 2018.Walls and ceilings: light gray color on walls and ceilings Natural Color System S 1500-N• Ceiling paint in wet areas painted white.Flooring:• KÄHRS Oak natural wood floating parquet flooring throughout the house, except in the kitchen, bathrooms and laundry room, which will have gray stoneware flooring.• Terrace with stoneware paving.Interior carpentry:• Smooth interior doors with a white lacquered surface finish.• Built-in wardrobes with white lacquered hinged doors and interior finish with textured melamine and drawers.• Handles and fittings for doors and cabinets in matt chrome.External woodwork:• Tilt-and-turn aluminum windows lacquered lead gray with TECHNAL Soleal brand profiles, with thermal break.• Acoustic double glass glazing with air chamber, with low emission treatment.• Motorized lead gray aluminum blinds.Kitchen-office:• Kitchen equipped with high cabinets with white lacquered doors with a glossy finish and low cabinets with oak laminated doors.• North White SILESTONE countertop• Lighting with downlights on the ceiling and linestras under the tall furniture with LED bulbs.• SIEMENS appliancesBathrooms:• ROCA Meridian Compact sanitary ware with soft-close cover• TRES Study Exclusive taps.• Main bathroom with ROCA Diverta sink on Silestone Blanco Zeus countertop.• Secondary bathroom with ROCA Dama Square washbasin and ROCA Unik Debbi cabinet with drawers Textured oak• ROCA Malta shower trays• Mirrors• Heated towel rails• LED lighting• Stainless steel accessories• Glass shower screens with anti-lime treatment.Lightning:• LED interior lighting• NIESSEN Sky silver mechanisms• Wall light on the terraceHeating:• Heating by means of aluminum radiators with a production system by means of a Natural Gas mixed condensing boiler from the JUNKERS brand.Air conditioning:• Installation of air conditioning with hot and cold air heat pump, with MITSUBISHI ELECTRIC inverter technology.Indoor air renewal:• Installation of indoor air ventilation system.Do not think twice and ask us for more information!We are waiting for you!</td>\n",
       "    </tr>\n",
       "    <tr>\n",
       "      <th>10386</th>\n",
       "      <td>104334424</td>\n",
       "      <td>Flat / apartment for sale in calle d'Aragó, 543</td>\n",
       "      <td>El Camp de l'Arpa del Clot, Barcelona</td>\n",
       "      <td>218,900</td>\n",
       "      <td>['46 m²', '2 bed.', '2nd floor without lift']</td>\n",
       "      <td>[['46 m² built, 40 m² floor area', '2 bedrooms', '1 bathroom', 'Balcony', 'Second hand/good condition', 'Built in 1900', 'No heating'], ['2nd floor', 'No lift'], ['Consumption:165 kWh/m² year', 'Emissions:31 kg CO2/m² year']]</td>\n",
       "      <td>Floor 2nd, flat total surface area 46 m², usable floor area 40 m², single bedrooms: 1, double bedrooms: 1, 1 bathrooms, age over 50 years, balcony, ext. woodwork (wood), kitchen, dining room, state of repair: in good condition, lands: stoneware, energy emission rate: E, 31, energy consumption rate: E, 165.</td>\n",
       "    </tr>\n",
       "    <tr>\n",
       "      <th>10387</th>\n",
       "      <td>103060431</td>\n",
       "      <td>Flat / apartment for sale in freser</td>\n",
       "      <td>El Camp de l'Arpa del Clot, Barcelona</td>\n",
       "      <td>245,000</td>\n",
       "      <td>['67 m²', '1 bed.', '5th floor interior with lift']</td>\n",
       "      <td>[['67 m² built', '1 bedroom', '1 bathroom', 'Second hand/good condition', 'Fitted wardrobes', 'Individual heating'], ['5th floor interior', 'With lift'], ['Air conditioning'], ['In process']]</td>\n",
       "      <td>67 m2 apartment on Freser street, next to Passeig Maragall. Living room with access to a balcony, large open kitchen equipped with appliances (kitchen with induction hob, electric oven, microwave, refrigerator, paneled dishwasher and washer/dryer), 1 double bedroom with custom-made dressing room and access to a balcony, and 1 bathroom with shower. Ducted air conditioning, natural gas heating and parquet flooring throughout the apartment. Fully furnished and renovated, ready to move in. Area: Camp de l'Arpa del Clot. Very good public transport connections (Bus, metro... ). Sale price: €245,000.</td>\n",
       "    </tr>\n",
       "    <tr>\n",
       "      <th>10388</th>\n",
       "      <td>103758599</td>\n",
       "      <td>Flat / apartment for sale in calle de Còrsega</td>\n",
       "      <td>El Camp de l'Arpa del Clot, Barcelona</td>\n",
       "      <td>338,000</td>\n",
       "      <td>['81 m²', '4 bed.', '2nd floor exterior with lift']</td>\n",
       "      <td>[['81 m² built', '4 bedrooms', '1 bathroom', 'Balcony', 'Second hand/good condition', 'Fitted wardrobes', 'No heating'], ['2nd floor exterior', 'With lift'], ['Consumption:123 kWh/m² year', 'Emissions:234 kg CO2/m² year']]</td>\n",
       "      <td>Floor 2nd, flat total surface area 81 m², usable floor area 81 m², single bedrooms: 3, double bedrooms: 1, 1 bathrooms, built-in wardrobes, lift, balcony, ext. woodwork (aluminum), internal carpentry, kitchen, dining room, state of repair: in good condition, utility room, furnished, sunny, lands: parquet, double glazing (), exterior, interior, energy emission rate: D, 234, energy consumption rate: D, 123.</td>\n",
       "    </tr>\n",
       "  </tbody>\n",
       "</table>\n",
       "</div>"
      ],
      "text/plain": [
       "              id                                                      title  \\\n",
       "10369  103421919        Flat / apartment for sale in calle del Maresme, 114   \n",
       "10370  104388663        Flat / apartment for sale in calle Gerard Piera, 21   \n",
       "10371  102565756                     Flat / apartment for sale in Les Corts   \n",
       "10372  104144321      Flat / apartment for sale in calle de Joan Güell, 220   \n",
       "10373  103448998              Flat / apartment for sale in avenida Diagonal   \n",
       "10374  103923671          Flat / apartment for sale in calle de Can Segalar   \n",
       "10375  104145792           Flat / apartment for sale in calle de Joan Güell   \n",
       "10376  104199194                     Penthouse for sale in calle de Galileu   \n",
       "10377  103772481           Flat / apartment for sale in calle del Vallespir   \n",
       "10378  104278013        Flat / apartment for sale in calle de Cabestany, 31   \n",
       "10379  104355316             Flat / apartment for sale in calle de Numància   \n",
       "10380  103416294              Flat / apartment for sale in avenida Diagonal   \n",
       "10381  104293372             Flat / apartment for sale in avenida de Sarrià   \n",
       "10382  103921581                       Flat / apartment for sale in Gongora   \n",
       "10383  103987638                        Flat / apartment for sale in Verdun   \n",
       "10384  104095205  Flat / apartment for sale in calle de las Navas de Tolosa   \n",
       "10385  101548114    Flat / apartment for sale in El Camp de l'Arpa del Clot   \n",
       "10386  104334424            Flat / apartment for sale in calle d'Aragó, 543   \n",
       "10387  103060431                        Flat / apartment for sale in freser   \n",
       "10388  103758599              Flat / apartment for sale in calle de Còrsega   \n",
       "\n",
       "                                neighborhood      price  \\\n",
       "10369                    El Besòs, Barcelona    328,000   \n",
       "10370                   Les Corts, Barcelona    211,000   \n",
       "10371                   Les Corts, Barcelona  1,000,000   \n",
       "10372                   Les Corts, Barcelona    320,000   \n",
       "10373                   Les Corts, Barcelona  1,300,000   \n",
       "10374                   Les Corts, Barcelona  1,425,000   \n",
       "10375                   Les Corts, Barcelona    320,000   \n",
       "10376                   Les Corts, Barcelona    420,000   \n",
       "10377                   Les Corts, Barcelona    315,000   \n",
       "10378                   Les Corts, Barcelona    320,000   \n",
       "10379                   Les Corts, Barcelona    280,000   \n",
       "10380                   Les Corts, Barcelona  1,380,000   \n",
       "10381                   Les Corts, Barcelona    629,000   \n",
       "10382                      Verdun, Barcelona    235,000   \n",
       "10383                  Nou Barris, Barcelona    150,000   \n",
       "10384  El Camp de l'Arpa del Clot, Barcelona    249,633   \n",
       "10385                  Sant Martí, Barcelona    480,000   \n",
       "10386  El Camp de l'Arpa del Clot, Barcelona    218,900   \n",
       "10387  El Camp de l'Arpa del Clot, Barcelona    245,000   \n",
       "10388  El Camp de l'Arpa del Clot, Barcelona    338,000   \n",
       "\n",
       "                                                                                      info_features  \\\n",
       "10369                                           ['75 m²', '2 bed.', '6th floor exterior with lift']   \n",
       "10370                                        ['96 m²', '3 bed.', '2nd floor exterior without lift']   \n",
       "10371                                          ['175 m²', '4 bed.', '3rd floor exterior with lift']   \n",
       "10372                                           ['63 m²', '1 bed.', '1st floor exterior with lift']   \n",
       "10373                                          ['280 m²', '6 bed.', '5th floor exterior with lift']   \n",
       "10374  ['168 m²', '2 bed.', '3rd floor exterior with lift', 'Parking included', 'Parking included']   \n",
       "10375                                           ['63 m²', '1 bed.', '1st floor exterior with lift']   \n",
       "10376                                           ['84 m²', '3 bed.', '5th floor exterior with lift']   \n",
       "10377                                           ['62 m²', '3 bed.', '4th floor interior with lift']   \n",
       "10378                                           ['71 m²', '2 bed.', 'Mezzanine exterior with lift']   \n",
       "10379                                           ['55 m²', '3 bed.', '1st floor exterior with lift']   \n",
       "10380  ['225 m²', '3 bed.', '2nd floor exterior with lift', 'Parking included', 'Parking included']   \n",
       "10381                                          ['115 m²', '3 bed.', '2nd floor exterior with lift']   \n",
       "10382                                           ['81 m²', '3 bed.', '3rd floor exterior with lift']   \n",
       "10383                                        ['45 m²', '2 bed.', '1st floor exterior without lift']   \n",
       "10384                                           ['63 m²', '2 bed.', '2nd floor exterior with lift']   \n",
       "10385                                           ['93 m²', '3 bed.', '4th floor exterior with lift']   \n",
       "10386                                                 ['46 m²', '2 bed.', '2nd floor without lift']   \n",
       "10387                                           ['67 m²', '1 bed.', '5th floor interior with lift']   \n",
       "10388                                           ['81 m²', '4 bed.', '2nd floor exterior with lift']   \n",
       "\n",
       "                                                                                                                                                                                                                                                                                                                                                                                                                                                      features  \\\n",
       "10369                                                                                                                                                                                                                       [['75 m² built, 70 m² floor area', '2 bedrooms', '1 bathroom', 'Second hand/good condition', 'Fitted wardrobes', 'Individual heating'], ['6th floor exterior', 'With lift'], ['Air conditioning'], ['Consumption:', 'Emissions:']]   \n",
       "10370                                                                                                                                                                                                                                                                      [['96 m² built, 82 m² floor area', '3 bedrooms', '1 bathroom', 'Second hand/needs renovating', 'Built in 2009'], ['2nd floor exterior', 'No lift'], ['Consumption:', 'Emissions:']]   \n",
       "10371                                                                                                                                                                                                                                      [['175 m² built', '4 bedrooms', '3 bathrooms', 'Balcony', 'Second hand/needs renovating', 'Built in 1942', 'Individual heating: Natural gas'], ['3rd floor exterior', 'With lift'], ['Consumption:95 kWh/m² year']]   \n",
       "10372                                                                                                                                                       [['63 m² built, 50 m² floor area', '1 bedroom', '1 bathroom', 'Terrace and balcony', 'Second hand/good condition', 'Storeroom', 'Built in 1967', 'Individual heating'], ['1st floor exterior', 'With lift'], ['Air conditioning'], ['Consumption:60 kWh/m² year', 'Emissions:356 kg CO2/m² year']]   \n",
       "10373                                                                                                                                                                                [['280 m² built, 198 m² floor area', '6 bedrooms', '3 bathrooms', 'Terrace', 'Second hand/needs renovating', 'Orientation South', 'Individual heating: Natural gas'], ['5th floor exterior', 'With lift'], ['Consumption:77 kWh/m² year', 'Emissions:17 kg CO2/m² year']]   \n",
       "10374              [['168 m² built', '2 bedrooms', '2 bathrooms', 'Terrace', 'Parking space included in the price', 'Second hand/good condition', 'Storeroom', 'Orientation North, East, West', 'Built in 2016', 'Individual heating: Natural gas', 'Access and property adapted for people with reduced mobility'], ['3rd floor exterior', 'With lift'], ['Air conditioning', 'Swimming pool'], ['Consumption:47 kWh/m² year', 'Emissions:9 kg CO2/m² year']]   \n",
       "10375                                                                                                                                                                                                   [['63 m² built, 50 m² floor area', '1 bedroom', '1 bathroom', 'Second hand/good condition', 'Built in 1967', 'No heating'], ['1st floor exterior', 'With lift'], ['Air conditioning'], ['Consumption:356 kWh/m² year', 'Emissions:60 kg CO2/m² year']]   \n",
       "10376                                                                   [['84 m² built, 68 m² floor area', '3 bedrooms', '1 bathroom', 'Terrace', 'Second hand/good condition', 'Fitted wardrobes', 'Orientation North, South, East', 'Built in 1965', 'Individual heating: Natural gas', 'Access and property adapted for people with reduced mobility'], ['5th floor exterior', 'With lift'], ['Consumption:42 kWh/m² year', 'Emissions:27 kg CO2/m² year']]   \n",
       "10377                                                                                                                         [['62 m² built, 56 m² floor area', '3 bedrooms', '1 bathroom', 'Balcony', 'Second hand/good condition', 'Orientation South, West', 'Built in 1970', 'No heating', 'Only outdoor access is adapted for people with reduced mobility'], ['4th floor interior', 'With lift'], ['Air conditioning'], ['Consumption:', 'Emissions:']]   \n",
       "10378                                                                                                                                                                         [['71 m² built, 58 m² floor area', '2 bedrooms', '1 bathroom', 'Second hand/good condition', 'Fitted wardrobes', 'Orientation North, West', 'Built in 1978', 'No heating'], ['Mezzanine exterior', 'With lift'], ['Consumption:187 kWh/m² year', 'Emissions:39 kg CO2/m² year']]   \n",
       "10379                                                                                                                                                                          [['55 m² built, 50 m² floor area', '3 bedrooms', '1 bathroom', 'Terrace and balcony', 'Second hand/needs renovating', 'Built in 1928', 'Individual heating: Natural gas'], ['1st floor exterior', 'With lift'], ['Consumption:219 kWh/m² year', 'Emissions:46 kg CO2/m² year']]   \n",
       "10380  [['225 m² built, 190 m² floor area', '3 bedrooms', '3 bathrooms', 'Terrace and balcony', 'Parking space included in the price', 'Second hand/good condition', 'Fitted wardrobes', 'Storeroom', 'Built in 1980', 'Individual heating: Natural gas', 'Only outdoor access is adapted for people with reduced mobility'], ['2nd floor exterior', 'With lift'], ['Air conditioning'], ['Consumption:118,81 kWh/m² year', 'Emissions:24,35 kg CO2/m² year']]   \n",
       "10381                                                                                                                                                                                                            [['115 m² built', '3 bedrooms', '2 bathrooms', 'Second hand/good condition', 'Storeroom', 'Orientation South', 'Individual heating: Natural gas'], ['2nd floor exterior', 'With lift'], ['Air conditioning'], ['Consumption:', 'Emissions:']]   \n",
       "10382                                                                                                                                                                                                                                                           [['81 m² built, 70 m² floor area', '3 bedrooms', '1 bathroom', 'Balcony', 'Second hand/good condition', 'Built in 2007'], ['3rd floor exterior', 'With lift'], ['Consumption:', 'Emissions:']]   \n",
       "10383                                                                                                                                                                                    [['45 m² built, 39 m² floor area', '2 bedrooms', '1 bathroom', 'Second hand/good condition', 'Orientation East', 'Built in 1953', 'Individual heating: Electric'], ['1st floor exterior', 'No lift'], ['Consumption:162 kWh/m² year', 'Emissions:34 kg CO2/m² year']]   \n",
       "10384                                                                                                                                                [['63 m² built, 55 m² floor area', '2 bedrooms', '1 bathroom', 'Second hand/needs renovating', 'Orientation North, West', 'Built in 2008', 'Individual heating: Natural gas'], ['2nd floor exterior', 'With lift'], ['Air conditioning'], ['Consumption:152 kWh/m² year', 'Emissions:31 kg CO2/m² year']]   \n",
       "10385                                                                                                                                                              [['93 m² built, 78 m² floor area', '3 bedrooms', '2 bathrooms', 'Balcony', 'Second hand/good condition', 'Fitted wardrobes', 'Orientation West'], ['4th floor exterior', 'With lift'], ['Air conditioning', 'Swimming pool'], ['Consumption:43 kWh/m² year', 'Emissions:8 kg CO2/m² year']]   \n",
       "10386                                                                                                                                                                                                                        [['46 m² built, 40 m² floor area', '2 bedrooms', '1 bathroom', 'Balcony', 'Second hand/good condition', 'Built in 1900', 'No heating'], ['2nd floor', 'No lift'], ['Consumption:165 kWh/m² year', 'Emissions:31 kg CO2/m² year']]   \n",
       "10387                                                                                                                                                                                                                                                          [['67 m² built', '1 bedroom', '1 bathroom', 'Second hand/good condition', 'Fitted wardrobes', 'Individual heating'], ['5th floor interior', 'With lift'], ['Air conditioning'], ['In process']]   \n",
       "10388                                                                                                                                                                                                                           [['81 m² built', '4 bedrooms', '1 bathroom', 'Balcony', 'Second hand/good condition', 'Fitted wardrobes', 'No heating'], ['2nd floor exterior', 'With lift'], ['Consumption:123 kWh/m² year', 'Emissions:234 kg CO2/m² year']]   \n",
       "\n",
       "                                                                                                                                                                                                                                                                                                                                                                                                                                                                                                                                                                                                                                                                                                                                                                                                                                                                                                                                                                                                                                                                                                                                                                                                                                                                                                                                                                                                                                                                                                                                                                                                                                                                                                                                                                                                                                                                                                                                                                                                                                                                                                                                                                                                                                                                                                                                                                                                                                                                                                                                                                                                                                                                                                                                                                                                                                                                                                                                                                                                                                                  description  \n",
       "10369                                                                                                                                                                                                                                                                                                                                                                                                                                                                                                                                                                                                                                                                                                                                                                                                                                                                                                                                                                                                                                                                                                                                                                                                                                                                                                                                                                                                                                                                                                                                                                                                                                                                                                                                                                                                                                                                                                                                                                                                                                                                                                                                                                                                                                                                                                                                                                                                                                                                                                                                                                                                                              Spectacular apartment, with incredible views of all of Barcelona and the sea, very bright and completely renovated. 10 minutes from the beach and the Diagonal Mar shopping center. Very well connected, with metro, tram and buses next to it. Bright and quiet. Air conditioning, parquet and double-glazed tilt-and-turn aluminum windows with automatic blinds. With 2 double rooms with sea views. Direct from Owner.  \n",
       "10370                                                                                                                                                                                                                                                                                                                                                                                                                                                                                                                                                                                                                                                                                                                                                                                                                                                                                                                                                                                                                                                                                                                                                                                                                                                                                                                                                                                                                                                                                                                                                                                                                                                                                                                                                                                                                                                                                                                                                                                                                                                                                                                                                     OPPORTUNITY PROPERTY WITHOUT POSSESSION, IT CANNOT BE VISITED, SUITABLE FOR INVESTORS OR NEIGHBORS WHO KNOW THE PROPERTY. FLOORWe have a wide portfolio of properties without possessionInmogestion. investment of real estate assets, purchase-sale of premises in profitability, purchase-sale and rental operations of offices, premises, warehouses and capital buildings and its entire province. Contact us for more information.It is located in the north of the Bajo Llobregat region, 34 kilometers from Barcelona, at the confluence of two rivers, the Llobregat, and the Noya. The municipality has an area of 12.84 km².The municipal area is crossed by the A-2 Northeast motorway at pK 586, in addition to the old N-II road, by the AP-7 Mediterranean motorway, which connects with Girona and Tarragona, and by the B-224 local road, which allows communication with Masquefa.  \n",
       "10371                                                                                                                                                                                                                                                                                                                                                                                                                                                                                                                                                                                                                                                                                                                                                                                                                                                                                                                                                                                                                                                                                                                                                                                                                                                                                                                                                                                                                                                                                                                                                                                                                                                                                                                                                                                                                                                                                                                                                                                                                                                                                                                                                                                                                             Great flat in Les Corts to refurbish with optional projectSpectacular apartment completely renovated in the area near Plaza Francesc Macia. It is an apartment with a balcony and east-west orientation in one of the most central areas of the city.It has 4 bedrooms, 3 of which are doubles, a large outdoor living room with a balcony, kitchen, two full bathrooms and a toilet.It is being reformed and you can still adopt the entire reform to your liking and measure.DON'T MISS THE CHANCE TO SEE IT!It is located practically at the vertex ofthe three best neighborhoods in Barcelona: SantGervasi, Eixample, and Les Corts. AroundIt has parks, supermarkets,schools and of the shopping center L'illa, as well as a leisure area such as Gran Sarría and Diagonal cinema halls and a variety of restaurants.  \n",
       "10372                                                                                                                                                                                                                                                                                                                                                                                                                                                                                                                                                                                                                                                                                                                                                                                                                                                                                                                                                                                                                                                                                                                                                                                                                                                                                                                                                                                                                                                                                                                                                                                                                                                                                                                                                                                                                                                                                                          Ethic Real Estate presents:Apartment, in Joan Güell, with clear views and lots of light.Upon entering the house, we find a generous space, ideal to put a coat closet on the right, and on the left, we find the kitchen, modern style and office, fully equipped, with dishwasher, oven, and refrigerator.We also find the very spacious living room, and with two windows with lots of light and clear views.We also access the bedroom, en suite with bathroom, which has access to the patio of lights of the house.The patio has a lot of space, ideal to use as a laundry room/storage room.Currently the house has only one room, but it is very easy to use a part of the dining room to have the second room.As additional features, the apartment has hot and cold air through ducts, and the building has an elevator and concierge.It is in a very well located Residential estate next to the Corte Ingles de Diagonal between Juan Guell street and Europa street.It also has transport options a few minutes walk away, both from the Maria Cristina metro (L3) and Les corts (L3).Contact us now to visit this wonderful home!  \n",
       "10373                                                                                                                                                                                                                                                                                                                                                                                                                                                                                                                                                                                                                                                                                                                                                                                                                                                                                                                                                                                                                                                                                                                                                                                                                                                                                                                                                                                                                                                                                                                                                                                                                                                                                                                                                                                                                                                                                                                                                                                                                                                                                                                                           Fantastic and bright apartment of 280m² constructed for sale next to Francesc Macià Square, located on the emblematic Diagonal Avenue, in the Les Corts neighborhood.Housing to reform located on a top floor of a classic building. It has a lot of natural light.Distributed in a large living room with a fireplace, 6 bedrooms (5 doubles, 2 of them with access to a sunny 30m² terrace), a large kitchen, 2 full bathrooms, 1 toilet and separate laundry area.The apartment includes built-in closets and gas heating.It boasts an unbeatable location, very close to numerous green areas such as Turó Park, and in proximity to the La Illa Diagonal shopping center and María Cristina Square. It's well connected by public transportation and just a few minutes away from the main entry and exit routes of the city.\"Contact us for further information or to schedule a visit to the property.  \n",
       "10374                                                                                                                                                                                                                                                                                                                                                                                                                                                                                                                                                                                                                                                                                                                                                                                                                                                                                                                                                                              FLAT WITH TERRACE, PARKING AND STORAGE ROOM IN LES CORTSIn a privileged enclave of Les Corts, in Can Segalar, we present this exceptional flat with a unique terrace. A stone's throw from Avenida Diagonal and Plaza Concordia, very close to the main shopping centres in the area; l'Illa and El Corte Inglés, the university area, national and international schools and all types of transport, not forgetting the pleasant walks from this area.In a young building from 2016, on an intermediate floor we find this exceptional refurbished flat of 168sqm according to plan, with a terrace and balcony of 68sqm perfect to enjoy open views to the city and outdoor moments from the comfort of your home. Once we enter the property we find an entrance hall that leads us to the day area composed of the large living-dining room with a square floor plan, kitchen and terrace. From the living-dining room, with its large windows, we have access to a charming balcony and a large terrace, both of 68m2 with unobstructed views, which can be enjoyed 365 days a year thanks to a glass window with an accordion opening. And from this terrace we access the fully equipped kitchen with its integrated utility room. Once we access from the corridor to the night area we find two bedrooms, one with an exterior en suite with an exterior dressing room and access to the balcony and another exterior single bedroom. It is worth noting that the furniture in both rooms is made to measure with great attention to detail. Originally there were three exterior rooms.On the rooftop there is a communal area with swimming pool and showers with panoramic views of Barcelona and solar panels. The property has gas central heating and ducted air conditioning.This fabulous flat is completed with a parking space and a storage room with direct access from the same property to make your day to day life easier, included in the price.Sold furnished without pictures.Call us to visit a property that will not leave you indifferent!  \n",
       "10375                                                                                                                                                                                                                                                                                                                                                                                                                                                                                                                                                                                                                                                                                                                                                                                                                                                                                                                                                                                                                                                                                                                                                                                                                                                                                                                                                                                                                                                                                                                                                                                                                                                                                                                                                                                                                                                                                                                             Apartment, renovated, in Joan Guell, with clear views and lots of light.Upon entering the house, we find a generous space, ideal for placing a coat rack on the right, and on the left, we find the kitchen, modern style and office, fully equipped, with dishwasher, oven, and refrigerator. We also find the very spacious living room, and with two windows with lots of light and clear views. We also access the bedroom, en suite with bathroom, which has access to the patio of lights of the house. The patio has a lot of space, ideal for use as a laundry room/storage room.Currently the house has only one room, but it is very easy to use a part of the dining room to have the second room. As additional features, the apartment has hot and cold air through ducts, and the building has an elevator and concierge.It is in a very well located Residential estate next to the Corte Ingles de Diagonal between Juan Guell street and Europa street. It also has transport options a few minutes walk away, both from the Maria Cristina metro (L3) and Les corts (L3).EXCLUSIVE PRODUCT APIALIA GROUP.  \n",
       "10376                                                                                                                                                                                                                                                                                                                                                                                                                                                                                                                                                                                                                                                                                                                                                                                                                                                                                                                                                                                                                                                                                                                                                                                                                Discover the city skyline from your new penthouse with a spacious terrace designed for enjoyment and relaxation. This exclusive 84 m² penthouse not only offers you a comfortable and habitable space, but also an outdoor sanctuary in your own home.The jewel in the crown is the spacious living-dining room, bathed in natural light, which extends majestically onto the terrace, an idyllic space where mornings and evenings become magical moments with views that capture the essence of urban life.With three bedrooms, each an invitation to rest and privacy, this penthouse is perfect for families or for those looking for extra space for an office or home studio. The practical kitchen has an additional exit to a convenient laundry area, thus maximizing efficiency and comfort.A functional bathroom and a cozy hall complete this penthouse.The property, which is in an impeccable state of conservation, has an elevator, guaranteeing accessibility and comfort.Do not miss the opportunity to be the proud owner of this penthouse, a place where every day feels like a getaway without leaving home. Contact us to discover your future home in the heights.At BIBIR we know that managing residential properties can be complicated and require a lot of time and effort. That is why we specialize in providing comprehensive solutions for the management of the sale of your property. With BIBIR, you will have the peace of mind of knowing that your property is in good hands and that you will receive a high quality and efficient service.In customer service. It is important to note that the advertised price does not include taxes, notary fees, agency fees and other expenses inherent to a sale. These expenses may vary depending on the type of property, location and other factors.  \n",
       "10377                                                                                                                                                                                                                                                                                                                                                                                                                                                                                                                                                                                                                                                                                                                                                                                                                                                                                                                                                                                                                                                                                                                                                                                                                                                                                                                                                                                                                                                                                                                                                                                                                                                                                                                                                                                                                                                                                                                                                                                                                                                                                                                                                                                                                                                                                                                                                                                                                                                                                       Vallespir-Novell. High floor, three bedrooms. Restored property with elevator and ramp for reduced mobility. The house consists of three bedrooms, one double and two singles, separate kitchen, bathroom, living room with access to a balcony. Original apartment with terrazzo floors and aluminum exterior carpentry, air conditioning and armored door. Southwest orientation. Very interesting location in one of the most commercial streets of Les Corts, near Sants-Estació, library, Forus Les Corts gym, Maristes. Metro line 3 and several bus lines.  \n",
       "10378                                                                                                                                                                                                                                                                                                                                                                                                                                                                                                                                                                                                                                                                                                                                                                                                                                                                                                                                                                                                                                                                                                                                                                                                                                                                                                                                                                                                                                                                                                                                                                                                                                                                                            At Armadans Sancho we exclusively offer this great investment opportunity. Housing rented with a long-term contract.The house is located in the Les Corts neighborhood, one of the most sought-after areas of the city, a few meters from Avd. Diagonal, its strategic location between the Eixample and Sarria-Sant Gervasi neighborhoods make it a unique area, where It can be found from small businesses to large stores, it combines parks and green areas with proximity to the main entrances and exits of the city, close to streets with a wide range of restaurants and leisure, with quiet areas to walk through, wide range of options. in education, and perfectly connected by metro and bus. Without a doubt, a perfect neighborhood where you can find the essentials for everyday life.The house is renovated, it is exterior to the street with a perfect distribution without corridors that allows you to make the most of its surface. It consists of a living room, a double room (both exterior), an interior single room with a built-in wardrobe, a kitchen with access to a laundry room and a bathroom. The house is completed with parquet floors.Don't miss this great investment opportunity with a secure future value.The following expenses are excluded from the purchase price: Taxes, Registration and notary expenses.  \n",
       "10379                                                                                                                                                                                                                                                                                                                                                                                                                                                                                                                                                                                                                                                                                                                                                                                                                                                                                                                                                                                                                                                                                                                                                                                                                                                                                                                                                                                                                                                                                                                                                                                                                                                                                                                                                                                                                                                                                                                                                                                                                                                                                                                                                                                                                                                                                                                                                                                                                                                          In the neighborhood of Les Corts, specifically on Numancia street with Travessera de les Corts, we have this first floor apartment (2nd real) to be completely renovated. The apartment has a nice living room with access to a balcony overlooking Numancia street. It has 1 double exterior bedroom also with a balcony to the street, 1 medium-sized room that overlooks the gallery and a third, where there is currently a closet. The kitchen has a good size, with ceramic hob and aluminum carpentry window. Bathroom with bathtub. The apartment has possibilities for a nice reform.  \n",
       "10380                                                                                                                                                                                                                                                                                                                                                                                                                                                                                                                                                                                                                                                                                                                                                                                                                                                                                                                                                                                                                                                                                                                                                                                                                                                                                                                                          EXCLUSIVE HOUSINGMagnificent apartment for sale located on the prestigious Avenida Diagonal.This property stands out for having a large terrace of more than 10m2, which can be accessed directly from the bright living room.In addition, it has a spacious hall that separates the day area from the night area. The living room is spacious and bright, with two separate rooms.The beautifully designed kitchen is fully equipped and has a utility room with a washing machine, dryer and access to a patio where we can hang our clothes.In the hallway we find a full bathroom for visitors and a service entrance.In the night area, there are three bedrooms with large closets, two of them doubles and one single, along with two full bathrooms. The apartment has a parking space for 2 cars, a parking space for 2 motorcycles and a storage room in the same building, with direct access from the elevator.In addition, the building has an elevator and concierge service. Its features include automatic blinds, appliances included, heating, air conditioning, aluminum exterior carpentry and built-in wardrobes.The location is unbeatable, a few minutes walk from La Illa Diagonal and close to the Barcelona Tennis Club and the Polo Club.The apartment has a constructed area of 225m² and a useful area of 190m².It has 3 bedrooms, 3 bathrooms, terrace, balcony, storage room and garage space included in the price.Air conditionerAccess adapted to people with reduced mobility.It is located on the second floor of the building, it is exterior and has an elevator. Don't miss the opportunity to acquire this magnificent apartment in one of the best areas of the city.  \n",
       "10381                                                                                                                                                                                                                                                                                                                                                                                                                                                                                                                                                                                                                                                                                                                                                                                                                                                                                                                                                                                                                                                                                                                                                                                                                                                                                                                                                                                                                                                                                                                                                                                                                                                                                                                                                                                                                                                                                                                                                                                                    Welcome to this fantastic apartment for sale! Located in a privileged area, right next to the Plaza de Francesc Macià, in the heart of the upper area. This apartment is ideal for a family looking for nearby amenities, such as shops and public transport.The condition of the property is excellent, as it is a new construction in a stately building. The distribution of three bedrooms and two bathrooms allows great comfort for the whole family. In addition, it has a storage room to store everything you need.On the 1st floor, with an elevator available, this apartment offers a unique opportunity to acquire a property in an unbeatable location. With a constructed area of 115 m², this apartment is perfect to enjoy family life.The south orientation and the heating by heat/cold pump with natural gas, make this apartment very cozy and comfortable. In addition, it has air conditioning for the hottest days.Do not miss the opportunity to visit this wonderful apartment for sale. Contact us for more information!  \n",
       "10382                                                                                                                                                                                                                                                                                                                                                                                                                                                                                                                                                                                                                                                                                                                                                                                                                                                                                                                                                                                                                                                                                                                                                                                                                                                                                                                                                                                                                                                                                                                                                                                                                                                                                                                                                                                                                                                                                                                                                                                                                                                             Apartment for sale in C/ Gongora, Nous Barris - Verdum, between Rda. de Dalt and C/ Viladrosa. Good communications by Metro L4 Via Julia - L3 Roquetes and buses H2, D50, 132, 76, D29, D40 and 11.3rd floor apartment, building with elevator, in good condition and completely exterior, very bright and sunny. It has a constructed area of 81m2 (approx. 70m2 useful), distributed in:3 exterior bedrooms (2 doubles and 1 single)1 washing machine-storage areaLiving-dining room with access to balconyKitchen, fully equipped1 bathroom, equipped with bathtubOptional, parking space in the building.It has aluminum enclosures, luminaires, ceramic floor and supplies registered.Representative businesses in the area: El Tren Amarillo Nursery - L'Argimon, Escola Pia Luz Casanova - Marta Mata, Ctro. Educativo Sant Ferran, Wellcome Language School, Instituto La Guineueta, Mercado Montserrat - Guineueta - Canyelles, CAP Roquetes, La Sirena, Bon Area, Consum, Condis.  \n",
       "10383                                                                                                                                                                                                                                                                                                                                                                                                                                                                                                                                                                                                                                                                                                                                                                                                                                                                                                                                                                                                                                                                                                                                                                                                                                                                                                                                                                                                                                                                                                                                                                                                                                                                                                                                                                                                                                                                                                                                                                                                                                                                                                                                                                                                                                                                                                                                                                                                                                                                                                                                                                                                                                                                                                                                                                                                                                                                                                                                               Flat in Barcelona, with 495.144 ft², 2 rooms and 1 bathrooms and Heating Air conditioning with heat pump.  \n",
       "10384                                                                                                                                                                                                                                                                                                                                                                                                                                                                                                                                                                                                                                                                                                                                                                                                                                                                                                                                                                                                                                                                                                                                                                                                                                                                                                                                                                                                                                                                                                                                                                                                                                                                                                                                                                                                                                                                                                                                                                                                                                                                                                                                                                                                                                                                                                                                      NAVAS DE TOLOSA STREET: Apartment to partially renovate on the 2nd real floor of a semi-new building with a lift.House with a useful area of 55m² according to measurement (63m² built), with a good distribution without corridors and also without load-bearing walls.It has updated facilities and is equipped with heating, air conditioning, video intercom and exterior carpentry with double glass with thermal and acoustic insulation chamber.Located in a building in good condition, with a small communal terrace and less than 5 minutes walk from the Navas metro stop (L1).We have a plan of the current distribution of the house, with measurements taken \"in situ\", in the last photo of the ad.  \n",
       "10385  Fincas Llopart presents this magnificent apartment in the El Camp del Arpa del Clot area!PARKING WITH STORAGE ROOM (18.45M2) OPTIONAL• Parking space for a large car and a motorcycle (14.35m2)• Storage room (4.10m2) in the same parking spaceThe building is located in a traditional neighborhood, close to La Sagrada Familia, very well connected to the rest of the city.It is close to all local services and shops.It is a safe and familiar neighborhood with a pleasant atmosphere.It has numerous pedestrian passages that concentrate the commercial activity of the neighborhood.On the roof of the building there is a common area with a swimming pool and solarium from where you can enjoy fantastic views of the city.HOUSING DISTRIBUTION (78.29m2)• 3 bedrooms (1 double en-suite and 2 singles)• 2 bathrooms• Lounge• Kitchen Office• Terrace 1.54m2• Laundry• Year of construction 2018.Walls and ceilings: light gray color on walls and ceilings Natural Color System S 1500-N• Ceiling paint in wet areas painted white.Flooring:• KÄHRS Oak natural wood floating parquet flooring throughout the house, except in the kitchen, bathrooms and laundry room, which will have gray stoneware flooring.• Terrace with stoneware paving.Interior carpentry:• Smooth interior doors with a white lacquered surface finish.• Built-in wardrobes with white lacquered hinged doors and interior finish with textured melamine and drawers.• Handles and fittings for doors and cabinets in matt chrome.External woodwork:• Tilt-and-turn aluminum windows lacquered lead gray with TECHNAL Soleal brand profiles, with thermal break.• Acoustic double glass glazing with air chamber, with low emission treatment.• Motorized lead gray aluminum blinds.Kitchen-office:• Kitchen equipped with high cabinets with white lacquered doors with a glossy finish and low cabinets with oak laminated doors.• North White SILESTONE countertop• Lighting with downlights on the ceiling and linestras under the tall furniture with LED bulbs.• SIEMENS appliancesBathrooms:• ROCA Meridian Compact sanitary ware with soft-close cover• TRES Study Exclusive taps.• Main bathroom with ROCA Diverta sink on Silestone Blanco Zeus countertop.• Secondary bathroom with ROCA Dama Square washbasin and ROCA Unik Debbi cabinet with drawers Textured oak• ROCA Malta shower trays• Mirrors• Heated towel rails• LED lighting• Stainless steel accessories• Glass shower screens with anti-lime treatment.Lightning:• LED interior lighting• NIESSEN Sky silver mechanisms• Wall light on the terraceHeating:• Heating by means of aluminum radiators with a production system by means of a Natural Gas mixed condensing boiler from the JUNKERS brand.Air conditioning:• Installation of air conditioning with hot and cold air heat pump, with MITSUBISHI ELECTRIC inverter technology.Indoor air renewal:• Installation of indoor air ventilation system.Do not think twice and ask us for more information!We are waiting for you!  \n",
       "10386                                                                                                                                                                                                                                                                                                                                                                                                                                                                                                                                                                                                                                                                                                                                                                                                                                                                                                                                                                                                                                                                                                                                                                                                                                                                                                                                                                                                                                                                                                                                                                                                                                                                                                                                                                                                                                                                                                                                                                                                                                                                                                                                                                                                                                                                                                                                                                                                                                                                                                                                                                                                                                                                                                                                     Floor 2nd, flat total surface area 46 m², usable floor area 40 m², single bedrooms: 1, double bedrooms: 1, 1 bathrooms, age over 50 years, balcony, ext. woodwork (wood), kitchen, dining room, state of repair: in good condition, lands: stoneware, energy emission rate: E, 31, energy consumption rate: E, 165.  \n",
       "10387                                                                                                                                                                                                                                                                                                                                                                                                                                                                                                                                                                                                                                                                                                                                                                                                                                                                                                                                                                                                                                                                                                                                                                                                                                                                                                                                                                                                                                                                                                                                                                                                                                                                                                                                                                                                                                                                                                                                                                                                                                                                                                                                                                                                                                                                                                                                                                                                                                67 m2 apartment on Freser street, next to Passeig Maragall. Living room with access to a balcony, large open kitchen equipped with appliances (kitchen with induction hob, electric oven, microwave, refrigerator, paneled dishwasher and washer/dryer), 1 double bedroom with custom-made dressing room and access to a balcony, and 1 bathroom with shower. Ducted air conditioning, natural gas heating and parquet flooring throughout the apartment. Fully furnished and renovated, ready to move in. Area: Camp de l'Arpa del Clot. Very good public transport connections (Bus, metro... ). Sale price: €245,000.  \n",
       "10388                                                                                                                                                                                                                                                                                                                                                                                                                                                                                                                                                                                                                                                                                                                                                                                                                                                                                                                                                                                                                                                                                                                                                                                                                                                                                                                                                                                                                                                                                                                                                                                                                                                                                                                                                                                                                                                                                                                                                                                                                                                                                                                                                                                                                                                                                                                                                                                                                                                                                                                                                                                                                                Floor 2nd, flat total surface area 81 m², usable floor area 81 m², single bedrooms: 3, double bedrooms: 1, 1 bathrooms, built-in wardrobes, lift, balcony, ext. woodwork (aluminum), internal carpentry, kitchen, dining room, state of repair: in good condition, utility room, furnished, sunny, lands: parquet, double glazing (), exterior, interior, energy emission rate: D, 234, energy consumption rate: D, 123.  "
      ]
     },
     "execution_count": 64,
     "metadata": {},
     "output_type": "execute_result"
    }
   ],
   "source": [
    "raw_data.tail(20)"
   ]
  },
  {
   "cell_type": "markdown",
   "id": "71787cc3",
   "metadata": {},
   "source": [
    "### Info_features"
   ]
  },
  {
   "cell_type": "markdown",
   "id": "f826159f",
   "metadata": {},
   "source": [
    "Our first step will be to clean and adapt our columns, ensuring that the data is properly structured."
   ]
  },
  {
   "cell_type": "code",
   "execution_count": 65,
   "id": "c1738d2c",
   "metadata": {},
   "outputs": [],
   "source": [
    "info_features = raw_data[[\"id\", \"info_features\"]]\n",
    "features = info_features[\"info_features\"].tolist()\n",
    "\n",
    "features = [element.replace('[',\"\").replace(']',\"\").split(', ') for element in features]\n",
    "features = [[element.strip() for element in row] for row in features]"
   ]
  },
  {
   "cell_type": "code",
   "execution_count": 66,
   "id": "be7eff1b",
   "metadata": {},
   "outputs": [
    {
     "data": {
      "text/html": [
       "<div>\n",
       "<style scoped>\n",
       "    .dataframe tbody tr th:only-of-type {\n",
       "        vertical-align: middle;\n",
       "    }\n",
       "\n",
       "    .dataframe tbody tr th {\n",
       "        vertical-align: top;\n",
       "    }\n",
       "\n",
       "    .dataframe thead th {\n",
       "        text-align: right;\n",
       "    }\n",
       "</style>\n",
       "<table border=\"1\" class=\"dataframe\">\n",
       "  <thead>\n",
       "    <tr style=\"text-align: right;\">\n",
       "      <th></th>\n",
       "      <th>id</th>\n",
       "      <th>0</th>\n",
       "      <th>1</th>\n",
       "      <th>2</th>\n",
       "      <th>3</th>\n",
       "      <th>4</th>\n",
       "      <th>5</th>\n",
       "    </tr>\n",
       "  </thead>\n",
       "  <tbody>\n",
       "    <tr>\n",
       "      <th>10379</th>\n",
       "      <td>104355316</td>\n",
       "      <td>'55 m²'</td>\n",
       "      <td>'3 bed.'</td>\n",
       "      <td>'1st floor exterior with lift'</td>\n",
       "      <td>None</td>\n",
       "      <td>None</td>\n",
       "      <td>None</td>\n",
       "    </tr>\n",
       "    <tr>\n",
       "      <th>10380</th>\n",
       "      <td>103416294</td>\n",
       "      <td>'225 m²'</td>\n",
       "      <td>'3 bed.'</td>\n",
       "      <td>'2nd floor exterior with lift'</td>\n",
       "      <td>'Parking included'</td>\n",
       "      <td>'Parking included'</td>\n",
       "      <td>None</td>\n",
       "    </tr>\n",
       "    <tr>\n",
       "      <th>10381</th>\n",
       "      <td>104293372</td>\n",
       "      <td>'115 m²'</td>\n",
       "      <td>'3 bed.'</td>\n",
       "      <td>'2nd floor exterior with lift'</td>\n",
       "      <td>None</td>\n",
       "      <td>None</td>\n",
       "      <td>None</td>\n",
       "    </tr>\n",
       "    <tr>\n",
       "      <th>10382</th>\n",
       "      <td>103921581</td>\n",
       "      <td>'81 m²'</td>\n",
       "      <td>'3 bed.'</td>\n",
       "      <td>'3rd floor exterior with lift'</td>\n",
       "      <td>None</td>\n",
       "      <td>None</td>\n",
       "      <td>None</td>\n",
       "    </tr>\n",
       "    <tr>\n",
       "      <th>10383</th>\n",
       "      <td>103987638</td>\n",
       "      <td>'45 m²'</td>\n",
       "      <td>'2 bed.'</td>\n",
       "      <td>'1st floor exterior without lift'</td>\n",
       "      <td>None</td>\n",
       "      <td>None</td>\n",
       "      <td>None</td>\n",
       "    </tr>\n",
       "    <tr>\n",
       "      <th>10384</th>\n",
       "      <td>104095205</td>\n",
       "      <td>'63 m²'</td>\n",
       "      <td>'2 bed.'</td>\n",
       "      <td>'2nd floor exterior with lift'</td>\n",
       "      <td>None</td>\n",
       "      <td>None</td>\n",
       "      <td>None</td>\n",
       "    </tr>\n",
       "    <tr>\n",
       "      <th>10385</th>\n",
       "      <td>101548114</td>\n",
       "      <td>'93 m²'</td>\n",
       "      <td>'3 bed.'</td>\n",
       "      <td>'4th floor exterior with lift'</td>\n",
       "      <td>None</td>\n",
       "      <td>None</td>\n",
       "      <td>None</td>\n",
       "    </tr>\n",
       "    <tr>\n",
       "      <th>10386</th>\n",
       "      <td>104334424</td>\n",
       "      <td>'46 m²'</td>\n",
       "      <td>'2 bed.'</td>\n",
       "      <td>'2nd floor without lift'</td>\n",
       "      <td>None</td>\n",
       "      <td>None</td>\n",
       "      <td>None</td>\n",
       "    </tr>\n",
       "    <tr>\n",
       "      <th>10387</th>\n",
       "      <td>103060431</td>\n",
       "      <td>'67 m²'</td>\n",
       "      <td>'1 bed.'</td>\n",
       "      <td>'5th floor interior with lift'</td>\n",
       "      <td>None</td>\n",
       "      <td>None</td>\n",
       "      <td>None</td>\n",
       "    </tr>\n",
       "    <tr>\n",
       "      <th>10388</th>\n",
       "      <td>103758599</td>\n",
       "      <td>'81 m²'</td>\n",
       "      <td>'4 bed.'</td>\n",
       "      <td>'2nd floor exterior with lift'</td>\n",
       "      <td>None</td>\n",
       "      <td>None</td>\n",
       "      <td>None</td>\n",
       "    </tr>\n",
       "  </tbody>\n",
       "</table>\n",
       "</div>"
      ],
      "text/plain": [
       "              id         0         1                                  2  \\\n",
       "10379  104355316   '55 m²'  '3 bed.'     '1st floor exterior with lift'   \n",
       "10380  103416294  '225 m²'  '3 bed.'     '2nd floor exterior with lift'   \n",
       "10381  104293372  '115 m²'  '3 bed.'     '2nd floor exterior with lift'   \n",
       "10382  103921581   '81 m²'  '3 bed.'     '3rd floor exterior with lift'   \n",
       "10383  103987638   '45 m²'  '2 bed.'  '1st floor exterior without lift'   \n",
       "10384  104095205   '63 m²'  '2 bed.'     '2nd floor exterior with lift'   \n",
       "10385  101548114   '93 m²'  '3 bed.'     '4th floor exterior with lift'   \n",
       "10386  104334424   '46 m²'  '2 bed.'           '2nd floor without lift'   \n",
       "10387  103060431   '67 m²'  '1 bed.'     '5th floor interior with lift'   \n",
       "10388  103758599   '81 m²'  '4 bed.'     '2nd floor exterior with lift'   \n",
       "\n",
       "                        3                   4     5  \n",
       "10379                None                None  None  \n",
       "10380  'Parking included'  'Parking included'  None  \n",
       "10381                None                None  None  \n",
       "10382                None                None  None  \n",
       "10383                None                None  None  \n",
       "10384                None                None  None  \n",
       "10385                None                None  None  \n",
       "10386                None                None  None  \n",
       "10387                None                None  None  \n",
       "10388                None                None  None  "
      ]
     },
     "execution_count": 66,
     "metadata": {},
     "output_type": "execute_result"
    }
   ],
   "source": [
    "dirty_data = pd.DataFrame(features)\n",
    "dirty_data.insert(0,\"id\",raw_data[\"id\"])\n",
    "dirty_data.tail(10)"
   ]
  },
  {
   "cell_type": "markdown",
   "id": "685b3941",
   "metadata": {
    "scrolled": true
   },
   "source": [
    "The info_features is currently poorly structured. We will address this by refining it, one column at a time."
   ]
  },
  {
   "cell_type": "markdown",
   "id": "f8e2a522",
   "metadata": {},
   "source": [
    "The fist column correspond to the property size."
   ]
  },
  {
   "cell_type": "code",
   "execution_count": 67,
   "id": "f974fcb4",
   "metadata": {},
   "outputs": [],
   "source": [
    "dirty_data = dirty_data.rename(columns={0:\"size_in_m2\"})"
   ]
  },
  {
   "cell_type": "code",
   "execution_count": 68,
   "id": "17301816",
   "metadata": {},
   "outputs": [
    {
     "data": {
      "text/plain": [
       "array([\"'80 m²'\", \"'58 m²'\", \"'155 m²'\", \"'89 m²'\", \"'70 m²'\", \"'73 m²'\",\n",
       "       \"'149 m²'\", \"'33 m²'\", \"'118 m²'\", \"'50 m²'\", \"'54 m²'\",\n",
       "       \"'110 m²'\", \"'224 m²'\", \"'75 m²'\", \"'57 m²'\", \"'56 m²'\", \"'40 m²'\",\n",
       "       \"'69 m²'\", \"'41 m²'\", \"'45 m²'\", \"'214 m²'\", \"'36 m²'\", \"'67 m²'\",\n",
       "       \"'61 m²'\", \"'91 m²'\", \"'35 m²'\", \"'49 m²'\", \"'51 m²'\", \"'94 m²'\",\n",
       "       \"'190 m²'\", \"'197 m²'\", \"'81 m²'\", \"'79 m²'\", \"'179 m²'\",\n",
       "       \"'113 m²'\", \"'135 m²'\", \"'77 m²'\", \"'131 m²'\", \"'95 m²'\",\n",
       "       \"'120 m²'\", \"'90 m²'\", \"'65 m²'\", \"'55 m²'\", \"'34 m²'\", \"'39 m²'\",\n",
       "       \"'78 m²'\", \"'71 m²'\", \"'76 m²'\", \"'102 m²'\", \"'66 m²'\", \"'82 m²'\",\n",
       "       \"'232 m²'\", \"'310 m²'\", \"'150 m²'\", \"'107 m²'\", \"'72 m²'\",\n",
       "       \"'161 m²'\", \"'74 m²'\", \"'128 m²'\", \"'42 m²'\", \"'88 m²'\", \"'62 m²'\",\n",
       "       \"'104 m²'\", \"'293 m²'\", \"'103 m²'\", \"'145 m²'\", \"'126 m²'\",\n",
       "       \"'31 m²'\", \"'134 m²'\", \"'108 m²'\", \"'125 m²'\", \"'164 m²'\",\n",
       "       \"'96 m²'\", \"'219 m²'\", \"'129 m²'\", \"'216 m²'\", \"'111 m²'\",\n",
       "       \"'195 m²'\", \"'87 m²'\", \"'132 m²'\", \"'363 m²'\", \"'280 m²'\",\n",
       "       \"'188 m²'\", \"'187 m²'\", \"'206 m²'\", \"'239 m²'\", \"'130 m²'\",\n",
       "       \"'138 m²'\", \"'146 m²'\", \"'93 m²'\", \"'115 m²'\", \"'100 m²'\",\n",
       "       \"'85 m²'\", \"'83 m²'\", \"'99 m²'\", \"'32 m²'\", \"'109 m²'\", \"'101 m²'\",\n",
       "       \"'121 m²'\", \"'184 m²'\", \"'60 m²'\", \"'84 m²'\", \"'374 m²'\",\n",
       "       \"'170 m²'\", \"'47 m²'\", \"'180 m²'\", \"'147 m²'\", \"'59 m²'\",\n",
       "       \"'148 m²'\", \"'68 m²'\", \"'92 m²'\", \"'178 m²'\", \"'240 m²'\",\n",
       "       \"'215 m²'\", \"'205 m²'\", \"'330 m²'\", \"'213 m²'\", \"'106 m²'\",\n",
       "       \"'37 m²'\", \"'86 m²'\", \"'413 m²'\", \"'160 m²'\", \"'176 m²'\",\n",
       "       \"'550 m²'\", \"'375 m²'\", \"'203 m²'\", \"'182 m²'\", \"'183 m²'\",\n",
       "       \"'137 m²'\", \"'250 m²'\", \"'870 m²'\", \"'167 m²'\", \"'63 m²'\",\n",
       "       \"'52 m²'\", \"'140 m²'\", \"'313 m²'\", \"'226 m²'\", \"'900 m²'\",\n",
       "       \"'123 m²'\", \"'64 m²'\", \"'53 m²'\", \"'159 m²'\", \"'417 m²'\",\n",
       "       \"'549 m²'\", \"'360 m²'\", \"'719 m²'\", \"'345 m²'\", \"'220 m²'\",\n",
       "       \"'202 m²'\", \"'289 m²'\", \"'133 m²'\", \"'207 m²'\", \"'124 m²'\",\n",
       "       \"'175 m²'\", \"'98 m²'\", \"'530 m²'\", \"'46 m²'\", \"'243 m²'\",\n",
       "       \"'43 m²'\", \"'48 m²'\", \"'204 m²'\", \"'277 m²'\", \"'105 m²'\",\n",
       "       \"'256 m²'\", \"'201 m²'\", \"'314 m²'\", \"'156 m²'\", \"'141 m²'\",\n",
       "       \"'200 m²'\", \"'153 m²'\", \"'116 m²'\", \"'97 m²'\", \"'366 m²'\",\n",
       "       \"'227 m²'\", \"'158 m²'\", \"'223 m²'\", \"'143 m²'\", \"'667 m²'\",\n",
       "       \"'387 m²'\", \"'174 m²'\", \"'229 m²'\", \"'290 m²'\", \"'230 m²'\",\n",
       "       \"'30 m²'\", \"'114 m²'\", \"'228 m²'\", \"'119 m²'\", \"'192 m²'\",\n",
       "       \"'169 m²'\", \"'189 m²'\", \"'267 m²'\", \"'209 m²'\", \"'351 m²'\",\n",
       "       \"'191 m²'\", \"'29 m²'\", \"'44 m²'\", \"'1,800 m²'\", \"'122 m²'\",\n",
       "       \"'194 m²'\", \"'439 m²'\", \"'270 m²'\", \"'1,000 m²'\", \"'1,317 m²'\",\n",
       "       \"'320 m²'\", \"'1,450 m²'\", \"'641 m²'\", \"'154 m²'\", \"'1,400 m²'\",\n",
       "       \"'301 m²'\", \"'199 m²'\", \"'245 m²'\", \"'497 m²'\", \"'221 m²'\",\n",
       "       \"'222 m²'\", \"'365 m²'\", \"'521 m²'\", \"'234 m²'\", \"'311 m²'\",\n",
       "       \"'326 m²'\", \"'264 m²'\", \"'157 m²'\", \"'166 m²'\", \"'335 m²'\",\n",
       "       \"'315 m²'\", \"'300 m²'\", \"'117 m²'\", \"'151 m²'\", \"'241 m²'\",\n",
       "       \"'253 m²'\", \"'144 m²'\", \"'248 m²'\", \"'127 m²'\", \"'210 m²'\",\n",
       "       \"'236 m²'\", \"'312 m²'\", \"'468 m²'\", \"'136 m²'\", \"'589 m²'\",\n",
       "       \"'276 m²'\", \"'880 m²'\", \"'634 m²'\", \"'265 m²'\", \"'251 m²'\",\n",
       "       \"'211 m²'\", \"'112 m²'\", \"'177 m²'\", \"'1,609 m²'\", \"'152 m²'\",\n",
       "       \"'212 m²'\", \"'173 m²'\", \"'427 m²'\", \"'493 m²'\", \"'254 m²'\",\n",
       "       \"'380 m²'\", \"'165 m²'\", \"'410 m²'\", \"'196 m²'\", \"'327 m²'\",\n",
       "       \"'305 m²'\", \"'38 m²'\", \"'356 m²'\", \"'198 m²'\", \"'247 m²'\",\n",
       "       \"'225 m²'\", \"'283 m²'\", \"'258 m²'\", \"'235 m²'\", \"'171 m²'\",\n",
       "       \"'142 m²'\", \"'139 m²'\", \"'181 m²'\", \"'296 m²'\", \"'739 m²'\",\n",
       "       \"'302 m²'\", \"'208 m²'\", \"'519 m²'\", \"'483 m²'\", \"'162 m²'\",\n",
       "       \"'371 m²'\", \"'1,244 m²'\", \"'412 m²'\", \"'350 m²'\", \"'325 m²'\",\n",
       "       \"'390 m²'\", \"'428 m²'\", \"'255 m²'\", \"'416 m²'\", \"'218 m²'\",\n",
       "       \"'233 m²'\", \"'242 m²'\", \"'25 m²'\", \"'24 m²'\", \"'568 m²'\",\n",
       "       \"'168 m²'\", \"'536 m²'\", \"'450 m²'\", \"'259 m²'\", \"'263 m²'\",\n",
       "       \"'850 m²'\", \"'319 m²'\", \"'172 m²'\", \"'470 m²'\", \"'492 m²'\",\n",
       "       \"'471 m²'\", \"'800 m²'\", \"'546 m²'\", \"'391 m²'\", \"'238 m²'\",\n",
       "       \"'163 m²'\", \"'287 m²'\", \"'321 m²'\", \"'385 m²'\", \"'268 m²'\",\n",
       "       \"'273 m²'\", \"'605 m²'\", \"'237 m²'\", \"'426 m²'\", \"'295 m²'\",\n",
       "       \"'304 m²'\", \"'21 m²'\", \"'27 m²'\", \"'807 m²'\", \"'500 m²'\",\n",
       "       \"'400 m²'\", \"'968 m²'\", \"'26 m²'\", \"'372 m²'\", \"'354 m²'\",\n",
       "       \"'261 m²'\", \"'567 m²'\", \"'796 m²'\", \"'292 m²'\", \"'1,200 m²'\",\n",
       "       \"'19 m²'\", \"'274 m²'\", \"'648 m²'\", \"'476 m²'\", \"'22 m²'\",\n",
       "       \"'1,011 m²'\", \"'694 m²'\", \"'438 m²'\", \"'193 m²'\", \"'614 m²'\",\n",
       "       \"'590 m²'\", \"'580 m²'\", \"'401 m²'\", \"'297 m²'\", \"'610 m²'\",\n",
       "       \"'185 m²'\", \"'298 m²'\", \"'20 m²'\", \"'499 m²'\", \"'28 m²'\",\n",
       "       \"'370 m²'\", \"'231 m²'\", \"'723 m²'\", \"'285 m²'\", \"'262 m²'\",\n",
       "       \"'600 m²'\", \"'329 m²'\", \"'260 m²'\", \"'217 m²'\", \"'454 m²'\",\n",
       "       \"'332 m²'\", \"'535 m²'\", \"'815 m²'\", \"'1,493 m²'\", \"'421 m²'\",\n",
       "       \"'269 m²'\", \"'346 m²'\", \"'244 m²'\", \"'284 m²'\", \"'316 m²'\",\n",
       "       \"'307 m²'\", \"'440 m²'\", \"'511 m²'\", \"'362 m²'\", \"'318 m²'\",\n",
       "       \"'378 m²'\", \"'408 m²'\", \"'675 m²'\", \"'668 m²'\", \"'455 m²'\",\n",
       "       \"'540 m²'\", \"'622 m²'\", \"'560 m²'\", \"'303 m²'\", \"'286 m²'\",\n",
       "       \"'291 m²'\", \"'299 m²'\", \"'570 m²'\", \"'278 m²'\", \"'501 m²'\",\n",
       "       \"'520 m²'\", \"'368 m²'\", \"'348 m²'\", \"'359 m²'\", \"'639 m²'\",\n",
       "       \"'907 m²'\", \"'720 m²'\", \"'950 m²'\", \"'388 m²'\", \"'322 m²'\",\n",
       "       \"'420 m²'\", \"'601 m²'\", \"'367 m²'\", \"'246 m²'\", \"'1,227 m²'\",\n",
       "       \"'257 m²'\", \"'331 m²'\", \"'340 m²'\", \"'352 m²'\", \"'358 m²'\",\n",
       "       \"'672 m²'\", \"'403 m²'\", \"'309 m²'\", \"'646 m²'\", \"'451 m²'\",\n",
       "       \"'275 m²'\", \"'650 m²'\", \"'565 m²'\", \"'386 m²'\", \"'342 m²'\",\n",
       "       \"'418 m²'\", \"'1,794 m²'\", \"'186 m²'\", \"'902 m²'\", \"'725 m²'\",\n",
       "       \"'281 m²'\", \"'252 m²'\", \"'288 m²'\", \"'389 m²'\", \"'569 m²'\",\n",
       "       \"'660 m²'\", \"'377 m²'\", \"'459 m²'\", \"'355 m²'\", \"'524 m²'\",\n",
       "       \"'682 m²'\", \"'399 m²'\", \"'534 m²'\", \"'554 m²'\", \"'585 m²'\",\n",
       "       \"'434 m²'\", \"'430 m²'\", \"'699 m²'\", \"'517 m²'\", \"'282 m²'\"],\n",
       "      dtype=object)"
      ]
     },
     "execution_count": 68,
     "metadata": {},
     "output_type": "execute_result"
    }
   ],
   "source": [
    "dirty_data[\"size_in_m2\"].unique()"
   ]
  },
  {
   "cell_type": "markdown",
   "id": "fa7bf8ac",
   "metadata": {},
   "source": [
    "Let's clean this column to ensure the data is quantifiable."
   ]
  },
  {
   "cell_type": "code",
   "execution_count": 69,
   "id": "d97358f5",
   "metadata": {},
   "outputs": [],
   "source": [
    "dirty_data[\"size_in_m2\"] = dirty_data[\"size_in_m2\"].str.replace(\"'\",\"\").str.replace(\",\",\"\")\n",
    "dirty_data[\"size_in_m2\"] = dirty_data[\"size_in_m2\"].str.split().str[0]"
   ]
  },
  {
   "cell_type": "code",
   "execution_count": 70,
   "id": "8be0749a",
   "metadata": {},
   "outputs": [
    {
     "data": {
      "text/plain": [
       "array(['80', '58', '155', '89', '70', '73', '149', '33', '118', '50',\n",
       "       '54', '110', '224', '75', '57', '56', '40', '69', '41', '45',\n",
       "       '214', '36', '67', '61', '91', '35', '49', '51', '94', '190',\n",
       "       '197', '81', '79', '179', '113', '135', '77', '131', '95', '120',\n",
       "       '90', '65', '55', '34', '39', '78', '71', '76', '102', '66', '82',\n",
       "       '232', '310', '150', '107', '72', '161', '74', '128', '42', '88',\n",
       "       '62', '104', '293', '103', '145', '126', '31', '134', '108', '125',\n",
       "       '164', '96', '219', '129', '216', '111', '195', '87', '132', '363',\n",
       "       '280', '188', '187', '206', '239', '130', '138', '146', '93',\n",
       "       '115', '100', '85', '83', '99', '32', '109', '101', '121', '184',\n",
       "       '60', '84', '374', '170', '47', '180', '147', '59', '148', '68',\n",
       "       '92', '178', '240', '215', '205', '330', '213', '106', '37', '86',\n",
       "       '413', '160', '176', '550', '375', '203', '182', '183', '137',\n",
       "       '250', '870', '167', '63', '52', '140', '313', '226', '900', '123',\n",
       "       '64', '53', '159', '417', '549', '360', '719', '345', '220', '202',\n",
       "       '289', '133', '207', '124', '175', '98', '530', '46', '243', '43',\n",
       "       '48', '204', '277', '105', '256', '201', '314', '156', '141',\n",
       "       '200', '153', '116', '97', '366', '227', '158', '223', '143',\n",
       "       '667', '387', '174', '229', '290', '230', '30', '114', '228',\n",
       "       '119', '192', '169', '189', '267', '209', '351', '191', '29', '44',\n",
       "       '1800', '122', '194', '439', '270', '1000', '1317', '320', '1450',\n",
       "       '641', '154', '1400', '301', '199', '245', '497', '221', '222',\n",
       "       '365', '521', '234', '311', '326', '264', '157', '166', '335',\n",
       "       '315', '300', '117', '151', '241', '253', '144', '248', '127',\n",
       "       '210', '236', '312', '468', '136', '589', '276', '880', '634',\n",
       "       '265', '251', '211', '112', '177', '1609', '152', '212', '173',\n",
       "       '427', '493', '254', '380', '165', '410', '196', '327', '305',\n",
       "       '38', '356', '198', '247', '225', '283', '258', '235', '171',\n",
       "       '142', '139', '181', '296', '739', '302', '208', '519', '483',\n",
       "       '162', '371', '1244', '412', '350', '325', '390', '428', '255',\n",
       "       '416', '218', '233', '242', '25', '24', '568', '168', '536', '450',\n",
       "       '259', '263', '850', '319', '172', '470', '492', '471', '800',\n",
       "       '546', '391', '238', '163', '287', '321', '385', '268', '273',\n",
       "       '605', '237', '426', '295', '304', '21', '27', '807', '500', '400',\n",
       "       '968', '26', '372', '354', '261', '567', '796', '292', '1200',\n",
       "       '19', '274', '648', '476', '22', '1011', '694', '438', '193',\n",
       "       '614', '590', '580', '401', '297', '610', '185', '298', '20',\n",
       "       '499', '28', '370', '231', '723', '285', '262', '600', '329',\n",
       "       '260', '217', '454', '332', '535', '815', '1493', '421', '269',\n",
       "       '346', '244', '284', '316', '307', '440', '511', '362', '318',\n",
       "       '378', '408', '675', '668', '455', '540', '622', '560', '303',\n",
       "       '286', '291', '299', '570', '278', '501', '520', '368', '348',\n",
       "       '359', '639', '907', '720', '950', '388', '322', '420', '601',\n",
       "       '367', '246', '1227', '257', '331', '340', '352', '358', '672',\n",
       "       '403', '309', '646', '451', '275', '650', '565', '386', '342',\n",
       "       '418', '1794', '186', '902', '725', '281', '252', '288', '389',\n",
       "       '569', '660', '377', '459', '355', '524', '682', '399', '534',\n",
       "       '554', '585', '434', '430', '699', '517', '282'], dtype=object)"
      ]
     },
     "execution_count": 70,
     "metadata": {},
     "output_type": "execute_result"
    }
   ],
   "source": [
    "dirty_data[\"size_in_m2\"].unique()"
   ]
  },
  {
   "cell_type": "markdown",
   "id": "9d05f2fd",
   "metadata": {},
   "source": [
    "The column is now fixed. Let's move on to the next item."
   ]
  },
  {
   "cell_type": "code",
   "execution_count": 71,
   "id": "e274d455",
   "metadata": {},
   "outputs": [
    {
     "data": {
      "text/html": [
       "<div>\n",
       "<style scoped>\n",
       "    .dataframe tbody tr th:only-of-type {\n",
       "        vertical-align: middle;\n",
       "    }\n",
       "\n",
       "    .dataframe tbody tr th {\n",
       "        vertical-align: top;\n",
       "    }\n",
       "\n",
       "    .dataframe thead th {\n",
       "        text-align: right;\n",
       "    }\n",
       "</style>\n",
       "<table border=\"1\" class=\"dataframe\">\n",
       "  <thead>\n",
       "    <tr style=\"text-align: right;\">\n",
       "      <th></th>\n",
       "      <th>id</th>\n",
       "      <th>size_in_m2</th>\n",
       "      <th>1</th>\n",
       "      <th>2</th>\n",
       "      <th>3</th>\n",
       "      <th>4</th>\n",
       "      <th>5</th>\n",
       "    </tr>\n",
       "  </thead>\n",
       "  <tbody>\n",
       "    <tr>\n",
       "      <th>0</th>\n",
       "      <td>103375204</td>\n",
       "      <td>80</td>\n",
       "      <td>'2 bed.'</td>\n",
       "      <td>'3rd floor exterior with lift'</td>\n",
       "      <td>None</td>\n",
       "      <td>None</td>\n",
       "      <td>None</td>\n",
       "    </tr>\n",
       "    <tr>\n",
       "      <th>1</th>\n",
       "      <td>94000904</td>\n",
       "      <td>58</td>\n",
       "      <td>'2 bed.'</td>\n",
       "      <td>'3rd floor exterior without lift'</td>\n",
       "      <td>None</td>\n",
       "      <td>None</td>\n",
       "      <td>None</td>\n",
       "    </tr>\n",
       "    <tr>\n",
       "      <th>2</th>\n",
       "      <td>104382041</td>\n",
       "      <td>155</td>\n",
       "      <td>'3 bed.'</td>\n",
       "      <td>'1st floor exterior with lift'</td>\n",
       "      <td>'Garageoptional30,000 €'</td>\n",
       "      <td>'Garageoptional30,000 €'</td>\n",
       "      <td>'optional'</td>\n",
       "    </tr>\n",
       "    <tr>\n",
       "      <th>3</th>\n",
       "      <td>97791792</td>\n",
       "      <td>89</td>\n",
       "      <td>'2 bed.'</td>\n",
       "      <td>'3rd floor exterior without lift'</td>\n",
       "      <td>None</td>\n",
       "      <td>None</td>\n",
       "      <td>None</td>\n",
       "    </tr>\n",
       "    <tr>\n",
       "      <th>4</th>\n",
       "      <td>104397583</td>\n",
       "      <td>70</td>\n",
       "      <td>'2 bed.'</td>\n",
       "      <td>'1st floor exterior with lift'</td>\n",
       "      <td>None</td>\n",
       "      <td>None</td>\n",
       "      <td>None</td>\n",
       "    </tr>\n",
       "  </tbody>\n",
       "</table>\n",
       "</div>"
      ],
      "text/plain": [
       "          id size_in_m2         1                                  2  \\\n",
       "0  103375204         80  '2 bed.'     '3rd floor exterior with lift'   \n",
       "1   94000904         58  '2 bed.'  '3rd floor exterior without lift'   \n",
       "2  104382041        155  '3 bed.'     '1st floor exterior with lift'   \n",
       "3   97791792         89  '2 bed.'  '3rd floor exterior without lift'   \n",
       "4  104397583         70  '2 bed.'     '1st floor exterior with lift'   \n",
       "\n",
       "                          3                         4           5  \n",
       "0                      None                      None        None  \n",
       "1                      None                      None        None  \n",
       "2  'Garageoptional30,000 €'  'Garageoptional30,000 €'  'optional'  \n",
       "3                      None                      None        None  \n",
       "4                      None                      None        None  "
      ]
     },
     "execution_count": 71,
     "metadata": {},
     "output_type": "execute_result"
    }
   ],
   "source": [
    "dirty_data.head()"
   ]
  },
  {
   "cell_type": "code",
   "execution_count": 72,
   "id": "7d41e497",
   "metadata": {},
   "outputs": [],
   "source": [
    "dirty_data = dirty_data.rename(columns= {1: \"n_bedrooms\"})"
   ]
  },
  {
   "cell_type": "code",
   "execution_count": 73,
   "id": "67fcd922",
   "metadata": {},
   "outputs": [
    {
     "data": {
      "text/plain": [
       "array([\"'2 bed.'\", \"'3 bed.'\", \"'4 bed.'\",\n",
       "       \"'1st floor exterior with lift'\", \"'1 bed.'\", \"'5 bed.'\",\n",
       "       \"'6 bed.'\", \"'Ground floor with lift'\", \"'exterior with lift'\",\n",
       "       \"'7 bed.'\", \"'10 bed.'\", \"'4th floor exterior without lift'\",\n",
       "       \"'Mezzanine exterior with lift'\", \"'Mezzanine'\",\n",
       "       \"'3rd floor without lift'\", \"'17 bed.'\",\n",
       "       \"'2nd floor exterior with lift'\", \"'8 bed.'\",\n",
       "       \"'2nd floor without lift'\", None, \"'1st floor without lift'\",\n",
       "       \"'Ground floor exterior without lift'\", \"'4th floor'\",\n",
       "       \"'5th floor exterior with lift'\", \"'3rd floor exterior with lift'\",\n",
       "       \"'9 bed.'\", \"'Ground floor interior without lift'\",\n",
       "       \"'Semi-basement exterior without lift'\",\n",
       "       \"'1st floor interior with lift'\", \"'2nd floor interior with lift'\",\n",
       "       \"'2nd floor exterior without lift'\",\n",
       "       \"'Ground floor exterior with lift'\", \"'with lift'\",\n",
       "       \"'6th floor interior with lift'\", \"'11 bed.'\",\n",
       "       \"'Basement interior without lift'\",\n",
       "       \"'Ground floor interior with lift'\",\n",
       "       \"'6th floor exterior with lift'\",\n",
       "       \"'3rd floor exterior without lift'\", \"'Ground floor without lift'\",\n",
       "       \"'5th floor without lift'\", \"'Floor -1 interior without lift'\",\n",
       "       \"'2nd floor'\", \"'Ground floor'\", \"'without lift'\",\n",
       "       \"'2nd floor interior without lift'\", \"'15 bed.'\",\n",
       "       \"'exterior without lift'\", \"'14 bed.'\",\n",
       "       \"'5th floor interior with lift'\",\n",
       "       \"'Semi-basement interior with lift'\", \"'Floor -1 without lift'\",\n",
       "       \"'1st floor exterior without lift'\", \"'7th floor without lift'\",\n",
       "       \"'Basement exterior without lift'\", \"'interior with lift'\",\n",
       "       \"'Semi-basement interior without lift'\", \"'3rd floor with lift'\",\n",
       "       \"'Floor -1 exterior without lift'\", \"'12 bed.'\",\n",
       "       \"'Mezzanine interior with lift'\", \"'4th floor without lift'\",\n",
       "       \"'1st floor interior without lift'\", \"'13 bed.'\", \"'3rd floor'\"],\n",
       "      dtype=object)"
      ]
     },
     "execution_count": 73,
     "metadata": {},
     "output_type": "execute_result"
    }
   ],
   "source": [
    "dirty_data[\"n_bedrooms\"].unique()"
   ]
  },
  {
   "cell_type": "markdown",
   "id": "c9da001f",
   "metadata": {},
   "source": [
    "This column is a mess. I'll use it to store the number of bedrooms. Let's adress the missing values."
   ]
  },
  {
   "cell_type": "code",
   "execution_count": 74,
   "id": "fb6a9377",
   "metadata": {},
   "outputs": [
    {
     "data": {
      "text/html": [
       "<div>\n",
       "<style scoped>\n",
       "    .dataframe tbody tr th:only-of-type {\n",
       "        vertical-align: middle;\n",
       "    }\n",
       "\n",
       "    .dataframe tbody tr th {\n",
       "        vertical-align: top;\n",
       "    }\n",
       "\n",
       "    .dataframe thead th {\n",
       "        text-align: right;\n",
       "    }\n",
       "</style>\n",
       "<table border=\"1\" class=\"dataframe\">\n",
       "  <thead>\n",
       "    <tr style=\"text-align: right;\">\n",
       "      <th></th>\n",
       "      <th>id</th>\n",
       "      <th>size_in_m2</th>\n",
       "      <th>n_bedrooms</th>\n",
       "      <th>2</th>\n",
       "      <th>3</th>\n",
       "      <th>4</th>\n",
       "      <th>5</th>\n",
       "    </tr>\n",
       "  </thead>\n",
       "  <tbody>\n",
       "    <tr>\n",
       "      <th>1041</th>\n",
       "      <td>103632794</td>\n",
       "      <td>90</td>\n",
       "      <td>None</td>\n",
       "      <td>None</td>\n",
       "      <td>None</td>\n",
       "      <td>None</td>\n",
       "      <td>None</td>\n",
       "    </tr>\n",
       "    <tr>\n",
       "      <th>1572</th>\n",
       "      <td>103771029</td>\n",
       "      <td>55</td>\n",
       "      <td>None</td>\n",
       "      <td>None</td>\n",
       "      <td>None</td>\n",
       "      <td>None</td>\n",
       "      <td>None</td>\n",
       "    </tr>\n",
       "    <tr>\n",
       "      <th>2620</th>\n",
       "      <td>103768531</td>\n",
       "      <td>66</td>\n",
       "      <td>None</td>\n",
       "      <td>None</td>\n",
       "      <td>None</td>\n",
       "      <td>None</td>\n",
       "      <td>None</td>\n",
       "    </tr>\n",
       "    <tr>\n",
       "      <th>3818</th>\n",
       "      <td>104263502</td>\n",
       "      <td>76</td>\n",
       "      <td>None</td>\n",
       "      <td>None</td>\n",
       "      <td>None</td>\n",
       "      <td>None</td>\n",
       "      <td>None</td>\n",
       "    </tr>\n",
       "    <tr>\n",
       "      <th>3996</th>\n",
       "      <td>104263503</td>\n",
       "      <td>76</td>\n",
       "      <td>None</td>\n",
       "      <td>None</td>\n",
       "      <td>None</td>\n",
       "      <td>None</td>\n",
       "      <td>None</td>\n",
       "    </tr>\n",
       "    <tr>\n",
       "      <th>4731</th>\n",
       "      <td>103785571</td>\n",
       "      <td>65</td>\n",
       "      <td>None</td>\n",
       "      <td>None</td>\n",
       "      <td>None</td>\n",
       "      <td>None</td>\n",
       "      <td>None</td>\n",
       "    </tr>\n",
       "    <tr>\n",
       "      <th>6037</th>\n",
       "      <td>104263501</td>\n",
       "      <td>76</td>\n",
       "      <td>None</td>\n",
       "      <td>None</td>\n",
       "      <td>None</td>\n",
       "      <td>None</td>\n",
       "      <td>None</td>\n",
       "    </tr>\n",
       "    <tr>\n",
       "      <th>6740</th>\n",
       "      <td>103785569</td>\n",
       "      <td>55</td>\n",
       "      <td>None</td>\n",
       "      <td>None</td>\n",
       "      <td>None</td>\n",
       "      <td>None</td>\n",
       "      <td>None</td>\n",
       "    </tr>\n",
       "    <tr>\n",
       "      <th>7253</th>\n",
       "      <td>103768552</td>\n",
       "      <td>65</td>\n",
       "      <td>None</td>\n",
       "      <td>None</td>\n",
       "      <td>None</td>\n",
       "      <td>None</td>\n",
       "      <td>None</td>\n",
       "    </tr>\n",
       "    <tr>\n",
       "      <th>7283</th>\n",
       "      <td>103692167</td>\n",
       "      <td>60</td>\n",
       "      <td>None</td>\n",
       "      <td>None</td>\n",
       "      <td>None</td>\n",
       "      <td>None</td>\n",
       "      <td>None</td>\n",
       "    </tr>\n",
       "    <tr>\n",
       "      <th>7482</th>\n",
       "      <td>99979325</td>\n",
       "      <td>75</td>\n",
       "      <td>None</td>\n",
       "      <td>None</td>\n",
       "      <td>None</td>\n",
       "      <td>None</td>\n",
       "      <td>None</td>\n",
       "    </tr>\n",
       "    <tr>\n",
       "      <th>8853</th>\n",
       "      <td>103771027</td>\n",
       "      <td>55</td>\n",
       "      <td>None</td>\n",
       "      <td>None</td>\n",
       "      <td>None</td>\n",
       "      <td>None</td>\n",
       "      <td>None</td>\n",
       "    </tr>\n",
       "    <tr>\n",
       "      <th>10367</th>\n",
       "      <td>101240861</td>\n",
       "      <td>48</td>\n",
       "      <td>None</td>\n",
       "      <td>None</td>\n",
       "      <td>None</td>\n",
       "      <td>None</td>\n",
       "      <td>None</td>\n",
       "    </tr>\n",
       "  </tbody>\n",
       "</table>\n",
       "</div>"
      ],
      "text/plain": [
       "              id size_in_m2 n_bedrooms     2     3     4     5\n",
       "1041   103632794         90       None  None  None  None  None\n",
       "1572   103771029         55       None  None  None  None  None\n",
       "2620   103768531         66       None  None  None  None  None\n",
       "3818   104263502         76       None  None  None  None  None\n",
       "3996   104263503         76       None  None  None  None  None\n",
       "4731   103785571         65       None  None  None  None  None\n",
       "6037   104263501         76       None  None  None  None  None\n",
       "6740   103785569         55       None  None  None  None  None\n",
       "7253   103768552         65       None  None  None  None  None\n",
       "7283   103692167         60       None  None  None  None  None\n",
       "7482    99979325         75       None  None  None  None  None\n",
       "8853   103771027         55       None  None  None  None  None\n",
       "10367  101240861         48       None  None  None  None  None"
      ]
     },
     "execution_count": 74,
     "metadata": {},
     "output_type": "execute_result"
    }
   ],
   "source": [
    "dirty_data[dirty_data[\"n_bedrooms\"].isnull()]"
   ]
  },
  {
   "cell_type": "markdown",
   "id": "d8fde24a",
   "metadata": {},
   "source": [
    "For now we will fill this values with 0. "
   ]
  },
  {
   "cell_type": "code",
   "execution_count": 75,
   "id": "40bb9057",
   "metadata": {},
   "outputs": [],
   "source": [
    "dirty_data[\"n_bedrooms\"] = dirty_data[\"n_bedrooms\"].fillna(0)"
   ]
  },
  {
   "cell_type": "code",
   "execution_count": 76,
   "id": "617a5bc3",
   "metadata": {},
   "outputs": [],
   "source": [
    "dirty_data[\"n_bedrooms_copy\"] = dirty_data[\"n_bedrooms\"] "
   ]
  },
  {
   "cell_type": "code",
   "execution_count": 77,
   "id": "26af05a5",
   "metadata": {},
   "outputs": [
    {
     "data": {
      "text/html": [
       "<div>\n",
       "<style scoped>\n",
       "    .dataframe tbody tr th:only-of-type {\n",
       "        vertical-align: middle;\n",
       "    }\n",
       "\n",
       "    .dataframe tbody tr th {\n",
       "        vertical-align: top;\n",
       "    }\n",
       "\n",
       "    .dataframe thead th {\n",
       "        text-align: right;\n",
       "    }\n",
       "</style>\n",
       "<table border=\"1\" class=\"dataframe\">\n",
       "  <thead>\n",
       "    <tr style=\"text-align: right;\">\n",
       "      <th></th>\n",
       "      <th>id</th>\n",
       "      <th>size_in_m2</th>\n",
       "      <th>n_bedrooms</th>\n",
       "      <th>2</th>\n",
       "      <th>3</th>\n",
       "      <th>4</th>\n",
       "      <th>5</th>\n",
       "      <th>n_bedrooms_copy</th>\n",
       "    </tr>\n",
       "  </thead>\n",
       "  <tbody>\n",
       "    <tr>\n",
       "      <th>0</th>\n",
       "      <td>103375204</td>\n",
       "      <td>80</td>\n",
       "      <td>'2 bed.'</td>\n",
       "      <td>'3rd floor exterior with lift'</td>\n",
       "      <td>None</td>\n",
       "      <td>None</td>\n",
       "      <td>None</td>\n",
       "      <td>'2 bed.'</td>\n",
       "    </tr>\n",
       "    <tr>\n",
       "      <th>1</th>\n",
       "      <td>94000904</td>\n",
       "      <td>58</td>\n",
       "      <td>'2 bed.'</td>\n",
       "      <td>'3rd floor exterior without lift'</td>\n",
       "      <td>None</td>\n",
       "      <td>None</td>\n",
       "      <td>None</td>\n",
       "      <td>'2 bed.'</td>\n",
       "    </tr>\n",
       "    <tr>\n",
       "      <th>2</th>\n",
       "      <td>104382041</td>\n",
       "      <td>155</td>\n",
       "      <td>'3 bed.'</td>\n",
       "      <td>'1st floor exterior with lift'</td>\n",
       "      <td>'Garageoptional30,000 €'</td>\n",
       "      <td>'Garageoptional30,000 €'</td>\n",
       "      <td>'optional'</td>\n",
       "      <td>'3 bed.'</td>\n",
       "    </tr>\n",
       "    <tr>\n",
       "      <th>3</th>\n",
       "      <td>97791792</td>\n",
       "      <td>89</td>\n",
       "      <td>'2 bed.'</td>\n",
       "      <td>'3rd floor exterior without lift'</td>\n",
       "      <td>None</td>\n",
       "      <td>None</td>\n",
       "      <td>None</td>\n",
       "      <td>'2 bed.'</td>\n",
       "    </tr>\n",
       "    <tr>\n",
       "      <th>4</th>\n",
       "      <td>104397583</td>\n",
       "      <td>70</td>\n",
       "      <td>'2 bed.'</td>\n",
       "      <td>'1st floor exterior with lift'</td>\n",
       "      <td>None</td>\n",
       "      <td>None</td>\n",
       "      <td>None</td>\n",
       "      <td>'2 bed.'</td>\n",
       "    </tr>\n",
       "  </tbody>\n",
       "</table>\n",
       "</div>"
      ],
      "text/plain": [
       "          id size_in_m2 n_bedrooms                                  2  \\\n",
       "0  103375204         80   '2 bed.'     '3rd floor exterior with lift'   \n",
       "1   94000904         58   '2 bed.'  '3rd floor exterior without lift'   \n",
       "2  104382041        155   '3 bed.'     '1st floor exterior with lift'   \n",
       "3   97791792         89   '2 bed.'  '3rd floor exterior without lift'   \n",
       "4  104397583         70   '2 bed.'     '1st floor exterior with lift'   \n",
       "\n",
       "                          3                         4           5  \\\n",
       "0                      None                      None        None   \n",
       "1                      None                      None        None   \n",
       "2  'Garageoptional30,000 €'  'Garageoptional30,000 €'  'optional'   \n",
       "3                      None                      None        None   \n",
       "4                      None                      None        None   \n",
       "\n",
       "  n_bedrooms_copy  \n",
       "0        '2 bed.'  \n",
       "1        '2 bed.'  \n",
       "2        '3 bed.'  \n",
       "3        '2 bed.'  \n",
       "4        '2 bed.'  "
      ]
     },
     "execution_count": 77,
     "metadata": {},
     "output_type": "execute_result"
    }
   ],
   "source": [
    "dirty_data.head()"
   ]
  },
  {
   "cell_type": "code",
   "execution_count": 78,
   "id": "b6f4401a",
   "metadata": {},
   "outputs": [],
   "source": [
    "dirty_data[\"n_bedrooms\"] = dirty_data.loc[dirty_data[\"n_bedrooms\"].str.contains('bed', na= False),\"n_bedrooms\"]"
   ]
  },
  {
   "cell_type": "code",
   "execution_count": 79,
   "id": "969a3d45",
   "metadata": {},
   "outputs": [],
   "source": [
    "dirty_data[\"n_bedrooms\"] = dirty_data[\"n_bedrooms\"].str.replace(\"'\",\"\").str.split().str[0]\n",
    "dirty_data[\"n_bedrooms\"] = dirty_data[\"n_bedrooms\"].fillna(0)\n"
   ]
  },
  {
   "cell_type": "code",
   "execution_count": 80,
   "id": "96df8143",
   "metadata": {},
   "outputs": [
    {
     "data": {
      "text/html": [
       "<div>\n",
       "<style scoped>\n",
       "    .dataframe tbody tr th:only-of-type {\n",
       "        vertical-align: middle;\n",
       "    }\n",
       "\n",
       "    .dataframe tbody tr th {\n",
       "        vertical-align: top;\n",
       "    }\n",
       "\n",
       "    .dataframe thead th {\n",
       "        text-align: right;\n",
       "    }\n",
       "</style>\n",
       "<table border=\"1\" class=\"dataframe\">\n",
       "  <thead>\n",
       "    <tr style=\"text-align: right;\">\n",
       "      <th></th>\n",
       "      <th>id</th>\n",
       "      <th>size_in_m2</th>\n",
       "      <th>n_bedrooms</th>\n",
       "      <th>2</th>\n",
       "      <th>3</th>\n",
       "      <th>4</th>\n",
       "      <th>5</th>\n",
       "      <th>n_bedrooms_copy</th>\n",
       "    </tr>\n",
       "  </thead>\n",
       "  <tbody>\n",
       "    <tr>\n",
       "      <th>0</th>\n",
       "      <td>103375204</td>\n",
       "      <td>80</td>\n",
       "      <td>2</td>\n",
       "      <td>'3rd floor exterior with lift'</td>\n",
       "      <td>None</td>\n",
       "      <td>None</td>\n",
       "      <td>None</td>\n",
       "      <td>'2 bed.'</td>\n",
       "    </tr>\n",
       "    <tr>\n",
       "      <th>1</th>\n",
       "      <td>94000904</td>\n",
       "      <td>58</td>\n",
       "      <td>2</td>\n",
       "      <td>'3rd floor exterior without lift'</td>\n",
       "      <td>None</td>\n",
       "      <td>None</td>\n",
       "      <td>None</td>\n",
       "      <td>'2 bed.'</td>\n",
       "    </tr>\n",
       "    <tr>\n",
       "      <th>2</th>\n",
       "      <td>104382041</td>\n",
       "      <td>155</td>\n",
       "      <td>3</td>\n",
       "      <td>'1st floor exterior with lift'</td>\n",
       "      <td>'Garageoptional30,000 €'</td>\n",
       "      <td>'Garageoptional30,000 €'</td>\n",
       "      <td>'optional'</td>\n",
       "      <td>'3 bed.'</td>\n",
       "    </tr>\n",
       "    <tr>\n",
       "      <th>3</th>\n",
       "      <td>97791792</td>\n",
       "      <td>89</td>\n",
       "      <td>2</td>\n",
       "      <td>'3rd floor exterior without lift'</td>\n",
       "      <td>None</td>\n",
       "      <td>None</td>\n",
       "      <td>None</td>\n",
       "      <td>'2 bed.'</td>\n",
       "    </tr>\n",
       "    <tr>\n",
       "      <th>4</th>\n",
       "      <td>104397583</td>\n",
       "      <td>70</td>\n",
       "      <td>2</td>\n",
       "      <td>'1st floor exterior with lift'</td>\n",
       "      <td>None</td>\n",
       "      <td>None</td>\n",
       "      <td>None</td>\n",
       "      <td>'2 bed.'</td>\n",
       "    </tr>\n",
       "  </tbody>\n",
       "</table>\n",
       "</div>"
      ],
      "text/plain": [
       "          id size_in_m2 n_bedrooms                                  2  \\\n",
       "0  103375204         80          2     '3rd floor exterior with lift'   \n",
       "1   94000904         58          2  '3rd floor exterior without lift'   \n",
       "2  104382041        155          3     '1st floor exterior with lift'   \n",
       "3   97791792         89          2  '3rd floor exterior without lift'   \n",
       "4  104397583         70          2     '1st floor exterior with lift'   \n",
       "\n",
       "                          3                         4           5  \\\n",
       "0                      None                      None        None   \n",
       "1                      None                      None        None   \n",
       "2  'Garageoptional30,000 €'  'Garageoptional30,000 €'  'optional'   \n",
       "3                      None                      None        None   \n",
       "4                      None                      None        None   \n",
       "\n",
       "  n_bedrooms_copy  \n",
       "0        '2 bed.'  \n",
       "1        '2 bed.'  \n",
       "2        '3 bed.'  \n",
       "3        '2 bed.'  \n",
       "4        '2 bed.'  "
      ]
     },
     "execution_count": 80,
     "metadata": {},
     "output_type": "execute_result"
    }
   ],
   "source": [
    "dirty_data.head()"
   ]
  },
  {
   "cell_type": "code",
   "execution_count": 81,
   "id": "b5c1afac",
   "metadata": {},
   "outputs": [
    {
     "data": {
      "text/plain": [
       "array(['2', '3', '4', 0, '1', '5', '6', '7', '10', '17', '8', '9', '11',\n",
       "       '15', '14', '12', '13'], dtype=object)"
      ]
     },
     "execution_count": 81,
     "metadata": {},
     "output_type": "execute_result"
    }
   ],
   "source": [
    "dirty_data[\"n_bedrooms\"].unique()"
   ]
  },
  {
   "cell_type": "markdown",
   "id": "a2407a01",
   "metadata": {},
   "source": [
    "The bedroom number column is looking good now. "
   ]
  },
  {
   "cell_type": "markdown",
   "id": "ab723250",
   "metadata": {},
   "source": [
    "Next, let's focus on the floor column. I'll search for keywords like \"floor,\" \"mezzanine,\" and \"basement.\" Since the bedroom data isn't needed for this column, we'll drop that information."
   ]
  },
  {
   "cell_type": "code",
   "execution_count": 82,
   "id": "cd71ee45",
   "metadata": {},
   "outputs": [
    {
     "data": {
      "text/plain": [
       "array([\"'2 bed.'\", \"'3 bed.'\", \"'4 bed.'\",\n",
       "       \"'1st floor exterior with lift'\", \"'1 bed.'\", \"'5 bed.'\",\n",
       "       \"'6 bed.'\", \"'Ground floor with lift'\", \"'exterior with lift'\",\n",
       "       \"'7 bed.'\", \"'10 bed.'\", \"'4th floor exterior without lift'\",\n",
       "       \"'Mezzanine exterior with lift'\", \"'Mezzanine'\",\n",
       "       \"'3rd floor without lift'\", \"'17 bed.'\",\n",
       "       \"'2nd floor exterior with lift'\", \"'8 bed.'\",\n",
       "       \"'2nd floor without lift'\", 0, \"'1st floor without lift'\",\n",
       "       \"'Ground floor exterior without lift'\", \"'4th floor'\",\n",
       "       \"'5th floor exterior with lift'\", \"'3rd floor exterior with lift'\",\n",
       "       \"'9 bed.'\", \"'Ground floor interior without lift'\",\n",
       "       \"'Semi-basement exterior without lift'\",\n",
       "       \"'1st floor interior with lift'\", \"'2nd floor interior with lift'\",\n",
       "       \"'2nd floor exterior without lift'\",\n",
       "       \"'Ground floor exterior with lift'\", \"'with lift'\",\n",
       "       \"'6th floor interior with lift'\", \"'11 bed.'\",\n",
       "       \"'Basement interior without lift'\",\n",
       "       \"'Ground floor interior with lift'\",\n",
       "       \"'6th floor exterior with lift'\",\n",
       "       \"'3rd floor exterior without lift'\", \"'Ground floor without lift'\",\n",
       "       \"'5th floor without lift'\", \"'Floor -1 interior without lift'\",\n",
       "       \"'2nd floor'\", \"'Ground floor'\", \"'without lift'\",\n",
       "       \"'2nd floor interior without lift'\", \"'15 bed.'\",\n",
       "       \"'exterior without lift'\", \"'14 bed.'\",\n",
       "       \"'5th floor interior with lift'\",\n",
       "       \"'Semi-basement interior with lift'\", \"'Floor -1 without lift'\",\n",
       "       \"'1st floor exterior without lift'\", \"'7th floor without lift'\",\n",
       "       \"'Basement exterior without lift'\", \"'interior with lift'\",\n",
       "       \"'Semi-basement interior without lift'\", \"'3rd floor with lift'\",\n",
       "       \"'Floor -1 exterior without lift'\", \"'12 bed.'\",\n",
       "       \"'Mezzanine interior with lift'\", \"'4th floor without lift'\",\n",
       "       \"'1st floor interior without lift'\", \"'13 bed.'\", \"'3rd floor'\"],\n",
       "      dtype=object)"
      ]
     },
     "execution_count": 82,
     "metadata": {},
     "output_type": "execute_result"
    }
   ],
   "source": [
    "dirty_data[\"n_bedrooms_copy\"].unique()"
   ]
  },
  {
   "cell_type": "code",
   "execution_count": 83,
   "id": "ca564cbc",
   "metadata": {},
   "outputs": [
    {
     "data": {
      "text/plain": [
       "array([\"'3rd floor exterior with lift'\",\n",
       "       \"'3rd floor exterior without lift'\",\n",
       "       \"'1st floor exterior with lift'\", \"'4th floor exterior with lift'\",\n",
       "       \"'exterior without lift'\", \"'5th floor exterior without lift'\",\n",
       "       \"'1st floor interior without lift'\", None,\n",
       "       \"'1st floor exterior without lift'\",\n",
       "       \"'2nd floor exterior without lift'\",\n",
       "       \"'5th floor exterior with lift'\", \"'2nd floor with lift'\",\n",
       "       \"'3rd floor without lift'\", \"'4th floor exterior without lift'\",\n",
       "       \"'interior with lift'\", \"'2nd floor exterior with lift'\",\n",
       "       \"'exterior with lift'\", \"'Mezzanine interior without lift'\",\n",
       "       \"'5th floor without lift'\", \"'2nd floor without lift'\",\n",
       "       \"'Mezzanine exterior without lift'\",\n",
       "       \"'Mezzanine exterior with lift'\",\n",
       "       \"'Ground floor exterior without lift'\",\n",
       "       \"'7th floor exterior with lift'\",\n",
       "       \"'Ground floor exterior with lift'\",\n",
       "       \"'Ground floor interior without lift'\", \"'5th floor with lift'\",\n",
       "       \"'2nd floor'\", \"'Ground floor with lift'\", \"'with lift'\",\n",
       "       \"'3rd floor with lift'\", \"'2nd floor interior with lift'\",\n",
       "       \"'without lift'\", \"'10th floor exterior with lift'\",\n",
       "       \"'1st floor interior with lift'\", \"'8th floor exterior with lift'\",\n",
       "       \"'1st floor without lift'\", \"'1st floor with lift'\", \"'4th floor'\",\n",
       "       \"'Parking included'\", \"'2nd floor interior without lift'\",\n",
       "       \"'21st floor exterior with lift'\",\n",
       "       \"'6th floor exterior with lift'\",\n",
       "       \"'10th floor interior with lift'\",\n",
       "       \"'24th floor exterior with lift'\", \"'5th floor'\",\n",
       "       \"'7th floor with lift'\", \"'6th floor with lift'\", \"'exterior'\",\n",
       "       \"'Mezzanine with lift'\", \"'Basement exterior without lift'\",\n",
       "       \"'interior without lift'\", \"'Ground floor without lift'\",\n",
       "       \"'4th floor with lift'\", \"'Ground floor interior with lift'\",\n",
       "       \"'Mezzanine without lift'\", \"'Mezzanine interior with lift'\",\n",
       "       \"'1st floor exterior'\", \"'3rd floor interior with lift'\",\n",
       "       \"'9th floor exterior with lift'\", \"'10th floor without lift'\",\n",
       "       \"'4th floor without lift'\", \"'5th floor interior with lift'\",\n",
       "       \"'Basement interior without lift'\",\n",
       "       \"'6th floor exterior without lift'\",\n",
       "       \"'4th floor interior with lift'\",\n",
       "       \"'3rd floor interior without lift'\", \"'1st floor'\",\n",
       "       \"'15th floor interior with lift'\",\n",
       "       \"'14th floor exterior with lift'\",\n",
       "       \"'16th floor exterior with lift'\",\n",
       "       \"'Semi-basement interior with lift'\", \"'Floor -1 with lift'\",\n",
       "       \"'15th floor exterior with lift'\",\n",
       "       \"'4th floor interior without lift'\",\n",
       "       \"'11th floor exterior with lift'\", \"'3rd floor'\",\n",
       "       \"'Floor -2 with lift'\", \"'Basement interior with lift'\",\n",
       "       \"'6th floor interior without lift'\",\n",
       "       \"'17th floor exterior with lift'\", \"'Basement exterior with lift'\",\n",
       "       \"'8th floor with lift'\", \"'3rd floor exterior'\",\n",
       "       \"'7th floor interior with lift'\", \"'Floor -1 without lift'\",\n",
       "       \"'Basement without lift'\", \"'Ground floor exterior'\",\n",
       "       \"'Floor -1 exterior with lift'\",\n",
       "       \"'9th floor exterior without lift'\",\n",
       "       \"'Floor -1 interior without lift'\", \"'Mezzanine'\",\n",
       "       \"'8th floor interior with lift'\",\n",
       "       \"'22nd floor exterior with lift'\",\n",
       "       \"'12th floor exterior with lift'\",\n",
       "       \"'Semi-basement exterior without lift'\",\n",
       "       \"'7th floor without lift'\", \"'6th floor interior with lift'\",\n",
       "       \"'Ground floor'\", \"'23rd floor with lift'\",\n",
       "       \"'Floor -1 exterior without lift'\", \"'8th floor without lift'\",\n",
       "       \"'12th floor with lift'\", \"'Semi-basement with lift'\",\n",
       "       \"'5th floor interior without lift'\", \"'Floor -1'\",\n",
       "       \"'13th floor without lift'\", \"'4th floor exterior'\",\n",
       "       \"'25th floor exterior with lift'\",\n",
       "       \"'20th floor exterior with lift'\", \"'14th floor with lift'\",\n",
       "       \"'16th floor with lift'\", \"'13th floor with lift'\",\n",
       "       \"'10th floor exterior without lift'\", \"'6th floor without lift'\",\n",
       "       \"'13th floor exterior with lift'\",\n",
       "       \"'Semi-basement interior without lift'\",\n",
       "       \"'11th floor without lift'\", \"'7th floor exterior without lift'\",\n",
       "       \"'8th floor exterior without lift'\", \"'11th floor with lift'\",\n",
       "       \"'Semi-basement exterior with lift'\", \"'2nd floor exterior'\",\n",
       "       \"'9th floor with lift'\", \"'23rd floor exterior with lift'\"],\n",
       "      dtype=object)"
      ]
     },
     "execution_count": 83,
     "metadata": {},
     "output_type": "execute_result"
    }
   ],
   "source": [
    "dirty_data[2].unique()"
   ]
  },
  {
   "cell_type": "code",
   "execution_count": 84,
   "id": "fcfe6468",
   "metadata": {
    "scrolled": true
   },
   "outputs": [],
   "source": [
    "dirty_data.loc[dirty_data[\"n_bedrooms_copy\"].str.contains('bed', na = False),\"n_bedrooms_copy\"] = ''"
   ]
  },
  {
   "cell_type": "code",
   "execution_count": 85,
   "id": "0f54ba0a",
   "metadata": {},
   "outputs": [
    {
     "data": {
      "text/html": [
       "<div>\n",
       "<style scoped>\n",
       "    .dataframe tbody tr th:only-of-type {\n",
       "        vertical-align: middle;\n",
       "    }\n",
       "\n",
       "    .dataframe tbody tr th {\n",
       "        vertical-align: top;\n",
       "    }\n",
       "\n",
       "    .dataframe thead th {\n",
       "        text-align: right;\n",
       "    }\n",
       "</style>\n",
       "<table border=\"1\" class=\"dataframe\">\n",
       "  <thead>\n",
       "    <tr style=\"text-align: right;\">\n",
       "      <th></th>\n",
       "      <th>n_bedrooms_copy</th>\n",
       "      <th>2</th>\n",
       "    </tr>\n",
       "  </thead>\n",
       "  <tbody>\n",
       "    <tr>\n",
       "      <th>0</th>\n",
       "      <td></td>\n",
       "      <td>'3rd floor exterior with lift'</td>\n",
       "    </tr>\n",
       "    <tr>\n",
       "      <th>1</th>\n",
       "      <td></td>\n",
       "      <td>'3rd floor exterior without lift'</td>\n",
       "    </tr>\n",
       "    <tr>\n",
       "      <th>2</th>\n",
       "      <td></td>\n",
       "      <td>'1st floor exterior with lift'</td>\n",
       "    </tr>\n",
       "    <tr>\n",
       "      <th>3</th>\n",
       "      <td></td>\n",
       "      <td>'3rd floor exterior without lift'</td>\n",
       "    </tr>\n",
       "    <tr>\n",
       "      <th>4</th>\n",
       "      <td></td>\n",
       "      <td>'1st floor exterior with lift'</td>\n",
       "    </tr>\n",
       "    <tr>\n",
       "      <th>...</th>\n",
       "      <td>...</td>\n",
       "      <td>...</td>\n",
       "    </tr>\n",
       "    <tr>\n",
       "      <th>10384</th>\n",
       "      <td></td>\n",
       "      <td>'2nd floor exterior with lift'</td>\n",
       "    </tr>\n",
       "    <tr>\n",
       "      <th>10385</th>\n",
       "      <td></td>\n",
       "      <td>'4th floor exterior with lift'</td>\n",
       "    </tr>\n",
       "    <tr>\n",
       "      <th>10386</th>\n",
       "      <td></td>\n",
       "      <td>'2nd floor without lift'</td>\n",
       "    </tr>\n",
       "    <tr>\n",
       "      <th>10387</th>\n",
       "      <td></td>\n",
       "      <td>'5th floor interior with lift'</td>\n",
       "    </tr>\n",
       "    <tr>\n",
       "      <th>10388</th>\n",
       "      <td></td>\n",
       "      <td>'2nd floor exterior with lift'</td>\n",
       "    </tr>\n",
       "  </tbody>\n",
       "</table>\n",
       "<p>10389 rows × 2 columns</p>\n",
       "</div>"
      ],
      "text/plain": [
       "      n_bedrooms_copy                                  2\n",
       "0                         '3rd floor exterior with lift'\n",
       "1                      '3rd floor exterior without lift'\n",
       "2                         '1st floor exterior with lift'\n",
       "3                      '3rd floor exterior without lift'\n",
       "4                         '1st floor exterior with lift'\n",
       "...               ...                                ...\n",
       "10384                     '2nd floor exterior with lift'\n",
       "10385                     '4th floor exterior with lift'\n",
       "10386                           '2nd floor without lift'\n",
       "10387                     '5th floor interior with lift'\n",
       "10388                     '2nd floor exterior with lift'\n",
       "\n",
       "[10389 rows x 2 columns]"
      ]
     },
     "execution_count": 85,
     "metadata": {},
     "output_type": "execute_result"
    }
   ],
   "source": [
    "dirty_data[[\"n_bedrooms_copy\", 2]]"
   ]
  },
  {
   "cell_type": "markdown",
   "id": "8dcfb12e",
   "metadata": {},
   "source": [
    "Now I can merge both columns since they contain similar data."
   ]
  },
  {
   "cell_type": "code",
   "execution_count": 86,
   "id": "fcf7bb5f",
   "metadata": {},
   "outputs": [
    {
     "data": {
      "text/plain": [
       "array([\"'3rd floor exterior with lift'\",\n",
       "       \"'3rd floor exterior without lift'\",\n",
       "       \"'1st floor exterior with lift'\", \"'4th floor exterior with lift'\",\n",
       "       \"'exterior without lift'\", \"'5th floor exterior without lift'\",\n",
       "       \"'1st floor interior without lift'\",\n",
       "       \"'1st floor exterior without lift'\",\n",
       "       \"'2nd floor exterior without lift'\",\n",
       "       \"'5th floor exterior with lift'\", \"'2nd floor with lift'\",\n",
       "       \"'3rd floor without lift'\", \"'4th floor exterior without lift'\",\n",
       "       \"'interior with lift'\", \"'2nd floor exterior with lift'\",\n",
       "       \"'exterior with lift'\", \"'Mezzanine interior without lift'\",\n",
       "       \"'5th floor without lift'\", \"'2nd floor without lift'\",\n",
       "       \"'Mezzanine exterior without lift'\",\n",
       "       \"'Mezzanine exterior with lift'\",\n",
       "       \"'Ground floor exterior without lift'\",\n",
       "       \"'7th floor exterior with lift'\",\n",
       "       \"'Ground floor exterior with lift'\",\n",
       "       \"'Ground floor interior without lift'\", \"'5th floor with lift'\",\n",
       "       \"'2nd floor'\", \"'Ground floor with lift'\", \"'with lift'\",\n",
       "       \"'3rd floor with lift'\", \"'2nd floor interior with lift'\", None,\n",
       "       \"'without lift'\", \"'10th floor exterior with lift'\",\n",
       "       \"'1st floor interior with lift'\", \"'8th floor exterior with lift'\",\n",
       "       \"'1st floor without lift'\", \"'1st floor with lift'\", \"'4th floor'\",\n",
       "       \"'Parking included'\", \"'2nd floor interior without lift'\",\n",
       "       \"'21st floor exterior with lift'\",\n",
       "       \"'6th floor exterior with lift'\",\n",
       "       \"'10th floor interior with lift'\",\n",
       "       \"'24th floor exterior with lift'\", \"'5th floor'\",\n",
       "       \"'7th floor with lift'\", \"'6th floor with lift'\", \"'exterior'\",\n",
       "       \"'Mezzanine with lift'\", \"'Basement exterior without lift'\",\n",
       "       \"'interior without lift'\", \"'Ground floor without lift'\",\n",
       "       \"'4th floor with lift'\", \"'Ground floor interior with lift'\",\n",
       "       \"'Mezzanine without lift'\", \"'Mezzanine interior with lift'\",\n",
       "       \"'1st floor exterior'\", \"'3rd floor interior with lift'\",\n",
       "       \"'9th floor exterior with lift'\", \"'10th floor without lift'\",\n",
       "       \"'4th floor without lift'\", \"'5th floor interior with lift'\",\n",
       "       \"'Basement interior without lift'\",\n",
       "       \"'6th floor exterior without lift'\",\n",
       "       \"'4th floor interior with lift'\",\n",
       "       \"'3rd floor interior without lift'\", \"'1st floor'\",\n",
       "       \"'15th floor interior with lift'\",\n",
       "       \"'14th floor exterior with lift'\",\n",
       "       \"'16th floor exterior with lift'\",\n",
       "       \"'Semi-basement interior with lift'\", \"'Floor -1 with lift'\",\n",
       "       \"'15th floor exterior with lift'\",\n",
       "       \"'4th floor interior without lift'\",\n",
       "       \"'11th floor exterior with lift'\", \"'3rd floor'\",\n",
       "       \"'Floor -2 with lift'\", \"'Basement interior with lift'\",\n",
       "       \"'6th floor interior without lift'\",\n",
       "       \"'17th floor exterior with lift'\", \"'Basement exterior with lift'\",\n",
       "       \"'8th floor with lift'\", \"'3rd floor exterior'\",\n",
       "       \"'7th floor interior with lift'\", \"'Floor -1 without lift'\",\n",
       "       \"'Basement without lift'\", \"'Ground floor exterior'\",\n",
       "       \"'Floor -1 exterior with lift'\",\n",
       "       \"'9th floor exterior without lift'\",\n",
       "       \"'Floor -1 interior without lift'\", \"'Mezzanine'\",\n",
       "       \"'8th floor interior with lift'\",\n",
       "       \"'22nd floor exterior with lift'\",\n",
       "       \"'12th floor exterior with lift'\",\n",
       "       \"'Semi-basement exterior without lift'\",\n",
       "       \"'7th floor without lift'\", \"'6th floor interior with lift'\",\n",
       "       \"'Ground floor'\", \"'23rd floor with lift'\",\n",
       "       \"'Floor -1 exterior without lift'\", \"'8th floor without lift'\",\n",
       "       \"'12th floor with lift'\", \"'Semi-basement with lift'\",\n",
       "       \"'5th floor interior without lift'\", \"'Floor -1'\",\n",
       "       \"'13th floor without lift'\", \"'4th floor exterior'\",\n",
       "       \"'25th floor exterior with lift'\",\n",
       "       \"'20th floor exterior with lift'\", \"'14th floor with lift'\",\n",
       "       \"'16th floor with lift'\", \"'13th floor with lift'\",\n",
       "       \"'10th floor exterior without lift'\", \"'6th floor without lift'\",\n",
       "       \"'13th floor exterior with lift'\",\n",
       "       \"'Semi-basement interior without lift'\",\n",
       "       \"'11th floor without lift'\", \"'7th floor exterior without lift'\",\n",
       "       \"'8th floor exterior without lift'\", \"'11th floor with lift'\",\n",
       "       \"'Semi-basement exterior with lift'\", \"'2nd floor exterior'\",\n",
       "       \"'9th floor with lift'\", \"'23rd floor exterior with lift'\"],\n",
       "      dtype=object)"
      ]
     },
     "execution_count": 86,
     "metadata": {},
     "output_type": "execute_result"
    }
   ],
   "source": [
    "dirty_data.loc[dirty_data[\"n_bedrooms_copy\"]== '',2].unique()"
   ]
  },
  {
   "cell_type": "code",
   "execution_count": 87,
   "id": "b96b6a53",
   "metadata": {},
   "outputs": [],
   "source": [
    "dirty_data.loc[dirty_data[\"n_bedrooms_copy\"]== '', \"n_bedrooms_copy\"] = dirty_data[2]"
   ]
  },
  {
   "cell_type": "code",
   "execution_count": 88,
   "id": "174887d2",
   "metadata": {},
   "outputs": [
    {
     "data": {
      "text/plain": [
       "array([\"'3rd floor exterior with lift'\",\n",
       "       \"'3rd floor exterior without lift'\",\n",
       "       \"'1st floor exterior with lift'\", \"'4th floor exterior with lift'\",\n",
       "       \"'exterior without lift'\", \"'5th floor exterior without lift'\",\n",
       "       \"'1st floor interior without lift'\",\n",
       "       \"'1st floor exterior without lift'\",\n",
       "       \"'2nd floor exterior without lift'\",\n",
       "       \"'5th floor exterior with lift'\", \"'2nd floor with lift'\",\n",
       "       \"'3rd floor without lift'\", \"'4th floor exterior without lift'\",\n",
       "       \"'interior with lift'\", \"'2nd floor exterior with lift'\",\n",
       "       \"'exterior with lift'\", \"'Mezzanine interior without lift'\",\n",
       "       \"'5th floor without lift'\", \"'2nd floor without lift'\",\n",
       "       \"'Mezzanine exterior without lift'\",\n",
       "       \"'Mezzanine exterior with lift'\",\n",
       "       \"'Ground floor exterior without lift'\",\n",
       "       \"'7th floor exterior with lift'\",\n",
       "       \"'Ground floor exterior with lift'\",\n",
       "       \"'Ground floor interior without lift'\", \"'Ground floor with lift'\",\n",
       "       \"'5th floor with lift'\", \"'2nd floor'\", \"'with lift'\",\n",
       "       \"'3rd floor with lift'\", \"'2nd floor interior with lift'\", None,\n",
       "       \"'without lift'\", \"'10th floor exterior with lift'\",\n",
       "       \"'1st floor interior with lift'\", \"'8th floor exterior with lift'\",\n",
       "       \"'1st floor without lift'\", \"'1st floor with lift'\", \"'4th floor'\",\n",
       "       \"'Parking included'\", \"'2nd floor interior without lift'\",\n",
       "       \"'21st floor exterior with lift'\",\n",
       "       \"'6th floor exterior with lift'\",\n",
       "       \"'10th floor interior with lift'\",\n",
       "       \"'24th floor exterior with lift'\", \"'5th floor'\",\n",
       "       \"'7th floor with lift'\", \"'6th floor with lift'\", \"'exterior'\",\n",
       "       \"'Mezzanine with lift'\", \"'Basement exterior without lift'\",\n",
       "       \"'interior without lift'\", \"'Ground floor without lift'\",\n",
       "       \"'4th floor with lift'\", \"'Ground floor interior with lift'\",\n",
       "       \"'Mezzanine without lift'\", \"'Mezzanine interior with lift'\",\n",
       "       \"'1st floor exterior'\", \"'3rd floor interior with lift'\",\n",
       "       \"'Mezzanine'\", \"'9th floor exterior with lift'\",\n",
       "       \"'10th floor without lift'\", \"'4th floor without lift'\",\n",
       "       \"'5th floor interior with lift'\",\n",
       "       \"'Basement interior without lift'\",\n",
       "       \"'6th floor exterior without lift'\",\n",
       "       \"'4th floor interior with lift'\",\n",
       "       \"'3rd floor interior without lift'\", \"'1st floor'\",\n",
       "       \"'15th floor interior with lift'\",\n",
       "       \"'14th floor exterior with lift'\",\n",
       "       \"'16th floor exterior with lift'\",\n",
       "       \"'Semi-basement interior with lift'\", \"'Floor -1 with lift'\",\n",
       "       \"'15th floor exterior with lift'\",\n",
       "       \"'4th floor interior without lift'\",\n",
       "       \"'11th floor exterior with lift'\", 0, \"'3rd floor'\",\n",
       "       \"'Floor -2 with lift'\", \"'Basement interior with lift'\",\n",
       "       \"'6th floor interior without lift'\",\n",
       "       \"'17th floor exterior with lift'\", \"'Basement exterior with lift'\",\n",
       "       \"'8th floor with lift'\", \"'3rd floor exterior'\",\n",
       "       \"'7th floor interior with lift'\", \"'Floor -1 without lift'\",\n",
       "       \"'Basement without lift'\", \"'Ground floor exterior'\",\n",
       "       \"'Floor -1 exterior with lift'\",\n",
       "       \"'9th floor exterior without lift'\",\n",
       "       \"'Floor -1 interior without lift'\",\n",
       "       \"'8th floor interior with lift'\",\n",
       "       \"'22nd floor exterior with lift'\",\n",
       "       \"'Semi-basement exterior without lift'\",\n",
       "       \"'12th floor exterior with lift'\", \"'7th floor without lift'\",\n",
       "       \"'6th floor interior with lift'\", \"'Ground floor'\",\n",
       "       \"'23rd floor with lift'\", \"'Floor -1 exterior without lift'\",\n",
       "       \"'8th floor without lift'\", \"'12th floor with lift'\",\n",
       "       \"'Semi-basement with lift'\", \"'5th floor interior without lift'\",\n",
       "       \"'Floor -1'\", \"'13th floor without lift'\", \"'4th floor exterior'\",\n",
       "       \"'25th floor exterior with lift'\",\n",
       "       \"'20th floor exterior with lift'\", \"'14th floor with lift'\",\n",
       "       \"'16th floor with lift'\", \"'13th floor with lift'\",\n",
       "       \"'10th floor exterior without lift'\", \"'6th floor without lift'\",\n",
       "       \"'13th floor exterior with lift'\",\n",
       "       \"'Semi-basement interior without lift'\",\n",
       "       \"'11th floor without lift'\", \"'7th floor exterior without lift'\",\n",
       "       \"'8th floor exterior without lift'\", \"'11th floor with lift'\",\n",
       "       \"'Semi-basement exterior with lift'\", \"'2nd floor exterior'\",\n",
       "       \"'9th floor with lift'\", \"'23rd floor exterior with lift'\"],\n",
       "      dtype=object)"
      ]
     },
     "execution_count": 88,
     "metadata": {},
     "output_type": "execute_result"
    }
   ],
   "source": [
    "dirty_data[\"n_bedrooms_copy\"].unique()"
   ]
  },
  {
   "cell_type": "markdown",
   "id": "39ae7de2",
   "metadata": {},
   "source": [
    "Now it looks workable. I can start focusing on the floor category. I'll adjust values like \"basement\" and \"mezzanine\" to improve the structure."
   ]
  },
  {
   "cell_type": "code",
   "execution_count": 89,
   "id": "ad7c9fbf",
   "metadata": {},
   "outputs": [],
   "source": [
    "dirty_data[\"floor\"] = dirty_data[\"n_bedrooms_copy\"]"
   ]
  },
  {
   "cell_type": "code",
   "execution_count": 90,
   "id": "9c1508d0",
   "metadata": {},
   "outputs": [],
   "source": [
    "dirty_data[\"floor\"] = dirty_data[\"floor\"].str.replace('Mezzanine', '1 floor', regex = False)\n",
    "dirty_data[\"floor\"] = dirty_data[\"floor\"].str.replace('Basement', '-1 floor', regex = False)\n",
    "dirty_data[\"floor\"] = dirty_data[\"floor\"].str.replace('Semi-basement', '-1 floor', regex = False)\n",
    "dirty_data[\"floor\"] = dirty_data[\"floor\"].str.replace('Floor -1', '-1 floor', regex = False)\n",
    "dirty_data[\"floor\"] = dirty_data[\"floor\"].str.replace('Floor -2', '-2 floor', regex = False)\n",
    "dirty_data[\"floor\"] = dirty_data[\"floor\"].str.replace('Ground', '0', regex = False)"
   ]
  },
  {
   "cell_type": "code",
   "execution_count": 91,
   "id": "b0f21172",
   "metadata": {},
   "outputs": [
    {
     "data": {
      "text/plain": [
       "array([\"'3rd floor exterior with lift'\",\n",
       "       \"'3rd floor exterior without lift'\",\n",
       "       \"'1st floor exterior with lift'\", \"'4th floor exterior with lift'\",\n",
       "       \"'exterior without lift'\", \"'5th floor exterior without lift'\",\n",
       "       \"'1st floor interior without lift'\",\n",
       "       \"'1st floor exterior without lift'\",\n",
       "       \"'2nd floor exterior without lift'\",\n",
       "       \"'5th floor exterior with lift'\", \"'2nd floor with lift'\",\n",
       "       \"'3rd floor without lift'\", \"'4th floor exterior without lift'\",\n",
       "       \"'interior with lift'\", \"'2nd floor exterior with lift'\",\n",
       "       \"'exterior with lift'\", \"'1 floor interior without lift'\",\n",
       "       \"'5th floor without lift'\", \"'2nd floor without lift'\",\n",
       "       \"'1 floor exterior without lift'\", \"'1 floor exterior with lift'\",\n",
       "       \"'0 floor exterior without lift'\",\n",
       "       \"'7th floor exterior with lift'\", \"'0 floor exterior with lift'\",\n",
       "       \"'0 floor interior without lift'\", \"'0 floor with lift'\",\n",
       "       \"'5th floor with lift'\", \"'2nd floor'\", \"'with lift'\",\n",
       "       \"'3rd floor with lift'\", \"'2nd floor interior with lift'\", None,\n",
       "       \"'without lift'\", \"'10th floor exterior with lift'\",\n",
       "       \"'1st floor interior with lift'\", \"'8th floor exterior with lift'\",\n",
       "       \"'1st floor without lift'\", \"'1st floor with lift'\", \"'4th floor'\",\n",
       "       \"'Parking included'\", \"'2nd floor interior without lift'\",\n",
       "       \"'21st floor exterior with lift'\",\n",
       "       \"'6th floor exterior with lift'\",\n",
       "       \"'10th floor interior with lift'\",\n",
       "       \"'24th floor exterior with lift'\", \"'5th floor'\",\n",
       "       \"'7th floor with lift'\", \"'6th floor with lift'\", \"'exterior'\",\n",
       "       \"'1 floor with lift'\", \"'-1 floor exterior without lift'\",\n",
       "       \"'interior without lift'\", \"'0 floor without lift'\",\n",
       "       \"'4th floor with lift'\", \"'0 floor interior with lift'\",\n",
       "       \"'1 floor without lift'\", \"'1 floor interior with lift'\",\n",
       "       \"'1st floor exterior'\", \"'3rd floor interior with lift'\",\n",
       "       \"'1 floor'\", \"'9th floor exterior with lift'\",\n",
       "       \"'10th floor without lift'\", \"'4th floor without lift'\",\n",
       "       \"'5th floor interior with lift'\",\n",
       "       \"'-1 floor interior without lift'\",\n",
       "       \"'6th floor exterior without lift'\",\n",
       "       \"'4th floor interior with lift'\",\n",
       "       \"'3rd floor interior without lift'\", \"'1st floor'\",\n",
       "       \"'15th floor interior with lift'\",\n",
       "       \"'14th floor exterior with lift'\",\n",
       "       \"'16th floor exterior with lift'\", \"'-1 floor interior with lift'\",\n",
       "       \"'-1 floor with lift'\", \"'15th floor exterior with lift'\",\n",
       "       \"'4th floor interior without lift'\",\n",
       "       \"'11th floor exterior with lift'\", nan, \"'3rd floor'\",\n",
       "       \"'-2 floor with lift'\", \"'6th floor interior without lift'\",\n",
       "       \"'17th floor exterior with lift'\", \"'-1 floor exterior with lift'\",\n",
       "       \"'8th floor with lift'\", \"'3rd floor exterior'\",\n",
       "       \"'7th floor interior with lift'\", \"'-1 floor without lift'\",\n",
       "       \"'0 floor exterior'\", \"'9th floor exterior without lift'\",\n",
       "       \"'8th floor interior with lift'\",\n",
       "       \"'22nd floor exterior with lift'\",\n",
       "       \"'12th floor exterior with lift'\", \"'7th floor without lift'\",\n",
       "       \"'6th floor interior with lift'\", \"'0 floor'\",\n",
       "       \"'23rd floor with lift'\", \"'8th floor without lift'\",\n",
       "       \"'12th floor with lift'\", \"'5th floor interior without lift'\",\n",
       "       \"'-1 floor'\", \"'13th floor without lift'\", \"'4th floor exterior'\",\n",
       "       \"'25th floor exterior with lift'\",\n",
       "       \"'20th floor exterior with lift'\", \"'14th floor with lift'\",\n",
       "       \"'16th floor with lift'\", \"'13th floor with lift'\",\n",
       "       \"'10th floor exterior without lift'\", \"'6th floor without lift'\",\n",
       "       \"'13th floor exterior with lift'\", \"'11th floor without lift'\",\n",
       "       \"'7th floor exterior without lift'\",\n",
       "       \"'8th floor exterior without lift'\", \"'11th floor with lift'\",\n",
       "       \"'2nd floor exterior'\", \"'9th floor with lift'\",\n",
       "       \"'23rd floor exterior with lift'\"], dtype=object)"
      ]
     },
     "execution_count": 91,
     "metadata": {},
     "output_type": "execute_result"
    }
   ],
   "source": [
    "dirty_data[\"floor\"].unique()"
   ]
  },
  {
   "cell_type": "code",
   "execution_count": 92,
   "id": "1f510e23",
   "metadata": {},
   "outputs": [],
   "source": [
    "dirty_data[\"floor\"] = dirty_data[\"floor\"].str.split(\" floor\").str[0]"
   ]
  },
  {
   "cell_type": "code",
   "execution_count": 93,
   "id": "c5e89676",
   "metadata": {},
   "outputs": [
    {
     "data": {
      "text/plain": [
       "array([\"'3rd\", \"'1st\", \"'4th\", \"'exterior without lift'\", \"'5th\", \"'2nd\",\n",
       "       \"'interior with lift'\", \"'exterior with lift'\", \"'1\", \"'0\", \"'7th\",\n",
       "       \"'with lift'\", None, \"'without lift'\", \"'10th\", \"'8th\",\n",
       "       \"'Parking included'\", \"'21st\", \"'6th\", \"'24th\", \"'exterior'\",\n",
       "       \"'-1\", \"'interior without lift'\", \"'9th\", \"'15th\", \"'14th\",\n",
       "       \"'16th\", \"'11th\", nan, \"'-2\", \"'17th\", \"'22nd\", \"'12th\", \"'23rd\",\n",
       "       \"'13th\", \"'25th\", \"'20th\"], dtype=object)"
      ]
     },
     "execution_count": 93,
     "metadata": {},
     "output_type": "execute_result"
    }
   ],
   "source": [
    "dirty_data[\"floor\"].unique()"
   ]
  },
  {
   "cell_type": "code",
   "execution_count": 94,
   "id": "da68496d",
   "metadata": {},
   "outputs": [],
   "source": [
    "dirty_data[\"floor\"] = dirty_data[\"floor\"].str.replace('exterior without lift', '', regex = False)\n",
    "dirty_data[\"floor\"] = dirty_data[\"floor\"].str.replace('interior with lift', '', regex = False)\n",
    "dirty_data[\"floor\"] = dirty_data[\"floor\"].str.replace('exterior with lift', '', regex = False)\n",
    "dirty_data[\"floor\"] = dirty_data[\"floor\"].str.replace('with lift', '', regex = False)\n",
    "dirty_data[\"floor\"] = dirty_data[\"floor\"].str.replace('Parking included', '', regex = False)\n",
    "dirty_data[\"floor\"] = dirty_data[\"floor\"].str.replace('exterior', '', regex = False)\n",
    "dirty_data[\"floor\"] = dirty_data[\"floor\"].str.replace('interior without lift', '', regex = False)\n",
    "dirty_data[\"floor\"] = dirty_data[\"floor\"].str.replace('without lift', '', regex = False)\n",
    "\n",
    "dirty_data[\"floor\"] = dirty_data[\"floor\"].str.replace('st', '', regex = False)\n",
    "dirty_data[\"floor\"] = dirty_data[\"floor\"].str.replace('nd', '', regex = False)\n",
    "dirty_data[\"floor\"] = dirty_data[\"floor\"].str.replace('th', '', regex = False)\n",
    "dirty_data[\"floor\"] = dirty_data[\"floor\"].str.replace('rd', '', regex = False)\n"
   ]
  },
  {
   "cell_type": "code",
   "execution_count": 95,
   "id": "819647e7",
   "metadata": {},
   "outputs": [
    {
     "data": {
      "text/plain": [
       "array([\"'3\", \"'1\", \"'4\", \"''\", \"'5\", \"'2\", \"'0\", \"'7\", None, \"'10\", \"'8\",\n",
       "       \"'21\", \"'6\", \"'24\", \"'-1\", \"'9\", \"'15\", \"'14\", \"'16\", \"'11\", nan,\n",
       "       \"'-2\", \"'17\", \"'22\", \"'12\", \"'23\", \"'13\", \"'25\", \"'20\"],\n",
       "      dtype=object)"
      ]
     },
     "execution_count": 95,
     "metadata": {},
     "output_type": "execute_result"
    }
   ],
   "source": [
    "dirty_data[\"floor\"].unique()"
   ]
  },
  {
   "cell_type": "code",
   "execution_count": 96,
   "id": "918a8ac4",
   "metadata": {},
   "outputs": [
    {
     "data": {
      "text/html": [
       "<div>\n",
       "<style scoped>\n",
       "    .dataframe tbody tr th:only-of-type {\n",
       "        vertical-align: middle;\n",
       "    }\n",
       "\n",
       "    .dataframe tbody tr th {\n",
       "        vertical-align: top;\n",
       "    }\n",
       "\n",
       "    .dataframe thead th {\n",
       "        text-align: right;\n",
       "    }\n",
       "</style>\n",
       "<table border=\"1\" class=\"dataframe\">\n",
       "  <thead>\n",
       "    <tr style=\"text-align: right;\">\n",
       "      <th></th>\n",
       "      <th>id</th>\n",
       "      <th>size_in_m2</th>\n",
       "      <th>n_bedrooms</th>\n",
       "      <th>2</th>\n",
       "      <th>3</th>\n",
       "      <th>4</th>\n",
       "      <th>5</th>\n",
       "      <th>n_bedrooms_copy</th>\n",
       "      <th>floor</th>\n",
       "    </tr>\n",
       "  </thead>\n",
       "  <tbody>\n",
       "    <tr>\n",
       "      <th>0</th>\n",
       "      <td>103375204</td>\n",
       "      <td>80</td>\n",
       "      <td>2</td>\n",
       "      <td>'3rd floor exterior with lift'</td>\n",
       "      <td>None</td>\n",
       "      <td>None</td>\n",
       "      <td>None</td>\n",
       "      <td>'3rd floor exterior with lift'</td>\n",
       "      <td>'3</td>\n",
       "    </tr>\n",
       "    <tr>\n",
       "      <th>1</th>\n",
       "      <td>94000904</td>\n",
       "      <td>58</td>\n",
       "      <td>2</td>\n",
       "      <td>'3rd floor exterior without lift'</td>\n",
       "      <td>None</td>\n",
       "      <td>None</td>\n",
       "      <td>None</td>\n",
       "      <td>'3rd floor exterior without lift'</td>\n",
       "      <td>'3</td>\n",
       "    </tr>\n",
       "    <tr>\n",
       "      <th>2</th>\n",
       "      <td>104382041</td>\n",
       "      <td>155</td>\n",
       "      <td>3</td>\n",
       "      <td>'1st floor exterior with lift'</td>\n",
       "      <td>'Garageoptional30,000 €'</td>\n",
       "      <td>'Garageoptional30,000 €'</td>\n",
       "      <td>'optional'</td>\n",
       "      <td>'1st floor exterior with lift'</td>\n",
       "      <td>'1</td>\n",
       "    </tr>\n",
       "    <tr>\n",
       "      <th>3</th>\n",
       "      <td>97791792</td>\n",
       "      <td>89</td>\n",
       "      <td>2</td>\n",
       "      <td>'3rd floor exterior without lift'</td>\n",
       "      <td>None</td>\n",
       "      <td>None</td>\n",
       "      <td>None</td>\n",
       "      <td>'3rd floor exterior without lift'</td>\n",
       "      <td>'3</td>\n",
       "    </tr>\n",
       "    <tr>\n",
       "      <th>4</th>\n",
       "      <td>104397583</td>\n",
       "      <td>70</td>\n",
       "      <td>2</td>\n",
       "      <td>'1st floor exterior with lift'</td>\n",
       "      <td>None</td>\n",
       "      <td>None</td>\n",
       "      <td>None</td>\n",
       "      <td>'1st floor exterior with lift'</td>\n",
       "      <td>'1</td>\n",
       "    </tr>\n",
       "    <tr>\n",
       "      <th>5</th>\n",
       "      <td>102336106</td>\n",
       "      <td>73</td>\n",
       "      <td>2</td>\n",
       "      <td>'4th floor exterior with lift'</td>\n",
       "      <td>None</td>\n",
       "      <td>None</td>\n",
       "      <td>None</td>\n",
       "      <td>'4th floor exterior with lift'</td>\n",
       "      <td>'4</td>\n",
       "    </tr>\n",
       "    <tr>\n",
       "      <th>6</th>\n",
       "      <td>101044355</td>\n",
       "      <td>149</td>\n",
       "      <td>4</td>\n",
       "      <td>'exterior without lift'</td>\n",
       "      <td>None</td>\n",
       "      <td>None</td>\n",
       "      <td>None</td>\n",
       "      <td>'exterior without lift'</td>\n",
       "      <td>''</td>\n",
       "    </tr>\n",
       "    <tr>\n",
       "      <th>7</th>\n",
       "      <td>102741132</td>\n",
       "      <td>33</td>\n",
       "      <td>2</td>\n",
       "      <td>'5th floor exterior without lift'</td>\n",
       "      <td>None</td>\n",
       "      <td>None</td>\n",
       "      <td>None</td>\n",
       "      <td>'5th floor exterior without lift'</td>\n",
       "      <td>'5</td>\n",
       "    </tr>\n",
       "    <tr>\n",
       "      <th>8</th>\n",
       "      <td>104348134</td>\n",
       "      <td>118</td>\n",
       "      <td>3</td>\n",
       "      <td>'3rd floor exterior with lift'</td>\n",
       "      <td>None</td>\n",
       "      <td>None</td>\n",
       "      <td>None</td>\n",
       "      <td>'3rd floor exterior with lift'</td>\n",
       "      <td>'3</td>\n",
       "    </tr>\n",
       "    <tr>\n",
       "      <th>9</th>\n",
       "      <td>103801017</td>\n",
       "      <td>50</td>\n",
       "      <td>2</td>\n",
       "      <td>'1st floor interior without lift'</td>\n",
       "      <td>None</td>\n",
       "      <td>None</td>\n",
       "      <td>None</td>\n",
       "      <td>'1st floor interior without lift'</td>\n",
       "      <td>'1</td>\n",
       "    </tr>\n",
       "    <tr>\n",
       "      <th>10</th>\n",
       "      <td>103775272</td>\n",
       "      <td>54</td>\n",
       "      <td>0</td>\n",
       "      <td>None</td>\n",
       "      <td>None</td>\n",
       "      <td>None</td>\n",
       "      <td>None</td>\n",
       "      <td>'1st floor exterior with lift'</td>\n",
       "      <td>'1</td>\n",
       "    </tr>\n",
       "    <tr>\n",
       "      <th>11</th>\n",
       "      <td>101435479</td>\n",
       "      <td>110</td>\n",
       "      <td>2</td>\n",
       "      <td>'1st floor exterior without lift'</td>\n",
       "      <td>None</td>\n",
       "      <td>None</td>\n",
       "      <td>None</td>\n",
       "      <td>'1st floor exterior without lift'</td>\n",
       "      <td>'1</td>\n",
       "    </tr>\n",
       "    <tr>\n",
       "      <th>12</th>\n",
       "      <td>102756178</td>\n",
       "      <td>33</td>\n",
       "      <td>1</td>\n",
       "      <td>'2nd floor exterior without lift'</td>\n",
       "      <td>None</td>\n",
       "      <td>None</td>\n",
       "      <td>None</td>\n",
       "      <td>'2nd floor exterior without lift'</td>\n",
       "      <td>'2</td>\n",
       "    </tr>\n",
       "    <tr>\n",
       "      <th>13</th>\n",
       "      <td>84119197</td>\n",
       "      <td>224</td>\n",
       "      <td>4</td>\n",
       "      <td>'1st floor exterior without lift'</td>\n",
       "      <td>None</td>\n",
       "      <td>None</td>\n",
       "      <td>None</td>\n",
       "      <td>'1st floor exterior without lift'</td>\n",
       "      <td>'1</td>\n",
       "    </tr>\n",
       "    <tr>\n",
       "      <th>14</th>\n",
       "      <td>104245206</td>\n",
       "      <td>75</td>\n",
       "      <td>3</td>\n",
       "      <td>'5th floor exterior with lift'</td>\n",
       "      <td>None</td>\n",
       "      <td>None</td>\n",
       "      <td>None</td>\n",
       "      <td>'5th floor exterior with lift'</td>\n",
       "      <td>'5</td>\n",
       "    </tr>\n",
       "    <tr>\n",
       "      <th>15</th>\n",
       "      <td>103690013</td>\n",
       "      <td>57</td>\n",
       "      <td>1</td>\n",
       "      <td>'2nd floor with lift'</td>\n",
       "      <td>None</td>\n",
       "      <td>None</td>\n",
       "      <td>None</td>\n",
       "      <td>'2nd floor with lift'</td>\n",
       "      <td>'2</td>\n",
       "    </tr>\n",
       "    <tr>\n",
       "      <th>16</th>\n",
       "      <td>93523130</td>\n",
       "      <td>54</td>\n",
       "      <td>3</td>\n",
       "      <td>'3rd floor without lift'</td>\n",
       "      <td>None</td>\n",
       "      <td>None</td>\n",
       "      <td>None</td>\n",
       "      <td>'3rd floor without lift'</td>\n",
       "      <td>'3</td>\n",
       "    </tr>\n",
       "    <tr>\n",
       "      <th>17</th>\n",
       "      <td>104142563</td>\n",
       "      <td>70</td>\n",
       "      <td>2</td>\n",
       "      <td>'4th floor exterior without lift'</td>\n",
       "      <td>None</td>\n",
       "      <td>None</td>\n",
       "      <td>None</td>\n",
       "      <td>'4th floor exterior without lift'</td>\n",
       "      <td>'4</td>\n",
       "    </tr>\n",
       "    <tr>\n",
       "      <th>18</th>\n",
       "      <td>100859087</td>\n",
       "      <td>56</td>\n",
       "      <td>1</td>\n",
       "      <td>'interior with lift'</td>\n",
       "      <td>None</td>\n",
       "      <td>None</td>\n",
       "      <td>None</td>\n",
       "      <td>'interior with lift'</td>\n",
       "      <td>''</td>\n",
       "    </tr>\n",
       "    <tr>\n",
       "      <th>19</th>\n",
       "      <td>104182440</td>\n",
       "      <td>40</td>\n",
       "      <td>1</td>\n",
       "      <td>'2nd floor exterior with lift'</td>\n",
       "      <td>None</td>\n",
       "      <td>None</td>\n",
       "      <td>None</td>\n",
       "      <td>'2nd floor exterior with lift'</td>\n",
       "      <td>'2</td>\n",
       "    </tr>\n",
       "  </tbody>\n",
       "</table>\n",
       "</div>"
      ],
      "text/plain": [
       "           id size_in_m2 n_bedrooms                                  2  \\\n",
       "0   103375204         80          2     '3rd floor exterior with lift'   \n",
       "1    94000904         58          2  '3rd floor exterior without lift'   \n",
       "2   104382041        155          3     '1st floor exterior with lift'   \n",
       "3    97791792         89          2  '3rd floor exterior without lift'   \n",
       "4   104397583         70          2     '1st floor exterior with lift'   \n",
       "5   102336106         73          2     '4th floor exterior with lift'   \n",
       "6   101044355        149          4            'exterior without lift'   \n",
       "7   102741132         33          2  '5th floor exterior without lift'   \n",
       "8   104348134        118          3     '3rd floor exterior with lift'   \n",
       "9   103801017         50          2  '1st floor interior without lift'   \n",
       "10  103775272         54          0                               None   \n",
       "11  101435479        110          2  '1st floor exterior without lift'   \n",
       "12  102756178         33          1  '2nd floor exterior without lift'   \n",
       "13   84119197        224          4  '1st floor exterior without lift'   \n",
       "14  104245206         75          3     '5th floor exterior with lift'   \n",
       "15  103690013         57          1              '2nd floor with lift'   \n",
       "16   93523130         54          3           '3rd floor without lift'   \n",
       "17  104142563         70          2  '4th floor exterior without lift'   \n",
       "18  100859087         56          1               'interior with lift'   \n",
       "19  104182440         40          1     '2nd floor exterior with lift'   \n",
       "\n",
       "                           3                         4           5  \\\n",
       "0                       None                      None        None   \n",
       "1                       None                      None        None   \n",
       "2   'Garageoptional30,000 €'  'Garageoptional30,000 €'  'optional'   \n",
       "3                       None                      None        None   \n",
       "4                       None                      None        None   \n",
       "5                       None                      None        None   \n",
       "6                       None                      None        None   \n",
       "7                       None                      None        None   \n",
       "8                       None                      None        None   \n",
       "9                       None                      None        None   \n",
       "10                      None                      None        None   \n",
       "11                      None                      None        None   \n",
       "12                      None                      None        None   \n",
       "13                      None                      None        None   \n",
       "14                      None                      None        None   \n",
       "15                      None                      None        None   \n",
       "16                      None                      None        None   \n",
       "17                      None                      None        None   \n",
       "18                      None                      None        None   \n",
       "19                      None                      None        None   \n",
       "\n",
       "                      n_bedrooms_copy floor  \n",
       "0      '3rd floor exterior with lift'    '3  \n",
       "1   '3rd floor exterior without lift'    '3  \n",
       "2      '1st floor exterior with lift'    '1  \n",
       "3   '3rd floor exterior without lift'    '3  \n",
       "4      '1st floor exterior with lift'    '1  \n",
       "5      '4th floor exterior with lift'    '4  \n",
       "6             'exterior without lift'    ''  \n",
       "7   '5th floor exterior without lift'    '5  \n",
       "8      '3rd floor exterior with lift'    '3  \n",
       "9   '1st floor interior without lift'    '1  \n",
       "10     '1st floor exterior with lift'    '1  \n",
       "11  '1st floor exterior without lift'    '1  \n",
       "12  '2nd floor exterior without lift'    '2  \n",
       "13  '1st floor exterior without lift'    '1  \n",
       "14     '5th floor exterior with lift'    '5  \n",
       "15              '2nd floor with lift'    '2  \n",
       "16           '3rd floor without lift'    '3  \n",
       "17  '4th floor exterior without lift'    '4  \n",
       "18               'interior with lift'    ''  \n",
       "19     '2nd floor exterior with lift'    '2  "
      ]
     },
     "execution_count": 96,
     "metadata": {},
     "output_type": "execute_result"
    }
   ],
   "source": [
    "dirty_data.head(20)"
   ]
  },
  {
   "cell_type": "markdown",
   "id": "2c7eaf2e",
   "metadata": {},
   "source": [
    "I will need to work later in some apartments where the floor number is unclear. For now, I will fill missing values with \"404\""
   ]
  },
  {
   "cell_type": "code",
   "execution_count": 37,
   "id": "a20cc6f6",
   "metadata": {},
   "outputs": [],
   "source": [
    "dirty_data[\"floor\"] = dirty_data[\"floor\"].fillna(\"404\")"
   ]
  },
  {
   "cell_type": "code",
   "execution_count": 38,
   "id": "c558d7db",
   "metadata": {},
   "outputs": [
    {
     "data": {
      "text/plain": [
       "array([\"'3\", \"'1\", \"'4\", \"''\", \"'5\", \"'2\", \"'0\", \"'7\", '404', \"'10\", \"'8\",\n",
       "       \"'21\", \"'6\", \"'24\", \"'-1\", \"'9\", \"'15\", \"'14\", \"'16\", \"'11\", \"'-2\",\n",
       "       \"'17\", \"'22\", \"'12\", \"'23\", \"'13\", \"'25\", \"'20\"], dtype=object)"
      ]
     },
     "execution_count": 38,
     "metadata": {},
     "output_type": "execute_result"
    }
   ],
   "source": [
    "dirty_data[\"floor\"].unique()"
   ]
  },
  {
   "cell_type": "code",
   "execution_count": 39,
   "id": "cb5ece39",
   "metadata": {},
   "outputs": [
    {
     "data": {
      "text/html": [
       "<div>\n",
       "<style scoped>\n",
       "    .dataframe tbody tr th:only-of-type {\n",
       "        vertical-align: middle;\n",
       "    }\n",
       "\n",
       "    .dataframe tbody tr th {\n",
       "        vertical-align: top;\n",
       "    }\n",
       "\n",
       "    .dataframe thead th {\n",
       "        text-align: right;\n",
       "    }\n",
       "</style>\n",
       "<table border=\"1\" class=\"dataframe\">\n",
       "  <thead>\n",
       "    <tr style=\"text-align: right;\">\n",
       "      <th></th>\n",
       "      <th>id</th>\n",
       "      <th>size_in_m2</th>\n",
       "      <th>n_bedrooms</th>\n",
       "      <th>2</th>\n",
       "      <th>3</th>\n",
       "      <th>4</th>\n",
       "      <th>5</th>\n",
       "      <th>n_bedrooms_copy</th>\n",
       "      <th>floor</th>\n",
       "    </tr>\n",
       "  </thead>\n",
       "  <tbody>\n",
       "    <tr>\n",
       "      <th>107</th>\n",
       "      <td>101868951</td>\n",
       "      <td>96</td>\n",
       "      <td>4</td>\n",
       "      <td>None</td>\n",
       "      <td>None</td>\n",
       "      <td>None</td>\n",
       "      <td>None</td>\n",
       "      <td>None</td>\n",
       "      <td>404</td>\n",
       "    </tr>\n",
       "    <tr>\n",
       "      <th>108</th>\n",
       "      <td>100282427</td>\n",
       "      <td>96</td>\n",
       "      <td>4</td>\n",
       "      <td>None</td>\n",
       "      <td>None</td>\n",
       "      <td>None</td>\n",
       "      <td>None</td>\n",
       "      <td>None</td>\n",
       "      <td>404</td>\n",
       "    </tr>\n",
       "    <tr>\n",
       "      <th>207</th>\n",
       "      <td>101904647</td>\n",
       "      <td>330</td>\n",
       "      <td>7</td>\n",
       "      <td>None</td>\n",
       "      <td>None</td>\n",
       "      <td>None</td>\n",
       "      <td>None</td>\n",
       "      <td>None</td>\n",
       "      <td>404</td>\n",
       "    </tr>\n",
       "    <tr>\n",
       "      <th>217</th>\n",
       "      <td>101998476</td>\n",
       "      <td>213</td>\n",
       "      <td>4</td>\n",
       "      <td>None</td>\n",
       "      <td>None</td>\n",
       "      <td>None</td>\n",
       "      <td>None</td>\n",
       "      <td>None</td>\n",
       "      <td>404</td>\n",
       "    </tr>\n",
       "    <tr>\n",
       "      <th>237</th>\n",
       "      <td>103946873</td>\n",
       "      <td>84</td>\n",
       "      <td>3</td>\n",
       "      <td>None</td>\n",
       "      <td>None</td>\n",
       "      <td>None</td>\n",
       "      <td>None</td>\n",
       "      <td>None</td>\n",
       "      <td>404</td>\n",
       "    </tr>\n",
       "    <tr>\n",
       "      <th>...</th>\n",
       "      <td>...</td>\n",
       "      <td>...</td>\n",
       "      <td>...</td>\n",
       "      <td>...</td>\n",
       "      <td>...</td>\n",
       "      <td>...</td>\n",
       "      <td>...</td>\n",
       "      <td>...</td>\n",
       "      <td>...</td>\n",
       "    </tr>\n",
       "    <tr>\n",
       "      <th>10198</th>\n",
       "      <td>102788227</td>\n",
       "      <td>110</td>\n",
       "      <td>4</td>\n",
       "      <td>None</td>\n",
       "      <td>None</td>\n",
       "      <td>None</td>\n",
       "      <td>None</td>\n",
       "      <td>None</td>\n",
       "      <td>404</td>\n",
       "    </tr>\n",
       "    <tr>\n",
       "      <th>10256</th>\n",
       "      <td>104197820</td>\n",
       "      <td>210</td>\n",
       "      <td>5</td>\n",
       "      <td>None</td>\n",
       "      <td>None</td>\n",
       "      <td>None</td>\n",
       "      <td>None</td>\n",
       "      <td>None</td>\n",
       "      <td>404</td>\n",
       "    </tr>\n",
       "    <tr>\n",
       "      <th>10258</th>\n",
       "      <td>103784991</td>\n",
       "      <td>80</td>\n",
       "      <td>3</td>\n",
       "      <td>None</td>\n",
       "      <td>None</td>\n",
       "      <td>None</td>\n",
       "      <td>None</td>\n",
       "      <td>None</td>\n",
       "      <td>404</td>\n",
       "    </tr>\n",
       "    <tr>\n",
       "      <th>10320</th>\n",
       "      <td>101318048</td>\n",
       "      <td>282</td>\n",
       "      <td>7</td>\n",
       "      <td>None</td>\n",
       "      <td>None</td>\n",
       "      <td>None</td>\n",
       "      <td>None</td>\n",
       "      <td>None</td>\n",
       "      <td>404</td>\n",
       "    </tr>\n",
       "    <tr>\n",
       "      <th>10367</th>\n",
       "      <td>101240861</td>\n",
       "      <td>48</td>\n",
       "      <td>0</td>\n",
       "      <td>None</td>\n",
       "      <td>None</td>\n",
       "      <td>None</td>\n",
       "      <td>None</td>\n",
       "      <td>0</td>\n",
       "      <td>404</td>\n",
       "    </tr>\n",
       "  </tbody>\n",
       "</table>\n",
       "<p>304 rows × 9 columns</p>\n",
       "</div>"
      ],
      "text/plain": [
       "              id size_in_m2 n_bedrooms     2     3     4     5  \\\n",
       "107    101868951         96          4  None  None  None  None   \n",
       "108    100282427         96          4  None  None  None  None   \n",
       "207    101904647        330          7  None  None  None  None   \n",
       "217    101998476        213          4  None  None  None  None   \n",
       "237    103946873         84          3  None  None  None  None   \n",
       "...          ...        ...        ...   ...   ...   ...   ...   \n",
       "10198  102788227        110          4  None  None  None  None   \n",
       "10256  104197820        210          5  None  None  None  None   \n",
       "10258  103784991         80          3  None  None  None  None   \n",
       "10320  101318048        282          7  None  None  None  None   \n",
       "10367  101240861         48          0  None  None  None  None   \n",
       "\n",
       "      n_bedrooms_copy floor  \n",
       "107              None   404  \n",
       "108              None   404  \n",
       "207              None   404  \n",
       "217              None   404  \n",
       "237              None   404  \n",
       "...               ...   ...  \n",
       "10198            None   404  \n",
       "10256            None   404  \n",
       "10258            None   404  \n",
       "10320            None   404  \n",
       "10367               0   404  \n",
       "\n",
       "[304 rows x 9 columns]"
      ]
     },
     "execution_count": 39,
     "metadata": {},
     "output_type": "execute_result"
    }
   ],
   "source": [
    "dirty_data.loc[dirty_data[\"floor\"] == \"404\"]"
   ]
  },
  {
   "cell_type": "markdown",
   "id": "0af1d657",
   "metadata": {},
   "source": [
    "Let's work in the exterior column. If it's exterior then True else False"
   ]
  },
  {
   "cell_type": "code",
   "execution_count": 40,
   "id": "3f5698b0",
   "metadata": {},
   "outputs": [],
   "source": [
    "dirty_data[\"exterior\"] = dirty_data[\"n_bedrooms_copy\"].str.lower().str.contains('exterior', regex = False, na = False)"
   ]
  },
  {
   "cell_type": "code",
   "execution_count": 41,
   "id": "9106a29b",
   "metadata": {},
   "outputs": [
    {
     "data": {
      "text/plain": [
       "0      True\n",
       "1      True\n",
       "2      True\n",
       "3      True\n",
       "4      True\n",
       "5      True\n",
       "6      True\n",
       "7      True\n",
       "8      True\n",
       "9     False\n",
       "10     True\n",
       "11     True\n",
       "12     True\n",
       "13     True\n",
       "14     True\n",
       "15    False\n",
       "16    False\n",
       "17     True\n",
       "18    False\n",
       "19     True\n",
       "Name: exterior, dtype: bool"
      ]
     },
     "execution_count": 41,
     "metadata": {},
     "output_type": "execute_result"
    }
   ],
   "source": [
    "dirty_data[\"exterior\"].head(20)"
   ]
  },
  {
   "cell_type": "markdown",
   "id": "cb27e8cc",
   "metadata": {},
   "source": [
    "The final column will be the 'Lift' column. It follows a similar logic to the 'Exterior' column: if there is a lift, the value will be 'True'; otherwise, it will be 'False'"
   ]
  },
  {
   "cell_type": "code",
   "execution_count": 42,
   "id": "be8692f1",
   "metadata": {},
   "outputs": [],
   "source": [
    "dirty_data[\"lift\"] = dirty_data[\"n_bedrooms_copy\"].str.lower().str.contains('with lift', regex = False, na = False)"
   ]
  },
  {
   "cell_type": "markdown",
   "id": "4e35dc1e",
   "metadata": {},
   "source": [
    "Finally, we'll select only the necessary columns to complete the process."
   ]
  },
  {
   "cell_type": "code",
   "execution_count": 43,
   "id": "d463d8ea",
   "metadata": {},
   "outputs": [
    {
     "data": {
      "text/html": [
       "<div>\n",
       "<style scoped>\n",
       "    .dataframe tbody tr th:only-of-type {\n",
       "        vertical-align: middle;\n",
       "    }\n",
       "\n",
       "    .dataframe tbody tr th {\n",
       "        vertical-align: top;\n",
       "    }\n",
       "\n",
       "    .dataframe thead th {\n",
       "        text-align: right;\n",
       "    }\n",
       "</style>\n",
       "<table border=\"1\" class=\"dataframe\">\n",
       "  <thead>\n",
       "    <tr style=\"text-align: right;\">\n",
       "      <th></th>\n",
       "      <th>id</th>\n",
       "      <th>size_in_m2</th>\n",
       "      <th>n_bedrooms</th>\n",
       "      <th>2</th>\n",
       "      <th>3</th>\n",
       "      <th>4</th>\n",
       "      <th>5</th>\n",
       "      <th>n_bedrooms_copy</th>\n",
       "      <th>floor</th>\n",
       "      <th>exterior</th>\n",
       "      <th>lift</th>\n",
       "    </tr>\n",
       "  </thead>\n",
       "  <tbody>\n",
       "    <tr>\n",
       "      <th>0</th>\n",
       "      <td>103375204</td>\n",
       "      <td>80</td>\n",
       "      <td>2</td>\n",
       "      <td>'3rd floor exterior with lift'</td>\n",
       "      <td>None</td>\n",
       "      <td>None</td>\n",
       "      <td>None</td>\n",
       "      <td>'3rd floor exterior with lift'</td>\n",
       "      <td>'3</td>\n",
       "      <td>True</td>\n",
       "      <td>True</td>\n",
       "    </tr>\n",
       "    <tr>\n",
       "      <th>1</th>\n",
       "      <td>94000904</td>\n",
       "      <td>58</td>\n",
       "      <td>2</td>\n",
       "      <td>'3rd floor exterior without lift'</td>\n",
       "      <td>None</td>\n",
       "      <td>None</td>\n",
       "      <td>None</td>\n",
       "      <td>'3rd floor exterior without lift'</td>\n",
       "      <td>'3</td>\n",
       "      <td>True</td>\n",
       "      <td>False</td>\n",
       "    </tr>\n",
       "    <tr>\n",
       "      <th>2</th>\n",
       "      <td>104382041</td>\n",
       "      <td>155</td>\n",
       "      <td>3</td>\n",
       "      <td>'1st floor exterior with lift'</td>\n",
       "      <td>'Garageoptional30,000 €'</td>\n",
       "      <td>'Garageoptional30,000 €'</td>\n",
       "      <td>'optional'</td>\n",
       "      <td>'1st floor exterior with lift'</td>\n",
       "      <td>'1</td>\n",
       "      <td>True</td>\n",
       "      <td>True</td>\n",
       "    </tr>\n",
       "    <tr>\n",
       "      <th>3</th>\n",
       "      <td>97791792</td>\n",
       "      <td>89</td>\n",
       "      <td>2</td>\n",
       "      <td>'3rd floor exterior without lift'</td>\n",
       "      <td>None</td>\n",
       "      <td>None</td>\n",
       "      <td>None</td>\n",
       "      <td>'3rd floor exterior without lift'</td>\n",
       "      <td>'3</td>\n",
       "      <td>True</td>\n",
       "      <td>False</td>\n",
       "    </tr>\n",
       "    <tr>\n",
       "      <th>4</th>\n",
       "      <td>104397583</td>\n",
       "      <td>70</td>\n",
       "      <td>2</td>\n",
       "      <td>'1st floor exterior with lift'</td>\n",
       "      <td>None</td>\n",
       "      <td>None</td>\n",
       "      <td>None</td>\n",
       "      <td>'1st floor exterior with lift'</td>\n",
       "      <td>'1</td>\n",
       "      <td>True</td>\n",
       "      <td>True</td>\n",
       "    </tr>\n",
       "  </tbody>\n",
       "</table>\n",
       "</div>"
      ],
      "text/plain": [
       "          id size_in_m2 n_bedrooms                                  2  \\\n",
       "0  103375204         80          2     '3rd floor exterior with lift'   \n",
       "1   94000904         58          2  '3rd floor exterior without lift'   \n",
       "2  104382041        155          3     '1st floor exterior with lift'   \n",
       "3   97791792         89          2  '3rd floor exterior without lift'   \n",
       "4  104397583         70          2     '1st floor exterior with lift'   \n",
       "\n",
       "                          3                         4           5  \\\n",
       "0                      None                      None        None   \n",
       "1                      None                      None        None   \n",
       "2  'Garageoptional30,000 €'  'Garageoptional30,000 €'  'optional'   \n",
       "3                      None                      None        None   \n",
       "4                      None                      None        None   \n",
       "\n",
       "                     n_bedrooms_copy floor  exterior   lift  \n",
       "0     '3rd floor exterior with lift'    '3      True   True  \n",
       "1  '3rd floor exterior without lift'    '3      True  False  \n",
       "2     '1st floor exterior with lift'    '1      True   True  \n",
       "3  '3rd floor exterior without lift'    '3      True  False  \n",
       "4     '1st floor exterior with lift'    '1      True   True  "
      ]
     },
     "execution_count": 43,
     "metadata": {},
     "output_type": "execute_result"
    }
   ],
   "source": [
    "dirty_data.head()"
   ]
  },
  {
   "cell_type": "code",
   "execution_count": 44,
   "id": "be984c31",
   "metadata": {},
   "outputs": [],
   "source": [
    "info_feat = dirty_data[[\"id\", \"size_in_m2\",\"n_bedrooms\",\"floor\",\"exterior\", \"lift\"]]"
   ]
  },
  {
   "cell_type": "code",
   "execution_count": 45,
   "id": "4e200d75",
   "metadata": {},
   "outputs": [
    {
     "data": {
      "text/html": [
       "<div>\n",
       "<style scoped>\n",
       "    .dataframe tbody tr th:only-of-type {\n",
       "        vertical-align: middle;\n",
       "    }\n",
       "\n",
       "    .dataframe tbody tr th {\n",
       "        vertical-align: top;\n",
       "    }\n",
       "\n",
       "    .dataframe thead th {\n",
       "        text-align: right;\n",
       "    }\n",
       "</style>\n",
       "<table border=\"1\" class=\"dataframe\">\n",
       "  <thead>\n",
       "    <tr style=\"text-align: right;\">\n",
       "      <th></th>\n",
       "      <th>id</th>\n",
       "      <th>size_in_m2</th>\n",
       "      <th>n_bedrooms</th>\n",
       "      <th>floor</th>\n",
       "      <th>exterior</th>\n",
       "      <th>lift</th>\n",
       "    </tr>\n",
       "  </thead>\n",
       "  <tbody>\n",
       "    <tr>\n",
       "      <th>0</th>\n",
       "      <td>103375204</td>\n",
       "      <td>80</td>\n",
       "      <td>2</td>\n",
       "      <td>'3</td>\n",
       "      <td>True</td>\n",
       "      <td>True</td>\n",
       "    </tr>\n",
       "    <tr>\n",
       "      <th>1</th>\n",
       "      <td>94000904</td>\n",
       "      <td>58</td>\n",
       "      <td>2</td>\n",
       "      <td>'3</td>\n",
       "      <td>True</td>\n",
       "      <td>False</td>\n",
       "    </tr>\n",
       "    <tr>\n",
       "      <th>2</th>\n",
       "      <td>104382041</td>\n",
       "      <td>155</td>\n",
       "      <td>3</td>\n",
       "      <td>'1</td>\n",
       "      <td>True</td>\n",
       "      <td>True</td>\n",
       "    </tr>\n",
       "    <tr>\n",
       "      <th>3</th>\n",
       "      <td>97791792</td>\n",
       "      <td>89</td>\n",
       "      <td>2</td>\n",
       "      <td>'3</td>\n",
       "      <td>True</td>\n",
       "      <td>False</td>\n",
       "    </tr>\n",
       "    <tr>\n",
       "      <th>4</th>\n",
       "      <td>104397583</td>\n",
       "      <td>70</td>\n",
       "      <td>2</td>\n",
       "      <td>'1</td>\n",
       "      <td>True</td>\n",
       "      <td>True</td>\n",
       "    </tr>\n",
       "  </tbody>\n",
       "</table>\n",
       "</div>"
      ],
      "text/plain": [
       "          id size_in_m2 n_bedrooms floor  exterior   lift\n",
       "0  103375204         80          2    '3      True   True\n",
       "1   94000904         58          2    '3      True  False\n",
       "2  104382041        155          3    '1      True   True\n",
       "3   97791792         89          2    '3      True  False\n",
       "4  104397583         70          2    '1      True   True"
      ]
     },
     "execution_count": 45,
     "metadata": {},
     "output_type": "execute_result"
    }
   ],
   "source": [
    "info_feat.head()"
   ]
  },
  {
   "cell_type": "markdown",
   "id": "0e007a56",
   "metadata": {},
   "source": [
    "Next, we'll merge the two dataframes to combine the relevant data."
   ]
  },
  {
   "cell_type": "code",
   "execution_count": 46,
   "id": "a1657ca2",
   "metadata": {},
   "outputs": [
    {
     "data": {
      "text/html": [
       "<div>\n",
       "<style scoped>\n",
       "    .dataframe tbody tr th:only-of-type {\n",
       "        vertical-align: middle;\n",
       "    }\n",
       "\n",
       "    .dataframe tbody tr th {\n",
       "        vertical-align: top;\n",
       "    }\n",
       "\n",
       "    .dataframe thead th {\n",
       "        text-align: right;\n",
       "    }\n",
       "</style>\n",
       "<table border=\"1\" class=\"dataframe\">\n",
       "  <thead>\n",
       "    <tr style=\"text-align: right;\">\n",
       "      <th></th>\n",
       "      <th>size_in_m2</th>\n",
       "      <th>n_bedrooms</th>\n",
       "      <th>floor</th>\n",
       "      <th>exterior</th>\n",
       "      <th>lift</th>\n",
       "    </tr>\n",
       "    <tr>\n",
       "      <th>id</th>\n",
       "      <th></th>\n",
       "      <th></th>\n",
       "      <th></th>\n",
       "      <th></th>\n",
       "      <th></th>\n",
       "    </tr>\n",
       "  </thead>\n",
       "  <tbody>\n",
       "    <tr>\n",
       "      <th>103375204</th>\n",
       "      <td>80</td>\n",
       "      <td>2</td>\n",
       "      <td>'3</td>\n",
       "      <td>True</td>\n",
       "      <td>True</td>\n",
       "    </tr>\n",
       "    <tr>\n",
       "      <th>94000904</th>\n",
       "      <td>58</td>\n",
       "      <td>2</td>\n",
       "      <td>'3</td>\n",
       "      <td>True</td>\n",
       "      <td>False</td>\n",
       "    </tr>\n",
       "    <tr>\n",
       "      <th>104382041</th>\n",
       "      <td>155</td>\n",
       "      <td>3</td>\n",
       "      <td>'1</td>\n",
       "      <td>True</td>\n",
       "      <td>True</td>\n",
       "    </tr>\n",
       "    <tr>\n",
       "      <th>97791792</th>\n",
       "      <td>89</td>\n",
       "      <td>2</td>\n",
       "      <td>'3</td>\n",
       "      <td>True</td>\n",
       "      <td>False</td>\n",
       "    </tr>\n",
       "    <tr>\n",
       "      <th>104397583</th>\n",
       "      <td>70</td>\n",
       "      <td>2</td>\n",
       "      <td>'1</td>\n",
       "      <td>True</td>\n",
       "      <td>True</td>\n",
       "    </tr>\n",
       "    <tr>\n",
       "      <th>...</th>\n",
       "      <td>...</td>\n",
       "      <td>...</td>\n",
       "      <td>...</td>\n",
       "      <td>...</td>\n",
       "      <td>...</td>\n",
       "    </tr>\n",
       "    <tr>\n",
       "      <th>104095205</th>\n",
       "      <td>63</td>\n",
       "      <td>2</td>\n",
       "      <td>'2</td>\n",
       "      <td>True</td>\n",
       "      <td>True</td>\n",
       "    </tr>\n",
       "    <tr>\n",
       "      <th>101548114</th>\n",
       "      <td>93</td>\n",
       "      <td>3</td>\n",
       "      <td>'4</td>\n",
       "      <td>True</td>\n",
       "      <td>True</td>\n",
       "    </tr>\n",
       "    <tr>\n",
       "      <th>104334424</th>\n",
       "      <td>46</td>\n",
       "      <td>2</td>\n",
       "      <td>'2</td>\n",
       "      <td>False</td>\n",
       "      <td>False</td>\n",
       "    </tr>\n",
       "    <tr>\n",
       "      <th>103060431</th>\n",
       "      <td>67</td>\n",
       "      <td>1</td>\n",
       "      <td>'5</td>\n",
       "      <td>False</td>\n",
       "      <td>True</td>\n",
       "    </tr>\n",
       "    <tr>\n",
       "      <th>103758599</th>\n",
       "      <td>81</td>\n",
       "      <td>4</td>\n",
       "      <td>'2</td>\n",
       "      <td>True</td>\n",
       "      <td>True</td>\n",
       "    </tr>\n",
       "  </tbody>\n",
       "</table>\n",
       "<p>10389 rows × 5 columns</p>\n",
       "</div>"
      ],
      "text/plain": [
       "          size_in_m2 n_bedrooms floor  exterior   lift\n",
       "id                                                    \n",
       "103375204         80          2    '3      True   True\n",
       "94000904          58          2    '3      True  False\n",
       "104382041        155          3    '1      True   True\n",
       "97791792          89          2    '3      True  False\n",
       "104397583         70          2    '1      True   True\n",
       "...              ...        ...   ...       ...    ...\n",
       "104095205         63          2    '2      True   True\n",
       "101548114         93          3    '4      True   True\n",
       "104334424         46          2    '2     False  False\n",
       "103060431         67          1    '5     False   True\n",
       "103758599         81          4    '2      True   True\n",
       "\n",
       "[10389 rows x 5 columns]"
      ]
     },
     "execution_count": 46,
     "metadata": {},
     "output_type": "execute_result"
    }
   ],
   "source": [
    "raw_data.set_index('id')\n",
    "info_feat.set_index('id')"
   ]
  },
  {
   "cell_type": "code",
   "execution_count": 47,
   "id": "9b9bfb94",
   "metadata": {},
   "outputs": [],
   "source": [
    "raw_data = raw_data.merge(info_feat, left_on ='id', right_on ='id')"
   ]
  },
  {
   "cell_type": "markdown",
   "id": "c470145e",
   "metadata": {},
   "source": [
    "### Features"
   ]
  },
  {
   "cell_type": "markdown",
   "id": "7d083bf6",
   "metadata": {},
   "source": [
    "I'll now focus on the 'Features' column."
   ]
  },
  {
   "cell_type": "code",
   "execution_count": 48,
   "id": "3bb79000",
   "metadata": {},
   "outputs": [],
   "source": [
    "featuring = raw_data[[\"id\", \"features\"]]"
   ]
  },
  {
   "cell_type": "code",
   "execution_count": 49,
   "id": "85c52a96",
   "metadata": {},
   "outputs": [
    {
     "data": {
      "text/html": [
       "<div>\n",
       "<style scoped>\n",
       "    .dataframe tbody tr th:only-of-type {\n",
       "        vertical-align: middle;\n",
       "    }\n",
       "\n",
       "    .dataframe tbody tr th {\n",
       "        vertical-align: top;\n",
       "    }\n",
       "\n",
       "    .dataframe thead th {\n",
       "        text-align: right;\n",
       "    }\n",
       "</style>\n",
       "<table border=\"1\" class=\"dataframe\">\n",
       "  <thead>\n",
       "    <tr style=\"text-align: right;\">\n",
       "      <th></th>\n",
       "      <th>id</th>\n",
       "      <th>features</th>\n",
       "    </tr>\n",
       "  </thead>\n",
       "  <tbody>\n",
       "    <tr>\n",
       "      <th>0</th>\n",
       "      <td>103375204</td>\n",
       "      <td>[['80 m² built', '2 bedrooms', '1 bathroom', 'Terrace and balcony', 'Second hand/good condition', 'Built in 1912', 'Central heating'], ['3rd floor exterior', 'With lift'], ['Air conditioning'], ['Consumption:91 kWh/m² year', 'Emissions:17 kg CO2/m² year']]</td>\n",
       "    </tr>\n",
       "    <tr>\n",
       "      <th>1</th>\n",
       "      <td>94000904</td>\n",
       "      <td>[['58 m² built, 49 m² floor area', '2 bedrooms', '1 bathroom', 'Balcony', 'Second hand/good condition', 'Orientation South, East', 'Built in 1850', 'No heating'], ['3rd floor exterior', 'No lift'], ['Consumption:311 kWh/m² year', 'Emissions:65 kg CO2/m² year']]</td>\n",
       "    </tr>\n",
       "    <tr>\n",
       "      <th>2</th>\n",
       "      <td>104382041</td>\n",
       "      <td>[['155 m² built, 89 m² floor area', '3 bedrooms', '2 bathrooms', 'Terrace and balcony', 'Additional parking space for € 30,000', 'Second hand/good condition', 'Built in 2003', 'Central heating'], ['1st floor exterior', 'With lift'], ['Air conditioning'], ['In process']]</td>\n",
       "    </tr>\n",
       "    <tr>\n",
       "      <th>3</th>\n",
       "      <td>97791792</td>\n",
       "      <td>[['89 m² built, 80 m² floor area', '2 bedrooms', '2 bathrooms', 'Balcony', 'Second hand/good condition', 'Fitted wardrobes', 'Orientation North, South, East, West', 'Built in 1920', 'Individual heating: Electric'], ['3rd floor exterior', 'No lift'], ['Air conditioning'], ['Consumption:15 kWh/m² year', 'Emissions:71 kg CO2/m² year']]</td>\n",
       "    </tr>\n",
       "    <tr>\n",
       "      <th>4</th>\n",
       "      <td>104397583</td>\n",
       "      <td>[['70 m² built', '2 bedrooms', '2 bathrooms', 'Balcony', 'Second hand/good condition', 'Orientation North, East', 'Built in 1900', 'No heating'], ['1st floor exterior', 'With lift'], ['Air conditioning'], ['Consumption:90 kWh/m² year', 'Emissions:190 kg CO2/m² year']]</td>\n",
       "    </tr>\n",
       "  </tbody>\n",
       "</table>\n",
       "</div>"
      ],
      "text/plain": [
       "          id  \\\n",
       "0  103375204   \n",
       "1   94000904   \n",
       "2  104382041   \n",
       "3   97791792   \n",
       "4  104397583   \n",
       "\n",
       "                                                                                                                                                                                                                                                                                                                                         features  \n",
       "0                                                                                [['80 m² built', '2 bedrooms', '1 bathroom', 'Terrace and balcony', 'Second hand/good condition', 'Built in 1912', 'Central heating'], ['3rd floor exterior', 'With lift'], ['Air conditioning'], ['Consumption:91 kWh/m² year', 'Emissions:17 kg CO2/m² year']]  \n",
       "1                                                                           [['58 m² built, 49 m² floor area', '2 bedrooms', '1 bathroom', 'Balcony', 'Second hand/good condition', 'Orientation South, East', 'Built in 1850', 'No heating'], ['3rd floor exterior', 'No lift'], ['Consumption:311 kWh/m² year', 'Emissions:65 kg CO2/m² year']]  \n",
       "2                                                                  [['155 m² built, 89 m² floor area', '3 bedrooms', '2 bathrooms', 'Terrace and balcony', 'Additional parking space for € 30,000', 'Second hand/good condition', 'Built in 2003', 'Central heating'], ['1st floor exterior', 'With lift'], ['Air conditioning'], ['In process']]  \n",
       "3  [['89 m² built, 80 m² floor area', '2 bedrooms', '2 bathrooms', 'Balcony', 'Second hand/good condition', 'Fitted wardrobes', 'Orientation North, South, East, West', 'Built in 1920', 'Individual heating: Electric'], ['3rd floor exterior', 'No lift'], ['Air conditioning'], ['Consumption:15 kWh/m² year', 'Emissions:71 kg CO2/m² year']]  \n",
       "4                                                                    [['70 m² built', '2 bedrooms', '2 bathrooms', 'Balcony', 'Second hand/good condition', 'Orientation North, East', 'Built in 1900', 'No heating'], ['1st floor exterior', 'With lift'], ['Air conditioning'], ['Consumption:90 kWh/m² year', 'Emissions:190 kg CO2/m² year']]  "
      ]
     },
     "execution_count": 49,
     "metadata": {},
     "output_type": "execute_result"
    }
   ],
   "source": [
    "featuring.head()"
   ]
  },
  {
   "cell_type": "code",
   "execution_count": 50,
   "id": "2d058fd8",
   "metadata": {},
   "outputs": [],
   "source": [
    "feats = featuring[\"features\"].to_list()"
   ]
  },
  {
   "cell_type": "code",
   "execution_count": 51,
   "id": "2121a921",
   "metadata": {},
   "outputs": [
    {
     "data": {
      "text/plain": [
       "\"[['110 m² built, 105 m² floor area', '2 bedrooms', '2 bathrooms', 'Terrace', 'Second hand/good condition', 'Fitted wardrobes', 'Built in 1850', 'Individual heating'], ['1st floor exterior', 'No lift'], ['Air conditioning', 'Green areas'], ['Consumption:162 kWh/m² year', 'Emissions:33 kg CO2/m² year']]\""
      ]
     },
     "execution_count": 51,
     "metadata": {},
     "output_type": "execute_result"
    }
   ],
   "source": [
    "feats[11]"
   ]
  },
  {
   "cell_type": "code",
   "execution_count": 52,
   "id": "1a942b74",
   "metadata": {},
   "outputs": [],
   "source": [
    "dirty_data = pd.DataFrame(feats)\n",
    "dirty_data.insert(0,\"id\",raw_data[\"id\"])"
   ]
  },
  {
   "cell_type": "code",
   "execution_count": 53,
   "id": "d016b0cc",
   "metadata": {},
   "outputs": [
    {
     "data": {
      "text/html": [
       "<div>\n",
       "<style scoped>\n",
       "    .dataframe tbody tr th:only-of-type {\n",
       "        vertical-align: middle;\n",
       "    }\n",
       "\n",
       "    .dataframe tbody tr th {\n",
       "        vertical-align: top;\n",
       "    }\n",
       "\n",
       "    .dataframe thead th {\n",
       "        text-align: right;\n",
       "    }\n",
       "</style>\n",
       "<table border=\"1\" class=\"dataframe\">\n",
       "  <thead>\n",
       "    <tr style=\"text-align: right;\">\n",
       "      <th></th>\n",
       "      <th>id</th>\n",
       "      <th>0</th>\n",
       "    </tr>\n",
       "  </thead>\n",
       "  <tbody>\n",
       "    <tr>\n",
       "      <th>0</th>\n",
       "      <td>103375204</td>\n",
       "      <td>[['80 m² built', '2 bedrooms', '1 bathroom', 'Terrace and balcony', 'Second hand/good condition', 'Built in 1912', 'Central heating'], ['3rd floor exterior', 'With lift'], ['Air conditioning'], ['Consumption:91 kWh/m² year', 'Emissions:17 kg CO2/m² year']]</td>\n",
       "    </tr>\n",
       "    <tr>\n",
       "      <th>1</th>\n",
       "      <td>94000904</td>\n",
       "      <td>[['58 m² built, 49 m² floor area', '2 bedrooms', '1 bathroom', 'Balcony', 'Second hand/good condition', 'Orientation South, East', 'Built in 1850', 'No heating'], ['3rd floor exterior', 'No lift'], ['Consumption:311 kWh/m² year', 'Emissions:65 kg CO2/m² year']]</td>\n",
       "    </tr>\n",
       "    <tr>\n",
       "      <th>2</th>\n",
       "      <td>104382041</td>\n",
       "      <td>[['155 m² built, 89 m² floor area', '3 bedrooms', '2 bathrooms', 'Terrace and balcony', 'Additional parking space for € 30,000', 'Second hand/good condition', 'Built in 2003', 'Central heating'], ['1st floor exterior', 'With lift'], ['Air conditioning'], ['In process']]</td>\n",
       "    </tr>\n",
       "    <tr>\n",
       "      <th>3</th>\n",
       "      <td>97791792</td>\n",
       "      <td>[['89 m² built, 80 m² floor area', '2 bedrooms', '2 bathrooms', 'Balcony', 'Second hand/good condition', 'Fitted wardrobes', 'Orientation North, South, East, West', 'Built in 1920', 'Individual heating: Electric'], ['3rd floor exterior', 'No lift'], ['Air conditioning'], ['Consumption:15 kWh/m² year', 'Emissions:71 kg CO2/m² year']]</td>\n",
       "    </tr>\n",
       "    <tr>\n",
       "      <th>4</th>\n",
       "      <td>104397583</td>\n",
       "      <td>[['70 m² built', '2 bedrooms', '2 bathrooms', 'Balcony', 'Second hand/good condition', 'Orientation North, East', 'Built in 1900', 'No heating'], ['1st floor exterior', 'With lift'], ['Air conditioning'], ['Consumption:90 kWh/m² year', 'Emissions:190 kg CO2/m² year']]</td>\n",
       "    </tr>\n",
       "  </tbody>\n",
       "</table>\n",
       "</div>"
      ],
      "text/plain": [
       "          id  \\\n",
       "0  103375204   \n",
       "1   94000904   \n",
       "2  104382041   \n",
       "3   97791792   \n",
       "4  104397583   \n",
       "\n",
       "                                                                                                                                                                                                                                                                                                                                                0  \n",
       "0                                                                                [['80 m² built', '2 bedrooms', '1 bathroom', 'Terrace and balcony', 'Second hand/good condition', 'Built in 1912', 'Central heating'], ['3rd floor exterior', 'With lift'], ['Air conditioning'], ['Consumption:91 kWh/m² year', 'Emissions:17 kg CO2/m² year']]  \n",
       "1                                                                           [['58 m² built, 49 m² floor area', '2 bedrooms', '1 bathroom', 'Balcony', 'Second hand/good condition', 'Orientation South, East', 'Built in 1850', 'No heating'], ['3rd floor exterior', 'No lift'], ['Consumption:311 kWh/m² year', 'Emissions:65 kg CO2/m² year']]  \n",
       "2                                                                  [['155 m² built, 89 m² floor area', '3 bedrooms', '2 bathrooms', 'Terrace and balcony', 'Additional parking space for € 30,000', 'Second hand/good condition', 'Built in 2003', 'Central heating'], ['1st floor exterior', 'With lift'], ['Air conditioning'], ['In process']]  \n",
       "3  [['89 m² built, 80 m² floor area', '2 bedrooms', '2 bathrooms', 'Balcony', 'Second hand/good condition', 'Fitted wardrobes', 'Orientation North, South, East, West', 'Built in 1920', 'Individual heating: Electric'], ['3rd floor exterior', 'No lift'], ['Air conditioning'], ['Consumption:15 kWh/m² year', 'Emissions:71 kg CO2/m² year']]  \n",
       "4                                                                    [['70 m² built', '2 bedrooms', '2 bathrooms', 'Balcony', 'Second hand/good condition', 'Orientation North, East', 'Built in 1900', 'No heating'], ['1st floor exterior', 'With lift'], ['Air conditioning'], ['Consumption:90 kWh/m² year', 'Emissions:190 kg CO2/m² year']]  "
      ]
     },
     "execution_count": 53,
     "metadata": {},
     "output_type": "execute_result"
    }
   ],
   "source": [
    "dirty_data.head()"
   ]
  },
  {
   "cell_type": "markdown",
   "id": "9c1eb038",
   "metadata": {},
   "source": [
    "That's a substantial amount of information. Let's start by working on the boolean data first"
   ]
  },
  {
   "cell_type": "code",
   "execution_count": 54,
   "id": "892d25f3",
   "metadata": {},
   "outputs": [],
   "source": [
    "dirty_data = dirty_data.rename(columns={0:\"raw_row\"})"
   ]
  },
  {
   "cell_type": "code",
   "execution_count": 55,
   "id": "13c8eb2c",
   "metadata": {},
   "outputs": [
    {
     "data": {
      "text/html": [
       "<div>\n",
       "<style scoped>\n",
       "    .dataframe tbody tr th:only-of-type {\n",
       "        vertical-align: middle;\n",
       "    }\n",
       "\n",
       "    .dataframe tbody tr th {\n",
       "        vertical-align: top;\n",
       "    }\n",
       "\n",
       "    .dataframe thead th {\n",
       "        text-align: right;\n",
       "    }\n",
       "</style>\n",
       "<table border=\"1\" class=\"dataframe\">\n",
       "  <thead>\n",
       "    <tr style=\"text-align: right;\">\n",
       "      <th></th>\n",
       "      <th>id</th>\n",
       "      <th>raw_row</th>\n",
       "    </tr>\n",
       "  </thead>\n",
       "  <tbody>\n",
       "    <tr>\n",
       "      <th>10911</th>\n",
       "      <td>102572257</td>\n",
       "      <td>[['140 m² built', '4 bedrooms', '2 bathrooms', 'Terrace', 'Second hand/good condition', 'Orientation East'], ['1st floor exterior', 'With lift'], ['Air conditioning'], ['In process']]</td>\n",
       "    </tr>\n",
       "    <tr>\n",
       "      <th>10912</th>\n",
       "      <td>96565019</td>\n",
       "      <td>[['60 m² built', '2 bedrooms', '1 bathroom', 'Second hand/good condition'], ['Mezzanine', 'No lift'], ['In process']]</td>\n",
       "    </tr>\n",
       "    <tr>\n",
       "      <th>10913</th>\n",
       "      <td>99099350</td>\n",
       "      <td>[['45 m² built', '3 bedrooms', '1 bathroom', 'Second hand/good condition'], ['Ground floor', 'No lift'], ['In process']]</td>\n",
       "    </tr>\n",
       "    <tr>\n",
       "      <th>10914</th>\n",
       "      <td>104318481</td>\n",
       "      <td>[['78 m² built', '3 bedrooms', '1 bathroom', 'Second hand/good condition'], ['13th floor', 'No lift'], ['In process']]</td>\n",
       "    </tr>\n",
       "    <tr>\n",
       "      <th>10915</th>\n",
       "      <td>92393653</td>\n",
       "      <td>[['67 m² built, 60 m² floor area', '2 bedrooms', '1 bathroom', 'Terrace and balcony', 'Second hand/good condition'], ['2nd floor exterior', 'No lift'], ['In process']]</td>\n",
       "    </tr>\n",
       "    <tr>\n",
       "      <th>10916</th>\n",
       "      <td>104396352</td>\n",
       "      <td>[['76 m² built', '4 bedrooms', '1 bathroom', 'Second hand/good condition', 'Built in 1951', 'Individual heating: Air conditioning/Heat pump'], ['3rd floor interior', 'With lift'], ['Air conditioning'], ['In process']]</td>\n",
       "    </tr>\n",
       "    <tr>\n",
       "      <th>10917</th>\n",
       "      <td>103207201</td>\n",
       "      <td>[['109 m² built, 90 m² floor area', '4 bedrooms', '2 bathrooms', 'Balcony', 'Parking space included in the price', 'Second hand/good condition', 'Built in 1987', 'Individual heating'], ['4th floor exterior', 'With lift'], ['Swimming pool', 'Green areas'], ['Consumption:218 kWh/m² year', 'Emissions:46 kg CO2/m² year']]</td>\n",
       "    </tr>\n",
       "    <tr>\n",
       "      <th>10918</th>\n",
       "      <td>103639400</td>\n",
       "      <td>[['83 m² built, 75 m² floor area', '3 bedrooms', '1 bathroom', 'Second hand/good condition', 'Orientation South', 'Built in 1955', 'No heating'], ['5th floor exterior', 'With lift'], ['Consumption:', 'Emissions:']]</td>\n",
       "    </tr>\n",
       "    <tr>\n",
       "      <th>10919</th>\n",
       "      <td>103712034</td>\n",
       "      <td>[['180 m² built, 136 m² floor area', '4 bedrooms', '3 bathrooms', 'Terrace', 'Second hand/good condition', 'Fitted wardrobes', 'Storeroom', 'Orientation South, East', 'Built in 1997'], ['Ground floor exterior', 'No lift'], ['Green areas'], ['Consumption:', 'Emissions:']]</td>\n",
       "    </tr>\n",
       "    <tr>\n",
       "      <th>10920</th>\n",
       "      <td>104332147</td>\n",
       "      <td>[['House', '418 m² built', '5 bedrooms', '4 bathrooms', 'Terrace and balcony', 'Parking space included in the price', 'Second hand/good condition', 'Fitted wardrobes', 'Orientation South', 'Built in 1999'], ['Air conditioning', 'Swimming pool'], ['Consumption:65 kWh/m² year', 'Emissions:11 kg CO2/m² year']]</td>\n",
       "    </tr>\n",
       "    <tr>\n",
       "      <th>10921</th>\n",
       "      <td>101032255</td>\n",
       "      <td>[['107 m² built, 98 m² floor area', '3 bedrooms', '2 bathrooms', 'Balcony', 'Second hand/needs renovating', 'Orientation South, East', 'Built in 1975', 'No heating'], ['1st floor exterior', 'No lift'], ['Consumption:373 kWh/m² year', 'Emissions:78 kg CO2/m² year']]</td>\n",
       "    </tr>\n",
       "    <tr>\n",
       "      <th>10922</th>\n",
       "      <td>101971605</td>\n",
       "      <td>[['132 m² built, 112 m² floor area', '5 bedrooms', '2 bathrooms', 'Second hand/needs renovating', 'Orientation North, South, East, West', 'Built in 1957'], ['5th floor exterior', 'With lift'], ['Air conditioning'], ['Consumption:91 kWh/m² year', 'Emissions:19 kg CO2/m² year']]</td>\n",
       "    </tr>\n",
       "    <tr>\n",
       "      <th>10923</th>\n",
       "      <td>103380317</td>\n",
       "      <td>[['87 m² built, 82 m² floor area', '3 bedrooms', '2 bathrooms', 'Balcony', 'Parking space included in the price', 'Second hand/good condition', 'Fitted wardrobes', 'Orientation South', 'Built in 2002', 'Individual heating: Natural gas'], ['2nd floor exterior', 'With lift'], ['Air conditioning'], ['Consumption:140 kWh/m² year', 'Emissions:29 kg CO2/m² year']]</td>\n",
       "    </tr>\n",
       "    <tr>\n",
       "      <th>10924</th>\n",
       "      <td>94306731</td>\n",
       "      <td>[['124 m² built', '3 bedrooms', '2 bathrooms', 'Terrace and balcony', 'Additional parking space for € 35,000', 'Second hand/good condition', 'Fitted wardrobes', 'Storeroom', 'Built in 2019', 'Individual heating: Air conditioning/Heat pump', 'Access and property adapted for people with reduced mobility'], ['13th floor exterior', 'With lift'], ['Air conditioning', 'Swimming pool'], ['Consumption:', 'Emissions:']]</td>\n",
       "    </tr>\n",
       "    <tr>\n",
       "      <th>10925</th>\n",
       "      <td>104305154</td>\n",
       "      <td>[['52 m² built', '3 bedrooms', '1 bathroom', 'Balcony', 'Second hand/good condition', 'Built in 1960'], ['5th floor exterior', 'No lift'], ['Consumption:999 kWh/m² year', 'Emissions:99 kg CO2/m² year']]</td>\n",
       "    </tr>\n",
       "    <tr>\n",
       "      <th>10926</th>\n",
       "      <td>103907758</td>\n",
       "      <td>[['64 m² built, 59 m² floor area', '3 bedrooms', '1 bathroom', 'Second hand/needs renovating', 'Built in 1962'], ['Ground floor interior', 'No lift'], ['Consumption:999 kWh/m² year', 'Emissions:99 kg CO2/m² year']]</td>\n",
       "    </tr>\n",
       "    <tr>\n",
       "      <th>10927</th>\n",
       "      <td>94108267</td>\n",
       "      <td>[['67 m² built, 55 m² floor area', '3 bedrooms', '1 bathroom', 'Second hand/good condition', 'Built in 1960', 'No heating'], ['4th floor exterior', 'No lift'], ['Consumption:191 kWh/m² year', 'Emissions:40 kg CO2/m² year']]</td>\n",
       "    </tr>\n",
       "    <tr>\n",
       "      <th>10928</th>\n",
       "      <td>104222090</td>\n",
       "      <td>[['54 m² built, 50 m² floor area', '2 bedrooms', '1 bathroom', 'Second hand/needs renovating', 'Orientation South', 'Built in 1961'], ['1st floor exterior', 'No lift'], ['In process']]</td>\n",
       "    </tr>\n",
       "    <tr>\n",
       "      <th>10929</th>\n",
       "      <td>104139704</td>\n",
       "      <td>[['156 m² built', '2 bedrooms', '1 bathroom', 'Terrace and balcony', 'Parking space included in the price', 'Second hand/good condition', 'Built in 2000'], ['10th floor exterior', 'With lift'], ['Air conditioning', 'Swimming pool'], ['In process']]</td>\n",
       "    </tr>\n",
       "    <tr>\n",
       "      <th>10930</th>\n",
       "      <td>103616938</td>\n",
       "      <td>[['80 m² built', '3 bedrooms', '1 bathroom', 'Balcony', 'Second hand/good condition', 'Orientation North, East, West'], ['10th floor exterior', 'With lift'], ['Air conditioning'], ['Consumption:231 kWh/m² year', 'Emissions:46 kg CO2/m² year']]</td>\n",
       "    </tr>\n",
       "    <tr>\n",
       "      <th>10931</th>\n",
       "      <td>101940416</td>\n",
       "      <td>[['54 m² built', '3 bedrooms', '1 bathroom', 'Second hand/good condition'], ['2nd floor', 'No lift'], ['Consumption:', 'Emissions:']]</td>\n",
       "    </tr>\n",
       "    <tr>\n",
       "      <th>10932</th>\n",
       "      <td>101240861</td>\n",
       "      <td>[['48 m² built', 'No bedroom', '1 bathroom', 'Second hand/good condition'], ['Consumption:', 'Emissions:']]</td>\n",
       "    </tr>\n",
       "    <tr>\n",
       "      <th>10933</th>\n",
       "      <td>102819714</td>\n",
       "      <td>[['57 m² built', '2 bedrooms', '1 bathroom', 'Second hand/good condition', 'Built in 1961'], ['1st floor exterior', 'No lift'], ['Air conditioning'], ['Consumption:254 kWh/m² year', 'Emissions:32 kg CO2/m² year']]</td>\n",
       "    </tr>\n",
       "    <tr>\n",
       "      <th>10934</th>\n",
       "      <td>103421919</td>\n",
       "      <td>[['75 m² built, 70 m² floor area', '2 bedrooms', '1 bathroom', 'Second hand/good condition', 'Fitted wardrobes', 'Individual heating'], ['6th floor exterior', 'With lift'], ['Air conditioning'], ['Consumption:', 'Emissions:']]</td>\n",
       "    </tr>\n",
       "    <tr>\n",
       "      <th>10935</th>\n",
       "      <td>102565756</td>\n",
       "      <td>[['175 m² built', '4 bedrooms', '3 bathrooms', 'Balcony', 'Second hand/needs renovating', 'Built in 1942', 'Individual heating: Natural gas'], ['3rd floor exterior', 'With lift'], ['Consumption:95 kWh/m² year']]</td>\n",
       "    </tr>\n",
       "    <tr>\n",
       "      <th>10936</th>\n",
       "      <td>103448998</td>\n",
       "      <td>[['280 m² built, 198 m² floor area', '6 bedrooms', '3 bathrooms', 'Terrace', 'Second hand/needs renovating', 'Orientation South', 'Individual heating: Natural gas'], ['5th floor exterior', 'With lift'], ['Consumption:77 kWh/m² year', 'Emissions:17 kg CO2/m² year']]</td>\n",
       "    </tr>\n",
       "    <tr>\n",
       "      <th>10937</th>\n",
       "      <td>103923671</td>\n",
       "      <td>[['168 m² built', '2 bedrooms', '2 bathrooms', 'Terrace', 'Parking space included in the price', 'Second hand/good condition', 'Storeroom', 'Orientation North, East, West', 'Built in 2016', 'Individual heating: Natural gas', 'Access and property adapted for people with reduced mobility'], ['3rd floor exterior', 'With lift'], ['Air conditioning', 'Swimming pool'], ['Consumption:47 kWh/m² year', 'Emissions:9 kg CO2/m² year']]</td>\n",
       "    </tr>\n",
       "    <tr>\n",
       "      <th>10938</th>\n",
       "      <td>104145792</td>\n",
       "      <td>[['63 m² built, 50 m² floor area', '1 bedroom', '1 bathroom', 'Second hand/good condition', 'Built in 1967', 'No heating'], ['1st floor exterior', 'With lift'], ['Air conditioning'], ['Consumption:356 kWh/m² year', 'Emissions:60 kg CO2/m² year']]</td>\n",
       "    </tr>\n",
       "    <tr>\n",
       "      <th>10939</th>\n",
       "      <td>104199194</td>\n",
       "      <td>[['84 m² built, 68 m² floor area', '3 bedrooms', '1 bathroom', 'Terrace', 'Second hand/good condition', 'Fitted wardrobes', 'Orientation North, South, East', 'Built in 1965', 'Individual heating: Natural gas', 'Access and property adapted for people with reduced mobility'], ['5th floor exterior', 'With lift'], ['Consumption:42 kWh/m² year', 'Emissions:27 kg CO2/m² year']]</td>\n",
       "    </tr>\n",
       "    <tr>\n",
       "      <th>10940</th>\n",
       "      <td>103772481</td>\n",
       "      <td>[['62 m² built, 56 m² floor area', '3 bedrooms', '1 bathroom', 'Balcony', 'Second hand/good condition', 'Orientation South, West', 'Built in 1970', 'No heating', 'Only outdoor access is adapted for people with reduced mobility'], ['4th floor interior', 'With lift'], ['Air conditioning'], ['Consumption:', 'Emissions:']]</td>\n",
       "    </tr>\n",
       "    <tr>\n",
       "      <th>10941</th>\n",
       "      <td>104278013</td>\n",
       "      <td>[['71 m² built, 58 m² floor area', '2 bedrooms', '1 bathroom', 'Second hand/good condition', 'Fitted wardrobes', 'Orientation North, West', 'Built in 1978', 'No heating'], ['Mezzanine exterior', 'With lift'], ['Consumption:187 kWh/m² year', 'Emissions:39 kg CO2/m² year']]</td>\n",
       "    </tr>\n",
       "    <tr>\n",
       "      <th>10942</th>\n",
       "      <td>104355316</td>\n",
       "      <td>[['55 m² built, 50 m² floor area', '3 bedrooms', '1 bathroom', 'Terrace and balcony', 'Second hand/needs renovating', 'Built in 1928', 'Individual heating: Natural gas'], ['1st floor exterior', 'With lift'], ['Consumption:219 kWh/m² year', 'Emissions:46 kg CO2/m² year']]</td>\n",
       "    </tr>\n",
       "    <tr>\n",
       "      <th>10943</th>\n",
       "      <td>103416294</td>\n",
       "      <td>[['225 m² built, 190 m² floor area', '3 bedrooms', '3 bathrooms', 'Terrace and balcony', 'Parking space included in the price', 'Second hand/good condition', 'Fitted wardrobes', 'Storeroom', 'Built in 1980', 'Individual heating: Natural gas', 'Only outdoor access is adapted for people with reduced mobility'], ['2nd floor exterior', 'With lift'], ['Air conditioning'], ['Consumption:118,81 kWh/m² year', 'Emissions:24,35 kg CO2/m² year']]</td>\n",
       "    </tr>\n",
       "    <tr>\n",
       "      <th>10944</th>\n",
       "      <td>104293372</td>\n",
       "      <td>[['115 m² built', '3 bedrooms', '2 bathrooms', 'Second hand/good condition', 'Storeroom', 'Orientation South', 'Individual heating: Natural gas'], ['2nd floor exterior', 'With lift'], ['Air conditioning'], ['Consumption:', 'Emissions:']]</td>\n",
       "    </tr>\n",
       "    <tr>\n",
       "      <th>10945</th>\n",
       "      <td>103921581</td>\n",
       "      <td>[['81 m² built, 70 m² floor area', '3 bedrooms', '1 bathroom', 'Balcony', 'Second hand/good condition', 'Built in 2007'], ['3rd floor exterior', 'With lift'], ['Consumption:', 'Emissions:']]</td>\n",
       "    </tr>\n",
       "    <tr>\n",
       "      <th>10946</th>\n",
       "      <td>103987638</td>\n",
       "      <td>[['45 m² built, 39 m² floor area', '2 bedrooms', '1 bathroom', 'Second hand/good condition', 'Orientation East', 'Built in 1953', 'Individual heating: Electric'], ['1st floor exterior', 'No lift'], ['Consumption:162 kWh/m² year', 'Emissions:34 kg CO2/m² year']]</td>\n",
       "    </tr>\n",
       "    <tr>\n",
       "      <th>10947</th>\n",
       "      <td>104095205</td>\n",
       "      <td>[['63 m² built, 55 m² floor area', '2 bedrooms', '1 bathroom', 'Second hand/needs renovating', 'Orientation North, West', 'Built in 2008', 'Individual heating: Natural gas'], ['2nd floor exterior', 'With lift'], ['Air conditioning'], ['Consumption:152 kWh/m² year', 'Emissions:31 kg CO2/m² year']]</td>\n",
       "    </tr>\n",
       "    <tr>\n",
       "      <th>10948</th>\n",
       "      <td>104334424</td>\n",
       "      <td>[['46 m² built, 40 m² floor area', '2 bedrooms', '1 bathroom', 'Balcony', 'Second hand/good condition', 'Built in 1900', 'No heating'], ['2nd floor', 'No lift'], ['Consumption:165 kWh/m² year', 'Emissions:31 kg CO2/m² year']]</td>\n",
       "    </tr>\n",
       "    <tr>\n",
       "      <th>10949</th>\n",
       "      <td>103060431</td>\n",
       "      <td>[['67 m² built', '1 bedroom', '1 bathroom', 'Second hand/good condition', 'Fitted wardrobes', 'Individual heating'], ['5th floor interior', 'With lift'], ['Air conditioning'], ['In process']]</td>\n",
       "    </tr>\n",
       "    <tr>\n",
       "      <th>10950</th>\n",
       "      <td>103758599</td>\n",
       "      <td>[['81 m² built', '4 bedrooms', '1 bathroom', 'Balcony', 'Second hand/good condition', 'Fitted wardrobes', 'No heating'], ['2nd floor exterior', 'With lift'], ['Consumption:123 kWh/m² year', 'Emissions:234 kg CO2/m² year']]</td>\n",
       "    </tr>\n",
       "  </tbody>\n",
       "</table>\n",
       "</div>"
      ],
      "text/plain": [
       "              id  \\\n",
       "10911  102572257   \n",
       "10912   96565019   \n",
       "10913   99099350   \n",
       "10914  104318481   \n",
       "10915   92393653   \n",
       "10916  104396352   \n",
       "10917  103207201   \n",
       "10918  103639400   \n",
       "10919  103712034   \n",
       "10920  104332147   \n",
       "10921  101032255   \n",
       "10922  101971605   \n",
       "10923  103380317   \n",
       "10924   94306731   \n",
       "10925  104305154   \n",
       "10926  103907758   \n",
       "10927   94108267   \n",
       "10928  104222090   \n",
       "10929  104139704   \n",
       "10930  103616938   \n",
       "10931  101940416   \n",
       "10932  101240861   \n",
       "10933  102819714   \n",
       "10934  103421919   \n",
       "10935  102565756   \n",
       "10936  103448998   \n",
       "10937  103923671   \n",
       "10938  104145792   \n",
       "10939  104199194   \n",
       "10940  103772481   \n",
       "10941  104278013   \n",
       "10942  104355316   \n",
       "10943  103416294   \n",
       "10944  104293372   \n",
       "10945  103921581   \n",
       "10946  103987638   \n",
       "10947  104095205   \n",
       "10948  104334424   \n",
       "10949  103060431   \n",
       "10950  103758599   \n",
       "\n",
       "                                                                                                                                                                                                                                                                                                                                                                                                                                                       raw_row  \n",
       "10911                                                                                                                                                                                                                                                                  [['140 m² built', '4 bedrooms', '2 bathrooms', 'Terrace', 'Second hand/good condition', 'Orientation East'], ['1st floor exterior', 'With lift'], ['Air conditioning'], ['In process']]  \n",
       "10912                                                                                                                                                                                                                                                                                                                                    [['60 m² built', '2 bedrooms', '1 bathroom', 'Second hand/good condition'], ['Mezzanine', 'No lift'], ['In process']]  \n",
       "10913                                                                                                                                                                                                                                                                                                                                 [['45 m² built', '3 bedrooms', '1 bathroom', 'Second hand/good condition'], ['Ground floor', 'No lift'], ['In process']]  \n",
       "10914                                                                                                                                                                                                                                                                                                                                   [['78 m² built', '3 bedrooms', '1 bathroom', 'Second hand/good condition'], ['13th floor', 'No lift'], ['In process']]  \n",
       "10915                                                                                                                                                                                                                                                                                  [['67 m² built, 60 m² floor area', '2 bedrooms', '1 bathroom', 'Terrace and balcony', 'Second hand/good condition'], ['2nd floor exterior', 'No lift'], ['In process']]  \n",
       "10916                                                                                                                                                                                                                                [['76 m² built', '4 bedrooms', '1 bathroom', 'Second hand/good condition', 'Built in 1951', 'Individual heating: Air conditioning/Heat pump'], ['3rd floor interior', 'With lift'], ['Air conditioning'], ['In process']]  \n",
       "10917                                                                                                                          [['109 m² built, 90 m² floor area', '4 bedrooms', '2 bathrooms', 'Balcony', 'Parking space included in the price', 'Second hand/good condition', 'Built in 1987', 'Individual heating'], ['4th floor exterior', 'With lift'], ['Swimming pool', 'Green areas'], ['Consumption:218 kWh/m² year', 'Emissions:46 kg CO2/m² year']]  \n",
       "10918                                                                                                                                                                                                                                   [['83 m² built, 75 m² floor area', '3 bedrooms', '1 bathroom', 'Second hand/good condition', 'Orientation South', 'Built in 1955', 'No heating'], ['5th floor exterior', 'With lift'], ['Consumption:', 'Emissions:']]  \n",
       "10919                                                                                                                                                                          [['180 m² built, 136 m² floor area', '4 bedrooms', '3 bathrooms', 'Terrace', 'Second hand/good condition', 'Fitted wardrobes', 'Storeroom', 'Orientation South, East', 'Built in 1997'], ['Ground floor exterior', 'No lift'], ['Green areas'], ['Consumption:', 'Emissions:']]  \n",
       "10920                                                                                                                                     [['House', '418 m² built', '5 bedrooms', '4 bathrooms', 'Terrace and balcony', 'Parking space included in the price', 'Second hand/good condition', 'Fitted wardrobes', 'Orientation South', 'Built in 1999'], ['Air conditioning', 'Swimming pool'], ['Consumption:65 kWh/m² year', 'Emissions:11 kg CO2/m² year']]  \n",
       "10921                                                                                                                                                                                [['107 m² built, 98 m² floor area', '3 bedrooms', '2 bathrooms', 'Balcony', 'Second hand/needs renovating', 'Orientation South, East', 'Built in 1975', 'No heating'], ['1st floor exterior', 'No lift'], ['Consumption:373 kWh/m² year', 'Emissions:78 kg CO2/m² year']]  \n",
       "10922                                                                                                                                                                    [['132 m² built, 112 m² floor area', '5 bedrooms', '2 bathrooms', 'Second hand/needs renovating', 'Orientation North, South, East, West', 'Built in 1957'], ['5th floor exterior', 'With lift'], ['Air conditioning'], ['Consumption:91 kWh/m² year', 'Emissions:19 kg CO2/m² year']]  \n",
       "10923                                                                                 [['87 m² built, 82 m² floor area', '3 bedrooms', '2 bathrooms', 'Balcony', 'Parking space included in the price', 'Second hand/good condition', 'Fitted wardrobes', 'Orientation South', 'Built in 2002', 'Individual heating: Natural gas'], ['2nd floor exterior', 'With lift'], ['Air conditioning'], ['Consumption:140 kWh/m² year', 'Emissions:29 kg CO2/m² year']]  \n",
       "10924                           [['124 m² built', '3 bedrooms', '2 bathrooms', 'Terrace and balcony', 'Additional parking space for € 35,000', 'Second hand/good condition', 'Fitted wardrobes', 'Storeroom', 'Built in 2019', 'Individual heating: Air conditioning/Heat pump', 'Access and property adapted for people with reduced mobility'], ['13th floor exterior', 'With lift'], ['Air conditioning', 'Swimming pool'], ['Consumption:', 'Emissions:']]  \n",
       "10925                                                                                                                                                                                                                                               [['52 m² built', '3 bedrooms', '1 bathroom', 'Balcony', 'Second hand/good condition', 'Built in 1960'], ['5th floor exterior', 'No lift'], ['Consumption:999 kWh/m² year', 'Emissions:99 kg CO2/m² year']]  \n",
       "10926                                                                                                                                                                                                                                   [['64 m² built, 59 m² floor area', '3 bedrooms', '1 bathroom', 'Second hand/needs renovating', 'Built in 1962'], ['Ground floor interior', 'No lift'], ['Consumption:999 kWh/m² year', 'Emissions:99 kg CO2/m² year']]  \n",
       "10927                                                                                                                                                                                                                          [['67 m² built, 55 m² floor area', '3 bedrooms', '1 bathroom', 'Second hand/good condition', 'Built in 1960', 'No heating'], ['4th floor exterior', 'No lift'], ['Consumption:191 kWh/m² year', 'Emissions:40 kg CO2/m² year']]  \n",
       "10928                                                                                                                                                                                                                                                                 [['54 m² built, 50 m² floor area', '2 bedrooms', '1 bathroom', 'Second hand/needs renovating', 'Orientation South', 'Built in 1961'], ['1st floor exterior', 'No lift'], ['In process']]  \n",
       "10929                                                                                                                                                                                                 [['156 m² built', '2 bedrooms', '1 bathroom', 'Terrace and balcony', 'Parking space included in the price', 'Second hand/good condition', 'Built in 2000'], ['10th floor exterior', 'With lift'], ['Air conditioning', 'Swimming pool'], ['In process']]  \n",
       "10930                                                                                                                                                                                                      [['80 m² built', '3 bedrooms', '1 bathroom', 'Balcony', 'Second hand/good condition', 'Orientation North, East, West'], ['10th floor exterior', 'With lift'], ['Air conditioning'], ['Consumption:231 kWh/m² year', 'Emissions:46 kg CO2/m² year']]  \n",
       "10931                                                                                                                                                                                                                                                                                                                    [['54 m² built', '3 bedrooms', '1 bathroom', 'Second hand/good condition'], ['2nd floor', 'No lift'], ['Consumption:', 'Emissions:']]  \n",
       "10932                                                                                                                                                                                                                                                                                                                                              [['48 m² built', 'No bedroom', '1 bathroom', 'Second hand/good condition'], ['Consumption:', 'Emissions:']]  \n",
       "10933                                                                                                                                                                                                                                    [['57 m² built', '2 bedrooms', '1 bathroom', 'Second hand/good condition', 'Built in 1961'], ['1st floor exterior', 'No lift'], ['Air conditioning'], ['Consumption:254 kWh/m² year', 'Emissions:32 kg CO2/m² year']]  \n",
       "10934                                                                                                                                                                                                                       [['75 m² built, 70 m² floor area', '2 bedrooms', '1 bathroom', 'Second hand/good condition', 'Fitted wardrobes', 'Individual heating'], ['6th floor exterior', 'With lift'], ['Air conditioning'], ['Consumption:', 'Emissions:']]  \n",
       "10935                                                                                                                                                                                                                                      [['175 m² built', '4 bedrooms', '3 bathrooms', 'Balcony', 'Second hand/needs renovating', 'Built in 1942', 'Individual heating: Natural gas'], ['3rd floor exterior', 'With lift'], ['Consumption:95 kWh/m² year']]  \n",
       "10936                                                                                                                                                                                [['280 m² built, 198 m² floor area', '6 bedrooms', '3 bathrooms', 'Terrace', 'Second hand/needs renovating', 'Orientation South', 'Individual heating: Natural gas'], ['5th floor exterior', 'With lift'], ['Consumption:77 kWh/m² year', 'Emissions:17 kg CO2/m² year']]  \n",
       "10937              [['168 m² built', '2 bedrooms', '2 bathrooms', 'Terrace', 'Parking space included in the price', 'Second hand/good condition', 'Storeroom', 'Orientation North, East, West', 'Built in 2016', 'Individual heating: Natural gas', 'Access and property adapted for people with reduced mobility'], ['3rd floor exterior', 'With lift'], ['Air conditioning', 'Swimming pool'], ['Consumption:47 kWh/m² year', 'Emissions:9 kg CO2/m² year']]  \n",
       "10938                                                                                                                                                                                                   [['63 m² built, 50 m² floor area', '1 bedroom', '1 bathroom', 'Second hand/good condition', 'Built in 1967', 'No heating'], ['1st floor exterior', 'With lift'], ['Air conditioning'], ['Consumption:356 kWh/m² year', 'Emissions:60 kg CO2/m² year']]  \n",
       "10939                                                                   [['84 m² built, 68 m² floor area', '3 bedrooms', '1 bathroom', 'Terrace', 'Second hand/good condition', 'Fitted wardrobes', 'Orientation North, South, East', 'Built in 1965', 'Individual heating: Natural gas', 'Access and property adapted for people with reduced mobility'], ['5th floor exterior', 'With lift'], ['Consumption:42 kWh/m² year', 'Emissions:27 kg CO2/m² year']]  \n",
       "10940                                                                                                                         [['62 m² built, 56 m² floor area', '3 bedrooms', '1 bathroom', 'Balcony', 'Second hand/good condition', 'Orientation South, West', 'Built in 1970', 'No heating', 'Only outdoor access is adapted for people with reduced mobility'], ['4th floor interior', 'With lift'], ['Air conditioning'], ['Consumption:', 'Emissions:']]  \n",
       "10941                                                                                                                                                                         [['71 m² built, 58 m² floor area', '2 bedrooms', '1 bathroom', 'Second hand/good condition', 'Fitted wardrobes', 'Orientation North, West', 'Built in 1978', 'No heating'], ['Mezzanine exterior', 'With lift'], ['Consumption:187 kWh/m² year', 'Emissions:39 kg CO2/m² year']]  \n",
       "10942                                                                                                                                                                          [['55 m² built, 50 m² floor area', '3 bedrooms', '1 bathroom', 'Terrace and balcony', 'Second hand/needs renovating', 'Built in 1928', 'Individual heating: Natural gas'], ['1st floor exterior', 'With lift'], ['Consumption:219 kWh/m² year', 'Emissions:46 kg CO2/m² year']]  \n",
       "10943  [['225 m² built, 190 m² floor area', '3 bedrooms', '3 bathrooms', 'Terrace and balcony', 'Parking space included in the price', 'Second hand/good condition', 'Fitted wardrobes', 'Storeroom', 'Built in 1980', 'Individual heating: Natural gas', 'Only outdoor access is adapted for people with reduced mobility'], ['2nd floor exterior', 'With lift'], ['Air conditioning'], ['Consumption:118,81 kWh/m² year', 'Emissions:24,35 kg CO2/m² year']]  \n",
       "10944                                                                                                                                                                                                            [['115 m² built', '3 bedrooms', '2 bathrooms', 'Second hand/good condition', 'Storeroom', 'Orientation South', 'Individual heating: Natural gas'], ['2nd floor exterior', 'With lift'], ['Air conditioning'], ['Consumption:', 'Emissions:']]  \n",
       "10945                                                                                                                                                                                                                                                           [['81 m² built, 70 m² floor area', '3 bedrooms', '1 bathroom', 'Balcony', 'Second hand/good condition', 'Built in 2007'], ['3rd floor exterior', 'With lift'], ['Consumption:', 'Emissions:']]  \n",
       "10946                                                                                                                                                                                    [['45 m² built, 39 m² floor area', '2 bedrooms', '1 bathroom', 'Second hand/good condition', 'Orientation East', 'Built in 1953', 'Individual heating: Electric'], ['1st floor exterior', 'No lift'], ['Consumption:162 kWh/m² year', 'Emissions:34 kg CO2/m² year']]  \n",
       "10947                                                                                                                                                [['63 m² built, 55 m² floor area', '2 bedrooms', '1 bathroom', 'Second hand/needs renovating', 'Orientation North, West', 'Built in 2008', 'Individual heating: Natural gas'], ['2nd floor exterior', 'With lift'], ['Air conditioning'], ['Consumption:152 kWh/m² year', 'Emissions:31 kg CO2/m² year']]  \n",
       "10948                                                                                                                                                                                                                        [['46 m² built, 40 m² floor area', '2 bedrooms', '1 bathroom', 'Balcony', 'Second hand/good condition', 'Built in 1900', 'No heating'], ['2nd floor', 'No lift'], ['Consumption:165 kWh/m² year', 'Emissions:31 kg CO2/m² year']]  \n",
       "10949                                                                                                                                                                                                                                                          [['67 m² built', '1 bedroom', '1 bathroom', 'Second hand/good condition', 'Fitted wardrobes', 'Individual heating'], ['5th floor interior', 'With lift'], ['Air conditioning'], ['In process']]  \n",
       "10950                                                                                                                                                                                                                           [['81 m² built', '4 bedrooms', '1 bathroom', 'Balcony', 'Second hand/good condition', 'Fitted wardrobes', 'No heating'], ['2nd floor exterior', 'With lift'], ['Consumption:123 kWh/m² year', 'Emissions:234 kg CO2/m² year']]  "
      ]
     },
     "execution_count": 55,
     "metadata": {},
     "output_type": "execute_result"
    }
   ],
   "source": [
    "dirty_data.tail(40)"
   ]
  },
  {
   "cell_type": "markdown",
   "id": "2d65e9bc",
   "metadata": {},
   "source": [
    "After reviewing potential keywords for the boolean columns, I’ve identified the following as useful:\n",
    "- terrace\n",
    "- balcony\n",
    "- exterior\n",
    "- no heating (I can work later on this if I want to expand the type of heating)\n",
    "- with lift\n",
    "- second hand\n",
    "- air conditioning\n",
    "- needs renovating\n",
    "- parking space included\n",
    "- swimming pool\n",
    "- garden"
   ]
  },
  {
   "cell_type": "code",
   "execution_count": 56,
   "id": "37e82327",
   "metadata": {},
   "outputs": [],
   "source": [
    "dirty_data[\"terrace\"] = dirty_data[\"raw_row\"].str.lower().str.contains(\"terrace\")\n",
    "dirty_data[\"balcony\"] = dirty_data[\"raw_row\"].str.lower().str.contains(\"balcony\")\n",
    "dirty_data[\"exterior\"] = dirty_data[\"raw_row\"].str.lower().str.contains(\"exterior\")\n",
    "dirty_data[\"heating\"] = ~dirty_data[\"raw_row\"].str.lower().str.contains(\"no heating\")\n",
    "dirty_data[\"lift\"] = dirty_data[\"raw_row\"].str.lower().str.contains(\"with lift\")\n",
    "dirty_data[\"second hand\"] = dirty_data[\"raw_row\"].str.lower().str.contains(\"second hand\")\n",
    "dirty_data[\"air conditioning\"] = dirty_data[\"raw_row\"].str.lower().str.contains(\"air conditioning\")\n",
    "dirty_data[\"needs renovating\"] = dirty_data[\"raw_row\"].str.lower().str.contains(\"needs renovating\")\n",
    "dirty_data[\"parking\"] = dirty_data[\"raw_row\"].str.lower().str.contains(\"parking space included\")\n",
    "dirty_data[\"swimming pool\"] = dirty_data[\"raw_row\"].str.lower().str.contains(\"garden\")\n",
    "dirty_data[\"garden\"] = dirty_data[\"raw_row\"].str.lower().str.contains(\"garden\")"
   ]
  },
  {
   "cell_type": "code",
   "execution_count": 57,
   "id": "307f312b",
   "metadata": {},
   "outputs": [
    {
     "data": {
      "text/plain": [
       "10891                                                                                                                                                                                                                                                             [['143 m² built', '3 bedrooms', '2 bathrooms', 'Terrace', 'New housing development'], ['3rd floor exterior', 'With lift'], ['Consumption:49,47 kWh/m² year', 'Emissions:8,55 kg CO2/m² year']]\n",
       "10892                                                                                                                                                                                                                                                                                              [['189 m² built', '3 bedrooms', '2 bathrooms', 'Terrace', 'New housing development'], ['Ground floor exterior', 'With lift'], ['Consumption:', 'Emissions:']]\n",
       "10893                                                                                                                                                                                              [['82 m² built, 68 m² floor area', '3 bedrooms', '2 bathrooms', 'Terrace', 'Second hand/good condition', 'Storeroom', 'Orientation South', 'Built in 2023', 'Central heating'], ['Ground floor exterior', 'With lift'], ['Air conditioning'], ['In process']]\n",
       "10894                                                                                                                                                                                                                                      [['65 m² built, 64 m² floor area', '2 bedrooms', '1 bathroom', 'Second hand/good condition', 'Orientation South'], ['4th floor exterior', 'No lift'], ['Consumption:180 kWh/m² year', 'Emissions:35 kg CO2/m² year']]\n",
       "10895                                                                                                                            [['Terraced house', '4 floors', '230 m² built, 181 m² floor area', '4 bedrooms', '3 bathrooms', 'Terrace', 'Parking space included in the price', 'Second hand/good condition', 'Fitted wardrobes', 'Storeroom', 'Orientation East', 'Built in 1995', 'Individual heating: Natural gas'], ['Air conditioning'], ['In process']]\n",
       "10896                                                                                                                                                                                                                                                          [['70 m² built', '3 bedrooms', '1 bathroom', 'Second hand/good condition', 'Built in 1974'], ['5th floor exterior', 'With lift'], ['Consumption:156 kWh/m² year', 'Emissions:32 kg CO2/m² year']]\n",
       "10897                                                                                                                                                                                                                    [['68 m² built', '4 bedrooms', '1 bathroom', 'Balcony', 'Second hand/good condition', 'Orientation South, West', 'Built in 1971', 'No heating'], ['4th floor exterior', 'With lift'], ['Consumption:', 'Emissions:144 kg CO2/m² year']]\n",
       "10898                                                                                                                                                                                [['87 m² built', '3 bedrooms', '2 bathrooms', 'Terrace and balcony', 'New housing development', 'Individual heating: Air conditioning/Heat pump'], ['3rd floor exterior', 'With lift'], ['Air conditioning'], ['Consumption:25 kWh/m² year', 'Emissions:4 kg CO2/m² year']]\n",
       "10899                                                       [['107 m² built, 90 m² floor area', '3 bedrooms', '2 bathrooms', 'Balcony', 'Second hand/good condition', 'Storeroom', 'Orientation South, West', 'Built in 2000', 'Individual heating: Natural gas', 'Only outdoor access is adapted for people with reduced mobility'], ['2nd floor exterior', 'With lift'], ['Air conditioning'], ['Consumption:132 kWh/m² year', 'Emissions:28 kg CO2/m² year']]\n",
       "10900                                                                                                                                                                                                                                                                                                         [['60 m² built', '3 bedrooms', '1 bathroom', 'Terrace', 'Second hand/good condition'], ['2nd floor', 'With lift'], ['Consumption:', 'Emissions:']]\n",
       "10901                                                                                                                                                                                                                                               [['59 m² built, 48 m² floor area', '2 bedrooms', '1 bathroom', 'Second hand/good condition', 'Orientation South', 'Built in 1967', 'No heating'], ['Ground floor exterior', 'With lift'], ['Not indicated']]\n",
       "10902                                                                                                                                                              [['200 m² built, 194 m² floor area', '5 bedrooms', '2 bathrooms', 'Terrace and balcony', 'Second hand/needs renovating', 'Storeroom', 'Built in 1955', 'Individual heating: Natural gas'], ['2nd floor exterior', 'No lift'], ['Consumption:153 kWh/m² year', 'Emissions:38 kg CO2/m² year']]\n",
       "10903                                                                                   [['Semi-detached house', '385 m² built, 330 m² floor area', '7 bedrooms', '2 bathrooms', 'Land plot of 152 m²', 'Terrace', 'Parking space included in the price', 'Second hand/good condition', 'Fitted wardrobes', 'Built in 1885', 'Individual heating: Natural gas'], ['Air conditioning', 'Garden'], ['Consumption:101 kWh/m² year', 'Emissions:21 kg CO2/m² year']]\n",
       "10904                                                                                                                                                                        [['67 m² built, 53 m² floor area', '3 bedrooms', '1 bathroom', 'Balcony', 'Parking space included in the price', 'Second hand/good condition', 'Built in 1970', 'No heating'], ['1st floor interior', 'With lift'], ['Consumption:133 kWh/m² year', 'Emissions:26 kg CO2/m² year']]\n",
       "10905                                                                                                                                                                                                                                                                                                   [['45 m² built', '1 bedroom', '1 bathroom', 'Second hand/needs renovating', 'Orientation South'], ['Semi-basement exterior', 'No lift'], ['In process']]\n",
       "10906                                                                           [['85 m² built, 80 m² floor area', '3 bedrooms', '1 bathroom', 'Terrace and balcony', 'Second hand/good condition', 'Orientation North, South, West', 'Built in 1974', 'Individual heating: Natural gas', 'Access and property adapted for people with reduced mobility'], ['5th floor exterior', 'With lift'], ['Consumption:999 kWh/m² year', 'Emissions:999 kg CO2/m² year']]\n",
       "10907                                                                                                                                                                                                                                                                                                        [['92 m² built, 90 m² floor area', '3 bedrooms', '1 bathroom', 'Second hand/good condition'], ['1st floor exterior', 'No lift'], ['Not indicated']]\n",
       "10908                                                                                                                                                                                                                                                 [['67 m² built, 60 m² floor area', '3 bedrooms', '1 bathroom', 'Second hand/needs renovating', 'Built in 1968'], ['3rd floor', 'No lift'], ['Consumption:230 kWh/m² year', 'Emissions:59 kg CO2/m² year']]\n",
       "10909                                                                                               [['104 m² built, 88 m² floor area', '2 bedrooms', '3 bathrooms', 'Terrace', 'Second hand/good condition', 'Fitted wardrobes', 'Built in 2022', 'Access and property adapted for people with reduced mobility'], ['Ground floor exterior', 'With lift'], ['Air conditioning', 'Swimming pool'], ['Consumption:38 kWh/m² year', 'Emissions:6 kg CO2/m² year']]\n",
       "10910                                                                                                                                                                                                                                                                       [['64 m² built, 56 m² floor area', '2 bedrooms', '1 bathroom', 'Second hand/needs renovating', 'Built in 1966', 'No heating'], ['5th floor exterior', 'No lift'], ['Not indicated']]\n",
       "10911                                                                                                                                                                                                                                                                    [['140 m² built', '4 bedrooms', '2 bathrooms', 'Terrace', 'Second hand/good condition', 'Orientation East'], ['1st floor exterior', 'With lift'], ['Air conditioning'], ['In process']]\n",
       "10912                                                                                                                                                                                                                                                                                                                                      [['60 m² built', '2 bedrooms', '1 bathroom', 'Second hand/good condition'], ['Mezzanine', 'No lift'], ['In process']]\n",
       "10913                                                                                                                                                                                                                                                                                                                                   [['45 m² built', '3 bedrooms', '1 bathroom', 'Second hand/good condition'], ['Ground floor', 'No lift'], ['In process']]\n",
       "10914                                                                                                                                                                                                                                                                                                                                     [['78 m² built', '3 bedrooms', '1 bathroom', 'Second hand/good condition'], ['13th floor', 'No lift'], ['In process']]\n",
       "10915                                                                                                                                                                                                                                                                                    [['67 m² built, 60 m² floor area', '2 bedrooms', '1 bathroom', 'Terrace and balcony', 'Second hand/good condition'], ['2nd floor exterior', 'No lift'], ['In process']]\n",
       "10916                                                                                                                                                                                                                                  [['76 m² built', '4 bedrooms', '1 bathroom', 'Second hand/good condition', 'Built in 1951', 'Individual heating: Air conditioning/Heat pump'], ['3rd floor interior', 'With lift'], ['Air conditioning'], ['In process']]\n",
       "10917                                                                                                                            [['109 m² built, 90 m² floor area', '4 bedrooms', '2 bathrooms', 'Balcony', 'Parking space included in the price', 'Second hand/good condition', 'Built in 1987', 'Individual heating'], ['4th floor exterior', 'With lift'], ['Swimming pool', 'Green areas'], ['Consumption:218 kWh/m² year', 'Emissions:46 kg CO2/m² year']]\n",
       "10918                                                                                                                                                                                                                                     [['83 m² built, 75 m² floor area', '3 bedrooms', '1 bathroom', 'Second hand/good condition', 'Orientation South', 'Built in 1955', 'No heating'], ['5th floor exterior', 'With lift'], ['Consumption:', 'Emissions:']]\n",
       "10919                                                                                                                                                                            [['180 m² built, 136 m² floor area', '4 bedrooms', '3 bathrooms', 'Terrace', 'Second hand/good condition', 'Fitted wardrobes', 'Storeroom', 'Orientation South, East', 'Built in 1997'], ['Ground floor exterior', 'No lift'], ['Green areas'], ['Consumption:', 'Emissions:']]\n",
       "10920                                                                                                                                       [['House', '418 m² built', '5 bedrooms', '4 bathrooms', 'Terrace and balcony', 'Parking space included in the price', 'Second hand/good condition', 'Fitted wardrobes', 'Orientation South', 'Built in 1999'], ['Air conditioning', 'Swimming pool'], ['Consumption:65 kWh/m² year', 'Emissions:11 kg CO2/m² year']]\n",
       "10921                                                                                                                                                                                  [['107 m² built, 98 m² floor area', '3 bedrooms', '2 bathrooms', 'Balcony', 'Second hand/needs renovating', 'Orientation South, East', 'Built in 1975', 'No heating'], ['1st floor exterior', 'No lift'], ['Consumption:373 kWh/m² year', 'Emissions:78 kg CO2/m² year']]\n",
       "10922                                                                                                                                                                      [['132 m² built, 112 m² floor area', '5 bedrooms', '2 bathrooms', 'Second hand/needs renovating', 'Orientation North, South, East, West', 'Built in 1957'], ['5th floor exterior', 'With lift'], ['Air conditioning'], ['Consumption:91 kWh/m² year', 'Emissions:19 kg CO2/m² year']]\n",
       "10923                                                                                   [['87 m² built, 82 m² floor area', '3 bedrooms', '2 bathrooms', 'Balcony', 'Parking space included in the price', 'Second hand/good condition', 'Fitted wardrobes', 'Orientation South', 'Built in 2002', 'Individual heating: Natural gas'], ['2nd floor exterior', 'With lift'], ['Air conditioning'], ['Consumption:140 kWh/m² year', 'Emissions:29 kg CO2/m² year']]\n",
       "10924                             [['124 m² built', '3 bedrooms', '2 bathrooms', 'Terrace and balcony', 'Additional parking space for € 35,000', 'Second hand/good condition', 'Fitted wardrobes', 'Storeroom', 'Built in 2019', 'Individual heating: Air conditioning/Heat pump', 'Access and property adapted for people with reduced mobility'], ['13th floor exterior', 'With lift'], ['Air conditioning', 'Swimming pool'], ['Consumption:', 'Emissions:']]\n",
       "10925                                                                                                                                                                                                                                                 [['52 m² built', '3 bedrooms', '1 bathroom', 'Balcony', 'Second hand/good condition', 'Built in 1960'], ['5th floor exterior', 'No lift'], ['Consumption:999 kWh/m² year', 'Emissions:99 kg CO2/m² year']]\n",
       "10926                                                                                                                                                                                                                                     [['64 m² built, 59 m² floor area', '3 bedrooms', '1 bathroom', 'Second hand/needs renovating', 'Built in 1962'], ['Ground floor interior', 'No lift'], ['Consumption:999 kWh/m² year', 'Emissions:99 kg CO2/m² year']]\n",
       "10927                                                                                                                                                                                                                            [['67 m² built, 55 m² floor area', '3 bedrooms', '1 bathroom', 'Second hand/good condition', 'Built in 1960', 'No heating'], ['4th floor exterior', 'No lift'], ['Consumption:191 kWh/m² year', 'Emissions:40 kg CO2/m² year']]\n",
       "10928                                                                                                                                                                                                                                                                   [['54 m² built, 50 m² floor area', '2 bedrooms', '1 bathroom', 'Second hand/needs renovating', 'Orientation South', 'Built in 1961'], ['1st floor exterior', 'No lift'], ['In process']]\n",
       "10929                                                                                                                                                                                                   [['156 m² built', '2 bedrooms', '1 bathroom', 'Terrace and balcony', 'Parking space included in the price', 'Second hand/good condition', 'Built in 2000'], ['10th floor exterior', 'With lift'], ['Air conditioning', 'Swimming pool'], ['In process']]\n",
       "10930                                                                                                                                                                                                        [['80 m² built', '3 bedrooms', '1 bathroom', 'Balcony', 'Second hand/good condition', 'Orientation North, East, West'], ['10th floor exterior', 'With lift'], ['Air conditioning'], ['Consumption:231 kWh/m² year', 'Emissions:46 kg CO2/m² year']]\n",
       "10931                                                                                                                                                                                                                                                                                                                      [['54 m² built', '3 bedrooms', '1 bathroom', 'Second hand/good condition'], ['2nd floor', 'No lift'], ['Consumption:', 'Emissions:']]\n",
       "10932                                                                                                                                                                                                                                                                                                                                                [['48 m² built', 'No bedroom', '1 bathroom', 'Second hand/good condition'], ['Consumption:', 'Emissions:']]\n",
       "10933                                                                                                                                                                                                                                      [['57 m² built', '2 bedrooms', '1 bathroom', 'Second hand/good condition', 'Built in 1961'], ['1st floor exterior', 'No lift'], ['Air conditioning'], ['Consumption:254 kWh/m² year', 'Emissions:32 kg CO2/m² year']]\n",
       "10934                                                                                                                                                                                                                         [['75 m² built, 70 m² floor area', '2 bedrooms', '1 bathroom', 'Second hand/good condition', 'Fitted wardrobes', 'Individual heating'], ['6th floor exterior', 'With lift'], ['Air conditioning'], ['Consumption:', 'Emissions:']]\n",
       "10935                                                                                                                                                                                                                                        [['175 m² built', '4 bedrooms', '3 bathrooms', 'Balcony', 'Second hand/needs renovating', 'Built in 1942', 'Individual heating: Natural gas'], ['3rd floor exterior', 'With lift'], ['Consumption:95 kWh/m² year']]\n",
       "10936                                                                                                                                                                                  [['280 m² built, 198 m² floor area', '6 bedrooms', '3 bathrooms', 'Terrace', 'Second hand/needs renovating', 'Orientation South', 'Individual heating: Natural gas'], ['5th floor exterior', 'With lift'], ['Consumption:77 kWh/m² year', 'Emissions:17 kg CO2/m² year']]\n",
       "10937                [['168 m² built', '2 bedrooms', '2 bathrooms', 'Terrace', 'Parking space included in the price', 'Second hand/good condition', 'Storeroom', 'Orientation North, East, West', 'Built in 2016', 'Individual heating: Natural gas', 'Access and property adapted for people with reduced mobility'], ['3rd floor exterior', 'With lift'], ['Air conditioning', 'Swimming pool'], ['Consumption:47 kWh/m² year', 'Emissions:9 kg CO2/m² year']]\n",
       "10938                                                                                                                                                                                                     [['63 m² built, 50 m² floor area', '1 bedroom', '1 bathroom', 'Second hand/good condition', 'Built in 1967', 'No heating'], ['1st floor exterior', 'With lift'], ['Air conditioning'], ['Consumption:356 kWh/m² year', 'Emissions:60 kg CO2/m² year']]\n",
       "10939                                                                     [['84 m² built, 68 m² floor area', '3 bedrooms', '1 bathroom', 'Terrace', 'Second hand/good condition', 'Fitted wardrobes', 'Orientation North, South, East', 'Built in 1965', 'Individual heating: Natural gas', 'Access and property adapted for people with reduced mobility'], ['5th floor exterior', 'With lift'], ['Consumption:42 kWh/m² year', 'Emissions:27 kg CO2/m² year']]\n",
       "10940                                                                                                                           [['62 m² built, 56 m² floor area', '3 bedrooms', '1 bathroom', 'Balcony', 'Second hand/good condition', 'Orientation South, West', 'Built in 1970', 'No heating', 'Only outdoor access is adapted for people with reduced mobility'], ['4th floor interior', 'With lift'], ['Air conditioning'], ['Consumption:', 'Emissions:']]\n",
       "10941                                                                                                                                                                           [['71 m² built, 58 m² floor area', '2 bedrooms', '1 bathroom', 'Second hand/good condition', 'Fitted wardrobes', 'Orientation North, West', 'Built in 1978', 'No heating'], ['Mezzanine exterior', 'With lift'], ['Consumption:187 kWh/m² year', 'Emissions:39 kg CO2/m² year']]\n",
       "10942                                                                                                                                                                            [['55 m² built, 50 m² floor area', '3 bedrooms', '1 bathroom', 'Terrace and balcony', 'Second hand/needs renovating', 'Built in 1928', 'Individual heating: Natural gas'], ['1st floor exterior', 'With lift'], ['Consumption:219 kWh/m² year', 'Emissions:46 kg CO2/m² year']]\n",
       "10943    [['225 m² built, 190 m² floor area', '3 bedrooms', '3 bathrooms', 'Terrace and balcony', 'Parking space included in the price', 'Second hand/good condition', 'Fitted wardrobes', 'Storeroom', 'Built in 1980', 'Individual heating: Natural gas', 'Only outdoor access is adapted for people with reduced mobility'], ['2nd floor exterior', 'With lift'], ['Air conditioning'], ['Consumption:118,81 kWh/m² year', 'Emissions:24,35 kg CO2/m² year']]\n",
       "10944                                                                                                                                                                                                              [['115 m² built', '3 bedrooms', '2 bathrooms', 'Second hand/good condition', 'Storeroom', 'Orientation South', 'Individual heating: Natural gas'], ['2nd floor exterior', 'With lift'], ['Air conditioning'], ['Consumption:', 'Emissions:']]\n",
       "10945                                                                                                                                                                                                                                                             [['81 m² built, 70 m² floor area', '3 bedrooms', '1 bathroom', 'Balcony', 'Second hand/good condition', 'Built in 2007'], ['3rd floor exterior', 'With lift'], ['Consumption:', 'Emissions:']]\n",
       "10946                                                                                                                                                                                      [['45 m² built, 39 m² floor area', '2 bedrooms', '1 bathroom', 'Second hand/good condition', 'Orientation East', 'Built in 1953', 'Individual heating: Electric'], ['1st floor exterior', 'No lift'], ['Consumption:162 kWh/m² year', 'Emissions:34 kg CO2/m² year']]\n",
       "10947                                                                                                                                                  [['63 m² built, 55 m² floor area', '2 bedrooms', '1 bathroom', 'Second hand/needs renovating', 'Orientation North, West', 'Built in 2008', 'Individual heating: Natural gas'], ['2nd floor exterior', 'With lift'], ['Air conditioning'], ['Consumption:152 kWh/m² year', 'Emissions:31 kg CO2/m² year']]\n",
       "10948                                                                                                                                                                                                                          [['46 m² built, 40 m² floor area', '2 bedrooms', '1 bathroom', 'Balcony', 'Second hand/good condition', 'Built in 1900', 'No heating'], ['2nd floor', 'No lift'], ['Consumption:165 kWh/m² year', 'Emissions:31 kg CO2/m² year']]\n",
       "10949                                                                                                                                                                                                                                                            [['67 m² built', '1 bedroom', '1 bathroom', 'Second hand/good condition', 'Fitted wardrobes', 'Individual heating'], ['5th floor interior', 'With lift'], ['Air conditioning'], ['In process']]\n",
       "10950                                                                                                                                                                                                                             [['81 m² built', '4 bedrooms', '1 bathroom', 'Balcony', 'Second hand/good condition', 'Fitted wardrobes', 'No heating'], ['2nd floor exterior', 'With lift'], ['Consumption:123 kWh/m² year', 'Emissions:234 kg CO2/m² year']]\n",
       "Name: raw_row, dtype: object"
      ]
     },
     "execution_count": 57,
     "metadata": {},
     "output_type": "execute_result"
    }
   ],
   "source": [
    "dirty_data[\"raw_row\"].tail(60)"
   ]
  },
  {
   "cell_type": "markdown",
   "id": "f412e651",
   "metadata": {},
   "source": [
    "Next, I'll focus on the remaining values, starting with the first list in the group."
   ]
  },
  {
   "cell_type": "code",
   "execution_count": 58,
   "id": "0e3cba99",
   "metadata": {},
   "outputs": [
    {
     "name": "stderr",
     "output_type": "stream",
     "text": [
      "C:\\Users\\Victo\\AppData\\Local\\Temp/ipykernel_18256/3575297530.py:1: FutureWarning: The default value of regex will change from True to False in a future version. In addition, single character regular expressions will *not* be treated as literal strings when regex=True.\n",
      "  first_list = dirty_data[\"raw_row\"].str.replace(\"[\",\"\").str.replace(\"]\",\"\").str.replace(\"'\",\"\").str.lower()\n"
     ]
    }
   ],
   "source": [
    "first_list = dirty_data[\"raw_row\"].str.replace(\"[\",\"\").str.replace(\"]\",\"\").str.replace(\"'\",\"\").str.lower()"
   ]
  },
  {
   "cell_type": "code",
   "execution_count": 59,
   "id": "43aecc77",
   "metadata": {},
   "outputs": [],
   "source": [
    "dirty_data[\"sq_m_built\"] = first_list.str.extract(\"(\\d*,*\\d* m² built)\", expand = False)\n",
    "dirty_data[\"sq_m_floor_area\"] =  first_list.str.extract(\"(\\d*,*\\d* m² floor area)\", expand = False)\n",
    "first_list = first_list.str.replace(\" m² floor area\", \"\") ##To avoid duplicities with other searchs\n",
    "dirty_data[\"floor\"] = first_list.str.extract(\"(\\d*\\w* floor)\", expand = False)\n",
    "dirty_data[\"bedrooms\"] = first_list.str.extract(\"(\\d* bedroom)\", expand = False)\n",
    "dirty_data[\"bathrooms\"] = first_list.str.extract(\"(\\d* bathroom)\", expand = False)\n",
    "dirty_data[\"year_built\"] = first_list.str.extract(\"(built in \\d*)\", expand = False)\n",
    "dirty_data[\"central heating\"] = first_list.str.extract(\"(\\w* heating)\", expand = False)\n",
    "dirty_data[\"heating_type\"] = first_list.str.extract(\"(heating: \\w*)\", expand = False)\n",
    "dirty_data[\"consumption\"] = first_list.str.extract(\"(consumption:\\d*,*\\d* kwh/m² year)\", expand = False)\n",
    "dirty_data[\"emissions\"] = first_list.str.extract(\"(emissions:\\d*,*\\d* kg co2/m² year)\", expand = False)\n",
    "dirty_data[\"orientation\"] = first_list.str.extract(\"(orientation \\w*)\", expand = False)"
   ]
  },
  {
   "cell_type": "code",
   "execution_count": 60,
   "id": "8b96614d",
   "metadata": {},
   "outputs": [
    {
     "data": {
      "text/html": [
       "<div>\n",
       "<style scoped>\n",
       "    .dataframe tbody tr th:only-of-type {\n",
       "        vertical-align: middle;\n",
       "    }\n",
       "\n",
       "    .dataframe tbody tr th {\n",
       "        vertical-align: top;\n",
       "    }\n",
       "\n",
       "    .dataframe thead th {\n",
       "        text-align: right;\n",
       "    }\n",
       "</style>\n",
       "<table border=\"1\" class=\"dataframe\">\n",
       "  <thead>\n",
       "    <tr style=\"text-align: right;\">\n",
       "      <th></th>\n",
       "      <th>id</th>\n",
       "      <th>raw_row</th>\n",
       "      <th>terrace</th>\n",
       "      <th>balcony</th>\n",
       "      <th>exterior</th>\n",
       "      <th>heating</th>\n",
       "      <th>lift</th>\n",
       "      <th>second hand</th>\n",
       "      <th>air conditioning</th>\n",
       "      <th>needs renovating</th>\n",
       "      <th>...</th>\n",
       "      <th>sq_m_floor_area</th>\n",
       "      <th>floor</th>\n",
       "      <th>bedrooms</th>\n",
       "      <th>bathrooms</th>\n",
       "      <th>year_built</th>\n",
       "      <th>central heating</th>\n",
       "      <th>heating_type</th>\n",
       "      <th>consumption</th>\n",
       "      <th>emissions</th>\n",
       "      <th>orientation</th>\n",
       "    </tr>\n",
       "  </thead>\n",
       "  <tbody>\n",
       "    <tr>\n",
       "      <th>0</th>\n",
       "      <td>103375204</td>\n",
       "      <td>[['80 m² built', '2 bedrooms', '1 bathroom', 'Terrace and balcony', 'Second hand/good condition', 'Built in 1912', 'Central heating'], ['3rd floor exterior', 'With lift'], ['Air conditioning'], ['Consumption:91 kWh/m² year', 'Emissions:17 kg CO2/m² year']]</td>\n",
       "      <td>True</td>\n",
       "      <td>True</td>\n",
       "      <td>True</td>\n",
       "      <td>True</td>\n",
       "      <td>True</td>\n",
       "      <td>True</td>\n",
       "      <td>True</td>\n",
       "      <td>False</td>\n",
       "      <td>...</td>\n",
       "      <td>NaN</td>\n",
       "      <td>3rd floor</td>\n",
       "      <td>2 bedroom</td>\n",
       "      <td>1 bathroom</td>\n",
       "      <td>built in 1912</td>\n",
       "      <td>central heating</td>\n",
       "      <td>NaN</td>\n",
       "      <td>consumption:91 kwh/m² year</td>\n",
       "      <td>emissions:17 kg co2/m² year</td>\n",
       "      <td>NaN</td>\n",
       "    </tr>\n",
       "    <tr>\n",
       "      <th>1</th>\n",
       "      <td>94000904</td>\n",
       "      <td>[['58 m² built, 49 m² floor area', '2 bedrooms', '1 bathroom', 'Balcony', 'Second hand/good condition', 'Orientation South, East', 'Built in 1850', 'No heating'], ['3rd floor exterior', 'No lift'], ['Consumption:311 kWh/m² year', 'Emissions:65 kg CO2/m² year']]</td>\n",
       "      <td>False</td>\n",
       "      <td>True</td>\n",
       "      <td>True</td>\n",
       "      <td>False</td>\n",
       "      <td>False</td>\n",
       "      <td>True</td>\n",
       "      <td>False</td>\n",
       "      <td>False</td>\n",
       "      <td>...</td>\n",
       "      <td>49 m² floor area</td>\n",
       "      <td>3rd floor</td>\n",
       "      <td>2 bedroom</td>\n",
       "      <td>1 bathroom</td>\n",
       "      <td>built in 1850</td>\n",
       "      <td>no heating</td>\n",
       "      <td>NaN</td>\n",
       "      <td>consumption:311 kwh/m² year</td>\n",
       "      <td>emissions:65 kg co2/m² year</td>\n",
       "      <td>orientation south</td>\n",
       "    </tr>\n",
       "    <tr>\n",
       "      <th>2</th>\n",
       "      <td>104382041</td>\n",
       "      <td>[['155 m² built, 89 m² floor area', '3 bedrooms', '2 bathrooms', 'Terrace and balcony', 'Additional parking space for € 30,000', 'Second hand/good condition', 'Built in 2003', 'Central heating'], ['1st floor exterior', 'With lift'], ['Air conditioning'], ['In process']]</td>\n",
       "      <td>True</td>\n",
       "      <td>True</td>\n",
       "      <td>True</td>\n",
       "      <td>True</td>\n",
       "      <td>True</td>\n",
       "      <td>True</td>\n",
       "      <td>True</td>\n",
       "      <td>False</td>\n",
       "      <td>...</td>\n",
       "      <td>89 m² floor area</td>\n",
       "      <td>1st floor</td>\n",
       "      <td>3 bedroom</td>\n",
       "      <td>2 bathroom</td>\n",
       "      <td>built in 2003</td>\n",
       "      <td>central heating</td>\n",
       "      <td>NaN</td>\n",
       "      <td>NaN</td>\n",
       "      <td>NaN</td>\n",
       "      <td>NaN</td>\n",
       "    </tr>\n",
       "    <tr>\n",
       "      <th>3</th>\n",
       "      <td>97791792</td>\n",
       "      <td>[['89 m² built, 80 m² floor area', '2 bedrooms', '2 bathrooms', 'Balcony', 'Second hand/good condition', 'Fitted wardrobes', 'Orientation North, South, East, West', 'Built in 1920', 'Individual heating: Electric'], ['3rd floor exterior', 'No lift'], ['Air conditioning'], ['Consumption:15 kWh/m² year', 'Emissions:71 kg CO2/m² year']]</td>\n",
       "      <td>False</td>\n",
       "      <td>True</td>\n",
       "      <td>True</td>\n",
       "      <td>True</td>\n",
       "      <td>False</td>\n",
       "      <td>True</td>\n",
       "      <td>True</td>\n",
       "      <td>False</td>\n",
       "      <td>...</td>\n",
       "      <td>80 m² floor area</td>\n",
       "      <td>3rd floor</td>\n",
       "      <td>2 bedroom</td>\n",
       "      <td>2 bathroom</td>\n",
       "      <td>built in 1920</td>\n",
       "      <td>individual heating</td>\n",
       "      <td>heating: electric</td>\n",
       "      <td>consumption:15 kwh/m² year</td>\n",
       "      <td>emissions:71 kg co2/m² year</td>\n",
       "      <td>orientation north</td>\n",
       "    </tr>\n",
       "    <tr>\n",
       "      <th>4</th>\n",
       "      <td>104397583</td>\n",
       "      <td>[['70 m² built', '2 bedrooms', '2 bathrooms', 'Balcony', 'Second hand/good condition', 'Orientation North, East', 'Built in 1900', 'No heating'], ['1st floor exterior', 'With lift'], ['Air conditioning'], ['Consumption:90 kWh/m² year', 'Emissions:190 kg CO2/m² year']]</td>\n",
       "      <td>False</td>\n",
       "      <td>True</td>\n",
       "      <td>True</td>\n",
       "      <td>False</td>\n",
       "      <td>True</td>\n",
       "      <td>True</td>\n",
       "      <td>True</td>\n",
       "      <td>False</td>\n",
       "      <td>...</td>\n",
       "      <td>NaN</td>\n",
       "      <td>1st floor</td>\n",
       "      <td>2 bedroom</td>\n",
       "      <td>2 bathroom</td>\n",
       "      <td>built in 1900</td>\n",
       "      <td>no heating</td>\n",
       "      <td>NaN</td>\n",
       "      <td>consumption:90 kwh/m² year</td>\n",
       "      <td>emissions:190 kg co2/m² year</td>\n",
       "      <td>orientation north</td>\n",
       "    </tr>\n",
       "  </tbody>\n",
       "</table>\n",
       "<p>5 rows × 24 columns</p>\n",
       "</div>"
      ],
      "text/plain": [
       "          id  \\\n",
       "0  103375204   \n",
       "1   94000904   \n",
       "2  104382041   \n",
       "3   97791792   \n",
       "4  104397583   \n",
       "\n",
       "                                                                                                                                                                                                                                                                                                                                          raw_row  \\\n",
       "0                                                                                [['80 m² built', '2 bedrooms', '1 bathroom', 'Terrace and balcony', 'Second hand/good condition', 'Built in 1912', 'Central heating'], ['3rd floor exterior', 'With lift'], ['Air conditioning'], ['Consumption:91 kWh/m² year', 'Emissions:17 kg CO2/m² year']]   \n",
       "1                                                                           [['58 m² built, 49 m² floor area', '2 bedrooms', '1 bathroom', 'Balcony', 'Second hand/good condition', 'Orientation South, East', 'Built in 1850', 'No heating'], ['3rd floor exterior', 'No lift'], ['Consumption:311 kWh/m² year', 'Emissions:65 kg CO2/m² year']]   \n",
       "2                                                                  [['155 m² built, 89 m² floor area', '3 bedrooms', '2 bathrooms', 'Terrace and balcony', 'Additional parking space for € 30,000', 'Second hand/good condition', 'Built in 2003', 'Central heating'], ['1st floor exterior', 'With lift'], ['Air conditioning'], ['In process']]   \n",
       "3  [['89 m² built, 80 m² floor area', '2 bedrooms', '2 bathrooms', 'Balcony', 'Second hand/good condition', 'Fitted wardrobes', 'Orientation North, South, East, West', 'Built in 1920', 'Individual heating: Electric'], ['3rd floor exterior', 'No lift'], ['Air conditioning'], ['Consumption:15 kWh/m² year', 'Emissions:71 kg CO2/m² year']]   \n",
       "4                                                                    [['70 m² built', '2 bedrooms', '2 bathrooms', 'Balcony', 'Second hand/good condition', 'Orientation North, East', 'Built in 1900', 'No heating'], ['1st floor exterior', 'With lift'], ['Air conditioning'], ['Consumption:90 kWh/m² year', 'Emissions:190 kg CO2/m² year']]   \n",
       "\n",
       "   terrace  balcony  exterior  heating   lift  second hand  air conditioning  \\\n",
       "0     True     True      True     True   True         True              True   \n",
       "1    False     True      True    False  False         True             False   \n",
       "2     True     True      True     True   True         True              True   \n",
       "3    False     True      True     True  False         True              True   \n",
       "4    False     True      True    False   True         True              True   \n",
       "\n",
       "   needs renovating  ...   sq_m_floor_area      floor   bedrooms   bathrooms  \\\n",
       "0             False  ...               NaN  3rd floor  2 bedroom  1 bathroom   \n",
       "1             False  ...  49 m² floor area  3rd floor  2 bedroom  1 bathroom   \n",
       "2             False  ...  89 m² floor area  1st floor  3 bedroom  2 bathroom   \n",
       "3             False  ...  80 m² floor area  3rd floor  2 bedroom  2 bathroom   \n",
       "4             False  ...               NaN  1st floor  2 bedroom  2 bathroom   \n",
       "\n",
       "      year_built     central heating       heating_type  \\\n",
       "0  built in 1912     central heating                NaN   \n",
       "1  built in 1850          no heating                NaN   \n",
       "2  built in 2003     central heating                NaN   \n",
       "3  built in 1920  individual heating  heating: electric   \n",
       "4  built in 1900          no heating                NaN   \n",
       "\n",
       "                   consumption                     emissions  \\\n",
       "0   consumption:91 kwh/m² year   emissions:17 kg co2/m² year   \n",
       "1  consumption:311 kwh/m² year   emissions:65 kg co2/m² year   \n",
       "2                          NaN                           NaN   \n",
       "3   consumption:15 kwh/m² year   emissions:71 kg co2/m² year   \n",
       "4   consumption:90 kwh/m² year  emissions:190 kg co2/m² year   \n",
       "\n",
       "         orientation  \n",
       "0                NaN  \n",
       "1  orientation south  \n",
       "2                NaN  \n",
       "3  orientation north  \n",
       "4  orientation north  \n",
       "\n",
       "[5 rows x 24 columns]"
      ]
     },
     "execution_count": 60,
     "metadata": {},
     "output_type": "execute_result"
    }
   ],
   "source": [
    "dirty_data.head()"
   ]
  },
  {
   "cell_type": "markdown",
   "id": "f96be54d",
   "metadata": {},
   "source": [
    "### Cleaning columns"
   ]
  },
  {
   "cell_type": "markdown",
   "id": "ad7a61f9",
   "metadata": {},
   "source": [
    "I'll now work on transforming the columns to make them quantifiable."
   ]
  },
  {
   "cell_type": "code",
   "execution_count": 61,
   "id": "1636bb54",
   "metadata": {},
   "outputs": [
    {
     "data": {
      "text/plain": [
       "Index(['id', 'raw_row', 'terrace', 'balcony', 'exterior', 'heating', 'lift',\n",
       "       'second hand', 'air conditioning', 'needs renovating', 'parking',\n",
       "       'swimming pool', 'garden', 'sq_m_built', 'sq_m_floor_area', 'floor',\n",
       "       'bedrooms', 'bathrooms', 'year_built', 'central heating',\n",
       "       'heating_type', 'consumption', 'emissions', 'orientation'],\n",
       "      dtype='object')"
      ]
     },
     "execution_count": 61,
     "metadata": {},
     "output_type": "execute_result"
    }
   ],
   "source": [
    "dirty_data.columns"
   ]
  },
  {
   "cell_type": "markdown",
   "id": "fe90b26b",
   "metadata": {},
   "source": [
    "#### sq_m_built"
   ]
  },
  {
   "cell_type": "code",
   "execution_count": 62,
   "id": "5090bd1e",
   "metadata": {},
   "outputs": [
    {
     "data": {
      "text/plain": [
       "array(['80 m² built', '58 m² built', '155 m² built', '89 m² built',\n",
       "       '70 m² built', '73 m² built', '149 m² built', '33 m² built',\n",
       "       '118 m² built', '50 m² built', '54 m² built', '110 m² built',\n",
       "       '224 m² built', '75 m² built', '57 m² built', '56 m² built',\n",
       "       '40 m² built', '69 m² built', '41 m² built', '45 m² built',\n",
       "       '214 m² built', '36 m² built', '67 m² built', '61 m² built',\n",
       "       '91 m² built', '35 m² built', '49 m² built', '51 m² built',\n",
       "       '94 m² built', '190 m² built', '197 m² built', '81 m² built',\n",
       "       '79 m² built', '179 m² built', '113 m² built', '135 m² built',\n",
       "       '77 m² built', '131 m² built', '95 m² built', '120 m² built',\n",
       "       '90 m² built', '65 m² built', '55 m² built', '34 m² built',\n",
       "       '39 m² built', '78 m² built', '71 m² built', '76 m² built',\n",
       "       '102 m² built', '66 m² built', '82 m² built', '232 m² built',\n",
       "       '310 m² built', '150 m² built', '107 m² built', '72 m² built',\n",
       "       '161 m² built', '74 m² built', '128 m² built', '42 m² built',\n",
       "       '88 m² built', '62 m² built', '104 m² built', '293 m² built',\n",
       "       '103 m² built', '145 m² built', '126 m² built', '31 m² built',\n",
       "       '134 m² built', '108 m² built', '125 m² built', '164 m² built',\n",
       "       '96 m² built', '219 m² built', '129 m² built', '216 m² built',\n",
       "       '111 m² built', '195 m² built', '87 m² built', '132 m² built',\n",
       "       '363 m² built', '280 m² built', '188 m² built', '187 m² built',\n",
       "       '206 m² built', '239 m² built', '130 m² built', '138 m² built',\n",
       "       '146 m² built', '93 m² built', '115 m² built', '100 m² built',\n",
       "       '85 m² built', '83 m² built', '99 m² built', '32 m² built',\n",
       "       '109 m² built', '101 m² built', '121 m² built', '184 m² built',\n",
       "       '60 m² built', '84 m² built', '374 m² built', '170 m² built',\n",
       "       '47 m² built', '180 m² built', '147 m² built', '59 m² built',\n",
       "       '148 m² built', '68 m² built', '92 m² built', '178 m² built',\n",
       "       '240 m² built', '215 m² built', '205 m² built', '330 m² built',\n",
       "       '213 m² built', '106 m² built', '37 m² built', '86 m² built',\n",
       "       '413 m² built', '160 m² built', '176 m² built', '550 m² built',\n",
       "       '375 m² built', '203 m² built', '182 m² built', '183 m² built',\n",
       "       '137 m² built', '250 m² built', '870 m² built', '167 m² built',\n",
       "       '63 m² built', '52 m² built', '140 m² built', '313 m² built',\n",
       "       '226 m² built', '900 m² built', '123 m² built', '64 m² built',\n",
       "       '53 m² built', '159 m² built', '417 m² built', '549 m² built',\n",
       "       '360 m² built', '719 m² built', '345 m² built', '220 m² built',\n",
       "       '202 m² built', '289 m² built', '133 m² built', '207 m² built',\n",
       "       '124 m² built', '175 m² built', '98 m² built', '530 m² built',\n",
       "       '46 m² built', '243 m² built', '43 m² built', '48 m² built',\n",
       "       '204 m² built', '277 m² built', '105 m² built', '256 m² built',\n",
       "       '201 m² built', '314 m² built', '156 m² built', '141 m² built',\n",
       "       '200 m² built', '153 m² built', '116 m² built', '97 m² built',\n",
       "       '366 m² built', '227 m² built', '158 m² built', '223 m² built',\n",
       "       '143 m² built', '667 m² built', '387 m² built', '174 m² built',\n",
       "       '229 m² built', '290 m² built', '230 m² built', '30 m² built',\n",
       "       '114 m² built', '228 m² built', '119 m² built', '192 m² built',\n",
       "       '169 m² built', '189 m² built', '267 m² built', '209 m² built',\n",
       "       '351 m² built', '191 m² built', '29 m² built', '44 m² built',\n",
       "       '1,800 m² built', '122 m² built', '194 m² built', '439 m² built',\n",
       "       '270 m² built', '1,000 m² built', '1,317 m² built', '320 m² built',\n",
       "       '1,450 m² built', '641 m² built', '154 m² built', '1,400 m² built',\n",
       "       '301 m² built', '199 m² built', '245 m² built', '497 m² built',\n",
       "       '221 m² built', '222 m² built', '365 m² built', '521 m² built',\n",
       "       '234 m² built', '311 m² built', '326 m² built', '264 m² built',\n",
       "       '157 m² built', '166 m² built', '335 m² built', '315 m² built',\n",
       "       '300 m² built', '117 m² built', '151 m² built', '241 m² built',\n",
       "       '253 m² built', '144 m² built', '248 m² built', '127 m² built',\n",
       "       '210 m² built', '236 m² built', '312 m² built', '468 m² built',\n",
       "       '136 m² built', '589 m² built', '276 m² built', '880 m² built',\n",
       "       '634 m² built', '265 m² built', '251 m² built', '211 m² built',\n",
       "       '112 m² built', '177 m² built', '1,609 m² built', '152 m² built',\n",
       "       '212 m² built', '173 m² built', '427 m² built', '493 m² built',\n",
       "       '254 m² built', '380 m² built', '165 m² built', '410 m² built',\n",
       "       '196 m² built', '327 m² built', '305 m² built', '38 m² built',\n",
       "       '356 m² built', '198 m² built', '247 m² built', '225 m² built',\n",
       "       '283 m² built', '258 m² built', '235 m² built', '171 m² built',\n",
       "       '142 m² built', '139 m² built', '181 m² built', '296 m² built',\n",
       "       '739 m² built', '302 m² built', '208 m² built', '519 m² built',\n",
       "       '483 m² built', '162 m² built', '371 m² built', '1,244 m² built',\n",
       "       '412 m² built', '350 m² built', '325 m² built', '390 m² built',\n",
       "       '428 m² built', '255 m² built', '416 m² built', '218 m² built',\n",
       "       '233 m² built', '242 m² built', '25 m² built', '24 m² built',\n",
       "       '568 m² built', '168 m² built', '536 m² built', '450 m² built',\n",
       "       '259 m² built', '263 m² built', '850 m² built', '319 m² built',\n",
       "       '172 m² built', '470 m² built', '492 m² built', '471 m² built',\n",
       "       '800 m² built', '546 m² built', '391 m² built', '238 m² built',\n",
       "       '163 m² built', '287 m² built', '321 m² built', '385 m² built',\n",
       "       '268 m² built', '273 m² built', '605 m² built', '237 m² built',\n",
       "       '426 m² built', '295 m² built', '304 m² built', '21 m² built',\n",
       "       '27 m² built', '807 m² built', '500 m² built', '400 m² built',\n",
       "       '968 m² built', '26 m² built', '372 m² built', '354 m² built',\n",
       "       '261 m² built', '567 m² built', '796 m² built', '292 m² built',\n",
       "       '1,200 m² built', '19 m² built', '274 m² built', '648 m² built',\n",
       "       '476 m² built', '22 m² built', '1,011 m² built', '694 m² built',\n",
       "       '438 m² built', '193 m² built', '614 m² built', '590 m² built',\n",
       "       '580 m² built', '401 m² built', '297 m² built', '610 m² built',\n",
       "       '185 m² built', '298 m² built', '20 m² built', '499 m² built',\n",
       "       '28 m² built', '370 m² built', '231 m² built', '723 m² built',\n",
       "       '285 m² built', '262 m² built', '600 m² built', '329 m² built',\n",
       "       '260 m² built', '217 m² built', '454 m² built', '332 m² built',\n",
       "       '535 m² built', '815 m² built', '1,493 m² built', '421 m² built',\n",
       "       '269 m² built', '346 m² built', '244 m² built', '284 m² built',\n",
       "       '316 m² built', '307 m² built', '440 m² built', '511 m² built',\n",
       "       '362 m² built', '318 m² built', '378 m² built', '408 m² built',\n",
       "       '675 m² built', '668 m² built', '455 m² built', '540 m² built',\n",
       "       '622 m² built', '560 m² built', '303 m² built', '286 m² built',\n",
       "       '291 m² built', '299 m² built', '570 m² built', '278 m² built',\n",
       "       '501 m² built', '520 m² built', '368 m² built', '348 m² built',\n",
       "       '359 m² built', '639 m² built', '907 m² built', '720 m² built',\n",
       "       '950 m² built', '388 m² built', '322 m² built', '420 m² built',\n",
       "       '601 m² built', '367 m² built', '246 m² built', '1,227 m² built',\n",
       "       '257 m² built', '331 m² built', '340 m² built', '352 m² built',\n",
       "       '358 m² built', '672 m² built', '403 m² built', '309 m² built',\n",
       "       '646 m² built', '451 m² built', '275 m² built', '650 m² built',\n",
       "       '565 m² built', '386 m² built', '342 m² built', '418 m² built',\n",
       "       '1,794 m² built', '186 m² built', '902 m² built', '725 m² built',\n",
       "       '281 m² built', '252 m² built', '288 m² built', '389 m² built',\n",
       "       '569 m² built', '660 m² built', '377 m² built', '459 m² built',\n",
       "       '355 m² built', '524 m² built', '682 m² built', '399 m² built',\n",
       "       '534 m² built', '554 m² built', '585 m² built', '434 m² built',\n",
       "       '430 m² built', '699 m² built', '517 m² built', '282 m² built'],\n",
       "      dtype=object)"
      ]
     },
     "execution_count": 62,
     "metadata": {},
     "output_type": "execute_result"
    }
   ],
   "source": [
    "dirty_data[\"sq_m_built\"].unique()"
   ]
  },
  {
   "cell_type": "code",
   "execution_count": 63,
   "id": "fa0b3ab7",
   "metadata": {},
   "outputs": [],
   "source": [
    "dirty_data[\"sq_m_built\"] = dirty_data[\"sq_m_built\"].str.replace(\" m² built\", \"\").str.replace(\",\",\"\").astype('float32')\n"
   ]
  },
  {
   "cell_type": "code",
   "execution_count": 64,
   "id": "905aac38",
   "metadata": {},
   "outputs": [
    {
     "data": {
      "text/plain": [
       "array([  80.,   58.,  155.,   89.,   70.,   73.,  149.,   33.,  118.,\n",
       "         50.,   54.,  110.,  224.,   75.,   57.,   56.,   40.,   69.,\n",
       "         41.,   45.,  214.,   36.,   67.,   61.,   91.,   35.,   49.,\n",
       "         51.,   94.,  190.,  197.,   81.,   79.,  179.,  113.,  135.,\n",
       "         77.,  131.,   95.,  120.,   90.,   65.,   55.,   34.,   39.,\n",
       "         78.,   71.,   76.,  102.,   66.,   82.,  232.,  310.,  150.,\n",
       "        107.,   72.,  161.,   74.,  128.,   42.,   88.,   62.,  104.,\n",
       "        293.,  103.,  145.,  126.,   31.,  134.,  108.,  125.,  164.,\n",
       "         96.,  219.,  129.,  216.,  111.,  195.,   87.,  132.,  363.,\n",
       "        280.,  188.,  187.,  206.,  239.,  130.,  138.,  146.,   93.,\n",
       "        115.,  100.,   85.,   83.,   99.,   32.,  109.,  101.,  121.,\n",
       "        184.,   60.,   84.,  374.,  170.,   47.,  180.,  147.,   59.,\n",
       "        148.,   68.,   92.,  178.,  240.,  215.,  205.,  330.,  213.,\n",
       "        106.,   37.,   86.,  413.,  160.,  176.,  550.,  375.,  203.,\n",
       "        182.,  183.,  137.,  250.,  870.,  167.,   63.,   52.,  140.,\n",
       "        313.,  226.,  900.,  123.,   64.,   53.,  159.,  417.,  549.,\n",
       "        360.,  719.,  345.,  220.,  202.,  289.,  133.,  207.,  124.,\n",
       "        175.,   98.,  530.,   46.,  243.,   43.,   48.,  204.,  277.,\n",
       "        105.,  256.,  201.,  314.,  156.,  141.,  200.,  153.,  116.,\n",
       "         97.,  366.,  227.,  158.,  223.,  143.,  667.,  387.,  174.,\n",
       "        229.,  290.,  230.,   30.,  114.,  228.,  119.,  192.,  169.,\n",
       "        189.,  267.,  209.,  351.,  191.,   29.,   44., 1800.,  122.,\n",
       "        194.,  439.,  270., 1000., 1317.,  320., 1450.,  641.,  154.,\n",
       "       1400.,  301.,  199.,  245.,  497.,  221.,  222.,  365.,  521.,\n",
       "        234.,  311.,  326.,  264.,  157.,  166.,  335.,  315.,  300.,\n",
       "        117.,  151.,  241.,  253.,  144.,  248.,  127.,  210.,  236.,\n",
       "        312.,  468.,  136.,  589.,  276.,  880.,  634.,  265.,  251.,\n",
       "        211.,  112.,  177., 1609.,  152.,  212.,  173.,  427.,  493.,\n",
       "        254.,  380.,  165.,  410.,  196.,  327.,  305.,   38.,  356.,\n",
       "        198.,  247.,  225.,  283.,  258.,  235.,  171.,  142.,  139.,\n",
       "        181.,  296.,  739.,  302.,  208.,  519.,  483.,  162.,  371.,\n",
       "       1244.,  412.,  350.,  325.,  390.,  428.,  255.,  416.,  218.,\n",
       "        233.,  242.,   25.,   24.,  568.,  168.,  536.,  450.,  259.,\n",
       "        263.,  850.,  319.,  172.,  470.,  492.,  471.,  800.,  546.,\n",
       "        391.,  238.,  163.,  287.,  321.,  385.,  268.,  273.,  605.,\n",
       "        237.,  426.,  295.,  304.,   21.,   27.,  807.,  500.,  400.,\n",
       "        968.,   26.,  372.,  354.,  261.,  567.,  796.,  292., 1200.,\n",
       "         19.,  274.,  648.,  476.,   22., 1011.,  694.,  438.,  193.,\n",
       "        614.,  590.,  580.,  401.,  297.,  610.,  185.,  298.,   20.,\n",
       "        499.,   28.,  370.,  231.,  723.,  285.,  262.,  600.,  329.,\n",
       "        260.,  217.,  454.,  332.,  535.,  815., 1493.,  421.,  269.,\n",
       "        346.,  244.,  284.,  316.,  307.,  440.,  511.,  362.,  318.,\n",
       "        378.,  408.,  675.,  668.,  455.,  540.,  622.,  560.,  303.,\n",
       "        286.,  291.,  299.,  570.,  278.,  501.,  520.,  368.,  348.,\n",
       "        359.,  639.,  907.,  720.,  950.,  388.,  322.,  420.,  601.,\n",
       "        367.,  246., 1227.,  257.,  331.,  340.,  352.,  358.,  672.,\n",
       "        403.,  309.,  646.,  451.,  275.,  650.,  565.,  386.,  342.,\n",
       "        418., 1794.,  186.,  902.,  725.,  281.,  252.,  288.,  389.,\n",
       "        569.,  660.,  377.,  459.,  355.,  524.,  682.,  399.,  534.,\n",
       "        554.,  585.,  434.,  430.,  699.,  517.,  282.], dtype=float32)"
      ]
     },
     "execution_count": 64,
     "metadata": {},
     "output_type": "execute_result"
    }
   ],
   "source": [
    "dirty_data[\"sq_m_built\"].unique()"
   ]
  },
  {
   "cell_type": "markdown",
   "id": "1bce82bb",
   "metadata": {},
   "source": [
    "#### sq_m_floor_area"
   ]
  },
  {
   "cell_type": "code",
   "execution_count": 65,
   "id": "145ee1da",
   "metadata": {},
   "outputs": [
    {
     "data": {
      "text/plain": [
       "array([nan, '49 m² floor area', '89 m² floor area', '80 m² floor area',\n",
       "       '45 m² floor area', '105 m² floor area', '70 m² floor area',\n",
       "       '48 m² floor area', '65 m² floor area', '36 m² floor area',\n",
       "       '60 m² floor area', '34 m² floor area', '32 m² floor area',\n",
       "       '58 m² floor area', '42 m² floor area', '180 m² floor area',\n",
       "       '66 m² floor area', '178 m² floor area', '101 m² floor area',\n",
       "       '104 m² floor area', '47 m² floor area', '79 m² floor area',\n",
       "       '28 m² floor area', '33 m² floor area', '72 m² floor area',\n",
       "       '64 m² floor area', '87 m² floor area', '99 m² floor area',\n",
       "       '88 m² floor area', '69 m² floor area', '132 m² floor area',\n",
       "       '252 m² floor area', '136 m² floor area', '46 m² floor area',\n",
       "       '92 m² floor area', '140 m² floor area', '100 m² floor area',\n",
       "       '57 m² floor area', '144 m² floor area', '110 m² floor area',\n",
       "       '113 m² floor area', '95 m² floor area', '37 m² floor area',\n",
       "       '108 m² floor area', '314 m² floor area', '167 m² floor area',\n",
       "       '188 m² floor area', '195 m² floor area', '86 m² floor area',\n",
       "       '94 m² floor area', '50 m² floor area', '75 m² floor area',\n",
       "       '53 m² floor area', '85 m² floor area', '56 m² floor area',\n",
       "       '98 m² floor area', '134 m² floor area', '63 m² floor area',\n",
       "       '336 m² floor area', '30 m² floor area', '153 m² floor area',\n",
       "       '76 m² floor area', '160 m² floor area', '78 m² floor area',\n",
       "       '120 m² floor area', '59 m² floor area', '67 m² floor area',\n",
       "       '137 m² floor area', '81 m² floor area', '103 m² floor area',\n",
       "       '71 m² floor area', '52 m² floor area', '190 m² floor area',\n",
       "       '200 m² floor area', '55 m² floor area', '44 m² floor area',\n",
       "       '181 m² floor area', '96 m² floor area', '90 m² floor area',\n",
       "       '68 m² floor area', '74 m² floor area', '93 m² floor area',\n",
       "       '54 m² floor area', '503 m² floor area', '347 m² floor area',\n",
       "       '114 m² floor area', '220 m² floor area', '73 m² floor area',\n",
       "       '40 m² floor area', '62 m² floor area', '193 m² floor area',\n",
       "       '208 m² floor area', '850 m² floor area', '91 m² floor area',\n",
       "       '115 m² floor area', '448 m² floor area', '530 m² floor area',\n",
       "       '107 m² floor area', '259 m² floor area', '117 m² floor area',\n",
       "       '335 m² floor area', '106 m² floor area', '41 m² floor area',\n",
       "       '242 m² floor area', '83 m² floor area', '77 m² floor area',\n",
       "       '218 m² floor area', '183 m² floor area', '300 m² floor area',\n",
       "       '61 m² floor area', '211 m² floor area', '162 m² floor area',\n",
       "       '51 m² floor area', '135 m² floor area', '164 m² floor area',\n",
       "       '38 m² floor area', '35 m² floor area', '146 m² floor area',\n",
       "       '124 m² floor area', '250 m² floor area', '210 m² floor area',\n",
       "       '239 m² floor area', '240 m² floor area', '111 m² floor area',\n",
       "       '125 m² floor area', '82 m² floor area', '168 m² floor area',\n",
       "       '150 m² floor area', '102 m² floor area', '196 m² floor area',\n",
       "       '43 m² floor area', '170 m² floor area', '154 m² floor area',\n",
       "       '84 m² floor area', '143 m² floor area', '254 m² floor area',\n",
       "       '212 m² floor area', '248 m² floor area', '545 m² floor area',\n",
       "       '142 m² floor area', '1,300 m² floor area', '216 m² floor area',\n",
       "       '177 m² floor area', '97 m² floor area', '198 m² floor area',\n",
       "       '270 m² floor area', '130 m² floor area', '199 m² floor area',\n",
       "       '172 m² floor area', '118 m² floor area', '138 m² floor area',\n",
       "       '173 m² floor area', '31 m² floor area', '148 m² floor area',\n",
       "       '145 m² floor area', '116 m² floor area', '224 m² floor area',\n",
       "       '109 m² floor area', '174 m² floor area', '280 m² floor area',\n",
       "       '121 m² floor area', '504 m² floor area', '165 m² floor area',\n",
       "       '157 m² floor area', '156 m² floor area', '112 m² floor area',\n",
       "       '123 m² floor area', '215 m² floor area', '260 m² floor area',\n",
       "       '15 m² floor area', '131 m² floor area', '214 m² floor area',\n",
       "       '230 m² floor area', '155 m² floor area', '175 m² floor area',\n",
       "       '25 m² floor area', '176 m² floor area', '340 m² floor area',\n",
       "       '182 m² floor area', '152 m² floor area', '159 m² floor area',\n",
       "       '435 m² floor area', '122 m² floor area', '253 m² floor area',\n",
       "       '350 m² floor area', '325 m² floor area', '205 m² floor area',\n",
       "       '185 m² floor area', '39 m² floor area', '158 m² floor area',\n",
       "       '128 m² floor area', '20 m² floor area', '450 m² floor area',\n",
       "       '129 m² floor area', '163 m² floor area', '206 m² floor area',\n",
       "       '139 m² floor area', '119 m² floor area', '430 m² floor area',\n",
       "       '600 m² floor area', '189 m² floor area', '166 m² floor area',\n",
       "       '285 m² floor area', '192 m² floor area', '365 m² floor area',\n",
       "       '225 m² floor area', '244 m² floor area', '287 m² floor area',\n",
       "       '127 m² floor area', '249 m² floor area', '133 m² floor area',\n",
       "       '203 m² floor area', '24 m² floor area', '439 m² floor area',\n",
       "       '900 m² floor area', '22 m² floor area', '273 m² floor area',\n",
       "       '257 m² floor area', '265 m² floor area', '235 m² floor area',\n",
       "       '258 m² floor area', '161 m² floor area', '264 m² floor area',\n",
       "       '26 m² floor area', '21 m² floor area', '213 m² floor area',\n",
       "       '480 m² floor area', '271 m² floor area', '289 m² floor area',\n",
       "       '296 m² floor area', '191 m² floor area', '256 m² floor area',\n",
       "       '498 m² floor area', '147 m² floor area', '149 m² floor area',\n",
       "       '187 m² floor area', '694 m² floor area', '251 m² floor area',\n",
       "       '255 m² floor area', '290 m² floor area', '141 m² floor area',\n",
       "       '355 m² floor area', '151 m² floor area', '330 m² floor area',\n",
       "       '267 m² floor area', '730 m² floor area', '659 m² floor area',\n",
       "       '369 m² floor area', '184 m² floor area', '269 m² floor area',\n",
       "       '282 m² floor area', '460 m² floor area', '169 m² floor area',\n",
       "       '275 m² floor area', '27 m² floor area', '217 m² floor area',\n",
       "       '371 m² floor area', '621 m² floor area', '281 m² floor area',\n",
       "       '231 m² floor area', '374 m² floor area', '202 m² floor area',\n",
       "       '11 m² floor area', '29 m² floor area', '221 m² floor area',\n",
       "       '394 m² floor area', '295 m² floor area', '328 m² floor area',\n",
       "       '201 m² floor area', '315 m² floor area', '226 m² floor area',\n",
       "       '800 m² floor area', '680 m² floor area', '279 m² floor area',\n",
       "       '245 m² floor area', '262 m² floor area', '126 m² floor area',\n",
       "       '227 m² floor area', '318 m² floor area', '219 m² floor area',\n",
       "       '17 m² floor area', '380 m² floor area', '602 m² floor area',\n",
       "       '323 m² floor area', '550 m² floor area', '390 m² floor area',\n",
       "       '284 m² floor area', '425 m² floor area', '234 m² floor area',\n",
       "       '500 m² floor area', '236 m² floor area', '302 m² floor area',\n",
       "       '305 m² floor area', '16 m² floor area', '233 m² floor area',\n",
       "       '23 m² floor area', '345 m² floor area', '400 m² floor area',\n",
       "       '320 m² floor area', '207 m² floor area', '378 m² floor area',\n",
       "       '386 m² floor area', '194 m² floor area'], dtype=object)"
      ]
     },
     "execution_count": 65,
     "metadata": {},
     "output_type": "execute_result"
    }
   ],
   "source": [
    "dirty_data[\"sq_m_floor_area\"].unique()"
   ]
  },
  {
   "cell_type": "code",
   "execution_count": 66,
   "id": "7dab7092",
   "metadata": {},
   "outputs": [],
   "source": [
    "dirty_data[\"sq_m_floor_area\"] = dirty_data[\"sq_m_floor_area\"].str.replace(\" m² floor area\",\"\").str.replace(\",\",\"\").astype(\"float32\")"
   ]
  },
  {
   "cell_type": "code",
   "execution_count": 67,
   "id": "384338f0",
   "metadata": {},
   "outputs": [
    {
     "data": {
      "text/html": [
       "<div>\n",
       "<style scoped>\n",
       "    .dataframe tbody tr th:only-of-type {\n",
       "        vertical-align: middle;\n",
       "    }\n",
       "\n",
       "    .dataframe tbody tr th {\n",
       "        vertical-align: top;\n",
       "    }\n",
       "\n",
       "    .dataframe thead th {\n",
       "        text-align: right;\n",
       "    }\n",
       "</style>\n",
       "<table border=\"1\" class=\"dataframe\">\n",
       "  <thead>\n",
       "    <tr style=\"text-align: right;\">\n",
       "      <th></th>\n",
       "      <th>sq_m_built</th>\n",
       "      <th>sq_m_floor_area</th>\n",
       "    </tr>\n",
       "  </thead>\n",
       "  <tbody>\n",
       "    <tr>\n",
       "      <th>0</th>\n",
       "      <td>80.0000</td>\n",
       "      <td>NaN</td>\n",
       "    </tr>\n",
       "    <tr>\n",
       "      <th>1</th>\n",
       "      <td>58.0000</td>\n",
       "      <td>49.0000</td>\n",
       "    </tr>\n",
       "    <tr>\n",
       "      <th>2</th>\n",
       "      <td>155.0000</td>\n",
       "      <td>89.0000</td>\n",
       "    </tr>\n",
       "    <tr>\n",
       "      <th>3</th>\n",
       "      <td>89.0000</td>\n",
       "      <td>80.0000</td>\n",
       "    </tr>\n",
       "    <tr>\n",
       "      <th>4</th>\n",
       "      <td>70.0000</td>\n",
       "      <td>NaN</td>\n",
       "    </tr>\n",
       "    <tr>\n",
       "      <th>...</th>\n",
       "      <td>...</td>\n",
       "      <td>...</td>\n",
       "    </tr>\n",
       "    <tr>\n",
       "      <th>10946</th>\n",
       "      <td>45.0000</td>\n",
       "      <td>39.0000</td>\n",
       "    </tr>\n",
       "    <tr>\n",
       "      <th>10947</th>\n",
       "      <td>63.0000</td>\n",
       "      <td>55.0000</td>\n",
       "    </tr>\n",
       "    <tr>\n",
       "      <th>10948</th>\n",
       "      <td>46.0000</td>\n",
       "      <td>40.0000</td>\n",
       "    </tr>\n",
       "    <tr>\n",
       "      <th>10949</th>\n",
       "      <td>67.0000</td>\n",
       "      <td>NaN</td>\n",
       "    </tr>\n",
       "    <tr>\n",
       "      <th>10950</th>\n",
       "      <td>81.0000</td>\n",
       "      <td>NaN</td>\n",
       "    </tr>\n",
       "  </tbody>\n",
       "</table>\n",
       "<p>10951 rows × 2 columns</p>\n",
       "</div>"
      ],
      "text/plain": [
       "       sq_m_built  sq_m_floor_area\n",
       "0         80.0000              NaN\n",
       "1         58.0000          49.0000\n",
       "2        155.0000          89.0000\n",
       "3         89.0000          80.0000\n",
       "4         70.0000              NaN\n",
       "...           ...              ...\n",
       "10946     45.0000          39.0000\n",
       "10947     63.0000          55.0000\n",
       "10948     46.0000          40.0000\n",
       "10949     67.0000              NaN\n",
       "10950     81.0000              NaN\n",
       "\n",
       "[10951 rows x 2 columns]"
      ]
     },
     "execution_count": 67,
     "metadata": {},
     "output_type": "execute_result"
    }
   ],
   "source": [
    "dirty_data[[\"sq_m_built\", \"sq_m_floor_area\"]]"
   ]
  },
  {
   "cell_type": "markdown",
   "id": "a3cddcc9",
   "metadata": {},
   "source": [
    "#### floor"
   ]
  },
  {
   "cell_type": "code",
   "execution_count": 68,
   "id": "39dec0fd",
   "metadata": {},
   "outputs": [
    {
     "data": {
      "text/plain": [
       "array(['3rd floor', '1st floor', '4th floor', nan, '5th floor',\n",
       "       '2nd floor', 'ground floor', '7th floor', '2 floor', '10th floor',\n",
       "       '8th floor', '21st floor', '6th floor', '24th floor', '5 floor',\n",
       "       '3 floor', '4 floor', '9th floor', '1 floor', '15th floor',\n",
       "       '14th floor', '16th floor', ' floor', '11th floor', '17th floor',\n",
       "       '22nd floor', '12th floor', '23rd floor', '13th floor',\n",
       "       '25th floor', '20th floor', '6 floor'], dtype=object)"
      ]
     },
     "execution_count": 68,
     "metadata": {},
     "output_type": "execute_result"
    }
   ],
   "source": [
    "dirty_data[\"floor\"].unique()"
   ]
  },
  {
   "cell_type": "code",
   "execution_count": 69,
   "id": "df7f30a2",
   "metadata": {},
   "outputs": [
    {
     "data": {
      "text/plain": [
       "6                                                                                                                                               [['149 m² built', '4 bedrooms', '2 bathrooms', 'Second hand/good condition', 'Built in 1900', 'No heating'], ['exterior', 'No lift'], ['Consumption:128 kWh/m² year', 'Emissions:26 kg CO2/m² year']]\n",
       "21                                                                                                                             [['56 m² built', '1 bedroom', '1 bathroom', 'Terrace', 'Second hand/good condition', 'Orientation South', 'Central heating: Gas'], ['interior', 'With lift'], ['Air conditioning', 'Swimming pool'], ['Consumption:']]\n",
       "22                                                                                                                             [['56 m² built', '1 bedroom', '1 bathroom', 'Terrace', 'Second hand/good condition', 'Orientation South', 'Central heating: Gas'], ['interior', 'With lift'], ['Air conditioning', 'Swimming pool'], ['Consumption:']]\n",
       "23                                                                                                                             [['56 m² built', '1 bedroom', '1 bathroom', 'Terrace', 'Second hand/good condition', 'Orientation South', 'Central heating: Gas'], ['interior', 'With lift'], ['Air conditioning', 'Swimming pool'], ['Consumption:']]\n",
       "24                                                                                                                             [['56 m² built', '1 bedroom', '1 bathroom', 'Terrace', 'Second hand/good condition', 'Orientation South', 'Central heating: Gas'], ['interior', 'With lift'], ['Air conditioning', 'Swimming pool'], ['Consumption:']]\n",
       "33                                                                                                                                                                             [['214 m² built', '2 bedrooms', '1 bathroom', 'Terrace', 'Second hand/good condition', 'No heating'], ['exterior', 'With lift'], ['Swimming pool'], ['Not indicated']]\n",
       "42                                                                                                                             [['35 m² built, 32 m² floor area', '1 bedroom', '1 bathroom', 'Balcony', 'Second hand/good condition', 'Individual heating'], ['Mezzanine interior', 'No lift'], ['Air conditioning'], ['Consumption:', 'Emissions:']]\n",
       "47                                                                                                                                                  [['190 m² built, 180 m² floor area', '5 bedrooms', '2 bathrooms', 'Second hand/needs renovating', 'Orientation North, East', 'Built in 1855'], ['Mezzanine exterior', 'No lift'], ['In process']]\n",
       "49                                                                                                                                                                          [['197 m² built', '2 bedrooms', '3 bathrooms', 'New housing development', 'Fitted wardrobes'], ['Mezzanine exterior', 'With lift'], ['Air conditioning'], ['In process']]\n",
       "74                                                                                                                                                 [['71 m² built, 64 m² floor area', '3 bedrooms', '1 bathroom', 'Second hand/good condition'], ['Mezzanine exterior', 'With lift'], ['Consumption:345 kWh/m² year', 'Emissions:45 kg CO2/m² year']]\n",
       "100                                                                                                                          [['293 m² built', 'No bedroom', '2 bathrooms', 'Terrace', 'Second hand/good condition', 'Fitted wardrobes', 'Built in 1830'], ['exterior', 'With lift'], ['Consumption:195 kWh/m² year', 'Emissions:43 kg CO2/m² year']]\n",
       "113                                                                                                                                                       [['125 m² built', '3 bedrooms', '2 bathrooms', 'Terrace', 'Second hand/good condition'], ['With lift'], ['Air conditioning'], ['Consumption:25 kWh/m² year', 'Emissions:4 kg CO2/m² year']]\n",
       "125                                                                                                                                                                         [['House', '96 m² built, 65 m² floor area', '4 bedrooms', '2 bathrooms', 'Second hand/good condition', 'Storeroom', 'Orientation East', 'Built in 1955'], ['In process']]\n",
       "129                                                                                                                                                                                                                                          [['67 m² built', '2 bedrooms', '1 bathroom', 'Second hand/good condition'], ['No lift'], ['In process']]\n",
       "134                                                                                                  [['216 m² built', '6 bedrooms', '3 bathrooms', 'Balcony', 'Second hand/good condition', 'Built in 1903', 'Individual heating'], ['exterior', 'With lift'], ['Air conditioning'], ['Consumption:135 kWh/m² year', 'Emissions:22 kg CO2/m² year']]\n",
       "136    [['195 m² built', '4 bedrooms', '2 bathrooms', 'Terrace and balcony', 'Second hand/good condition', 'Fitted wardrobes', 'Orientation North, South, East, West', 'Built in 1910', 'Individual heating: Natural gas'], ['Mezzanine exterior', 'With lift'], ['Air conditioning'], ['Consumption:82 kWh/m² year', 'Emissions:15 kg CO2/m² year']]\n",
       "140                                                 [['363 m² built, 314 m² floor area', '7 bedrooms', '4 bathrooms', 'Terrace and balcony', 'Second hand/needs renovating', 'Orientation North, South', 'Built in 1919', 'Individual heating'], ['Mezzanine exterior', 'With lift'], ['Consumption:100 kWh/m² year', 'Emissions:10 kg CO2/m² year']]\n",
       "148                                                                                                           [['138 m² built', '5 bedrooms', '3 bathrooms', 'Terrace and balcony', 'Second hand/needs renovating', 'Orientation South, East'], ['Mezzanine exterior', 'With lift'], ['Consumption:800 kWh/m² year', 'Emissions:800 kg CO2/m² year']]\n",
       "169                                                                                                                                                      [['99 m² built', '4 bedrooms', '2 bathrooms', 'Balcony', 'Second hand/good condition', 'Fitted wardrobes'], ['exterior', 'With lift'], ['Air conditioning'], ['Consumption:', 'Emissions:']]\n",
       "173                                                                                                                                                                                                                             [['32 m² built', '1 bedroom', '1 bathroom', 'Second hand/good condition'], ['exterior', 'No lift'], ['Consumption:']]\n",
       "181                                                                                                                                                        [['111 m² built, 98 m² floor area', '4 bedrooms', '2 bathrooms', 'Second hand/good condition'], ['exterior', 'With lift'], ['Consumption:160 kWh/m² year', 'Emissions:38 kg CO2/m² year']]\n",
       "185                                                                                                                           [['House', '184 m² built', '4 bedrooms', '3 bathrooms', 'Terrace and balcony', 'Parking space included in the price', 'Second hand/good condition', 'Storeroom', 'Orientation South', 'Built in 1930'], ['In process']]\n",
       "203                                                                                        [['80 m² built', '2 bedrooms', '1 bathroom', 'Terrace and balcony', 'Second hand/good condition', 'Built in 1877', 'Individual heating'], ['exterior', 'With lift'], ['Air conditioning'], ['Consumption:252 kWh/m² year', 'Emissions:49 kg CO2/m² year']]\n",
       "210                                                                                                                               [['74 m² built, 65 m² floor area', '3 bedrooms', '1 bathroom', 'Second hand/good condition', 'Built in 1976'], ['Mezzanine exterior', 'With lift'], ['Consumption:261 kWh/m² year', 'Emissions:55 kg CO2/m² year']]\n",
       "228                                                                                                                 [['69 m² built, 55 m² floor area', '3 bedrooms', '1 bathroom', 'Second hand/good condition', 'Built in 1968', 'No heating'], ['Mezzanine exterior', 'With lift'], ['Consumption:200 kWh/m² year', 'Emissions:40 kg CO2/m² year']]\n",
       "231                                                                                                                                                                  [['75 m² built', '3 bedrooms', '1 bathroom', 'Balcony', 'Second hand/good condition', 'Built in 1975', 'No heating'], ['exterior', 'With lift'], ['Consumption:', 'Emissions:']]\n",
       "232                                                                                                                                   [['69 m² built', '3 bedrooms', '1 bathroom', 'Second hand/good condition', 'Built in 1968', 'No heating'], ['Mezzanine exterior', 'With lift'], ['Consumption:292 kWh/m² year', 'Emissions:55 kg CO2/m² year']]\n",
       "235                                                                                                                                                                                                                                  [['213 m² built, 181 m² floor area', '4 bedrooms', '2 bathrooms', 'Second hand/good condition'], ['In process']]\n",
       "241                                                                                                                                                                                                            [['120 m² built', '3 bedrooms', '2 bathrooms', 'Second hand/good condition', 'No heating'], ['exterior', 'With lift'], ['In process']]\n",
       "249                                                                                                                                                            [['70 m² built, 68 m² floor area', '3 bedrooms', '1 bathroom', 'Second hand/good condition', 'No heating'], ['exterior'], ['Consumption:1 kWh/m² year', 'Emissions:1 kg CO2/m² year']]\n",
       "250                                                                                                                                                                                               [['96 m² built', '4 bedrooms', '2 bathrooms', 'Balcony', 'Second hand/good condition'], ['Mezzanine', 'With lift'], ['Consumption:', 'Emissions:']]\n",
       "253                                                                                                                                                                                                                            [['66 m² built', '2 bedrooms', '1 bathroom', 'Second hand/good condition'], ['exterior', 'No lift'], ['Consumption:']]\n",
       "254                                                                                                                                                                                                                            [['66 m² built', '2 bedrooms', '1 bathroom', 'Second hand/good condition'], ['exterior', 'No lift'], ['Consumption:']]\n",
       "255                                                                                                                                                                                                                            [['66 m² built', '2 bedrooms', '1 bathroom', 'Second hand/good condition'], ['exterior', 'No lift'], ['Consumption:']]\n",
       "256                                                                                                                                                                                                                            [['66 m² built', '2 bedrooms', '1 bathroom', 'Second hand/good condition'], ['exterior', 'No lift'], ['Consumption:']]\n",
       "259                                                                                                                         [['95 m² built, 93 m² floor area', '4 bedrooms', '1 bathroom', 'Terrace', 'Second hand/good condition', 'No heating'], ['Mezzanine exterior', 'No lift'], ['Consumption:109 kWh/m² year', 'Emissions:23 kg CO2/m² year']]\n",
       "266                                                                                [['55 m² built, 54 m² floor area', '3 bedrooms', '1 bathroom', 'Terrace', 'Second hand/good condition', 'Orientation South', 'Individual heating: Natural gas'], ['Basement exterior', 'No lift'], ['Consumption:155 kWh/m² year', 'Emissions:55 kg CO2/m² year']]\n",
       "268                                                                                                                                                                              [['69 m² built', '3 bedrooms', '1 bathroom', 'Balcony', 'Second hand/good condition', 'Fitted wardrobes', 'Built in 1976'], ['exterior', 'No lift'], ['In process']]\n",
       "277                                                             [['55 m² built, 53 m² floor area', '3 bedrooms', '1 bathroom', 'Balcony', 'Second hand/needs renovating', 'Orientation East', 'Built in 1973', 'Individual heating: Natural gas'], ['Mezzanine exterior', 'No lift'], ['Consumption:260 kWh/m² year', 'Emissions:54 kg CO2/m² year']]\n",
       "284                                                                                                                                                                                             [['71 m² built', '2 bedrooms', '1 bathroom', 'Second hand/good condition', 'Built in 1973'], ['interior', 'No lift'], ['Consumption:', 'Emissions:']]\n",
       "285                                                                                                                                                                                             [['71 m² built', '2 bedrooms', '1 bathroom', 'Second hand/good condition', 'Built in 1973'], ['interior', 'No lift'], ['Consumption:', 'Emissions:']]\n",
       "286                                                                                                                                                                                             [['71 m² built', '2 bedrooms', '1 bathroom', 'Second hand/good condition', 'Built in 1973'], ['interior', 'No lift'], ['Consumption:', 'Emissions:']]\n",
       "287                                                                                                                                                                                             [['71 m² built', '2 bedrooms', '1 bathroom', 'Second hand/good condition', 'Built in 1973'], ['interior', 'No lift'], ['Consumption:', 'Emissions:']]\n",
       "297                                                                                                                                                                                                                        [['65 m² built', '3 bedrooms', '1 bathroom', 'Second hand/good condition'], ['Mezzanine', 'With lift'], ['Not indicated']]\n",
       "321                                           [['Detached house', '870 m² built', '6 bedrooms', '4 bathrooms', 'Terrace and balcony', 'Parking space included in the price', 'Second hand/good condition', 'Fitted wardrobes', 'Storeroom', 'Orientation North, South, East, West'], ['Air conditioning', 'Swimming pool', 'Garden'], ['In process']]\n",
       "324                                                                                 [['83 m² built, 73 m² floor area', '4 bedrooms', '1 bathroom', 'Balcony', 'Second hand/good condition', 'Built in 1970', 'Individual heating: Natural gas'], ['Mezzanine exterior', 'With lift'], ['Consumption:999 kWh/m² year', 'Emissions:99 kg CO2/m² year']]\n",
       "328                                                                                                [['63 m² built, 53 m² floor area', '2 bedrooms', '1 bathroom', 'Terrace', 'Second hand/good condition', 'Built in 1979', 'Individual heating: Electric'], ['exterior', 'No lift'], ['Consumption:999 kWh/m² year', 'Emissions:99 kg CO2/m² year']]\n",
       "337                                                                                                                                                                                                      [['52 m² built', '3 bedrooms', '1 bathroom', 'Second hand/needs renovating', 'Built in 1900'], ['exterior', 'With lift'], ['Not indicated']]\n",
       "349                                                                                                                                                                                                  [['72 m² built', '3 bedrooms', '1 bathroom', 'Balcony', 'Second hand/good condition'], ['Mezzanine', 'No lift'], ['Consumption:', 'Emissions:']]\n",
       "350                                                                                                                                                                                     [['65 m² built', '3 bedrooms', '1 bathroom', 'Second hand/good condition'], ['Mezzanine', 'With lift'], ['Air conditioning'], ['Consumption:', 'Emissions:']]\n",
       "Name: raw_row, dtype: object"
      ]
     },
     "execution_count": 69,
     "metadata": {},
     "output_type": "execute_result"
    }
   ],
   "source": [
    "dirty_data.loc[dirty_data[\"floor\"].isna(), \"raw_row\"].head(50)"
   ]
  },
  {
   "cell_type": "markdown",
   "id": "ea853a89",
   "metadata": {},
   "source": [
    "I have forgotten the Mezzanine keyword. I need to fix this first before I continue"
   ]
  },
  {
   "cell_type": "code",
   "execution_count": 70,
   "id": "a461bd85",
   "metadata": {
    "scrolled": false
   },
   "outputs": [],
   "source": [
    "dirty_data.loc[dirty_data[\"raw_row\"].str.lower().str.contains(\"mezzanine\"),\"floor\"] = \"mezzanine\""
   ]
  },
  {
   "cell_type": "code",
   "execution_count": 71,
   "id": "be0b5a86",
   "metadata": {},
   "outputs": [
    {
     "data": {
      "text/plain": [
       "array(['3rd floor', '1st floor', '4th floor', nan, '5th floor',\n",
       "       '2nd floor', 'mezzanine', 'ground floor', '7th floor', '2 floor',\n",
       "       '10th floor', '8th floor', '21st floor', '6th floor', '24th floor',\n",
       "       '5 floor', '3 floor', '4 floor', '9th floor', '1 floor',\n",
       "       '15th floor', '14th floor', '16th floor', ' floor', '11th floor',\n",
       "       '17th floor', '22nd floor', '12th floor', '23rd floor',\n",
       "       '13th floor', '25th floor', '20th floor', '6 floor'], dtype=object)"
      ]
     },
     "execution_count": 71,
     "metadata": {},
     "output_type": "execute_result"
    }
   ],
   "source": [
    "dirty_data[\"floor\"].unique()"
   ]
  },
  {
   "cell_type": "code",
   "execution_count": 72,
   "id": "1aa6ef4c",
   "metadata": {},
   "outputs": [
    {
     "data": {
      "text/plain": [
       "949"
      ]
     },
     "execution_count": 72,
     "metadata": {},
     "output_type": "execute_result"
    }
   ],
   "source": [
    "dirty_data[\"floor\"].isna().sum()"
   ]
  },
  {
   "cell_type": "code",
   "execution_count": 73,
   "id": "ca92ca34",
   "metadata": {},
   "outputs": [
    {
     "data": {
      "text/plain": [
       "6                                                                                                                                                                                      [['149 m² built', '4 bedrooms', '2 bathrooms', 'Second hand/good condition', 'Built in 1900', 'No heating'], ['exterior', 'No lift'], ['Consumption:128 kWh/m² year', 'Emissions:26 kg CO2/m² year']]\n",
       "21                                                                                                                                                                    [['56 m² built', '1 bedroom', '1 bathroom', 'Terrace', 'Second hand/good condition', 'Orientation South', 'Central heating: Gas'], ['interior', 'With lift'], ['Air conditioning', 'Swimming pool'], ['Consumption:']]\n",
       "22                                                                                                                                                                    [['56 m² built', '1 bedroom', '1 bathroom', 'Terrace', 'Second hand/good condition', 'Orientation South', 'Central heating: Gas'], ['interior', 'With lift'], ['Air conditioning', 'Swimming pool'], ['Consumption:']]\n",
       "23                                                                                                                                                                    [['56 m² built', '1 bedroom', '1 bathroom', 'Terrace', 'Second hand/good condition', 'Orientation South', 'Central heating: Gas'], ['interior', 'With lift'], ['Air conditioning', 'Swimming pool'], ['Consumption:']]\n",
       "24                                                                                                                                                                    [['56 m² built', '1 bedroom', '1 bathroom', 'Terrace', 'Second hand/good condition', 'Orientation South', 'Central heating: Gas'], ['interior', 'With lift'], ['Air conditioning', 'Swimming pool'], ['Consumption:']]\n",
       "33                                                                                                                                                                                                                    [['214 m² built', '2 bedrooms', '1 bathroom', 'Terrace', 'Second hand/good condition', 'No heating'], ['exterior', 'With lift'], ['Swimming pool'], ['Not indicated']]\n",
       "100                                                                                                                                                                 [['293 m² built', 'No bedroom', '2 bathrooms', 'Terrace', 'Second hand/good condition', 'Fitted wardrobes', 'Built in 1830'], ['exterior', 'With lift'], ['Consumption:195 kWh/m² year', 'Emissions:43 kg CO2/m² year']]\n",
       "113                                                                                                                                                                                              [['125 m² built', '3 bedrooms', '2 bathrooms', 'Terrace', 'Second hand/good condition'], ['With lift'], ['Air conditioning'], ['Consumption:25 kWh/m² year', 'Emissions:4 kg CO2/m² year']]\n",
       "125                                                                                                                                                                                                                [['House', '96 m² built, 65 m² floor area', '4 bedrooms', '2 bathrooms', 'Second hand/good condition', 'Storeroom', 'Orientation East', 'Built in 1955'], ['In process']]\n",
       "129                                                                                                                                                                                                                                                                                 [['67 m² built', '2 bedrooms', '1 bathroom', 'Second hand/good condition'], ['No lift'], ['In process']]\n",
       "134                                                                                                                                         [['216 m² built', '6 bedrooms', '3 bathrooms', 'Balcony', 'Second hand/good condition', 'Built in 1903', 'Individual heating'], ['exterior', 'With lift'], ['Air conditioning'], ['Consumption:135 kWh/m² year', 'Emissions:22 kg CO2/m² year']]\n",
       "169                                                                                                                                                                                             [['99 m² built', '4 bedrooms', '2 bathrooms', 'Balcony', 'Second hand/good condition', 'Fitted wardrobes'], ['exterior', 'With lift'], ['Air conditioning'], ['Consumption:', 'Emissions:']]\n",
       "173                                                                                                                                                                                                                                                                    [['32 m² built', '1 bedroom', '1 bathroom', 'Second hand/good condition'], ['exterior', 'No lift'], ['Consumption:']]\n",
       "181                                                                                                                                                                                               [['111 m² built, 98 m² floor area', '4 bedrooms', '2 bathrooms', 'Second hand/good condition'], ['exterior', 'With lift'], ['Consumption:160 kWh/m² year', 'Emissions:38 kg CO2/m² year']]\n",
       "185                                                                                                                                                                  [['House', '184 m² built', '4 bedrooms', '3 bathrooms', 'Terrace and balcony', 'Parking space included in the price', 'Second hand/good condition', 'Storeroom', 'Orientation South', 'Built in 1930'], ['In process']]\n",
       "203                                                                                                                               [['80 m² built', '2 bedrooms', '1 bathroom', 'Terrace and balcony', 'Second hand/good condition', 'Built in 1877', 'Individual heating'], ['exterior', 'With lift'], ['Air conditioning'], ['Consumption:252 kWh/m² year', 'Emissions:49 kg CO2/m² year']]\n",
       "231                                                                                                                                                                                                         [['75 m² built', '3 bedrooms', '1 bathroom', 'Balcony', 'Second hand/good condition', 'Built in 1975', 'No heating'], ['exterior', 'With lift'], ['Consumption:', 'Emissions:']]\n",
       "235                                                                                                                                                                                                                                                                         [['213 m² built, 181 m² floor area', '4 bedrooms', '2 bathrooms', 'Second hand/good condition'], ['In process']]\n",
       "241                                                                                                                                                                                                                                                   [['120 m² built', '3 bedrooms', '2 bathrooms', 'Second hand/good condition', 'No heating'], ['exterior', 'With lift'], ['In process']]\n",
       "249                                                                                                                                                                                                   [['70 m² built, 68 m² floor area', '3 bedrooms', '1 bathroom', 'Second hand/good condition', 'No heating'], ['exterior'], ['Consumption:1 kWh/m² year', 'Emissions:1 kg CO2/m² year']]\n",
       "253                                                                                                                                                                                                                                                                   [['66 m² built', '2 bedrooms', '1 bathroom', 'Second hand/good condition'], ['exterior', 'No lift'], ['Consumption:']]\n",
       "254                                                                                                                                                                                                                                                                   [['66 m² built', '2 bedrooms', '1 bathroom', 'Second hand/good condition'], ['exterior', 'No lift'], ['Consumption:']]\n",
       "255                                                                                                                                                                                                                                                                   [['66 m² built', '2 bedrooms', '1 bathroom', 'Second hand/good condition'], ['exterior', 'No lift'], ['Consumption:']]\n",
       "256                                                                                                                                                                                                                                                                   [['66 m² built', '2 bedrooms', '1 bathroom', 'Second hand/good condition'], ['exterior', 'No lift'], ['Consumption:']]\n",
       "266                                                                                                                       [['55 m² built, 54 m² floor area', '3 bedrooms', '1 bathroom', 'Terrace', 'Second hand/good condition', 'Orientation South', 'Individual heating: Natural gas'], ['Basement exterior', 'No lift'], ['Consumption:155 kWh/m² year', 'Emissions:55 kg CO2/m² year']]\n",
       "268                                                                                                                                                                                                                     [['69 m² built', '3 bedrooms', '1 bathroom', 'Balcony', 'Second hand/good condition', 'Fitted wardrobes', 'Built in 1976'], ['exterior', 'No lift'], ['In process']]\n",
       "284                                                                                                                                                                                                                                    [['71 m² built', '2 bedrooms', '1 bathroom', 'Second hand/good condition', 'Built in 1973'], ['interior', 'No lift'], ['Consumption:', 'Emissions:']]\n",
       "285                                                                                                                                                                                                                                    [['71 m² built', '2 bedrooms', '1 bathroom', 'Second hand/good condition', 'Built in 1973'], ['interior', 'No lift'], ['Consumption:', 'Emissions:']]\n",
       "286                                                                                                                                                                                                                                    [['71 m² built', '2 bedrooms', '1 bathroom', 'Second hand/good condition', 'Built in 1973'], ['interior', 'No lift'], ['Consumption:', 'Emissions:']]\n",
       "287                                                                                                                                                                                                                                    [['71 m² built', '2 bedrooms', '1 bathroom', 'Second hand/good condition', 'Built in 1973'], ['interior', 'No lift'], ['Consumption:', 'Emissions:']]\n",
       "321                                                                                  [['Detached house', '870 m² built', '6 bedrooms', '4 bathrooms', 'Terrace and balcony', 'Parking space included in the price', 'Second hand/good condition', 'Fitted wardrobes', 'Storeroom', 'Orientation North, South, East, West'], ['Air conditioning', 'Swimming pool', 'Garden'], ['In process']]\n",
       "328                                                                                                                                       [['63 m² built, 53 m² floor area', '2 bedrooms', '1 bathroom', 'Terrace', 'Second hand/good condition', 'Built in 1979', 'Individual heating: Electric'], ['exterior', 'No lift'], ['Consumption:999 kWh/m² year', 'Emissions:99 kg CO2/m² year']]\n",
       "337                                                                                                                                                                                                                                             [['52 m² built', '3 bedrooms', '1 bathroom', 'Second hand/needs renovating', 'Built in 1900'], ['exterior', 'With lift'], ['Not indicated']]\n",
       "353                                        [['123 m² built', '3 bedrooms', '2 bathrooms', 'Terrace', 'Additional parking space for € 35,000', 'Second hand/good condition', 'Built in 2002', 'No heating', 'Access and property adapted for people with reduced mobility'], ['exterior', 'With lift'], ['Air conditioning'], ['Consumption:145 kWh/m² year', 'Emissions:26 kg CO2/m² year']]\n",
       "365                                                                                                                                                                                              [['159 m² built', '3 bedrooms', '2 bathrooms', 'Terrace', 'Second hand/good condition', 'Fitted wardrobes', 'Storeroom'], ['With lift'], ['Air conditioning', 'Swimming pool'], ['Exempt']]\n",
       "366                                                                                                                                                                                                                            [['140 m² built', '4 bedrooms', '3 bathrooms', 'Second hand/good condition', 'Fitted wardrobes', 'Built in 1970'], ['exterior', 'With lift'], ['In process']]\n",
       "373                                                                                       [['Terraced house', '360 m² built', '5 bedrooms', '4 bathrooms', 'Terrace and balcony', 'Parking space included in the price', 'Second hand/good condition', 'Fitted wardrobes', 'Storeroom', 'Orientation West', 'Built in 1998', 'Individual heating: Natural gas'], ['Garden'], ['In process']]\n",
       "401                                                                                                                                                                                                                                                                       [['Semi-detached house', '49 m² built', '2 bedrooms', '1 bathroom', 'Second hand/good condition'], ['In process']]\n",
       "404                                                                                                                                                                                                       [['81 m² built, 75 m² floor area', '4 bedrooms', '1 bathroom', 'Balcony', 'Second hand/good condition', 'Built in 1974'], ['exterior', 'No lift'], ['Consumption:', 'Emissions:']]\n",
       "405                                                                                                                                                                                                                                                               [['74 m² built', '4 bedrooms', '1 bathroom', 'Second hand/good condition'], ['With lift'], ['Consumption:', 'Emissions:']]\n",
       "406                                                                                                                                                                                                                      [['104 m² built', '3 bedrooms', '2 bathrooms', 'Terrace', 'New housing development'], ['exterior', 'With lift'], ['Swimming pool'], ['Consumption:', 'Emissions:']]\n",
       "412                                                                                                                                           [['130 m² built, 106 m² floor area', '4 bedrooms', '2 bathrooms', 'Second hand/good condition', 'Built in 1989', 'Individual heating: Natural gas'], ['exterior', 'With lift'], ['Consumption:57 kWh/m² year', 'Emissions:12 kg CO2/m² year']]\n",
       "489                                                                                                                                                                                                                                                                          [['71 m² built, 53 m² floor area', '3 bedrooms', '1 bathroom', 'Second hand/good condition'], ['Consumption:']]\n",
       "491                                                                         [['277 m² built', '4 bedrooms', '3 bathrooms', 'Terrace', 'Additional parking space for € 32,500', 'Second hand/good condition', 'Fitted wardrobes', 'Storeroom', 'Built in 2005', 'No heating'], ['exterior', 'With lift'], ['Air conditioning'], ['Consumption:32 kWh/m² year', 'Emissions:5 kg CO2/m² year']]\n",
       "492                                                                                                                                                                                          [['Terraced house', '184 m² built', '4 bedrooms', '1 bathroom', 'Terrace', 'Second hand/good condition'], ['Air conditioning'], ['Consumption:215 kWh/m² year', 'Emissions:45 kg CO2/m² year']]\n",
       "493                                                                                                                                                                      [['89 m² built', '2 bedrooms', '1 bathroom', 'Terrace', 'Second hand/good condition', 'Storeroom', 'Orientation North, East', 'Built in 1910'], ['No lift'], ['Air conditioning'], ['Consumption:202 kWh/m² year']]\n",
       "511    [['House', '256 m² built, 218 m² floor area', '4 bedrooms', '3 bathrooms', 'Land plot of 87 m²', 'Terrace and balcony', 'Parking space included in the price', 'Second hand/good condition', 'Fitted wardrobes', 'Storeroom', 'Orientation South', 'Built in 1989'], ['Air conditioning', 'Swimming pool', 'Garden'], ['Consumption:170 kWh/m² year', 'Emissions:35 kg CO2/m² year']]\n",
       "512    [['House', '256 m² built, 218 m² floor area', '4 bedrooms', '3 bathrooms', 'Land plot of 87 m²', 'Terrace and balcony', 'Parking space included in the price', 'Second hand/good condition', 'Fitted wardrobes', 'Storeroom', 'Orientation South', 'Built in 1989'], ['Air conditioning', 'Swimming pool', 'Garden'], ['Consumption:170 kWh/m² year', 'Emissions:35 kg CO2/m² year']]\n",
       "513    [['House', '256 m² built, 218 m² floor area', '4 bedrooms', '3 bathrooms', 'Land plot of 87 m²', 'Terrace and balcony', 'Parking space included in the price', 'Second hand/good condition', 'Fitted wardrobes', 'Storeroom', 'Orientation South', 'Built in 1989'], ['Air conditioning', 'Swimming pool', 'Garden'], ['Consumption:170 kWh/m² year', 'Emissions:35 kg CO2/m² year']]\n",
       "514    [['House', '256 m² built, 218 m² floor area', '4 bedrooms', '3 bathrooms', 'Land plot of 87 m²', 'Terrace and balcony', 'Parking space included in the price', 'Second hand/good condition', 'Fitted wardrobes', 'Storeroom', 'Orientation South', 'Built in 1989'], ['Air conditioning', 'Swimming pool', 'Garden'], ['Consumption:170 kWh/m² year', 'Emissions:35 kg CO2/m² year']]\n",
       "Name: raw_row, dtype: object"
      ]
     },
     "execution_count": 73,
     "metadata": {},
     "output_type": "execute_result"
    }
   ],
   "source": [
    "dirty_data.loc[dirty_data[\"floor\"].isna(), \"raw_row\"].head(50)"
   ]
  },
  {
   "cell_type": "markdown",
   "id": "be339613",
   "metadata": {},
   "source": [
    "Seems that most of the rest of the missing values are houses. I'll handle them as ground floor"
   ]
  },
  {
   "cell_type": "code",
   "execution_count": 74,
   "id": "267084f2",
   "metadata": {},
   "outputs": [],
   "source": [
    "dirty_data[\"floor\"] = dirty_data[\"floor\"].fillna(\"ground\")"
   ]
  },
  {
   "cell_type": "code",
   "execution_count": 75,
   "id": "5c2a49dc",
   "metadata": {},
   "outputs": [
    {
     "data": {
      "text/plain": [
       "array(['3rd floor', '1st floor', '4th floor', 'ground', '5th floor',\n",
       "       '2nd floor', 'mezzanine', 'ground floor', '7th floor', '2 floor',\n",
       "       '10th floor', '8th floor', '21st floor', '6th floor', '24th floor',\n",
       "       '5 floor', '3 floor', '4 floor', '9th floor', '1 floor',\n",
       "       '15th floor', '14th floor', '16th floor', ' floor', '11th floor',\n",
       "       '17th floor', '22nd floor', '12th floor', '23rd floor',\n",
       "       '13th floor', '25th floor', '20th floor', '6 floor'], dtype=object)"
      ]
     },
     "execution_count": 75,
     "metadata": {},
     "output_type": "execute_result"
    }
   ],
   "source": [
    "dirty_data[\"floor\"].unique()"
   ]
  },
  {
   "cell_type": "markdown",
   "id": "e7d69271",
   "metadata": {},
   "source": [
    "This column also has a value with missing information \" floor\". Let's see whats missing"
   ]
  },
  {
   "cell_type": "code",
   "execution_count": 76,
   "id": "632e970e",
   "metadata": {},
   "outputs": [
    {
     "data": {
      "text/plain": [
       "916                                                                                                                                           [['69 m² built', '3 bedrooms', '1 bathroom', 'Second hand/good condition'], ['Floor -1', 'With lift'], ['Consumption:', 'Emissions:']]\n",
       "1272                                                                                                                                                        [['54 m² built', '3 bedrooms', '1 bathroom', 'Second hand/good condition'], ['Floor -2', 'With lift'], ['Consumption:']]\n",
       "1581                                                                                                                                                          [['41 m² built', '3 bedrooms', '1 bathroom', 'Second hand/good condition'], ['Floor -1', 'No lift'], ['Consumption:']]\n",
       "1650    [['47 m² built, 37 m² floor area', '3 bedrooms', '1 bathroom', 'Second hand/needs renovating', 'Orientation South', 'Built in 1963', 'Individual heating: Natural gas'], ['Floor -1 exterior', 'With lift'], ['Consumption:253 kWh/m² year', 'Emissions:53 kg CO2/m² year']]\n",
       "1767                     [['58 m² built, 44 m² floor area', '2 bedrooms', '1 bathroom', 'Second hand/good condition', 'Orientation South', 'Built in 1920', 'Individual heating'], ['Floor -1 interior', 'No lift'], ['Consumption:289 kWh/m² year', 'Emissions:61 kg CO2/m² year']]\n",
       "2649                    [['70 m² built, 54 m² floor area', '2 bedrooms', '1 bathroom', 'Second hand/needs renovating', 'Orientation North, West', 'Built in 1958', 'No heating'], ['Floor -1 exterior', 'No lift'], ['Consumption:111 kWh/m² year', 'Emissions:111 kg CO2/m² year']]\n",
       "2815                                                                                                                                  [['64 m² built', '1 bedroom', '1 bathroom', 'Terrace', 'Second hand/good condition'], ['Floor -1', 'No lift'], ['Consumption:', 'Emissions:']]\n",
       "3871                                                                                                                                            [['61 m² built', '2 bedrooms', '1 bathroom', 'Second hand/good condition'], ['Floor -1', 'No lift'], ['Consumption:', 'Emissions:']]\n",
       "3875                                                                                                                                                       [['77 m² built', '4 bedrooms', '1 bathroom', 'Second hand/good condition'], ['Floor -1'], ['Consumption:', 'Emissions:']]\n",
       "4352                                                  [['62 m² built, 58 m² floor area', 'No bedroom', '1 bathroom', 'Second hand/good condition', 'Built in 1900', 'No heating'], ['Floor -1 interior', 'No lift'], ['Consumption:183 kWh/m² year', 'Emissions:31 kg CO2/m² year']]\n",
       "6724                                                                                                                                                         [['72 m² built', 'No bedroom', '1 bathroom', 'Second hand/good condition'], ['Floor -1', 'No lift'], ['Not indicated']]\n",
       "8312                                           [['70 m² built', '3 bedrooms', '1 bathroom', 'Terrace and balcony', 'Second hand/needs renovating', 'Built in 1964', 'No heating'], ['Floor -1 exterior', 'No lift'], ['Consumption:190 kWh/m² year', 'Emissions:40 kg CO2/m² year']]\n",
       "8639                                                  [['62 m² built, 58 m² floor area', 'No bedroom', '1 bathroom', 'Second hand/good condition', 'Built in 1900', 'No heating'], ['Floor -1 exterior', 'No lift'], ['Consumption:183 kWh/m² year', 'Emissions:31 kg CO2/m² year']]\n",
       "9418                                                                                                                                            [['63 m² built', '3 bedrooms', '1 bathroom', 'Second hand/good condition'], ['Floor -1', 'No lift'], ['Consumption:', 'Emissions:']]\n",
       "Name: raw_row, dtype: object"
      ]
     },
     "execution_count": 76,
     "metadata": {},
     "output_type": "execute_result"
    }
   ],
   "source": [
    "dirty_data.loc[dirty_data[\"floor\"] == \" floor\", \"raw_row\"]"
   ]
  },
  {
   "cell_type": "markdown",
   "id": "447cba1c",
   "metadata": {},
   "source": [
    "Seems that these are negative values. I'll now add these values"
   ]
  },
  {
   "cell_type": "code",
   "execution_count": 77,
   "id": "50f0d58e",
   "metadata": {},
   "outputs": [],
   "source": [
    "dirty_data.loc[dirty_data[\"raw_row\"].str.lower().str.contains(\"floor -1\"),\"floor\"] = \"-1\"\n",
    "dirty_data.loc[dirty_data[\"raw_row\"].str.lower().str.contains(\"floor -2\"),\"floor\"] = \"-2\""
   ]
  },
  {
   "cell_type": "code",
   "execution_count": 78,
   "id": "a7f54261",
   "metadata": {},
   "outputs": [
    {
     "data": {
      "text/plain": [
       "array(['3rd floor', '1st floor', '4th floor', 'ground', '5th floor',\n",
       "       '2nd floor', 'mezzanine', 'ground floor', '7th floor', '2 floor',\n",
       "       '10th floor', '8th floor', '21st floor', '6th floor', '24th floor',\n",
       "       '5 floor', '3 floor', '4 floor', '9th floor', '1 floor',\n",
       "       '15th floor', '14th floor', '16th floor', '-1', '11th floor', '-2',\n",
       "       '17th floor', '22nd floor', '12th floor', '23rd floor',\n",
       "       '13th floor', '25th floor', '20th floor', '6 floor'], dtype=object)"
      ]
     },
     "execution_count": 78,
     "metadata": {},
     "output_type": "execute_result"
    }
   ],
   "source": [
    "dirty_data[\"floor\"].unique()"
   ]
  },
  {
   "cell_type": "markdown",
   "id": "0524b44a",
   "metadata": {},
   "source": [
    "It's time to clean this column"
   ]
  },
  {
   "cell_type": "code",
   "execution_count": 79,
   "id": "d6563856",
   "metadata": {},
   "outputs": [],
   "source": [
    "dirty_data[\"floor\"] = dirty_data[\"floor\"].str.replace(\"ground\",\"0\").str.replace(\"mezzanine\",\"1\").str.replace(\"floor\",\"\").str.replace(\"st\",\"\").str.replace(\"nd\",\"\").str.replace(\"rd\",\"\").str.replace(\"th\",\"\").str.strip()\n",
    "dirty_data[\"floor\"]=dirty_data[\"floor\"].astype(\"int32\")"
   ]
  },
  {
   "cell_type": "code",
   "execution_count": 80,
   "id": "4b8dc0e3",
   "metadata": {},
   "outputs": [
    {
     "data": {
      "text/plain": [
       "array([ 3,  1,  4,  0,  5,  2,  7, 10,  8, 21,  6, 24,  9, 15, 14, 16, -1,\n",
       "       11, -2, 17, 22, 12, 23, 13, 25, 20])"
      ]
     },
     "execution_count": 80,
     "metadata": {},
     "output_type": "execute_result"
    }
   ],
   "source": [
    "dirty_data[\"floor\"].unique()"
   ]
  },
  {
   "cell_type": "markdown",
   "id": "ef2a0e66",
   "metadata": {},
   "source": [
    "#### bedrooms"
   ]
  },
  {
   "cell_type": "code",
   "execution_count": 81,
   "id": "b10774fe",
   "metadata": {},
   "outputs": [
    {
     "data": {
      "text/plain": [
       "array(['2 bedroom', '3 bedroom', '4 bedroom', ' bedroom', '1 bedroom',\n",
       "       '5 bedroom', '6 bedroom', '7 bedroom', '10 bedroom', '17 bedroom',\n",
       "       '8 bedroom', '11 bedroom', '15 bedroom', '14 bedroom',\n",
       "       '12 bedroom', '13 bedroom'], dtype=object)"
      ]
     },
     "execution_count": 81,
     "metadata": {},
     "output_type": "execute_result"
    }
   ],
   "source": [
    "dirty_data[\"bedrooms\"].unique()"
   ]
  },
  {
   "cell_type": "markdown",
   "id": "1ce8f7be",
   "metadata": {},
   "source": [
    "Let's check the \" bedroom\" value"
   ]
  },
  {
   "cell_type": "code",
   "execution_count": 82,
   "id": "1095ca89",
   "metadata": {},
   "outputs": [
    {
     "data": {
      "text/plain": [
       "10      [['54 m² built, 45 m² floor area', 'No bedroom', '1 bathroom', 'Terrace and balcony', 'Second hand/good condition', 'Fitted wardrobes', 'Orientation North, East', 'Built in 1900', 'Central heating'], ['1st floor exterior', 'With lift'], ['Air conditioning'], ['Consumption:40 kWh/m² year', 'Emissions:7 kg CO2/m² year']]\n",
       "78                                                                                                                                                                                                         [['66 m² built', 'No bedroom', '1 bathroom', 'Second hand/good condition'], ['Ground floor', 'With lift'], ['Not indicated']]\n",
       "100                                                                                                             [['293 m² built', 'No bedroom', '2 bathrooms', 'Terrace', 'Second hand/good condition', 'Fitted wardrobes', 'Built in 1830'], ['exterior', 'With lift'], ['Consumption:195 kWh/m² year', 'Emissions:43 kg CO2/m² year']]\n",
       "351                           [['47 m² built, 42 m² floor area', 'No bedroom', '1 bathroom', 'Terrace and balcony', 'Second hand/good condition', 'Fitted wardrobes', 'Orientation South', 'Built in 1820', 'Individual heating: Natural gas'], ['4th floor exterior', 'No lift'], ['Air conditioning'], ['Consumption:', 'Emissions:']]\n",
       "364                [['53 m² built, 47 m² floor area', 'No bedroom', '1 bathroom', 'Balcony', 'Second hand/good condition', 'Orientation East', 'Built in 1980', 'Only outdoor access is adapted for people with reduced mobility'], ['Mezzanine exterior', 'With lift'], ['Consumption:99 kWh/m² year', 'Emissions:999 kg CO2/m² year']]\n",
       "447                                                                                                                          [['180 m² built, 167 m² floor area', 'No bedroom', '3 bathrooms', 'Balcony', 'Second hand/needs renovating', 'Orientation North, East', 'No heating'], ['Mezzanine exterior', 'With lift'], ['In process']]\n",
       "465                                                                                                                                                                                                                        [['51 m² built', 'No bedroom', '1 bathroom', 'Second hand/good condition'], ['Mezzanine'], ['Not indicated']]\n",
       "612                                                                                                                                                                                                             [['61 m² built', 'No bedroom', '1 bathroom', 'Second hand/good condition'], ['3rd floor', 'No lift'], ['Not indicated']]\n",
       "812                                                  [['113 m² built', 'No bedroom', '2 bathrooms', 'Parking space included in the price', 'Second hand/good condition', 'Storeroom', 'Orientation South, West', 'Built in 2018', 'Central heating: Gas'], ['2nd floor exterior', 'With lift'], ['Air conditioning'], ['Not indicated']]\n",
       "892                                                                                                                                                                                                             [['67 m² built', 'No bedroom', '1 bathroom', 'Second hand/good condition'], ['2nd floor', 'No lift'], ['Not indicated']]\n",
       "893                                                                                                                                                                                                             [['67 m² built', 'No bedroom', '1 bathroom', 'Second hand/good condition'], ['2nd floor', 'No lift'], ['Not indicated']]\n",
       "894                                                                                                                                                                                                             [['67 m² built', 'No bedroom', '1 bathroom', 'Second hand/good condition'], ['2nd floor', 'No lift'], ['Not indicated']]\n",
       "895                                                                                                                                                                                                             [['67 m² built', 'No bedroom', '1 bathroom', 'Second hand/good condition'], ['2nd floor', 'No lift'], ['Not indicated']]\n",
       "933                                            [['55 m² built, 52 m² floor area', 'No bedroom', '1 bathroom', 'Second hand/good condition', 'Fitted wardrobes', 'Orientation East', 'Built in 1972', 'Individual heating: Electric'], ['1st floor exterior', 'With lift'], ['Consumption:60 kWh/m² year', 'Emissions:6 kg CO2/m² year']]\n",
       "1190                                                                                                                                                                                                                                     [['90 m² built', 'No bedroom', '2 bathrooms', 'Second hand/good condition'], ['Not indicated']]\n",
       "1397                                                                                                                                 [['51 m² built, 50 m² floor area', 'No bedroom', '1 bathroom', 'Second hand/good condition'], ['Mezzanine exterior', 'With lift'], ['Consumption:900 kWh/m² year', 'Emissions:900 kg CO2/m² year']]\n",
       "1430                                                                                                                                                                                                            [['55 m² built', 'No bedroom', '1 bathroom', 'Second hand/good condition'], ['1st floor', 'No lift'], ['Not indicated']]\n",
       "1635                                                      [['90 m² built, 85 m² floor area', 'No bedroom', '2 bathrooms', 'Second hand/good condition', 'Storeroom', 'Orientation West', 'Built in 2008', 'Individual heating: Air conditioning/Heat pump'], ['Ground floor exterior', 'No lift'], ['Air conditioning'], ['In process']]\n",
       "1701                                                                                                                                                                                                                       [['63 m² built', 'No bedroom', '1 bathroom', 'Second hand/good condition'], ['4th floor'], ['Not indicated']]\n",
       "1772                                                                                                                        [['55 m² built, 45 m² floor area', 'No bedroom', '1 bathroom', 'Second hand/good condition', 'Orientation South, East', 'Individual heating'], ['Consumption:40 kWh/m² year', 'Emissions:7 kg CO2/m² year']]\n",
       "Name: raw_row, dtype: object"
      ]
     },
     "execution_count": 82,
     "metadata": {},
     "output_type": "execute_result"
    }
   ],
   "source": [
    "dirty_data.loc[dirty_data[\"bedrooms\"] == \" bedroom\",\"raw_row\"].head(20)"
   ]
  },
  {
   "cell_type": "markdown",
   "id": "f7504d9c",
   "metadata": {},
   "source": [
    "\" bedroom\" value means 0 bedroom. I'll change that first"
   ]
  },
  {
   "cell_type": "code",
   "execution_count": 83,
   "id": "ca9fb2c9",
   "metadata": {},
   "outputs": [],
   "source": [
    "dirty_data.loc[dirty_data[\"bedrooms\"] == \" bedroom\",\"bedrooms\"] = \"0 bedroom\""
   ]
  },
  {
   "cell_type": "code",
   "execution_count": 84,
   "id": "afb3196c",
   "metadata": {},
   "outputs": [
    {
     "data": {
      "text/plain": [
       "array(['2 bedroom', '3 bedroom', '4 bedroom', '0 bedroom', '1 bedroom',\n",
       "       '5 bedroom', '6 bedroom', '7 bedroom', '10 bedroom', '17 bedroom',\n",
       "       '8 bedroom', '11 bedroom', '15 bedroom', '14 bedroom',\n",
       "       '12 bedroom', '13 bedroom'], dtype=object)"
      ]
     },
     "execution_count": 84,
     "metadata": {},
     "output_type": "execute_result"
    }
   ],
   "source": [
    "dirty_data[\"bedrooms\"].unique()"
   ]
  },
  {
   "cell_type": "code",
   "execution_count": 85,
   "id": "0ab27ae7",
   "metadata": {},
   "outputs": [],
   "source": [
    "dirty_data[\"bedrooms\"] = dirty_data[\"bedrooms\"].str.replace(\" bedroom\",\"\")\n",
    "dirty_data[\"bedrooms\"] = dirty_data[\"bedrooms\"].astype(\"int32\")"
   ]
  },
  {
   "cell_type": "code",
   "execution_count": 86,
   "id": "ab84e076",
   "metadata": {},
   "outputs": [
    {
     "data": {
      "text/plain": [
       "array([ 2,  3,  4,  0,  1,  5,  6,  7, 10, 17,  8, 11, 15, 14, 12, 13])"
      ]
     },
     "execution_count": 86,
     "metadata": {},
     "output_type": "execute_result"
    }
   ],
   "source": [
    "dirty_data[\"bedrooms\"].unique()"
   ]
  },
  {
   "cell_type": "markdown",
   "id": "ac1ef436",
   "metadata": {},
   "source": [
    "#### bathrooms"
   ]
  },
  {
   "cell_type": "code",
   "execution_count": 87,
   "id": "30790870",
   "metadata": {},
   "outputs": [
    {
     "data": {
      "text/plain": [
       "array(['1 bathroom', '2 bathroom', '3 bathroom', '4 bathroom',\n",
       "       '5 bathroom', '7 bathroom', '6 bathroom', '8 bathroom',\n",
       "       '9 bathroom', '10 bathroom', ' bathroom'], dtype=object)"
      ]
     },
     "execution_count": 87,
     "metadata": {},
     "output_type": "execute_result"
    }
   ],
   "source": [
    "dirty_data[\"bathrooms\"].unique()"
   ]
  },
  {
   "cell_type": "markdown",
   "id": "a5ddbe50",
   "metadata": {},
   "source": [
    "Let's check \" bathroom\" value"
   ]
  },
  {
   "cell_type": "code",
   "execution_count": 88,
   "id": "9700c291",
   "metadata": {},
   "outputs": [
    {
     "data": {
      "text/plain": [
       "2032                                                                                                                       [['208 m² built', '2 bedrooms', 'No bathroom', 'Second hand/needs renovating', 'Built in 1948'], ['Ground floor interior', 'No lift'], ['In process']]\n",
       "2595                                                                                   [['55 m² built', 'No bedroom', 'No bathroom', 'Second hand/needs renovating', 'Built in 1972'], ['Mezzanine exterior', 'With lift'], ['Air conditioning'], ['Consumption:', 'Emissions:']]\n",
       "2924                                                    [['House', '268 m² built', '1 bedroom', 'No bathroom', 'Land plot of 137 m²', 'Terrace', 'Second hand/needs renovating', 'Built in 1935', 'No heating'], ['Consumption:999 kWh/m² year', 'Emissions:999 kg CO2/m² year']]\n",
       "3514                                                                                                                            [['Detached house', '226 m² built', '1 bedroom', 'No bathroom', 'Land plot of 625 m²', 'Second hand/needs renovating', 'No heating'], ['Exempt']]\n",
       "4500                                                              [['280 m² built', 'No bedroom', 'No bathroom', 'Balcony', 'Second hand/needs renovating', 'Orientation South, West', 'Built in 1963', 'Individual heating'], ['2nd floor exterior', 'No lift'], ['In process']]\n",
       "4946                                                                                                                                                     [['Semi-detached house', '160 m² built', '1 bedroom', 'No bathroom', 'Second hand/needs renovating'], ['Not indicated']]\n",
       "6961                                                                                                       [['108 m² built, 100 m² floor area', 'No bedroom', 'No bathroom', 'Second hand/needs renovating', 'Built in 1970'], ['1st floor exterior', 'No lift'], ['In process']]\n",
       "8087    [['80 m² built, 75 m² floor area', '3 bedrooms', 'No bathroom', 'Terrace', 'Second hand/needs renovating', 'Individual heating: Natural gas'], ['Ground floor exterior', 'With lift'], ['Air conditioning'], ['Consumption:1 kWh/m² year', 'Emissions:1 kg CO2/m² year']]\n",
       "8256                                                                                                                                    [['59 m² built', '2 bedrooms', 'No bathroom', 'Second hand/needs renovating', 'No heating'], ['exterior', 'With lift'], ['Consumption:']]\n",
       "9381                                                                                                                              [['Terraced house', '62 m² built', '3 bedrooms', 'No bathroom', 'Terrace', 'Second hand/needs renovating', 'Built in 1953'], ['Not indicated']]\n",
       "Name: raw_row, dtype: object"
      ]
     },
     "execution_count": 88,
     "metadata": {},
     "output_type": "execute_result"
    }
   ],
   "source": [
    "dirty_data.loc[dirty_data[\"bathrooms\"] == \" bathroom\",\"raw_row\"].head(20)"
   ]
  },
  {
   "cell_type": "markdown",
   "id": "30a09c59",
   "metadata": {},
   "source": [
    "\" bathroom\" means no bathroom. I will change that"
   ]
  },
  {
   "cell_type": "code",
   "execution_count": 89,
   "id": "8380e90c",
   "metadata": {},
   "outputs": [],
   "source": [
    "dirty_data.loc[dirty_data[\"bathrooms\"] == \" bathroom\",\"bathrooms\"] = \"0 bathroom\""
   ]
  },
  {
   "cell_type": "code",
   "execution_count": 90,
   "id": "27e328f9",
   "metadata": {},
   "outputs": [
    {
     "data": {
      "text/plain": [
       "array(['1 bathroom', '2 bathroom', '3 bathroom', '4 bathroom',\n",
       "       '5 bathroom', '7 bathroom', '6 bathroom', '8 bathroom',\n",
       "       '9 bathroom', '10 bathroom', '0 bathroom'], dtype=object)"
      ]
     },
     "execution_count": 90,
     "metadata": {},
     "output_type": "execute_result"
    }
   ],
   "source": [
    "dirty_data[\"bathrooms\"].unique()"
   ]
  },
  {
   "cell_type": "code",
   "execution_count": 91,
   "id": "c6053859",
   "metadata": {},
   "outputs": [],
   "source": [
    "dirty_data[\"bathrooms\"] = dirty_data[\"bathrooms\"].str.replace(\" bathroom\", \"\")\n",
    "dirty_data[\"bathrooms\"] = dirty_data[\"bathrooms\"].astype(\"int32\")"
   ]
  },
  {
   "cell_type": "code",
   "execution_count": 92,
   "id": "a96cab12",
   "metadata": {},
   "outputs": [
    {
     "data": {
      "text/plain": [
       "array([ 1,  2,  3,  4,  5,  7,  6,  8,  9, 10,  0])"
      ]
     },
     "execution_count": 92,
     "metadata": {},
     "output_type": "execute_result"
    }
   ],
   "source": [
    "dirty_data[\"bathrooms\"].unique()"
   ]
  },
  {
   "cell_type": "markdown",
   "id": "0ea5f2e1",
   "metadata": {},
   "source": [
    "#### year_built"
   ]
  },
  {
   "cell_type": "code",
   "execution_count": 93,
   "id": "e0614971",
   "metadata": {},
   "outputs": [
    {
     "data": {
      "text/plain": [
       "array(['built in 1912', 'built in 1850', 'built in 2003', 'built in 1920',\n",
       "       'built in 1900', nan, 'built in 1819', 'built in 1860',\n",
       "       'built in 1910', 'built in 1970', 'built in 2001', 'built in 1890',\n",
       "       'built in 1855', 'built in 1889', 'built in 1809', 'built in 1800',\n",
       "       'built in 1885', 'built in 1944', 'built in 1999', 'built in 1976',\n",
       "       'built in 1936', 'built in 1928', 'built in 1982', 'built in 1968',\n",
       "       'built in 1957', 'built in 1984', 'built in 1975', 'built in 1870',\n",
       "       'built in 1940', 'built in 1790', 'built in 2010', 'built in 1830',\n",
       "       'built in 1934', 'built in 1954', 'built in 1992', 'built in 1903',\n",
       "       'built in 1938', 'built in 1930', 'built in 1924', 'built in 1929',\n",
       "       'built in 1979', 'built in 1955', 'built in 2023', 'built in 1901',\n",
       "       'built in 1919', 'built in 1997', 'built in 1899', 'built in 2006',\n",
       "       'built in 1925', 'built in 1995', 'built in 1952', 'built in 2024',\n",
       "       'built in 1926', 'built in 1965', 'built in 1964', 'built in 1973',\n",
       "       'built in 1962', 'built in 1972', 'built in 1953', 'built in 2008',\n",
       "       'built in 2007', 'built in 1877', 'built in 1978', 'built in 1959',\n",
       "       'built in 1880', 'built in 1898', 'built in 1980', 'built in 2000',\n",
       "       'built in 1951', 'built in 1974', 'built in 1967', 'built in 1971',\n",
       "       'built in 1958', 'built in 1986', 'built in 2011', 'built in 1960',\n",
       "       'built in 2005', 'built in 1969', 'built in 1977', 'built in 1915',\n",
       "       'built in 1950', 'built in 2022', 'built in 1947', 'built in 1956',\n",
       "       'built in 1990', 'built in 1820', 'built in 2009', 'built in 2002',\n",
       "       'built in 1985', 'built in 1987', 'built in 1998', 'built in 1931',\n",
       "       'built in 1989', 'built in 1991', 'built in 1935', 'built in 1963',\n",
       "       'built in 2021', 'built in 1993', 'built in 1996', 'built in 1961',\n",
       "       'built in 2019', 'built in 2020', 'built in 1937', 'built in 1945',\n",
       "       'built in 1923', 'built in 1840', 'built in 1948', 'built in 1864',\n",
       "       'built in 1865', 'built in 1888', 'built in 2012', 'built in 2016',\n",
       "       'built in 1966', 'built in 1894', 'built in 1922', 'built in 2004',\n",
       "       'built in 2018', 'built in 1981', 'built in 2015', 'built in 1994',\n",
       "       'built in 2013', 'built in 1942', 'built in 1933', 'built in 1902',\n",
       "       'built in 1843', 'built in 1846', 'built in 1909', 'built in 1810',\n",
       "       'built in 1904', 'built in 1988', 'built in 1946', 'built in 1848',\n",
       "       'built in 1856', 'built in 1949', 'built in 1983', 'built in 1845',\n",
       "       'built in 1867', 'built in 1891', 'built in 1861', 'built in 1818',\n",
       "       'built in 1908', 'built in 1871', 'built in 2025', 'built in 1943',\n",
       "       'built in 2014', 'built in 1905', 'built in 1805', 'built in 1939',\n",
       "       'built in 2017', 'built in 1879', 'built in 1862', 'built in 1878',\n",
       "       'built in 1849', 'built in 1866', 'built in 1875', 'built in 1893',\n",
       "       'built in 1834', 'built in 2026', 'built in 1842', 'built in 1825',\n",
       "       'built in 1892', 'built in 1852', 'built in 1927', 'built in 1941',\n",
       "       'built in 1896', 'built in 1710', 'built in 1914', 'built in 1897',\n",
       "       'built in 1895', 'built in 1801', 'built in 1906', 'built in 1831',\n",
       "       'built in 1859', 'built in 1750', 'built in 1932', 'built in 1792',\n",
       "       'built in 1883', 'built in 1918', 'built in 1886', 'built in 1887',\n",
       "       'built in 1844', 'built in 1858', 'built in 1863', 'built in 1907',\n",
       "       'built in 1917', 'built in 1847', 'built in 1764', 'built in 1881',\n",
       "       'built in 1853', 'built in 1882', 'built in 1921'], dtype=object)"
      ]
     },
     "execution_count": 93,
     "metadata": {},
     "output_type": "execute_result"
    }
   ],
   "source": [
    "dirty_data[\"year_built\"].unique()"
   ]
  },
  {
   "cell_type": "markdown",
   "id": "ca16bacb",
   "metadata": {},
   "source": [
    "Let's check the nan values"
   ]
  },
  {
   "cell_type": "code",
   "execution_count": 94,
   "id": "37387249",
   "metadata": {},
   "outputs": [
    {
     "data": {
      "text/plain": [
       "3700"
      ]
     },
     "execution_count": 94,
     "metadata": {},
     "output_type": "execute_result"
    }
   ],
   "source": [
    "dirty_data[\"year_built\"].isna().sum()"
   ]
  },
  {
   "cell_type": "code",
   "execution_count": 95,
   "id": "dcabf032",
   "metadata": {},
   "outputs": [
    {
     "data": {
      "text/plain": [
       "5                                           [['73 m² built', '2 bedrooms', '1 bathroom', 'Balcony', 'Second hand/good condition', 'Individual heating'], ['4th floor exterior', 'With lift'], ['Air conditioning'], ['Consumption:233 kWh/m² year', 'Emissions:']]\n",
       "16                                                                                                                           [['54 m² built', '3 bedrooms', '1 bathroom', 'Second hand/good condition'], ['3rd floor', 'No lift'], ['Consumption:', 'Emissions:']]\n",
       "21                                          [['56 m² built', '1 bedroom', '1 bathroom', 'Terrace', 'Second hand/good condition', 'Orientation South', 'Central heating: Gas'], ['interior', 'With lift'], ['Air conditioning', 'Swimming pool'], ['Consumption:']]\n",
       "22                                          [['56 m² built', '1 bedroom', '1 bathroom', 'Terrace', 'Second hand/good condition', 'Orientation South', 'Central heating: Gas'], ['interior', 'With lift'], ['Air conditioning', 'Swimming pool'], ['Consumption:']]\n",
       "23                                          [['56 m² built', '1 bedroom', '1 bathroom', 'Terrace', 'Second hand/good condition', 'Orientation South', 'Central heating: Gas'], ['interior', 'With lift'], ['Air conditioning', 'Swimming pool'], ['Consumption:']]\n",
       "24                                          [['56 m² built', '1 bedroom', '1 bathroom', 'Terrace', 'Second hand/good condition', 'Orientation South', 'Central heating: Gas'], ['interior', 'With lift'], ['Air conditioning', 'Swimming pool'], ['Consumption:']]\n",
       "30                                                                               [['73 m² built', '4 bedrooms', '1 bathroom', 'Second hand/good condition', 'Individual heating: Natural gas'], ['1st floor exterior', 'No lift'], ['Consumption:', 'Emissions:']]\n",
       "33                                                                                          [['214 m² built', '2 bedrooms', '1 bathroom', 'Terrace', 'Second hand/good condition', 'No heating'], ['exterior', 'With lift'], ['Swimming pool'], ['Not indicated']]\n",
       "41                                                                                                [['91 m² built', '2 bedrooms', '2 bathrooms', 'Balcony', 'Second hand/good condition'], ['1st floor exterior', 'No lift'], ['Air conditioning'], ['In process']]\n",
       "42                                          [['35 m² built, 32 m² floor area', '1 bedroom', '1 bathroom', 'Balcony', 'Second hand/good condition', 'Individual heating'], ['Mezzanine interior', 'No lift'], ['Air conditioning'], ['Consumption:', 'Emissions:']]\n",
       "43                  [['49 m² built, 42 m² floor area', '1 bedroom', '1 bathroom', 'Balcony', 'Second hand/needs renovating', 'Orientation West', 'No heating'], ['2nd floor exterior', 'No lift'], ['Consumption:133 kWh/m² year', 'Emissions:27 kg CO2/m² year']]\n",
       "44                                                                                                                                          [['57 m² built', '1 bedroom', '1 bathroom', 'Second hand/good condition'], ['5th floor', 'No lift'], ['Consumption:']]\n",
       "45                                                                                                                                           [['51 m² built', '3 bedrooms', '1 bathroom', 'Second hand/good condition'], ['2nd floor', 'No lift'], ['In process']]\n",
       "46                                                                                                                 [['94 m² built', '2 bedrooms', '1 bathroom', 'Second hand/good condition', 'No heating'], ['2nd floor exterior', 'No lift'], ['Not indicated']]\n",
       "49                                                                                       [['197 m² built', '2 bedrooms', '3 bathrooms', 'New housing development', 'Fitted wardrobes'], ['Mezzanine exterior', 'With lift'], ['Air conditioning'], ['In process']]\n",
       "51                                           [['79 m² built, 66 m² floor area', '2 bedrooms', '2 bathrooms', 'New housing development'], ['2nd floor exterior', 'With lift'], ['Air conditioning'], ['Consumption:74 kWh/m² year', 'Emissions:13 kg CO2/m² year']]\n",
       "52              [['179 m² built, 178 m² floor area', '3 bedrooms', '3 bathrooms', 'Balcony', 'Second hand/good condition', 'Orientation South', 'Individual heating'], ['Ground floor exterior', 'No lift'], ['Air conditioning'], ['Consumption:', 'Emissions:']]\n",
       "55    [['70 m² built', '1 bedroom', '1 bathroom', 'Second hand/good condition', 'Fitted wardrobes', 'Central heating'], ['7th floor exterior', 'With lift'], ['Air conditioning', 'Swimming pool'], ['Consumption:32 kWh/m² year', 'Emissions:32 kg CO2/m² year']]\n",
       "74                                                              [['71 m² built, 64 m² floor area', '3 bedrooms', '1 bathroom', 'Second hand/good condition'], ['Mezzanine exterior', 'With lift'], ['Consumption:345 kWh/m² year', 'Emissions:45 kg CO2/m² year']]\n",
       "77                                                         [['110 m² built, 87 m² floor area', '3 bedrooms', '1 bathroom', 'Terrace and balcony', 'Second hand/good condition', 'No heating'], ['1st floor exterior', 'No lift'], ['Green areas'], ['In process']]\n",
       "Name: raw_row, dtype: object"
      ]
     },
     "execution_count": 95,
     "metadata": {},
     "output_type": "execute_result"
    }
   ],
   "source": [
    "dirty_data.loc[dirty_data[\"year_built\"].isna(),\"raw_row\"].head(20)"
   ]
  },
  {
   "cell_type": "code",
   "execution_count": 96,
   "id": "3ee93c38",
   "metadata": {},
   "outputs": [],
   "source": [
    "dirty_data[\"year_built\"] = dirty_data[\"year_built\"].str.replace(\"built in \", \"\")  \n",
    "dirty_data[\"year_built\"] = dirty_data[\"year_built\"].astype(\"float32\")"
   ]
  },
  {
   "cell_type": "code",
   "execution_count": 97,
   "id": "ee6c4acb",
   "metadata": {},
   "outputs": [
    {
     "data": {
      "text/plain": [
       "array([1912., 1850., 2003., 1920., 1900.,   nan, 1819., 1860., 1910.,\n",
       "       1970., 2001., 1890., 1855., 1889., 1809., 1800., 1885., 1944.,\n",
       "       1999., 1976., 1936., 1928., 1982., 1968., 1957., 1984., 1975.,\n",
       "       1870., 1940., 1790., 2010., 1830., 1934., 1954., 1992., 1903.,\n",
       "       1938., 1930., 1924., 1929., 1979., 1955., 2023., 1901., 1919.,\n",
       "       1997., 1899., 2006., 1925., 1995., 1952., 2024., 1926., 1965.,\n",
       "       1964., 1973., 1962., 1972., 1953., 2008., 2007., 1877., 1978.,\n",
       "       1959., 1880., 1898., 1980., 2000., 1951., 1974., 1967., 1971.,\n",
       "       1958., 1986., 2011., 1960., 2005., 1969., 1977., 1915., 1950.,\n",
       "       2022., 1947., 1956., 1990., 1820., 2009., 2002., 1985., 1987.,\n",
       "       1998., 1931., 1989., 1991., 1935., 1963., 2021., 1993., 1996.,\n",
       "       1961., 2019., 2020., 1937., 1945., 1923., 1840., 1948., 1864.,\n",
       "       1865., 1888., 2012., 2016., 1966., 1894., 1922., 2004., 2018.,\n",
       "       1981., 2015., 1994., 2013., 1942., 1933., 1902., 1843., 1846.,\n",
       "       1909., 1810., 1904., 1988., 1946., 1848., 1856., 1949., 1983.,\n",
       "       1845., 1867., 1891., 1861., 1818., 1908., 1871., 2025., 1943.,\n",
       "       2014., 1905., 1805., 1939., 2017., 1879., 1862., 1878., 1849.,\n",
       "       1866., 1875., 1893., 1834., 2026., 1842., 1825., 1892., 1852.,\n",
       "       1927., 1941., 1896., 1710., 1914., 1897., 1895., 1801., 1906.,\n",
       "       1831., 1859., 1750., 1932., 1792., 1883., 1918., 1886., 1887.,\n",
       "       1844., 1858., 1863., 1907., 1917., 1847., 1764., 1881., 1853.,\n",
       "       1882., 1921.], dtype=float32)"
      ]
     },
     "execution_count": 97,
     "metadata": {},
     "output_type": "execute_result"
    }
   ],
   "source": [
    "dirty_data[\"year_built\"].unique()"
   ]
  },
  {
   "cell_type": "markdown",
   "id": "71df77c2",
   "metadata": {},
   "source": [
    "#### central heating"
   ]
  },
  {
   "cell_type": "code",
   "execution_count": 98,
   "id": "36d44549",
   "metadata": {},
   "outputs": [
    {
     "data": {
      "text/plain": [
       "array(['central heating', 'no heating', 'individual heating', nan],\n",
       "      dtype=object)"
      ]
     },
     "execution_count": 98,
     "metadata": {},
     "output_type": "execute_result"
    }
   ],
   "source": [
    "dirty_data = dirty_data.rename(columns={\"central heating\":\"central_heating\"})\n",
    "dirty_data[\"central_heating\"].unique()"
   ]
  },
  {
   "cell_type": "markdown",
   "id": "1d1ae1e0",
   "metadata": {},
   "source": [
    "I'll convert this column as a boolean. True if it's central heating and false if not. Then create a second column for individual"
   ]
  },
  {
   "cell_type": "code",
   "execution_count": 99,
   "id": "c55723b3",
   "metadata": {},
   "outputs": [
    {
     "data": {
      "text/plain": [
       "7                      [['33 m² built', '2 bedrooms', '1 bathroom', 'Balcony', 'Second hand/good condition', 'Orientation North, West', 'Built in 1819'], ['5th floor exterior', 'No lift'], ['Consumption:271 kWh/m² year', 'Emissions:53 kg CO2/m² year']]\n",
       "15                                                            [['57 m² built, 48 m² floor area', '1 bedroom', '1 bathroom', 'Second hand/good condition', 'Orientation West', 'Built in 2001'], ['2nd floor', 'With lift'], ['Consumption:163 kWh/m² year']]\n",
       "16                                                                                                                     [['54 m² built', '3 bedrooms', '1 bathroom', 'Second hand/good condition'], ['3rd floor', 'No lift'], ['Consumption:', 'Emissions:']]\n",
       "31                              [['41 m² built, 34 m² floor area', '2 bedrooms', '1 bathroom', 'Balcony', 'Second hand/good condition', 'Built in 1900'], ['4th floor exterior', 'No lift'], ['Consumption:187 kWh/m² year', 'Emissions:37 kg CO2/m² year']]\n",
       "34                                        [['57 m² built, 48 m² floor area', '1 bedroom', '1 bathroom', 'Second hand/good condition', 'Built in 2001'], ['2nd floor exterior', 'With lift'], ['Consumption:163 kWh/m² year', 'Emissions:30 kg CO2/m² year']]\n",
       "                                                                                                                                ...                                                                                                                         \n",
       "10930    [['80 m² built', '3 bedrooms', '1 bathroom', 'Balcony', 'Second hand/good condition', 'Orientation North, East, West'], ['10th floor exterior', 'With lift'], ['Air conditioning'], ['Consumption:231 kWh/m² year', 'Emissions:46 kg CO2/m² year']]\n",
       "10931                                                                                                                  [['54 m² built', '3 bedrooms', '1 bathroom', 'Second hand/good condition'], ['2nd floor', 'No lift'], ['Consumption:', 'Emissions:']]\n",
       "10932                                                                                                                                            [['48 m² built', 'No bedroom', '1 bathroom', 'Second hand/good condition'], ['Consumption:', 'Emissions:']]\n",
       "10933                                  [['57 m² built', '2 bedrooms', '1 bathroom', 'Second hand/good condition', 'Built in 1961'], ['1st floor exterior', 'No lift'], ['Air conditioning'], ['Consumption:254 kWh/m² year', 'Emissions:32 kg CO2/m² year']]\n",
       "10945                                                         [['81 m² built, 70 m² floor area', '3 bedrooms', '1 bathroom', 'Balcony', 'Second hand/good condition', 'Built in 2007'], ['3rd floor exterior', 'With lift'], ['Consumption:', 'Emissions:']]\n",
       "Name: raw_row, Length: 4388, dtype: object"
      ]
     },
     "execution_count": 99,
     "metadata": {},
     "output_type": "execute_result"
    }
   ],
   "source": [
    "dirty_data.loc[dirty_data[\"central_heating\"].isna(),\"raw_row\"]"
   ]
  },
  {
   "cell_type": "code",
   "execution_count": 100,
   "id": "92747f13",
   "metadata": {},
   "outputs": [],
   "source": [
    "dirty_data[\"central_heating\"] = dirty_data[\"central_heating\"].str.replace(\" heating\",\"\")"
   ]
  },
  {
   "cell_type": "code",
   "execution_count": 101,
   "id": "0e6e1a43",
   "metadata": {},
   "outputs": [
    {
     "data": {
      "text/plain": [
       "array(['central', 'no', 'individual', nan], dtype=object)"
      ]
     },
     "execution_count": 101,
     "metadata": {},
     "output_type": "execute_result"
    }
   ],
   "source": [
    "dirty_data[\"central_heating\"].unique()"
   ]
  },
  {
   "cell_type": "markdown",
   "id": "e9432e20",
   "metadata": {},
   "source": [
    "#### heating_type"
   ]
  },
  {
   "cell_type": "code",
   "execution_count": 102,
   "id": "1674acc3",
   "metadata": {},
   "outputs": [
    {
     "data": {
      "text/plain": [
       "array([nan, 'heating: electric', 'heating: gas', 'heating: natural',\n",
       "       'heating: air', 'heating: fuel', 'heating: propane'], dtype=object)"
      ]
     },
     "execution_count": 102,
     "metadata": {},
     "output_type": "execute_result"
    }
   ],
   "source": [
    "dirty_data[\"heating_type\"].unique()"
   ]
  },
  {
   "cell_type": "code",
   "execution_count": 103,
   "id": "fc14b46e",
   "metadata": {},
   "outputs": [],
   "source": [
    "dirty_data[\"heating_type\"] = dirty_data[\"heating_type\"].str.replace(\"heating: \", \"\")"
   ]
  },
  {
   "cell_type": "code",
   "execution_count": 104,
   "id": "352ad122",
   "metadata": {},
   "outputs": [
    {
     "data": {
      "text/plain": [
       "array([nan, 'electric', 'gas', 'natural', 'air', 'fuel', 'propane'],\n",
       "      dtype=object)"
      ]
     },
     "execution_count": 104,
     "metadata": {},
     "output_type": "execute_result"
    }
   ],
   "source": [
    "dirty_data[\"heating_type\"].unique()"
   ]
  },
  {
   "cell_type": "markdown",
   "id": "b2966e9d",
   "metadata": {},
   "source": [
    "#### consumption"
   ]
  },
  {
   "cell_type": "code",
   "execution_count": 105,
   "id": "df1a9e1d",
   "metadata": {},
   "outputs": [
    {
     "data": {
      "text/plain": [
       "array(['consumption:91 kwh/m² year', 'consumption:311 kwh/m² year', nan,\n",
       "       'consumption:15 kwh/m² year', 'consumption:90 kwh/m² year',\n",
       "       'consumption:233 kwh/m² year', 'consumption:128 kwh/m² year',\n",
       "       'consumption:271 kwh/m² year', 'consumption:200 kwh/m² year',\n",
       "       'consumption:40 kwh/m² year', 'consumption:162 kwh/m² year',\n",
       "       'consumption:208 kwh/m² year', 'consumption:140 kwh/m² year',\n",
       "       'consumption:163 kwh/m² year', 'consumption:101 kwh/m² year',\n",
       "       'consumption:130 kwh/m² year', 'consumption:187 kwh/m² year',\n",
       "       'consumption:268 kwh/m² year', 'consumption:572 kwh/m² year',\n",
       "       'consumption:133 kwh/m² year', 'consumption:177 kwh/m² year',\n",
       "       'consumption:74 kwh/m² year', 'consumption:218 kwh/m² year',\n",
       "       'consumption:98 kwh/m² year', 'consumption:32 kwh/m² year',\n",
       "       'consumption:149 kwh/m² year', 'consumption:123 kwh/m² year',\n",
       "       'consumption:45 kwh/m² year', 'consumption:92 kwh/m² year',\n",
       "       'consumption:229 kwh/m² year', 'consumption:136 kwh/m² year',\n",
       "       'consumption:234 kwh/m² year', 'consumption:165 kwh/m² year',\n",
       "       'consumption:345 kwh/m² year', 'consumption:100 kwh/m² year',\n",
       "       'consumption:43 kwh/m² year', 'consumption:131 kwh/m² year',\n",
       "       'consumption:137 kwh/m² year', 'consumption:117 kwh/m² year',\n",
       "       'consumption:141 kwh/m² year', 'consumption:216 kwh/m² year',\n",
       "       'consumption:191 kwh/m² year', 'consumption:256 kwh/m² year',\n",
       "       'consumption:24 kwh/m² year', 'consumption:195 kwh/m² year',\n",
       "       'consumption:113 kwh/m² year', 'consumption:305 kwh/m² year',\n",
       "       'consumption:87 kwh/m² year', 'consumption:25 kwh/m² year',\n",
       "       'consumption:150 kwh/m² year', 'consumption:180 kwh/m² year',\n",
       "       'consumption:999 kwh/m² year', 'consumption:121 kwh/m² year',\n",
       "       'consumption:124 kwh/m² year', 'consumption:159 kwh/m² year',\n",
       "       'consumption:135 kwh/m² year', 'consumption:82 kwh/m² year',\n",
       "       'consumption:31 kwh/m² year', 'consumption:120 kwh/m² year',\n",
       "       'consumption:172,44 kwh/m² year', 'consumption:65 kwh/m² year',\n",
       "       'consumption:145 kwh/m² year', 'consumption:800 kwh/m² year',\n",
       "       'consumption:34 kwh/m² year', 'consumption:196 kwh/m² year',\n",
       "       'consumption:215 kwh/m² year', 'consumption:212 kwh/m² year',\n",
       "       'consumption:26 kwh/m² year', 'consumption:251 kwh/m² year',\n",
       "       'consumption:148 kwh/m² year', 'consumption:21 kwh/m² year',\n",
       "       'consumption:160 kwh/m² year', 'consumption:223 kwh/m² year',\n",
       "       'consumption:66 kwh/m² year', 'consumption:447 kwh/m² year',\n",
       "       'consumption:104 kwh/m² year', 'consumption:86 kwh/m² year',\n",
       "       'consumption:54 kwh/m² year', 'consumption:252 kwh/m² year',\n",
       "       'consumption:186 kwh/m² year', 'consumption:197 kwh/m² year',\n",
       "       'consumption:360 kwh/m² year', 'consumption:261 kwh/m² year',\n",
       "       'consumption:143 kwh/m² year', 'consumption:138 kwh/m² year',\n",
       "       'consumption:183 kwh/m² year', 'consumption:284 kwh/m² year',\n",
       "       'consumption:161 kwh/m² year', 'consumption:134 kwh/m² year',\n",
       "       'consumption:17 kwh/m² year', 'consumption:292 kwh/m² year',\n",
       "       'consumption:204 kwh/m² year', 'consumption:192 kwh/m² year',\n",
       "       'consumption:179 kwh/m² year', 'consumption:405 kwh/m² year',\n",
       "       'consumption:1 kwh/m² year', 'consumption:156 kwh/m² year',\n",
       "       'consumption:109 kwh/m² year', 'consumption:155 kwh/m² year',\n",
       "       'consumption:78 kwh/m² year', 'consumption:185 kwh/m² year',\n",
       "       'consumption:260 kwh/m² year', 'consumption:182 kwh/m² year',\n",
       "       'consumption:181 kwh/m² year', 'consumption:169 kwh/m² year',\n",
       "       'consumption:146 kwh/m² year', 'consumption:249 kwh/m² year',\n",
       "       'consumption:258 kwh/m² year', 'consumption:76 kwh/m² year',\n",
       "       'consumption:275 kwh/m² year', 'consumption:132 kwh/m² year',\n",
       "       'consumption:29 kwh/m² year', 'consumption:30 kwh/m² year',\n",
       "       'consumption:19 kwh/m² year', 'consumption:114 kwh/m² year',\n",
       "       'consumption:48 kwh/m² year', 'consumption:304 kwh/m² year',\n",
       "       'consumption:153 kwh/m² year', 'consumption:152 kwh/m² year',\n",
       "       'consumption:174 kwh/m² year', 'consumption:99 kwh/m² year',\n",
       "       'consumption:96 kwh/m² year', 'consumption:22 kwh/m² year',\n",
       "       'consumption:167 kwh/m² year', 'consumption:79 kwh/m² year',\n",
       "       'consumption:217 kwh/m² year', 'consumption:20 kwh/m² year',\n",
       "       'consumption:111 kwh/m² year', 'consumption:154 kwh/m² year',\n",
       "       'consumption:239 kwh/m² year', 'consumption:97 kwh/m² year',\n",
       "       'consumption:129 kwh/m² year', 'consumption:999,99 kwh/m² year',\n",
       "       'consumption:57 kwh/m² year', 'consumption:675 kwh/m² year',\n",
       "       'consumption:115 kwh/m² year', 'consumption:389 kwh/m² year',\n",
       "       'consumption:126 kwh/m² year', 'consumption:168 kwh/m² year',\n",
       "       'consumption:244 kwh/m² year', 'consumption:119,8 kwh/m² year',\n",
       "       'consumption:110 kwh/m² year', 'consumption:247 kwh/m² year',\n",
       "       'consumption:184 kwh/m² year', 'consumption:158 kwh/m² year',\n",
       "       'consumption:226 kwh/m² year', 'consumption:253 kwh/m² year',\n",
       "       'consumption:202 kwh/m² year', 'consumption:209 kwh/m² year',\n",
       "       'consumption:242 kwh/m² year', 'consumption:170 kwh/m² year',\n",
       "       'consumption:324 kwh/m² year', 'consumption:176 kwh/m² year',\n",
       "       'consumption:348 kwh/m² year', 'consumption:777 kwh/m² year',\n",
       "       'consumption:201 kwh/m² year', 'consumption:207 kwh/m² year',\n",
       "       'consumption:220 kwh/m² year', 'consumption:102 kwh/m² year',\n",
       "       'consumption:127 kwh/m² year', 'consumption:255 kwh/m² year',\n",
       "       'consumption:112 kwh/m² year', 'consumption:125 kwh/m² year',\n",
       "       'consumption:356 kwh/m² year', 'consumption:219 kwh/m² year',\n",
       "       'consumption:42 kwh/m² year', 'consumption:289 kwh/m² year',\n",
       "       'consumption:240 kwh/m² year', 'consumption:164 kwh/m² year',\n",
       "       'consumption:178 kwh/m² year', 'consumption:88 kwh/m² year',\n",
       "       'consumption:276 kwh/m² year', 'consumption:73 kwh/m² year',\n",
       "       'consumption:1182 kwh/m² year', 'consumption:310 kwh/m² year',\n",
       "       'consumption:166 kwh/m² year', 'consumption:190 kwh/m² year',\n",
       "       'consumption:52 kwh/m² year', 'consumption:269 kwh/m² year',\n",
       "       'consumption:77 kwh/m² year', 'consumption:36 kwh/m² year',\n",
       "       'consumption:106 kwh/m² year', 'consumption:333 kwh/m² year',\n",
       "       'consumption:224 kwh/m² year', 'consumption:131,6 kwh/m² year',\n",
       "       'consumption:263 kwh/m² year', 'consumption:9 kwh/m² year',\n",
       "       'consumption:94 kwh/m² year', 'consumption:108 kwh/m² year',\n",
       "       'consumption:298 kwh/m² year', 'consumption:103 kwh/m² year',\n",
       "       'consumption:16 kwh/m² year', 'consumption:217,85 kwh/m² year',\n",
       "       'consumption:144 kwh/m² year', 'consumption:241 kwh/m² year',\n",
       "       'consumption:230 kwh/m² year', 'consumption:384 kwh/m² year',\n",
       "       'consumption:67,28 kwh/m² year', 'consumption:232 kwh/m² year',\n",
       "       'consumption:142 kwh/m² year', 'consumption:272 kwh/m² year',\n",
       "       'consumption:49 kwh/m² year', 'consumption:314 kwh/m² year',\n",
       "       'consumption:5 kwh/m² year', 'consumption:228 kwh/m² year',\n",
       "       'consumption:318 kwh/m² year', 'consumption:146,9 kwh/m² year',\n",
       "       'consumption:23 kwh/m² year', 'consumption:89 kwh/m² year',\n",
       "       'consumption:274 kwh/m² year', 'consumption:325 kwh/m² year',\n",
       "       'consumption:18 kwh/m² year', 'consumption:259 kwh/m² year',\n",
       "       'consumption:291 kwh/m² year', 'consumption:369 kwh/m² year',\n",
       "       'consumption:139 kwh/m² year', 'consumption:47 kwh/m² year',\n",
       "       'consumption:147 kwh/m² year', 'consumption:9999 kwh/m² year',\n",
       "       'consumption:200,4 kwh/m² year', 'consumption:44 kwh/m² year',\n",
       "       'consumption:222 kwh/m² year', 'consumption:60 kwh/m² year',\n",
       "       'consumption:116,9 kwh/m² year', 'consumption:35 kwh/m² year',\n",
       "       'consumption:33 kwh/m² year', 'consumption:95 kwh/m² year',\n",
       "       'consumption:51 kwh/m² year', 'consumption:248 kwh/m² year',\n",
       "       'consumption:302 kwh/m² year', 'consumption:246 kwh/m² year',\n",
       "       'consumption:119 kwh/m² year', 'consumption:273 kwh/m² year',\n",
       "       'consumption:316 kwh/m² year', 'consumption:420 kwh/m² year',\n",
       "       'consumption:199 kwh/m² year', 'consumption:38 kwh/m² year',\n",
       "       'consumption:212,1 kwh/m² year', 'consumption:234,5 kwh/m² year',\n",
       "       'consumption:85 kwh/m² year', 'consumption:358 kwh/m² year',\n",
       "       'consumption:70 kwh/m² year', 'consumption:193 kwh/m² year',\n",
       "       'consumption:63 kwh/m² year', 'consumption:118 kwh/m² year',\n",
       "       'consumption:257 kwh/m² year', 'consumption:231 kwh/m² year',\n",
       "       'consumption:327 kwh/m² year', 'consumption:262 kwh/m² year',\n",
       "       'consumption:203 kwh/m² year', 'consumption:365 kwh/m² year',\n",
       "       'consumption:41 kwh/m² year', 'consumption:67 kwh/m² year',\n",
       "       'consumption:372 kwh/m² year', 'consumption:320 kwh/m² year',\n",
       "       'consumption:189 kwh/m² year', 'consumption:198 kwh/m² year',\n",
       "       'consumption:283 kwh/m² year', 'consumption:171 kwh/m² year',\n",
       "       'consumption:250 kwh/m² year', 'consumption:46 kwh/m² year',\n",
       "       'consumption:39 kwh/m² year', 'consumption:99,99 kwh/m² year',\n",
       "       'consumption:12 kwh/m² year', 'consumption:72,21 kwh/m² year',\n",
       "       'consumption:28 kwh/m² year', 'consumption:225 kwh/m² year',\n",
       "       'consumption:900 kwh/m² year', 'consumption:277 kwh/m² year',\n",
       "       'consumption:550 kwh/m² year', 'consumption:210 kwh/m² year',\n",
       "       'consumption:336 kwh/m² year', 'consumption:326 kwh/m² year',\n",
       "       'consumption:64 kwh/m² year', 'consumption:151 kwh/m² year',\n",
       "       'consumption:236 kwh/m² year', 'consumption:337 kwh/m² year',\n",
       "       'consumption:235 kwh/m² year', 'consumption:116 kwh/m² year',\n",
       "       'consumption:157 kwh/m² year', 'consumption:282 kwh/m² year',\n",
       "       'consumption:68 kwh/m² year', 'consumption:61,34 kwh/m² year',\n",
       "       'consumption:50 kwh/m² year', 'consumption:221 kwh/m² year',\n",
       "       'consumption:366 kwh/m² year', 'consumption:53 kwh/m² year',\n",
       "       'consumption:338 kwh/m² year', 'consumption:98,1 kwh/m² year',\n",
       "       'consumption:188 kwh/m² year', 'consumption:71 kwh/m² year',\n",
       "       'consumption:297 kwh/m² year', 'consumption:300 kwh/m² year',\n",
       "       'consumption:68,6 kwh/m² year', 'consumption:299 kwh/m² year',\n",
       "       'consumption:375 kwh/m² year', 'consumption:206 kwh/m² year',\n",
       "       'consumption:238 kwh/m² year', 'consumption:55 kwh/m² year',\n",
       "       'consumption:122 kwh/m² year', 'consumption:334 kwh/m² year',\n",
       "       'consumption:278 kwh/m² year', 'consumption:173 kwh/m² year',\n",
       "       'consumption:211 kwh/m² year', 'consumption:141,4 kwh/m² year',\n",
       "       'consumption:81 kwh/m² year', 'consumption:189,5 kwh/m² year',\n",
       "       'consumption:255,6 kwh/m² year', 'consumption:453 kwh/m² year',\n",
       "       'consumption:107 kwh/m² year', 'consumption:285 kwh/m² year',\n",
       "       'consumption:61 kwh/m² year', 'consumption:58 kwh/m² year',\n",
       "       'consumption:62 kwh/m² year', 'consumption:361 kwh/m² year',\n",
       "       'consumption:525 kwh/m² year', 'consumption:309 kwh/m² year',\n",
       "       'consumption:174,3 kwh/m² year', 'consumption:56 kwh/m² year',\n",
       "       'consumption:306 kwh/m² year', 'consumption:84 kwh/m² year',\n",
       "       'consumption:213,2 kwh/m² year', 'consumption:252,96 kwh/m² year',\n",
       "       'consumption:301 kwh/m² year', 'consumption:343 kwh/m² year',\n",
       "       'consumption:194 kwh/m² year', 'consumption:245 kwh/m² year',\n",
       "       'consumption:172 kwh/m² year', 'consumption:440 kwh/m² year',\n",
       "       'consumption:64,6 kwh/m² year', 'consumption:83 kwh/m² year',\n",
       "       'consumption:27 kwh/m² year', 'consumption:4 kwh/m² year',\n",
       "       'consumption:376 kwh/m² year', 'consumption:191,6 kwh/m² year',\n",
       "       'consumption:72 kwh/m² year', 'consumption:14 kwh/m² year',\n",
       "       'consumption:10 kwh/m² year', 'consumption:17,5 kwh/m² year',\n",
       "       'consumption:267 kwh/m² year', 'consumption:114,5 kwh/m² year',\n",
       "       'consumption:11 kwh/m² year', 'consumption:307 kwh/m² year',\n",
       "       'consumption:214 kwh/m² year', 'consumption:441 kwh/m² year',\n",
       "       'consumption:339 kwh/m² year', 'consumption:205 kwh/m² year',\n",
       "       'consumption:287 kwh/m² year', 'consumption:303,7 kwh/m² year',\n",
       "       'consumption:224,7 kwh/m² year', 'consumption:436 kwh/m² year',\n",
       "       'consumption:537 kwh/m² year', 'consumption:223,1 kwh/m² year',\n",
       "       'consumption:168,5 kwh/m² year', 'consumption:83,91 kwh/m² year',\n",
       "       'consumption:266 kwh/m² year', 'consumption:500 kwh/m² year',\n",
       "       'consumption:288 kwh/m² year', 'consumption:8 kwh/m² year',\n",
       "       'consumption:414 kwh/m² year', 'consumption:330 kwh/m² year',\n",
       "       'consumption:105 kwh/m² year', 'consumption:80 kwh/m² year',\n",
       "       'consumption:491 kwh/m² year', 'consumption:367 kwh/m² year',\n",
       "       'consumption:317 kwh/m² year', 'consumption:329 kwh/m² year',\n",
       "       'consumption:240,1 kwh/m² year', 'consumption:295 kwh/m² year',\n",
       "       'consumption:351 kwh/m² year', 'consumption:259,1 kwh/m² year',\n",
       "       'consumption:172,1 kwh/m² year', 'consumption:383 kwh/m² year',\n",
       "       'consumption:93 kwh/m² year', 'consumption:359 kwh/m² year',\n",
       "       'consumption:213 kwh/m² year', 'consumption:175 kwh/m² year',\n",
       "       'consumption:37 kwh/m² year', 'consumption:71,95 kwh/m² year',\n",
       "       'consumption:593 kwh/m² year', 'consumption:371 kwh/m² year',\n",
       "       'consumption:192,21 kwh/m² year', 'consumption:435 kwh/m² year',\n",
       "       'consumption:342 kwh/m² year', 'consumption:397 kwh/m² year',\n",
       "       'consumption:379 kwh/m² year', 'consumption:187,56 kwh/m² year',\n",
       "       'consumption:451 kwh/m² year', 'consumption:308 kwh/m² year',\n",
       "       'consumption:281 kwh/m² year', 'consumption:197,1 kwh/m² year',\n",
       "       'consumption:303 kwh/m² year', 'consumption:254 kwh/m² year',\n",
       "       'consumption:328 kwh/m² year', 'consumption:335 kwh/m² year',\n",
       "       'consumption:95,7 kwh/m² year', 'consumption:234,9 kwh/m² year',\n",
       "       'consumption:237 kwh/m² year', 'consumption:289,1 kwh/m² year',\n",
       "       'consumption:315 kwh/m² year', 'consumption:69 kwh/m² year',\n",
       "       'consumption:172,3 kwh/m² year', 'consumption:960 kwh/m² year',\n",
       "       'consumption:230,3 kwh/m² year', 'consumption:368 kwh/m² year',\n",
       "       'consumption:132,24 kwh/m² year', 'consumption:270 kwh/m² year',\n",
       "       'consumption:264 kwh/m² year', 'consumption:522 kwh/m² year',\n",
       "       'consumption:279 kwh/m² year', 'consumption:75 kwh/m² year',\n",
       "       'consumption:108,58 kwh/m² year', 'consumption:227 kwh/m² year',\n",
       "       'consumption:293 kwh/m² year', 'consumption:260,32 kwh/m² year',\n",
       "       'consumption:24,87 kwh/m² year', 'consumption:99,7 kwh/m² year',\n",
       "       'consumption:407 kwh/m² year', 'consumption:51,08 kwh/m² year',\n",
       "       'consumption:265 kwh/m² year', 'consumption:404 kwh/m² year',\n",
       "       'consumption:195,1 kwh/m² year', 'consumption:0,1 kwh/m² year',\n",
       "       'consumption:148,6 kwh/m² year', 'consumption:478 kwh/m² year',\n",
       "       'consumption:186,03 kwh/m² year', 'consumption:115,87 kwh/m² year',\n",
       "       'consumption:188,5 kwh/m² year', 'consumption:286 kwh/m² year',\n",
       "       'consumption:195,5 kwh/m² year', 'consumption:989 kwh/m² year',\n",
       "       'consumption:40,39 kwh/m² year', 'consumption:94,2 kwh/m² year',\n",
       "       'consumption:385 kwh/m² year', 'consumption:465 kwh/m² year',\n",
       "       'consumption:382 kwh/m² year', 'consumption:340 kwh/m² year',\n",
       "       'consumption:122,43 kwh/m² year', 'consumption:173,5 kwh/m² year',\n",
       "       'consumption:183,1 kwh/m² year', 'consumption:0,18 kwh/m² year',\n",
       "       'consumption:0,01 kwh/m² year', 'consumption:159,43 kwh/m² year',\n",
       "       'consumption:476 kwh/m² year', 'consumption:174,22 kwh/m² year',\n",
       "       'consumption:7913 kwh/m² year', 'consumption:117,24 kwh/m² year',\n",
       "       'consumption:83,9 kwh/m² year', 'consumption:243 kwh/m² year',\n",
       "       'consumption:439 kwh/m² year', 'consumption:25,5 kwh/m² year',\n",
       "       'consumption:504 kwh/m² year', 'consumption:488 kwh/m² year',\n",
       "       'consumption:414,2 kwh/m² year', 'consumption:149,8 kwh/m² year',\n",
       "       'consumption:467 kwh/m² year', 'consumption:761 kwh/m² year',\n",
       "       'consumption:130,4 kwh/m² year', 'consumption:323 kwh/m² year',\n",
       "       'consumption:350 kwh/m² year', 'consumption:40,38 kwh/m² year',\n",
       "       'consumption:493 kwh/m² year', 'consumption:86,9 kwh/m² year',\n",
       "       'consumption:128,6 kwh/m² year', 'consumption:290 kwh/m² year',\n",
       "       'consumption:443 kwh/m² year', 'consumption:108,14 kwh/m² year',\n",
       "       'consumption:432 kwh/m² year', 'consumption:296 kwh/m² year',\n",
       "       'consumption:346 kwh/m² year', 'consumption:159,7 kwh/m² year',\n",
       "       'consumption:312 kwh/m² year', 'consumption:72,2 kwh/m² year',\n",
       "       'consumption:505 kwh/m² year', 'consumption:21,9 kwh/m² year',\n",
       "       'consumption:10,1 kwh/m² year', 'consumption:168,89 kwh/m² year',\n",
       "       'consumption:66,34 kwh/m² year', 'consumption:113,76 kwh/m² year',\n",
       "       'consumption:2 kwh/m² year', 'consumption:98,93 kwh/m² year',\n",
       "       'consumption:13 kwh/m² year', 'consumption:357 kwh/m² year',\n",
       "       'consumption:169,5 kwh/m² year', 'consumption:188,8 kwh/m² year',\n",
       "       'consumption:121,5 kwh/m² year', 'consumption:2115 kwh/m² year',\n",
       "       'consumption:321 kwh/m² year', 'consumption:38,25 kwh/m² year',\n",
       "       'consumption:47,2 kwh/m² year', 'consumption:332 kwh/m² year',\n",
       "       'consumption:31,97 kwh/m² year', 'consumption:403 kwh/m² year',\n",
       "       'consumption:67,18 kwh/m² year', 'consumption:183,32 kwh/m² year',\n",
       "       'consumption:214,7 kwh/m² year', 'consumption:9047 kwh/m² year',\n",
       "       'consumption:53,28 kwh/m² year', 'consumption:370 kwh/m² year',\n",
       "       'consumption:349 kwh/m² year', 'consumption:49,47 kwh/m² year',\n",
       "       'consumption:373 kwh/m² year', 'consumption:118,81 kwh/m² year'],\n",
       "      dtype=object)"
      ]
     },
     "execution_count": 105,
     "metadata": {},
     "output_type": "execute_result"
    }
   ],
   "source": [
    "dirty_data[\"consumption\"].unique()"
   ]
  },
  {
   "cell_type": "code",
   "execution_count": 106,
   "id": "3df4ff5b",
   "metadata": {},
   "outputs": [
    {
     "data": {
      "text/plain": [
       "2                                                          [['155 m² built, 89 m² floor area', '3 bedrooms', '2 bathrooms', 'Terrace and balcony', 'Additional parking space for € 30,000', 'Second hand/good condition', 'Built in 2003', 'Central heating'], ['1st floor exterior', 'With lift'], ['Air conditioning'], ['In process']]\n",
       "8                                                                                                 [['118 m² built', '3 bedrooms', '2 bathrooms', 'Balcony', 'Second hand/good condition', 'Storeroom', 'Built in 1860', 'Individual heating'], ['3rd floor exterior', 'With lift'], ['Air conditioning'], ['Consumption:', 'Emissions:']]\n",
       "13                                                                    [['224 m² built', '4 bedrooms', '3 bathrooms', 'Terrace and balcony', 'Second hand/good condition', 'Fitted wardrobes', 'Orientation South, East', 'Built in 1910', 'Individual heating'], ['1st floor exterior', 'No lift'], ['Air conditioning'], ['In process']]\n",
       "16                                                                                                                                                                                                  [['54 m² built', '3 bedrooms', '1 bathroom', 'Second hand/good condition'], ['3rd floor', 'No lift'], ['Consumption:', 'Emissions:']]\n",
       "21                                                                                                                 [['56 m² built', '1 bedroom', '1 bathroom', 'Terrace', 'Second hand/good condition', 'Orientation South', 'Central heating: Gas'], ['interior', 'With lift'], ['Air conditioning', 'Swimming pool'], ['Consumption:']]\n",
       "                                                                                                                                                                       ...                                                                                                                                                               \n",
       "10934                                                                                                  [['75 m² built, 70 m² floor area', '2 bedrooms', '1 bathroom', 'Second hand/good condition', 'Fitted wardrobes', 'Individual heating'], ['6th floor exterior', 'With lift'], ['Air conditioning'], ['Consumption:', 'Emissions:']]\n",
       "10940    [['62 m² built, 56 m² floor area', '3 bedrooms', '1 bathroom', 'Balcony', 'Second hand/good condition', 'Orientation South, West', 'Built in 1970', 'No heating', 'Only outdoor access is adapted for people with reduced mobility'], ['4th floor interior', 'With lift'], ['Air conditioning'], ['Consumption:', 'Emissions:']]\n",
       "10944                                                                                       [['115 m² built', '3 bedrooms', '2 bathrooms', 'Second hand/good condition', 'Storeroom', 'Orientation South', 'Individual heating: Natural gas'], ['2nd floor exterior', 'With lift'], ['Air conditioning'], ['Consumption:', 'Emissions:']]\n",
       "10945                                                                                                                                      [['81 m² built, 70 m² floor area', '3 bedrooms', '1 bathroom', 'Balcony', 'Second hand/good condition', 'Built in 2007'], ['3rd floor exterior', 'With lift'], ['Consumption:', 'Emissions:']]\n",
       "10949                                                                                                                                     [['67 m² built', '1 bedroom', '1 bathroom', 'Second hand/good condition', 'Fitted wardrobes', 'Individual heating'], ['5th floor interior', 'With lift'], ['Air conditioning'], ['In process']]\n",
       "Name: raw_row, Length: 4984, dtype: object"
      ]
     },
     "execution_count": 106,
     "metadata": {},
     "output_type": "execute_result"
    }
   ],
   "source": [
    "dirty_data.loc[dirty_data[\"consumption\"].isna(), \"raw_row\"]"
   ]
  },
  {
   "cell_type": "code",
   "execution_count": 107,
   "id": "6e2ae8be",
   "metadata": {},
   "outputs": [],
   "source": [
    "dirty_data = dirty_data.rename(columns={\"consumption\":\"consumption_in_mkw/m2_year\"})"
   ]
  },
  {
   "cell_type": "code",
   "execution_count": 108,
   "id": "607415da",
   "metadata": {},
   "outputs": [],
   "source": [
    "dirty_data[\"consumption_in_mkw/m2_year\"] = dirty_data[\"consumption_in_mkw/m2_year\"].str.replace(\"consumption:\",\"\").str.replace(\" kwh/m² year\",\"\").str.replace(\",\",\".\")\n",
    "dirty_data[\"consumption_in_mkw/m2_year\"] = dirty_data[\"consumption_in_mkw/m2_year\"].astype(\"float32\")"
   ]
  },
  {
   "cell_type": "code",
   "execution_count": 109,
   "id": "7b02a775",
   "metadata": {},
   "outputs": [
    {
     "data": {
      "text/plain": [
       "0        91.0000\n",
       "1       311.0000\n",
       "2            NaN\n",
       "3        15.0000\n",
       "4        90.0000\n",
       "          ...   \n",
       "10946   162.0000\n",
       "10947   152.0000\n",
       "10948   165.0000\n",
       "10949        NaN\n",
       "10950   123.0000\n",
       "Name: consumption_in_mkw/m2_year, Length: 10951, dtype: float32"
      ]
     },
     "execution_count": 109,
     "metadata": {},
     "output_type": "execute_result"
    }
   ],
   "source": [
    "dirty_data[\"consumption_in_mkw/m2_year\"] "
   ]
  },
  {
   "cell_type": "markdown",
   "id": "2289c853",
   "metadata": {},
   "source": [
    "#### emissions"
   ]
  },
  {
   "cell_type": "code",
   "execution_count": 110,
   "id": "6501c0c7",
   "metadata": {},
   "outputs": [
    {
     "data": {
      "text/plain": [
       "array(['emissions:17 kg co2/m² year', 'emissions:65 kg co2/m² year', nan,\n",
       "       'emissions:71 kg co2/m² year', 'emissions:190 kg co2/m² year',\n",
       "       'emissions:26 kg co2/m² year', 'emissions:53 kg co2/m² year',\n",
       "       'emissions:40 kg co2/m² year', 'emissions:7 kg co2/m² year',\n",
       "       'emissions:33 kg co2/m² year', 'emissions:43 kg co2/m² year',\n",
       "       'emissions:28 kg co2/m² year', 'emissions:21 kg co2/m² year',\n",
       "       'emissions:20 kg co2/m² year', 'emissions:37 kg co2/m² year',\n",
       "       'emissions:56 kg co2/m² year', 'emissions:30 kg co2/m² year',\n",
       "       'emissions:99 kg co2/m² year', 'emissions:27 kg co2/m² year',\n",
       "       'emissions:45 kg co2/m² year', 'emissions:13 kg co2/m² year',\n",
       "       'emissions:36 kg co2/m² year', 'emissions:32 kg co2/m² year',\n",
       "       'emissions:31 kg co2/m² year', 'emissions:15 kg co2/m² year',\n",
       "       'emissions:19 kg co2/m² year', 'emissions:34 kg co2/m² year',\n",
       "       'emissions:48 kg co2/m² year', 'emissions:24 kg co2/m² year',\n",
       "       'emissions:29 kg co2/m² year', 'emissions:29,1 kg co2/m² year',\n",
       "       'emissions:46 kg co2/m² year', 'emissions:49 kg co2/m² year',\n",
       "       'emissions:6 kg co2/m² year', 'emissions:4 kg co2/m² year',\n",
       "       'emissions:23 kg co2/m² year', 'emissions:18 kg co2/m² year',\n",
       "       'emissions:60 kg co2/m² year', 'emissions:44 kg co2/m² year',\n",
       "       'emissions:22 kg co2/m² year', 'emissions:102 kg co2/m² year',\n",
       "       'emissions:5 kg co2/m² year', 'emissions:10 kg co2/m² year',\n",
       "       'emissions:54 kg co2/m² year', 'emissions:800 kg co2/m² year',\n",
       "       'emissions:999 kg co2/m² year', 'emissions:38 kg co2/m² year',\n",
       "       'emissions:41 kg co2/m² year', 'emissions:46,8 kg co2/m² year',\n",
       "       'emissions:52 kg co2/m² year', 'emissions:25 kg co2/m² year',\n",
       "       'emissions:107 kg co2/m² year', 'emissions:47 kg co2/m² year',\n",
       "       'emissions:11 kg co2/m² year', 'emissions:75 kg co2/m² year',\n",
       "       'emissions:14 kg co2/m² year', 'emissions:35 kg co2/m² year',\n",
       "       'emissions:76 kg co2/m² year', 'emissions:55 kg co2/m² year',\n",
       "       'emissions:61 kg co2/m² year', 'emissions:59,9 kg co2/m² year',\n",
       "       'emissions:80 kg co2/m² year', 'emissions:77 kg co2/m² year',\n",
       "       'emissions:1 kg co2/m² year', 'emissions:355 kg co2/m² year',\n",
       "       'emissions:42 kg co2/m² year', 'emissions:62 kg co2/m² year',\n",
       "       'emissions:58 kg co2/m² year', 'emissions:3 kg co2/m² year',\n",
       "       'emissions:50 kg co2/m² year', 'emissions:8 kg co2/m² year',\n",
       "       'emissions:63 kg co2/m² year', 'emissions:108 kg co2/m² year',\n",
       "       'emissions:79 kg co2/m² year', 'emissions:99,99 kg co2/m² year',\n",
       "       'emissions:12 kg co2/m² year', 'emissions:180 kg co2/m² year',\n",
       "       'emissions:95 kg co2/m² year', 'emissions:81 kg co2/m² year',\n",
       "       'emissions:110 kg co2/m² year', 'emissions:39 kg co2/m² year',\n",
       "       'emissions:132 kg co2/m² year', 'emissions:66 kg co2/m² year',\n",
       "       'emissions:67 kg co2/m² year', 'emissions:42,5 kg co2/m² year',\n",
       "       'emissions:16 kg co2/m² year', 'emissions:123 kg co2/m² year',\n",
       "       'emissions:57 kg co2/m² year', 'emissions:29,5 kg co2/m² year',\n",
       "       'emissions:251 kg co2/m² year', 'emissions:69 kg co2/m² year',\n",
       "       'emissions:93 kg co2/m² year', 'emissions:51 kg co2/m² year',\n",
       "       'emissions:24,4 kg co2/m² year', 'emissions:45,98 kg co2/m² year',\n",
       "       'emissions:68 kg co2/m² year', 'emissions:30,8 kg co2/m² year',\n",
       "       'emissions:127 kg co2/m² year', 'emissions:73 kg co2/m² year',\n",
       "       'emissions:254 kg co2/m² year', 'emissions:125 kg co2/m² year',\n",
       "       'emissions:9999 kg co2/m² year', 'emissions:36,5 kg co2/m² year',\n",
       "       'emissions:255 kg co2/m² year', 'emissions:121 kg co2/m² year',\n",
       "       'emissions:120 kg co2/m² year', 'emissions:100 kg co2/m² year',\n",
       "       'emissions:173 kg co2/m² year', 'emissions:158 kg co2/m² year',\n",
       "       'emissions:49,5 kg co2/m² year', 'emissions:98 kg co2/m² year',\n",
       "       'emissions:250 kg co2/m² year', 'emissions:89 kg co2/m² year',\n",
       "       'emissions:48,9 kg co2/m² year', 'emissions:70 kg co2/m² year',\n",
       "       'emissions:171 kg co2/m² year', 'emissions:186 kg co2/m² year',\n",
       "       'emissions:45,34 kg co2/m² year', 'emissions:124 kg co2/m² year',\n",
       "       'emissions:900 kg co2/m² year', 'emissions:58,3 kg co2/m² year',\n",
       "       'emissions:116 kg co2/m² year', 'emissions:175 kg co2/m² year',\n",
       "       'emissions:78 kg co2/m² year', 'emissions:43,1 kg co2/m² year',\n",
       "       'emissions:12,07 kg co2/m² year', 'emissions:240 kg co2/m² year',\n",
       "       'emissions:9 kg co2/m² year', 'emissions:218 kg co2/m² year',\n",
       "       'emissions:11,6 kg co2/m² year', 'emissions:128 kg co2/m² year',\n",
       "       'emissions:52,7 kg co2/m² year', 'emissions:29,6 kg co2/m² year',\n",
       "       'emissions:39,8 kg co2/m² year', 'emissions:88 kg co2/m² year',\n",
       "       'emissions:51,8 kg co2/m² year', 'emissions:92 kg co2/m² year',\n",
       "       'emissions:109 kg co2/m² year', 'emissions:229 kg co2/m² year',\n",
       "       'emissions:130 kg co2/m² year', 'emissions:64 kg co2/m² year',\n",
       "       'emissions:44,9 kg co2/m² year', 'emissions:299 kg co2/m² year',\n",
       "       'emissions:53,37 kg co2/m² year', 'emissions:84 kg co2/m² year',\n",
       "       'emissions:112 kg co2/m² year', 'emissions:59 kg co2/m² year',\n",
       "       'emissions:200 kg co2/m² year', 'emissions:85 kg co2/m² year',\n",
       "       'emissions:232 kg co2/m² year', 'emissions:74 kg co2/m² year',\n",
       "       'emissions:83 kg co2/m² year', 'emissions:137 kg co2/m² year',\n",
       "       'emissions:10,9 kg co2/m² year', 'emissions:40,3 kg co2/m² year',\n",
       "       'emissions:213 kg co2/m² year', 'emissions:152 kg co2/m² year',\n",
       "       'emissions:2 kg co2/m² year', 'emissions:5,79 kg co2/m² year',\n",
       "       'emissions:24,7 kg co2/m² year', 'emissions:111 kg co2/m² year',\n",
       "       'emissions:160 kg co2/m² year', 'emissions:72 kg co2/m² year',\n",
       "       'emissions:231 kg co2/m² year', 'emissions:38,14 kg co2/m² year',\n",
       "       'emissions:91 kg co2/m² year', 'emissions:105 kg co2/m² year',\n",
       "       'emissions:41,8 kg co2/m² year', 'emissions:34,4 kg co2/m² year',\n",
       "       'emissions:266 kg co2/m² year', 'emissions:500 kg co2/m² year',\n",
       "       'emissions:36,4 kg co2/m² year', 'emissions:369 kg co2/m² year',\n",
       "       'emissions:330 kg co2/m² year', 'emissions:87 kg co2/m² year',\n",
       "       'emissions:37,5 kg co2/m² year', 'emissions:258 kg co2/m² year',\n",
       "       'emissions:122 kg co2/m² year', 'emissions:134 kg co2/m² year',\n",
       "       'emissions:48,4 kg co2/m² year', 'emissions:197 kg co2/m² year',\n",
       "       'emissions:54,1 kg co2/m² year', 'emissions:36,2 kg co2/m² year',\n",
       "       'emissions:14,21 kg co2/m² year', 'emissions:165 kg co2/m² year',\n",
       "       'emissions:14,98 kg co2/m² year', 'emissions:86 kg co2/m² year',\n",
       "       'emissions:235 kg co2/m² year', 'emissions:40,1 kg co2/m² year',\n",
       "       'emissions:150 kg co2/m² year', 'emissions:220 kg co2/m² year',\n",
       "       'emissions:141 kg co2/m² year', 'emissions:38,62 kg co2/m² year',\n",
       "       'emissions:195 kg co2/m² year', 'emissions:41,5 kg co2/m² year',\n",
       "       'emissions:90 kg co2/m² year', 'emissions:247 kg co2/m² year',\n",
       "       'emissions:17,1 kg co2/m² year', 'emissions:51,9 kg co2/m² year',\n",
       "       'emissions:356 kg co2/m² year', 'emissions:61,2 kg co2/m² year',\n",
       "       'emissions:38,89 kg co2/m² year', 'emissions:66,22 kg co2/m² year',\n",
       "       'emissions:256 kg co2/m² year', 'emissions:262 kg co2/m² year',\n",
       "       'emissions:191 kg co2/m² year', 'emissions:788 kg co2/m² year',\n",
       "       'emissions:47,5 kg co2/m² year', 'emissions:677 kg co2/m² year',\n",
       "       'emissions:222 kg co2/m² year', 'emissions:27,76 kg co2/m² year',\n",
       "       'emissions:38,9 kg co2/m² year', 'emissions:153 kg co2/m² year',\n",
       "       'emissions:22,28 kg co2/m² year', 'emissions:143 kg co2/m² year',\n",
       "       'emissions:685 kg co2/m² year', 'emissions:162 kg co2/m² year',\n",
       "       'emissions:67,43 kg co2/m² year', 'emissions:5,26 kg co2/m² year',\n",
       "       'emissions:16,9 kg co2/m² year', 'emissions:260 kg co2/m² year',\n",
       "       'emissions:4,4 kg co2/m² year', 'emissions:97 kg co2/m² year',\n",
       "       'emissions:104 kg co2/m² year', 'emissions:38,3 kg co2/m² year',\n",
       "       'emissions:0,1 kg co2/m² year', 'emissions:27,6 kg co2/m² year',\n",
       "       'emissions:226 kg co2/m² year', 'emissions:252 kg co2/m² year',\n",
       "       'emissions:293 kg co2/m² year', 'emissions:34,56 kg co2/m² year',\n",
       "       'emissions:14,9 kg co2/m² year', 'emissions:33,78 kg co2/m² year',\n",
       "       'emissions:296 kg co2/m² year', 'emissions:44,98 kg co2/m² year',\n",
       "       'emissions:192 kg co2/m² year', 'emissions:7,2 kg co2/m² year',\n",
       "       'emissions:114 kg co2/m² year', 'emissions:2,89 kg co2/m² year',\n",
       "       'emissions:20,74 kg co2/m² year', 'emissions:234 kg co2/m² year',\n",
       "       'emissions:2900 kg co2/m² year', 'emissions:777 kg co2/m² year',\n",
       "       'emissions:138 kg co2/m² year', 'emissions:181 kg co2/m² year',\n",
       "       'emissions:38,5 kg co2/m² year', 'emissions:0,01 kg co2/m² year',\n",
       "       'emissions:36,44 kg co2/m² year', 'emissions:82 kg co2/m² year',\n",
       "       'emissions:149 kg co2/m² year', 'emissions:37,31 kg co2/m² year',\n",
       "       'emissions:1968 kg co2/m² year', 'emissions:16,1 kg co2/m² year',\n",
       "       'emissions:261 kg co2/m² year', 'emissions:106 kg co2/m² year',\n",
       "       'emissions:185 kg co2/m² year', 'emissions:87,3 kg co2/m² year',\n",
       "       'emissions:129 kg co2/m² year', 'emissions:242 kg co2/m² year',\n",
       "       'emissions:31,11 kg co2/m² year', 'emissions:206 kg co2/m² year',\n",
       "       'emissions:126 kg co2/m² year', 'emissions:435 kg co2/m² year',\n",
       "       'emissions:219 kg co2/m² year', 'emissions:263 kg co2/m² year',\n",
       "       'emissions:287 kg co2/m² year', 'emissions:25,5 kg co2/m² year',\n",
       "       'emissions:94 kg co2/m² year', 'emissions:22,63 kg co2/m² year',\n",
       "       'emissions:775 kg co2/m² year', 'emissions:32,1 kg co2/m² year',\n",
       "       'emissions:15,25 kg co2/m² year', 'emissions:211 kg co2/m² year',\n",
       "       'emissions:3,7 kg co2/m² year', 'emissions:163 kg co2/m² year',\n",
       "       'emissions:35,53 kg co2/m² year', 'emissions:312 kg co2/m² year',\n",
       "       'emissions:111,34 kg co2/m² year',\n",
       "       'emissions:87,92 kg co2/m² year', 'emissions:432 kg co2/m² year',\n",
       "       'emissions:18,98 kg co2/m² year', 'emissions:36,6 kg co2/m² year',\n",
       "       'emissions:169 kg co2/m² year', 'emissions:283 kg co2/m² year',\n",
       "       'emissions:334 kg co2/m² year', 'emissions:25,4 kg co2/m² year',\n",
       "       'emissions:145 kg co2/m² year', 'emissions:592 kg co2/m² year',\n",
       "       'emissions:6,72 kg co2/m² year', 'emissions:224,69 kg co2/m² year',\n",
       "       'emissions:159 kg co2/m² year', 'emissions:115 kg co2/m² year',\n",
       "       'emissions:38,6 kg co2/m² year', 'emissions:27,4 kg co2/m² year',\n",
       "       'emissions:344 kg co2/m² year', 'emissions:5,41 kg co2/m² year',\n",
       "       'emissions:14,58 kg co2/m² year', 'emissions:139 kg co2/m² year',\n",
       "       'emissions:135 kg co2/m² year', 'emissions:38,16 kg co2/m² year',\n",
       "       'emissions:45,5 kg co2/m² year', 'emissions:1879 kg co2/m² year',\n",
       "       'emissions:13,25 kg co2/m² year', 'emissions:8,55 kg co2/m² year',\n",
       "       'emissions:144 kg co2/m² year', 'emissions:24,35 kg co2/m² year'],\n",
       "      dtype=object)"
      ]
     },
     "execution_count": 110,
     "metadata": {},
     "output_type": "execute_result"
    }
   ],
   "source": [
    "dirty_data[\"emissions\"].unique()"
   ]
  },
  {
   "cell_type": "code",
   "execution_count": 111,
   "id": "2ac31d01",
   "metadata": {},
   "outputs": [],
   "source": [
    "dirty_data = dirty_data.rename(columns={\"emissions\":\"emissions_in_kgco2/m2_year\"})"
   ]
  },
  {
   "cell_type": "code",
   "execution_count": 112,
   "id": "4c7f9032",
   "metadata": {},
   "outputs": [],
   "source": [
    "dirty_data[\"emissions_in_kgco2/m2_year\"] = dirty_data[\"emissions_in_kgco2/m2_year\"].str.replace(\"emissions:\",\"\").str.replace(\" kg co2/m² year\",\"\").str.replace(\",\",\".\")\n",
    "dirty_data[\"emissions_in_kgco2/m2_year\"] = dirty_data[\"emissions_in_kgco2/m2_year\"].astype(\"float32\")"
   ]
  },
  {
   "cell_type": "code",
   "execution_count": 113,
   "id": "3111fc48",
   "metadata": {},
   "outputs": [
    {
     "data": {
      "text/plain": [
       "0        17.0000\n",
       "1        65.0000\n",
       "2            NaN\n",
       "3        71.0000\n",
       "4       190.0000\n",
       "          ...   \n",
       "10946    34.0000\n",
       "10947    31.0000\n",
       "10948    31.0000\n",
       "10949        NaN\n",
       "10950   234.0000\n",
       "Name: emissions_in_kgco2/m2_year, Length: 10951, dtype: float32"
      ]
     },
     "execution_count": 113,
     "metadata": {},
     "output_type": "execute_result"
    }
   ],
   "source": [
    "dirty_data[\"emissions_in_kgco2/m2_year\"]"
   ]
  },
  {
   "cell_type": "markdown",
   "id": "24bdd39f",
   "metadata": {},
   "source": [
    "#### orientation"
   ]
  },
  {
   "cell_type": "code",
   "execution_count": 114,
   "id": "6b8d4765",
   "metadata": {},
   "outputs": [
    {
     "data": {
      "text/plain": [
       "array([nan, 'orientation south', 'orientation north', 'orientation west',\n",
       "       'orientation east'], dtype=object)"
      ]
     },
     "execution_count": 114,
     "metadata": {},
     "output_type": "execute_result"
    }
   ],
   "source": [
    "dirty_data[\"orientation\"].unique()"
   ]
  },
  {
   "cell_type": "code",
   "execution_count": 115,
   "id": "eb68e43e",
   "metadata": {},
   "outputs": [],
   "source": [
    "dirty_data[\"orientation\"]= dirty_data[\"orientation\"].str.replace(\"orientation \",\"\")"
   ]
  },
  {
   "cell_type": "code",
   "execution_count": 116,
   "id": "06c7a9da",
   "metadata": {},
   "outputs": [
    {
     "data": {
      "text/plain": [
       "array([nan, 'south', 'north', 'west', 'east'], dtype=object)"
      ]
     },
     "execution_count": 116,
     "metadata": {},
     "output_type": "execute_result"
    }
   ],
   "source": [
    "dirty_data[\"orientation\"].unique()"
   ]
  },
  {
   "cell_type": "markdown",
   "id": "4ce2f8b8",
   "metadata": {},
   "source": [
    "### price, title and neighborhood"
   ]
  },
  {
   "cell_type": "markdown",
   "id": "400f5e02",
   "metadata": {},
   "source": [
    "Before I start working merging my dataframes I'll work on the raw_data price, title and neighborhood"
   ]
  },
  {
   "cell_type": "markdown",
   "id": "21adde23",
   "metadata": {},
   "source": [
    "#### price"
   ]
  },
  {
   "cell_type": "code",
   "execution_count": 118,
   "id": "786f3a4b",
   "metadata": {},
   "outputs": [
    {
     "data": {
      "text/plain": [
       "0       530,000\n",
       "1       165,000\n",
       "2       430,000\n",
       "3       279,999\n",
       "4       230,000\n",
       "5       310,000\n",
       "6       335,000\n",
       "7       127,000\n",
       "8       649,000\n",
       "9       138,500\n",
       "10      330,000\n",
       "11      450,000\n",
       "12      225,000\n",
       "13    1,350,000\n",
       "14      350,000\n",
       "15      199,000\n",
       "16      120,500\n",
       "17      180,000\n",
       "18      180,000\n",
       "19      180,000\n",
       "Name: price, dtype: object"
      ]
     },
     "execution_count": 118,
     "metadata": {},
     "output_type": "execute_result"
    }
   ],
   "source": [
    "raw_data[\"price\"].head(20)"
   ]
  },
  {
   "cell_type": "code",
   "execution_count": 119,
   "id": "e3631ee6",
   "metadata": {},
   "outputs": [],
   "source": [
    "raw_data[\"price\"] = raw_data[\"price\"].str.replace(\",\",\"\").astype('float32')"
   ]
  },
  {
   "cell_type": "code",
   "execution_count": 121,
   "id": "7af112d2",
   "metadata": {},
   "outputs": [
    {
     "data": {
      "text/plain": [
       "0     530000.0000\n",
       "1     165000.0000\n",
       "2     430000.0000\n",
       "3     279999.0000\n",
       "4     230000.0000\n",
       "5     310000.0000\n",
       "6     335000.0000\n",
       "7     127000.0000\n",
       "8     649000.0000\n",
       "9     138500.0000\n",
       "10    330000.0000\n",
       "11    450000.0000\n",
       "12    225000.0000\n",
       "13   1350000.0000\n",
       "14    350000.0000\n",
       "15    199000.0000\n",
       "16    120500.0000\n",
       "17    180000.0000\n",
       "18    180000.0000\n",
       "19    180000.0000\n",
       "Name: price, dtype: float32"
      ]
     },
     "execution_count": 121,
     "metadata": {},
     "output_type": "execute_result"
    }
   ],
   "source": [
    "raw_data[\"price\"].head(20)"
   ]
  },
  {
   "cell_type": "markdown",
   "id": "bc856f8e",
   "metadata": {},
   "source": [
    "#### title"
   ]
  },
  {
   "cell_type": "code",
   "execution_count": 122,
   "id": "d06b6d6d",
   "metadata": {},
   "outputs": [
    {
     "data": {
      "text/plain": [
       "0        Flat / apartment for sale in calle de Sant Pau, 25\n",
       "1                     Flat / apartment for sale in Hospìtal\n",
       "2                     Flat / apartment for sale in El Raval\n",
       "3             Flat / apartment for sale in rambla del Raval\n",
       "4        Flat / apartment for sale in calle de les Carretes\n",
       "5                     Flat / apartment for sale in El Raval\n",
       "6                     Flat / apartment for sale in El Raval\n",
       "7                     Flat / apartment for sale in El Raval\n",
       "8           Flat / apartment for sale in calle del Notariat\n",
       "9     Flat / apartment for sale in calle de la Reina Amàlia\n",
       "10               Studio flat for sale in calle de Lancaster\n",
       "11           Flat / apartment for sale in calle de Sant Pau\n",
       "12         Flat / apartment for sale in calle de les Cabres\n",
       "13                   Flat / apartment for sale in rambla La\n",
       "14       Flat / apartment for sale in avenida del Paral·lel\n",
       "15          Flat / apartment for sale in calle d'En Botella\n",
       "16                    Flat / apartment for sale in El Raval\n",
       "17             Flat / apartment for sale in calle d'En Roig\n",
       "18             Flat / apartment for sale in calle d'En Roig\n",
       "19             Flat / apartment for sale in calle d'En Roig\n",
       "20             Flat / apartment for sale in calle d'En Roig\n",
       "21                    Flat / apartment for sale in El Raval\n",
       "22                    Flat / apartment for sale in El Raval\n",
       "23                    Flat / apartment for sale in El Raval\n",
       "24                    Flat / apartment for sale in El Raval\n",
       "25      Flat / apartment for sale in calle de Sant Bartomeu\n",
       "26                  Penthouse for sale in calle de Sant Pau\n",
       "27                  Penthouse for sale in calle de Sant Pau\n",
       "28                  Penthouse for sale in calle de Sant Pau\n",
       "29                  Penthouse for sale in calle de Sant Pau\n",
       "30         Flat / apartment for sale in calle de Ferlandina\n",
       "31      Flat / apartment for sale in calle Nou de la Rambla\n",
       "32            Flat / apartment for sale in calle sant marti\n",
       "33                    Flat / apartment for sale in El Raval\n",
       "34               Flat / apartment for sale in calle Botella\n",
       "35         Flat / apartment for sale in calle de les Cabres\n",
       "36                    Flat / apartment for sale in El Raval\n",
       "37                    Flat / apartment for sale in El Raval\n",
       "38                    Flat / apartment for sale in El Raval\n",
       "39                    Flat / apartment for sale in El Raval\n",
       "Name: title, dtype: object"
      ]
     },
     "execution_count": 122,
     "metadata": {},
     "output_type": "execute_result"
    }
   ],
   "source": [
    "raw_data[\"title\"].head(40)"
   ]
  },
  {
   "cell_type": "code",
   "execution_count": 123,
   "id": "ecbe3152",
   "metadata": {},
   "outputs": [],
   "source": [
    "raw_data[\"property_type\"] = raw_data[\"title\"].str.extract(\"(.* for sale)\")"
   ]
  },
  {
   "cell_type": "code",
   "execution_count": 124,
   "id": "8b9f5197",
   "metadata": {},
   "outputs": [
    {
     "data": {
      "text/plain": [
       "array(['Flat / apartment for sale', 'Studio flat for sale',\n",
       "       'Penthouse for sale', 'Duplex for sale', ' House for sale',\n",
       "       ' Semi-detached house for sale', ' Terraced house for sale',\n",
       "       ' Detached house for sale', ' Estate for sale',\n",
       "       ' Village house for sale', ' Tower for sale'], dtype=object)"
      ]
     },
     "execution_count": 124,
     "metadata": {},
     "output_type": "execute_result"
    }
   ],
   "source": [
    "raw_data[\"property_type\"].unique()"
   ]
  },
  {
   "cell_type": "code",
   "execution_count": 125,
   "id": "751f4636",
   "metadata": {},
   "outputs": [],
   "source": [
    "raw_data[\"property_type\"] =  raw_data[\"property_type\"].str.replace(\" for sale\",\"\").str.strip()"
   ]
  },
  {
   "cell_type": "code",
   "execution_count": 126,
   "id": "97143a04",
   "metadata": {},
   "outputs": [
    {
     "data": {
      "text/plain": [
       "array(['Flat / apartment', 'Studio flat', 'Penthouse', 'Duplex', 'House',\n",
       "       'Semi-detached house', 'Terraced house', 'Detached house',\n",
       "       'Estate', 'Village house', 'Tower'], dtype=object)"
      ]
     },
     "execution_count": 126,
     "metadata": {},
     "output_type": "execute_result"
    }
   ],
   "source": [
    "raw_data[\"property_type\"].unique()"
   ]
  },
  {
   "cell_type": "code",
   "execution_count": 127,
   "id": "2f4d5cfb",
   "metadata": {},
   "outputs": [
    {
     "data": {
      "text/plain": [
       "0        Flat / apartment for sale in calle de Sant Pau, 25\n",
       "1                     Flat / apartment for sale in Hospìtal\n",
       "2                     Flat / apartment for sale in El Raval\n",
       "3             Flat / apartment for sale in rambla del Raval\n",
       "4        Flat / apartment for sale in calle de les Carretes\n",
       "5                     Flat / apartment for sale in El Raval\n",
       "6                     Flat / apartment for sale in El Raval\n",
       "7                     Flat / apartment for sale in El Raval\n",
       "8           Flat / apartment for sale in calle del Notariat\n",
       "9     Flat / apartment for sale in calle de la Reina Amàlia\n",
       "10               Studio flat for sale in calle de Lancaster\n",
       "11           Flat / apartment for sale in calle de Sant Pau\n",
       "12         Flat / apartment for sale in calle de les Cabres\n",
       "13                   Flat / apartment for sale in rambla La\n",
       "14       Flat / apartment for sale in avenida del Paral·lel\n",
       "15          Flat / apartment for sale in calle d'En Botella\n",
       "16                    Flat / apartment for sale in El Raval\n",
       "17             Flat / apartment for sale in calle d'En Roig\n",
       "18             Flat / apartment for sale in calle d'En Roig\n",
       "19             Flat / apartment for sale in calle d'En Roig\n",
       "Name: title, dtype: object"
      ]
     },
     "execution_count": 127,
     "metadata": {},
     "output_type": "execute_result"
    }
   ],
   "source": [
    "raw_data[\"title\"].head(20)"
   ]
  },
  {
   "cell_type": "code",
   "execution_count": 128,
   "id": "b8b621cc",
   "metadata": {},
   "outputs": [],
   "source": [
    "raw_data[\"adress\"] = raw_data[\"title\"].str.extract(\"(in .*)\")"
   ]
  },
  {
   "cell_type": "code",
   "execution_count": 129,
   "id": "4e918b88",
   "metadata": {},
   "outputs": [
    {
     "data": {
      "text/plain": [
       "0        in calle de Sant Pau, 25\n",
       "1                     in Hospìtal\n",
       "2                     in El Raval\n",
       "3             in rambla del Raval\n",
       "4        in calle de les Carretes\n",
       "5                     in El Raval\n",
       "6                     in El Raval\n",
       "7                     in El Raval\n",
       "8           in calle del Notariat\n",
       "9     in calle de la Reina Amàlia\n",
       "10          in calle de Lancaster\n",
       "11           in calle de Sant Pau\n",
       "12         in calle de les Cabres\n",
       "13                   in rambla La\n",
       "14       in avenida del Paral·lel\n",
       "15          in calle d'En Botella\n",
       "16                    in El Raval\n",
       "17             in calle d'En Roig\n",
       "18             in calle d'En Roig\n",
       "19             in calle d'En Roig\n",
       "Name: adress, dtype: object"
      ]
     },
     "execution_count": 129,
     "metadata": {},
     "output_type": "execute_result"
    }
   ],
   "source": [
    "raw_data[\"adress\"].head(20)"
   ]
  },
  {
   "cell_type": "code",
   "execution_count": 130,
   "id": "b28130a7",
   "metadata": {},
   "outputs": [],
   "source": [
    "raw_data[\"adress\"] = raw_data[\"adress\"].str.replace(\"^in \",\"\", regex = True)"
   ]
  },
  {
   "cell_type": "code",
   "execution_count": 131,
   "id": "8177ce72",
   "metadata": {},
   "outputs": [
    {
     "data": {
      "text/plain": [
       "array(['calle de Sant Pau, 25', 'Hospìtal', 'El Raval', ..., 'Gongora',\n",
       "       \"calle d'Aragó, 543\", 'freser'], dtype=object)"
      ]
     },
     "execution_count": 131,
     "metadata": {},
     "output_type": "execute_result"
    }
   ],
   "source": [
    "raw_data[\"adress\"].unique()"
   ]
  },
  {
   "cell_type": "markdown",
   "id": "4c3d054f",
   "metadata": {},
   "source": [
    "#### neighborhood"
   ]
  },
  {
   "cell_type": "code",
   "execution_count": 132,
   "id": "d4ad23ab",
   "metadata": {},
   "outputs": [
    {
     "data": {
      "text/plain": [
       "array(['El Raval, Barcelona', 'Ciutat Vella, Barcelona',\n",
       "       'El Gòtic, Barcelona', 'La Barceloneta, Barcelona',\n",
       "       'Horta, Barcelona', 'Horta Guinardó, Barcelona',\n",
       "       'Ciutat Meridiana - Torre Baró - Vallbona, Barcelona',\n",
       "       'Nou Barris, Barcelona', 'Sant Martí, Barcelona',\n",
       "       'La Verneda i la Pau, Barcelona',\n",
       "       'Sant Pere - Santa Caterina i la Ribera, Barcelona',\n",
       "       \"El Camp d'En Grassot i Gràcia Nova, Barcelona\",\n",
       "       'Can Peguera - El Turó de la Peira, Barcelona',\n",
       "       'La Vila Olímpica del Poblenou, Barcelona', 'Eixample, Barcelona',\n",
       "       'La Sagrada Família, Barcelona', 'El Carmel, Barcelona',\n",
       "       'El Besós, Sant Adriá de Besós',\n",
       "       \"La Dreta de l'Eixample, Barcelona\",\n",
       "       \"La Nova Esquerra de l'Eixample, Barcelona\",\n",
       "       'La Sagrera, Barcelona', 'Sant Andreu, Barcelona',\n",
       "       'El Clot, Barcelona', \"L'Antiga Esquerra de l'Eixample, Barcelona\",\n",
       "       'Sant Antoni, Barcelona', 'El Putxet i el Farró, Barcelona',\n",
       "       'Porta, Barcelona',\n",
       "       'Diagonal Mar i el Front Marítim del Poblenou, Barcelona',\n",
       "       'Sants-Montjuïc, Barcelona',\n",
       "       'El Poble Sec - Parc de Montjuïc, Barcelona',\n",
       "       'Vila de Gràcia, Barcelona', 'Gràcia, Barcelona',\n",
       "       'La Marina del Prat Vermell, Barcelona',\n",
       "       'Sarrià-Sant Gervasi, Barcelona', 'Sarrià, Barcelona',\n",
       "       'El Guinardó, Barcelona', 'Canyelles, Barcelona',\n",
       "       'Sant Martí de Provençals, Barcelona',\n",
       "       'La Marina del Port, Barcelona', 'Les Roquetes, Barcelona',\n",
       "       'Riu, Santa Coloma de Gramenet',\n",
       "       'Singuerlín, Santa Coloma de Gramenet',\n",
       "       'Santa Rosa - Can Mariner, Santa Coloma de Gramenet',\n",
       "       'Riera Alta - Llatí, Santa Coloma de Gramenet',\n",
       "       'Santa Coloma de Gramenet', 'El Raval, Santa Coloma de Gramenet',\n",
       "       'Centre, Santa Coloma de Gramenet',\n",
       "       'Fondo, Santa Coloma de Gramenet',\n",
       "       'La Font de la Guatlla, Barcelona',\n",
       "       'Vallvidrera - El Tibidabo i les Planes, Barcelona',\n",
       "       'Sant Gervasi - La Bonanova, Barcelona',\n",
       "       \"La Vall d'Hebron - La Clota, Barcelona\",\n",
       "       'Vilapicina i la Torre Llobeta, Barcelona',\n",
       "       'Provençals del Poblenou, Barcelona', 'Hostafrancs, Barcelona',\n",
       "       'Pedralbes, Barcelona', 'Les Corts, Barcelona',\n",
       "       'El Poblenou, Barcelona', 'La Bordeta, Barcelona',\n",
       "       'Sant Gervasi - Galvany, Barcelona', 'Sants - Badal, Barcelona',\n",
       "       'El Coll, Barcelona', 'Can Baró, Barcelona',\n",
       "       'La Trinitat Vella, Barcelona',\n",
       "       'Sant Josep, Hospitalet de Llobregat',\n",
       "       'Sanfeliu, Hospitalet de Llobregat',\n",
       "       'La Torrasa, Hospitalet de Llobregat',\n",
       "       'Pubilla Cases, Hospitalet de Llobregat',\n",
       "       'Centre, Hospitalet de Llobregat',\n",
       "       'La Florida - Les Planes, Hospitalet de Llobregat',\n",
       "       'Collblanc, Hospitalet de Llobregat',\n",
       "       'La Florida, Hospitalet de Llobregat',\n",
       "       'Les Planes, Hospitalet de Llobregat',\n",
       "       'Santa Eulàlia, Hospitalet de Llobregat',\n",
       "       'Bellvitge, Hospitalet de Llobregat',\n",
       "       'Can Serra - Pubilla Cases, Hospitalet de Llobregat',\n",
       "       'Sants, Barcelona', 'La Salut, Barcelona',\n",
       "       'La Teixonera, Barcelona', 'Centre, Badalona',\n",
       "       'Sant Crist, Badalona', 'Montigalà, Badalona',\n",
       "       'Casagemes, Badalona', 'Puigfred, Badalona', 'Port, Badalona',\n",
       "       'Llefià, Badalona', 'Sistrells, Badalona', 'Badalona',\n",
       "       'Montigalà -Sant Crist, Badalona', 'La Morera, Badalona',\n",
       "       'Progrés-Pep Ventura, Badalona', 'Bufalà, Badalona',\n",
       "       'Gorg - Progrés, Badalona', 'La Salut, Badalona', 'Gorg, Badalona',\n",
       "       'Canyadó, Badalona', 'Remei, Badalona',\n",
       "       'La Salut - Lloreda - Sistrells, Badalona',\n",
       "       'Llefià - Sant Roc - Artigues, Badalona',\n",
       "       'La Maternitat i Sant Ramon, Barcelona',\n",
       "       'Vallcarca i els Penitents, Barcelona',\n",
       "       'El Baix Guinardó, Barcelona', 'El Besòs, Barcelona',\n",
       "       'Verdun, Barcelona', \"El Camp de l'Arpa del Clot, Barcelona\",\n",
       "       'La Prosperitat, Barcelona', 'Sant Adriá de Besós',\n",
       "       \"La Font d'En Fargues, Barcelona\",\n",
       "       'Sant Genís Dels Agudells - Montbau, Barcelona',\n",
       "       'Navas, Barcelona', 'Les Tres Torres, Barcelona',\n",
       "       'Granvia L-H, Hospitalet de Llobregat',\n",
       "       'Gran Via L-H, Hospitalet de Llobregat',\n",
       "       'El Congrés i els Indians, Barcelona', 'Sant Roc, Badalona',\n",
       "       'Lloreda, Badalona', 'Bonavista, Badalona', 'Pomar, Badalona',\n",
       "       'El Bon Pastor, Barcelona', 'El Fort Pienc, Barcelona',\n",
       "       'Sant Adriá Nord, Sant Adriá de Besós',\n",
       "       'La Mina, Sant Adriá de Besós', 'La Trinitat Nova, Barcelona',\n",
       "       'Can Serra, Hospitalet de Llobregat', 'Canyet, Badalona',\n",
       "       'Congrés, Badalona', 'Sant Joan Baptista, Sant Adriá de Besós',\n",
       "       'La Pau, Badalona', 'Artigues, Badalona',\n",
       "       'La Guineueta, Barcelona',\n",
       "       'El Parc i la Llacuna del Poblenou, Barcelona',\n",
       "       'Mas Ram, Badalona', 'Manresa, Badalona',\n",
       "       'Carretera del Mig, Hospitalet de Llobregat',\n",
       "       'Casagemes - Canyadó, Badalona', 'Baró de Viver, Barcelona'],\n",
       "      dtype=object)"
      ]
     },
     "execution_count": 132,
     "metadata": {},
     "output_type": "execute_result"
    }
   ],
   "source": [
    "raw_data[\"neighborhood\"].unique()"
   ]
  },
  {
   "cell_type": "code",
   "execution_count": 133,
   "id": "50dce35c",
   "metadata": {},
   "outputs": [],
   "source": [
    "neighboor = raw_data[\"neighborhood\"].str.split(pat = \", \",expand = True)\n",
    "raw_data[\"neighborhood\"] = neighboor[0]\n",
    "raw_data[\"city\"] = neighboor[1]"
   ]
  },
  {
   "cell_type": "code",
   "execution_count": 134,
   "id": "75be1bb3",
   "metadata": {},
   "outputs": [
    {
     "data": {
      "text/html": [
       "<div>\n",
       "<style scoped>\n",
       "    .dataframe tbody tr th:only-of-type {\n",
       "        vertical-align: middle;\n",
       "    }\n",
       "\n",
       "    .dataframe tbody tr th {\n",
       "        vertical-align: top;\n",
       "    }\n",
       "\n",
       "    .dataframe thead th {\n",
       "        text-align: right;\n",
       "    }\n",
       "</style>\n",
       "<table border=\"1\" class=\"dataframe\">\n",
       "  <thead>\n",
       "    <tr style=\"text-align: right;\">\n",
       "      <th></th>\n",
       "      <th>id</th>\n",
       "      <th>title</th>\n",
       "      <th>neighborhood</th>\n",
       "      <th>price</th>\n",
       "      <th>info_features</th>\n",
       "      <th>features</th>\n",
       "      <th>description</th>\n",
       "      <th>size_in_m2</th>\n",
       "      <th>n_bedrooms</th>\n",
       "      <th>floor</th>\n",
       "      <th>exterior</th>\n",
       "      <th>lift</th>\n",
       "      <th>property_type</th>\n",
       "      <th>adress</th>\n",
       "      <th>city</th>\n",
       "    </tr>\n",
       "  </thead>\n",
       "  <tbody>\n",
       "    <tr>\n",
       "      <th>0</th>\n",
       "      <td>103375204</td>\n",
       "      <td>Flat / apartment for sale in calle de Sant Pau, 25</td>\n",
       "      <td>El Raval</td>\n",
       "      <td>530000.0000</td>\n",
       "      <td>['80 m²', '2 bed.', '3rd floor exterior with lift']</td>\n",
       "      <td>[['80 m² built', '2 bedrooms', '1 bathroom', 'Terrace and balcony', 'Second hand/good condition', 'Built in 1912', 'Central heating'], ['3rd floor exterior', 'With lift'], ['Air conditioning'], ['Consumption:91 kWh/m² year', 'Emissions:17 kg CO2/m² year']]</td>\n",
       "      <td>Beautiful renovated apartment of 80 m2, 2 bedrooms and 1 bathroom in renovated building with elevator and spectacular communal terrace in the Raval just 2 blocks from the Rambla.You enter the property through a small hall where there is a closet that is used as a checkroom, on the right hand side is the door to the bathroom with shower recently renovated with double entrance door from the room and the entrance hall. Then you enter the spacious dining room with open American kitchen, then you reach the large, bright and airy living room with balconies overlooking a quiet street.To the left side of the hallway is a first bedroom with double bed and closet, and at the end of the living room is the master bedroom, very spacious and also with a balcony overlooking the street. The property has ducted heating and air conditioning and is sold with all the furniture, appliances and equipment. The property was recently completely renovated, has an elevator in perfect condition, wonderful terrace with furniture and laundry area with washing machines and dryers free for the whole community.El Raval has been one of the neighborhoods that has turned in a more spectacular way its composition from having a bad reputation, perhaps because of its origins outside the walls in the beginnings of the city, to a bohemian neighborhood with a multicultural atmosphere. A lot of terraces, bars and restaurants, as well as fashion stores have opened space in the neighborhood along with craftsmen and artists who want to keep their galleries near the Museum of Contemporary Art of Barcelona and the Center of Contemporary Culture accessible by walking along the famous Ramblas of Barcelona. The Palau Güell and the Boqueria are guaranteed tourist attractions.This neighborhood of contrasts still has a lot of room for improvement, but it is possible that the current boom and push will give it an image similar to that of El Born in the not too distant future, opening up an investment opportunity with great possibilities for revaluation.El Raval can be the right neighborhood if you want to buy an apartment as a medium term investment, since even being in the center of the city, its price per square meter is still economical and with great potential for revaluation due to the urban improvements projected for the future of this neighborhood.</td>\n",
       "      <td>80</td>\n",
       "      <td>2</td>\n",
       "      <td>'3</td>\n",
       "      <td>True</td>\n",
       "      <td>True</td>\n",
       "      <td>Flat / apartment</td>\n",
       "      <td>calle de Sant Pau, 25</td>\n",
       "      <td>Barcelona</td>\n",
       "    </tr>\n",
       "    <tr>\n",
       "      <th>1</th>\n",
       "      <td>94000904</td>\n",
       "      <td>Flat / apartment for sale in Hospìtal</td>\n",
       "      <td>El Raval</td>\n",
       "      <td>165000.0000</td>\n",
       "      <td>['58 m²', '2 bed.', '3rd floor exterior without lift']</td>\n",
       "      <td>[['58 m² built, 49 m² floor area', '2 bedrooms', '1 bathroom', 'Balcony', 'Second hand/good condition', 'Orientation South, East', 'Built in 1850', 'No heating'], ['3rd floor exterior', 'No lift'], ['Consumption:311 kWh/m² year', 'Emissions:65 kg CO2/m² year']]</td>\n",
       "      <td>This two-bedroom flat is located in an unbeatable area, just a few metres from Rambla del Raval and Plaza del Padró. The property is completely exterior and has three façades that ensure excellent ventilation and luminosity in all the rooms. The flat has a spacious living-dining room, the kitchen is ideal for updating, as is the bathroom. In addition, it is important to highlight the height of the ceiling with exposed beams, which gives a touch of charm and distinction to the flat.The Raval is a neighbourhood that makes those who know it fall in love with it. It is a place where diversity and authenticity blend perfectly, where the bohemian atmosphere of the emblematic Bar Marsella combines with the music and culture of the Catalan rumba. But the Raval is much more than that, it is a neighbourhood that has managed to maintain its essence over time and remains true to its roots.If you are looking for an authentic and lively place in the heart of Barcelona, this flat is an excellent option, don't miss the opportunity to live in one of the most emblematic neighbourhoods of the city! Aincasa, making your dreams come true.</td>\n",
       "      <td>58</td>\n",
       "      <td>2</td>\n",
       "      <td>'3</td>\n",
       "      <td>True</td>\n",
       "      <td>False</td>\n",
       "      <td>Flat / apartment</td>\n",
       "      <td>Hospìtal</td>\n",
       "      <td>Barcelona</td>\n",
       "    </tr>\n",
       "    <tr>\n",
       "      <th>2</th>\n",
       "      <td>104382041</td>\n",
       "      <td>Flat / apartment for sale in El Raval</td>\n",
       "      <td>Ciutat Vella</td>\n",
       "      <td>430000.0000</td>\n",
       "      <td>['155 m²', '3 bed.', '1st floor exterior with lift', 'Garageoptional30,000 €', 'Garageoptional30,000 €', 'optional']</td>\n",
       "      <td>[['155 m² built, 89 m² floor area', '3 bedrooms', '2 bathrooms', 'Terrace and balcony', 'Additional parking space for € 30,000', 'Second hand/good condition', 'Built in 2003', 'Central heating'], ['1st floor exterior', 'With lift'], ['Air conditioning'], ['In process']]</td>\n",
       "      <td>Spacious and modern apartment on one side of Las RamblasThis spacious and innovative apartment is located in an almost new building (2003), with an excellent central location on a quiet street and a few steps from Las Ramblas and the Liceu metro.The apartment, which is located on the first floor and has two elevators, offers convenience and accessibility. It also has a parking space not included in the price, with an additional cost of 30,000 euros for a large car in the same building and an elevator from the parking lot to the ground floor.The apartment is very well distributed, starting with a large hall, it has 3 bedrooms, two of them doubles, with closets and a study area, and a very spacious suite with a private bathroom. The property has two full bathrooms, offering additional convenience for residents and visitors. This property adapts to various needs.The kitchen, which is independent and fully equipped, including a dishwasher, provides functionality and practicality on a daily basis, and also has access to a private patio. The living room is spacious and contemporary, with large windows and a double balcony with views of Las Ramblas.This apartment has a security alarm, heating (gas) and air conditioning throughout the apartment. It has good thermal and acoustic insulation, high ceilings and parquet floors.The property has a large communal terrace with excellent views of the city. In short, this apartment not only offers comfort and spacious spaces, but also practical amenities and an unbeatable location in the heart of Barcelona.The Raval neighborhood in Barcelona is a bustling and diverse enclave brimming with culture and entertainment. Renowned for its rich cultural and leisure offering, this area is a magnet for residents and visitors alike. With an eclectic mix of theatres, art galleries and music venues, it offers a vibrant and enriching experience for lovers of art and culture.</td>\n",
       "      <td>155</td>\n",
       "      <td>3</td>\n",
       "      <td>'1</td>\n",
       "      <td>True</td>\n",
       "      <td>True</td>\n",
       "      <td>Flat / apartment</td>\n",
       "      <td>El Raval</td>\n",
       "      <td>Barcelona</td>\n",
       "    </tr>\n",
       "    <tr>\n",
       "      <th>3</th>\n",
       "      <td>97791792</td>\n",
       "      <td>Flat / apartment for sale in rambla del Raval</td>\n",
       "      <td>El Raval</td>\n",
       "      <td>279999.0000</td>\n",
       "      <td>['89 m²', '2 bed.', '3rd floor exterior without lift']</td>\n",
       "      <td>[['89 m² built, 80 m² floor area', '2 bedrooms', '2 bathrooms', 'Balcony', 'Second hand/good condition', 'Fitted wardrobes', 'Orientation North, South, East, West', 'Built in 1920', 'Individual heating: Electric'], ['3rd floor exterior', 'No lift'], ['Air conditioning'], ['Consumption:15 kWh/m² year', 'Emissions:71 kg CO2/m² year']]</td>\n",
       "      <td>MERC SANT ANTONI - RAMBLA RAVAL, two apartments on the same surface, high profitability. currently temporarily rented to students, Erasmus, etc. Rent apartment \"A\" (900. -€ ) and apartment \"B\" (800. - ) are equipped, furnished and with new facilities 5 years ago, two equipped bedrooms, living room in each apartment, modern and functional, two bathrooms equipped with washer and dryer, impeccable with charm, careful renovation down to the last detail, sold free of tenants, contracts that terminate in 2 months.Location RAMBLA RAVAL, close to the bus, FCG, and the L1 and L2 metro station, theaters, cinema, high school, 200 meters from the Sant Antoni Market, Plaza Universitat near the Goya theater, MACBA Museum of Contemporary Art of Barcelona.Excellent purchase opportunity to enjoy the city center, you can live in one of the apartments and rent another, or continue with temporary leases, with high return on investment.</td>\n",
       "      <td>89</td>\n",
       "      <td>2</td>\n",
       "      <td>'3</td>\n",
       "      <td>True</td>\n",
       "      <td>False</td>\n",
       "      <td>Flat / apartment</td>\n",
       "      <td>rambla del Raval</td>\n",
       "      <td>Barcelona</td>\n",
       "    </tr>\n",
       "    <tr>\n",
       "      <th>4</th>\n",
       "      <td>104397583</td>\n",
       "      <td>Flat / apartment for sale in calle de les Carretes</td>\n",
       "      <td>El Raval</td>\n",
       "      <td>230000.0000</td>\n",
       "      <td>['70 m²', '2 bed.', '1st floor exterior with lift']</td>\n",
       "      <td>[['70 m² built', '2 bedrooms', '2 bathrooms', 'Balcony', 'Second hand/good condition', 'Orientation North, East', 'Built in 1900', 'No heating'], ['1st floor exterior', 'With lift'], ['Air conditioning'], ['Consumption:90 kWh/m² year', 'Emissions:190 kg CO2/m² year']]</td>\n",
       "      <td>Immotecnics exclusively presents this incredible apartment in the heart of Barcelona, a few meters from Paral-lel and very close to Passeig de Colom in one of the few communities with an elevator in the area.We find a property of 70m2 built, distributed in an entrance with hall, laundry room, bathroom with shower, double room, a double room type suite with full bathroom with bathtub, spaces for cabinets and access to the balcony.The kitchen is American style, the spacious living room has access to the balcony and has a wall with a stone finish that gives it a special touch.Property features:2 double bedrooms2 bathroomsAmerican kitchenAluminum carpentryCentralized A/CThe house has a boiler for hot water and the farm has an elevator.Do you want to live in a paradisiacal environment? So, do not hesitate and call us to schedule a visit.**EXPENSES AND TAXES APART FROM THE SALE PRICE**Attention Owners!Do you need to sell your home?'Immotecnics real estate is not a traditional real estate agency, we are a real estate boutique.We bet more on quality than quantity in our portfolio of properties. In this way we can work and invest more for and for each of our properties and personalize personal relationships, in order to offer the best homes to our buying clients'With the experience of more than 3000 closed operations.Contact us or come visit us at any of our boutiques in BARCELONA, GRANOLLERS and CALDES D´ESTRAC.</td>\n",
       "      <td>70</td>\n",
       "      <td>2</td>\n",
       "      <td>'1</td>\n",
       "      <td>True</td>\n",
       "      <td>True</td>\n",
       "      <td>Flat / apartment</td>\n",
       "      <td>calle de les Carretes</td>\n",
       "      <td>Barcelona</td>\n",
       "    </tr>\n",
       "  </tbody>\n",
       "</table>\n",
       "</div>"
      ],
      "text/plain": [
       "          id                                               title  \\\n",
       "0  103375204  Flat / apartment for sale in calle de Sant Pau, 25   \n",
       "1   94000904               Flat / apartment for sale in Hospìtal   \n",
       "2  104382041               Flat / apartment for sale in El Raval   \n",
       "3   97791792       Flat / apartment for sale in rambla del Raval   \n",
       "4  104397583  Flat / apartment for sale in calle de les Carretes   \n",
       "\n",
       "   neighborhood       price  \\\n",
       "0      El Raval 530000.0000   \n",
       "1      El Raval 165000.0000   \n",
       "2  Ciutat Vella 430000.0000   \n",
       "3      El Raval 279999.0000   \n",
       "4      El Raval 230000.0000   \n",
       "\n",
       "                                                                                                          info_features  \\\n",
       "0                                                                   ['80 m²', '2 bed.', '3rd floor exterior with lift']   \n",
       "1                                                                ['58 m²', '2 bed.', '3rd floor exterior without lift']   \n",
       "2  ['155 m²', '3 bed.', '1st floor exterior with lift', 'Garageoptional30,000 €', 'Garageoptional30,000 €', 'optional']   \n",
       "3                                                                ['89 m²', '2 bed.', '3rd floor exterior without lift']   \n",
       "4                                                                   ['70 m²', '2 bed.', '1st floor exterior with lift']   \n",
       "\n",
       "                                                                                                                                                                                                                                                                                                                                         features  \\\n",
       "0                                                                                [['80 m² built', '2 bedrooms', '1 bathroom', 'Terrace and balcony', 'Second hand/good condition', 'Built in 1912', 'Central heating'], ['3rd floor exterior', 'With lift'], ['Air conditioning'], ['Consumption:91 kWh/m² year', 'Emissions:17 kg CO2/m² year']]   \n",
       "1                                                                           [['58 m² built, 49 m² floor area', '2 bedrooms', '1 bathroom', 'Balcony', 'Second hand/good condition', 'Orientation South, East', 'Built in 1850', 'No heating'], ['3rd floor exterior', 'No lift'], ['Consumption:311 kWh/m² year', 'Emissions:65 kg CO2/m² year']]   \n",
       "2                                                                  [['155 m² built, 89 m² floor area', '3 bedrooms', '2 bathrooms', 'Terrace and balcony', 'Additional parking space for € 30,000', 'Second hand/good condition', 'Built in 2003', 'Central heating'], ['1st floor exterior', 'With lift'], ['Air conditioning'], ['In process']]   \n",
       "3  [['89 m² built, 80 m² floor area', '2 bedrooms', '2 bathrooms', 'Balcony', 'Second hand/good condition', 'Fitted wardrobes', 'Orientation North, South, East, West', 'Built in 1920', 'Individual heating: Electric'], ['3rd floor exterior', 'No lift'], ['Air conditioning'], ['Consumption:15 kWh/m² year', 'Emissions:71 kg CO2/m² year']]   \n",
       "4                                                                    [['70 m² built', '2 bedrooms', '2 bathrooms', 'Balcony', 'Second hand/good condition', 'Orientation North, East', 'Built in 1900', 'No heating'], ['1st floor exterior', 'With lift'], ['Air conditioning'], ['Consumption:90 kWh/m² year', 'Emissions:190 kg CO2/m² year']]   \n",
       "\n",
       "                                                                                                                                                                                                                                                                                                                                                                                                                                                                                                                                                                                                                                                                                                                                                                                                                                                                                                                                                                                                                                                                                                                                                                                                                                                                                                                                                                                                                                                                                                                                                                                                                                                                                                                                                                                                                                                                                                                                                                                                                                                                                                                                                                                                                                                                                                                                                                                                                              description  \\\n",
       "0  Beautiful renovated apartment of 80 m2, 2 bedrooms and 1 bathroom in renovated building with elevator and spectacular communal terrace in the Raval just 2 blocks from the Rambla.You enter the property through a small hall where there is a closet that is used as a checkroom, on the right hand side is the door to the bathroom with shower recently renovated with double entrance door from the room and the entrance hall. Then you enter the spacious dining room with open American kitchen, then you reach the large, bright and airy living room with balconies overlooking a quiet street.To the left side of the hallway is a first bedroom with double bed and closet, and at the end of the living room is the master bedroom, very spacious and also with a balcony overlooking the street. The property has ducted heating and air conditioning and is sold with all the furniture, appliances and equipment. The property was recently completely renovated, has an elevator in perfect condition, wonderful terrace with furniture and laundry area with washing machines and dryers free for the whole community.El Raval has been one of the neighborhoods that has turned in a more spectacular way its composition from having a bad reputation, perhaps because of its origins outside the walls in the beginnings of the city, to a bohemian neighborhood with a multicultural atmosphere. A lot of terraces, bars and restaurants, as well as fashion stores have opened space in the neighborhood along with craftsmen and artists who want to keep their galleries near the Museum of Contemporary Art of Barcelona and the Center of Contemporary Culture accessible by walking along the famous Ramblas of Barcelona. The Palau Güell and the Boqueria are guaranteed tourist attractions.This neighborhood of contrasts still has a lot of room for improvement, but it is possible that the current boom and push will give it an image similar to that of El Born in the not too distant future, opening up an investment opportunity with great possibilities for revaluation.El Raval can be the right neighborhood if you want to buy an apartment as a medium term investment, since even being in the center of the city, its price per square meter is still economical and with great potential for revaluation due to the urban improvements projected for the future of this neighborhood.   \n",
       "1                                                                                                                                                                                                                                                                                                                                                                                                                                                                                                                                                                                                                                                                                                                                                                                                                                                                                                                                                                                                                                                                                                                                                                                                                                                         This two-bedroom flat is located in an unbeatable area, just a few metres from Rambla del Raval and Plaza del Padró. The property is completely exterior and has three façades that ensure excellent ventilation and luminosity in all the rooms. The flat has a spacious living-dining room, the kitchen is ideal for updating, as is the bathroom. In addition, it is important to highlight the height of the ceiling with exposed beams, which gives a touch of charm and distinction to the flat.The Raval is a neighbourhood that makes those who know it fall in love with it. It is a place where diversity and authenticity blend perfectly, where the bohemian atmosphere of the emblematic Bar Marsella combines with the music and culture of the Catalan rumba. But the Raval is much more than that, it is a neighbourhood that has managed to maintain its essence over time and remains true to its roots.If you are looking for an authentic and lively place in the heart of Barcelona, this flat is an excellent option, don't miss the opportunity to live in one of the most emblematic neighbourhoods of the city! Aincasa, making your dreams come true.   \n",
       "2                                                                                                                                                                                                                                                                                                                                                                                                                                   Spacious and modern apartment on one side of Las RamblasThis spacious and innovative apartment is located in an almost new building (2003), with an excellent central location on a quiet street and a few steps from Las Ramblas and the Liceu metro.The apartment, which is located on the first floor and has two elevators, offers convenience and accessibility. It also has a parking space not included in the price, with an additional cost of 30,000 euros for a large car in the same building and an elevator from the parking lot to the ground floor.The apartment is very well distributed, starting with a large hall, it has 3 bedrooms, two of them doubles, with closets and a study area, and a very spacious suite with a private bathroom. The property has two full bathrooms, offering additional convenience for residents and visitors. This property adapts to various needs.The kitchen, which is independent and fully equipped, including a dishwasher, provides functionality and practicality on a daily basis, and also has access to a private patio. The living room is spacious and contemporary, with large windows and a double balcony with views of Las Ramblas.This apartment has a security alarm, heating (gas) and air conditioning throughout the apartment. It has good thermal and acoustic insulation, high ceilings and parquet floors.The property has a large communal terrace with excellent views of the city. In short, this apartment not only offers comfort and spacious spaces, but also practical amenities and an unbeatable location in the heart of Barcelona.The Raval neighborhood in Barcelona is a bustling and diverse enclave brimming with culture and entertainment. Renowned for its rich cultural and leisure offering, this area is a magnet for residents and visitors alike. With an eclectic mix of theatres, art galleries and music venues, it offers a vibrant and enriching experience for lovers of art and culture.   \n",
       "3                                                                                                                                                                                                                                                                                                                                                                                                                                                                                                                                                                                                                                                                                                                                                                                                                                                                                                                                                                                                                                                                                                                                                                                                                                                                                                                                                                                                                                                                       MERC SANT ANTONI - RAMBLA RAVAL, two apartments on the same surface, high profitability. currently temporarily rented to students, Erasmus, etc. Rent apartment \"A\" (900. -€ ) and apartment \"B\" (800. - ) are equipped, furnished and with new facilities 5 years ago, two equipped bedrooms, living room in each apartment, modern and functional, two bathrooms equipped with washer and dryer, impeccable with charm, careful renovation down to the last detail, sold free of tenants, contracts that terminate in 2 months.Location RAMBLA RAVAL, close to the bus, FCG, and the L1 and L2 metro station, theaters, cinema, high school, 200 meters from the Sant Antoni Market, Plaza Universitat near the Goya theater, MACBA Museum of Contemporary Art of Barcelona.Excellent purchase opportunity to enjoy the city center, you can live in one of the apartments and rent another, or continue with temporary leases, with high return on investment.   \n",
       "4                                                                                                                                                                                                                                                                                                                                                                                                                                                                                                                                                                                                                                                                                                                                                                                                                                                                                                                                                     Immotecnics exclusively presents this incredible apartment in the heart of Barcelona, a few meters from Paral-lel and very close to Passeig de Colom in one of the few communities with an elevator in the area.We find a property of 70m2 built, distributed in an entrance with hall, laundry room, bathroom with shower, double room, a double room type suite with full bathroom with bathtub, spaces for cabinets and access to the balcony.The kitchen is American style, the spacious living room has access to the balcony and has a wall with a stone finish that gives it a special touch.Property features:2 double bedrooms2 bathroomsAmerican kitchenAluminum carpentryCentralized A/CThe house has a boiler for hot water and the farm has an elevator.Do you want to live in a paradisiacal environment? So, do not hesitate and call us to schedule a visit.**EXPENSES AND TAXES APART FROM THE SALE PRICE**Attention Owners!Do you need to sell your home?'Immotecnics real estate is not a traditional real estate agency, we are a real estate boutique.We bet more on quality than quantity in our portfolio of properties. In this way we can work and invest more for and for each of our properties and personalize personal relationships, in order to offer the best homes to our buying clients'With the experience of more than 3000 closed operations.Contact us or come visit us at any of our boutiques in BARCELONA, GRANOLLERS and CALDES D´ESTRAC.   \n",
       "\n",
       "  size_in_m2 n_bedrooms floor  exterior   lift     property_type  \\\n",
       "0         80          2    '3      True   True  Flat / apartment   \n",
       "1         58          2    '3      True  False  Flat / apartment   \n",
       "2        155          3    '1      True   True  Flat / apartment   \n",
       "3         89          2    '3      True  False  Flat / apartment   \n",
       "4         70          2    '1      True   True  Flat / apartment   \n",
       "\n",
       "                  adress       city  \n",
       "0  calle de Sant Pau, 25  Barcelona  \n",
       "1               Hospìtal  Barcelona  \n",
       "2               El Raval  Barcelona  \n",
       "3       rambla del Raval  Barcelona  \n",
       "4  calle de les Carretes  Barcelona  "
      ]
     },
     "execution_count": 134,
     "metadata": {},
     "output_type": "execute_result"
    }
   ],
   "source": [
    "raw_data.head()"
   ]
  },
  {
   "cell_type": "markdown",
   "id": "b3bc952d",
   "metadata": {},
   "source": [
    "#### Merging with the rest of the data"
   ]
  },
  {
   "cell_type": "code",
   "execution_count": 135,
   "id": "71945cd9",
   "metadata": {},
   "outputs": [
    {
     "data": {
      "text/plain": [
       "Index(['id', 'title', 'neighborhood', 'price', 'info_features', 'features',\n",
       "       'description', 'size_in_m2', 'n_bedrooms', 'floor', 'exterior', 'lift',\n",
       "       'property_type', 'adress', 'city'],\n",
       "      dtype='object')"
      ]
     },
     "execution_count": 135,
     "metadata": {},
     "output_type": "execute_result"
    }
   ],
   "source": [
    "raw_data.columns"
   ]
  },
  {
   "cell_type": "code",
   "execution_count": 136,
   "id": "68616932",
   "metadata": {},
   "outputs": [
    {
     "data": {
      "text/plain": [
       "Index(['id', 'raw_row', 'terrace', 'balcony', 'exterior', 'heating', 'lift',\n",
       "       'second hand', 'air conditioning', 'needs renovating', 'parking',\n",
       "       'swimming pool', 'garden', 'sq_m_built', 'sq_m_floor_area', 'floor',\n",
       "       'bedrooms', 'bathrooms', 'year_built', 'central_heating',\n",
       "       'heating_type', 'consumption_in_mkw/m2_year',\n",
       "       'emissions_in_kgco2/m2_year', 'orientation'],\n",
       "      dtype='object')"
      ]
     },
     "execution_count": 136,
     "metadata": {},
     "output_type": "execute_result"
    }
   ],
   "source": [
    "dirty_data.columns"
   ]
  },
  {
   "cell_type": "markdown",
   "id": "1a068a89",
   "metadata": {},
   "source": [
    "We have some duplicities with size, bedrooms, floor, exterior and lift columns. I'll compare the value of these columns and merge them in 1\n"
   ]
  },
  {
   "cell_type": "markdown",
   "id": "f38005e3",
   "metadata": {},
   "source": [
    "#### size"
   ]
  },
  {
   "cell_type": "code",
   "execution_count": 137,
   "id": "fbe40553",
   "metadata": {},
   "outputs": [
    {
     "data": {
      "text/plain": [
       "array(['80', '58', '155', '89', '70', '73', '149', '33', '118', '50',\n",
       "       '54', '110', '224', '75', '57', '56', '40', '69', '41', '45',\n",
       "       '214', '36', '67', '61', '91', '35', '49', '51', '94', '190',\n",
       "       '197', '81', '79', '179', '113', '135', '77', '131', '95', '120',\n",
       "       '90', '65', '55', '34', '39', '78', '71', '76', '102', '66', '82',\n",
       "       '232', '310', '150', '107', '72', '161', '74', '128', '42', '88',\n",
       "       '62', '104', '293', '103', '145', '126', '31', '134', '108', '125',\n",
       "       '164', '96', '219', '129', '216', '111', '195', '87', '132', '363',\n",
       "       '280', '188', '187', '206', '239', '130', '138', '146', '93',\n",
       "       '115', '100', '85', '83', '99', '32', '109', '101', '121', '184',\n",
       "       '60', '84', '374', '170', '47', '180', '147', '59', '148', '68',\n",
       "       '92', '178', '240', '215', '205', '330', '213', '106', '37', '86',\n",
       "       '413', '160', '176', '550', '375', '203', '182', '183', '137',\n",
       "       '250', '870', '167', '63', '52', '140', '313', '226', '900', '123',\n",
       "       '64', '53', '159', '417', '549', '360', '719', '345', '220', '202',\n",
       "       '289', '133', '207', '124', '175', '98', '530', '46', '243', '43',\n",
       "       '48', '204', '277', '105', '256', '201', '314', '156', '141',\n",
       "       '200', '153', '116', '97', '366', '227', '158', '223', '143',\n",
       "       '667', '387', '174', '229', '290', '230', '30', '114', '228',\n",
       "       '119', '192', '169', '189', '267', '209', '351', '191', '29', '44',\n",
       "       '1800', '122', '194', '439', '270', '1000', '1317', '320', '1450',\n",
       "       '641', '154', '1400', '301', '199', '245', '497', '221', '222',\n",
       "       '365', '521', '234', '311', '326', '264', '157', '166', '335',\n",
       "       '315', '300', '117', '151', '241', '253', '144', '248', '127',\n",
       "       '210', '236', '312', '468', '136', '589', '276', '880', '634',\n",
       "       '265', '251', '211', '112', '177', '1609', '152', '212', '173',\n",
       "       '427', '493', '254', '380', '165', '410', '196', '327', '305',\n",
       "       '38', '356', '198', '247', '225', '283', '258', '235', '171',\n",
       "       '142', '139', '181', '296', '739', '302', '208', '519', '483',\n",
       "       '162', '371', '1244', '412', '350', '325', '390', '428', '255',\n",
       "       '416', '218', '233', '242', '25', '24', '568', '168', '536', '450',\n",
       "       '259', '263', '850', '319', '172', '470', '492', '471', '800',\n",
       "       '546', '391', '238', '163', '287', '321', '385', '268', '273',\n",
       "       '605', '237', '426', '295', '304', '21', '27', '807', '500', '400',\n",
       "       '968', '26', '372', '354', '261', '567', '796', '292', '1200',\n",
       "       '19', '274', '648', '476', '22', '1011', '694', '438', '193',\n",
       "       '614', '590', '580', '401', '297', '610', '185', '298', '20',\n",
       "       '499', '28', '370', '231', '723', '285', '262', '600', '329',\n",
       "       '260', '217', '454', '332', '535', '815', '1493', '421', '269',\n",
       "       '346', '244', '284', '316', '307', '440', '511', '362', '318',\n",
       "       '378', '408', '675', '668', '455', '540', '622', '560', '303',\n",
       "       '286', '291', '299', '570', '278', '501', '520', '368', '348',\n",
       "       '359', '639', '907', '720', '950', '388', '322', '420', '601',\n",
       "       '367', '246', '1227', '257', '331', '340', '352', '358', '672',\n",
       "       '403', '309', '646', '451', '275', '650', '565', '386', '342',\n",
       "       '418', '1794', '186', '902', '725', '281', '252', '288', '389',\n",
       "       '569', '660', '377', '459', '355', '524', '682', '399', '534',\n",
       "       '554', '585', '434', '430', '699', '517', '282'], dtype=object)"
      ]
     },
     "execution_count": 137,
     "metadata": {},
     "output_type": "execute_result"
    }
   ],
   "source": [
    "raw_data[\"size_in_m2\"].unique()"
   ]
  },
  {
   "cell_type": "code",
   "execution_count": 138,
   "id": "1f6be0c2",
   "metadata": {},
   "outputs": [
    {
     "data": {
      "text/plain": [
       "array([  80.,   58.,  155.,   89.,   70.,   73.,  149.,   33.,  118.,\n",
       "         50.,   54.,  110.,  224.,   75.,   57.,   56.,   40.,   69.,\n",
       "         41.,   45.,  214.,   36.,   67.,   61.,   91.,   35.,   49.,\n",
       "         51.,   94.,  190.,  197.,   81.,   79.,  179.,  113.,  135.,\n",
       "         77.,  131.,   95.,  120.,   90.,   65.,   55.,   34.,   39.,\n",
       "         78.,   71.,   76.,  102.,   66.,   82.,  232.,  310.,  150.,\n",
       "        107.,   72.,  161.,   74.,  128.,   42.,   88.,   62.,  104.,\n",
       "        293.,  103.,  145.,  126.,   31.,  134.,  108.,  125.,  164.,\n",
       "         96.,  219.,  129.,  216.,  111.,  195.,   87.,  132.,  363.,\n",
       "        280.,  188.,  187.,  206.,  239.,  130.,  138.,  146.,   93.,\n",
       "        115.,  100.,   85.,   83.,   99.,   32.,  109.,  101.,  121.,\n",
       "        184.,   60.,   84.,  374.,  170.,   47.,  180.,  147.,   59.,\n",
       "        148.,   68.,   92.,  178.,  240.,  215.,  205.,  330.,  213.,\n",
       "        106.,   37.,   86.,  413.,  160.,  176.,  550.,  375.,  203.,\n",
       "        182.,  183.,  137.,  250.,  870.,  167.,   63.,   52.,  140.,\n",
       "        313.,  226.,  900.,  123.,   64.,   53.,  159.,  417.,  549.,\n",
       "        360.,  719.,  345.,  220.,  202.,  289.,  133.,  207.,  124.,\n",
       "        175.,   98.,  530.,   46.,  243.,   43.,   48.,  204.,  277.,\n",
       "        105.,  256.,  201.,  314.,  156.,  141.,  200.,  153.,  116.,\n",
       "         97.,  366.,  227.,  158.,  223.,  143.,  667.,  387.,  174.,\n",
       "        229.,  290.,  230.,   30.,  114.,  228.,  119.,  192.,  169.,\n",
       "        189.,  267.,  209.,  351.,  191.,   29.,   44., 1800.,  122.,\n",
       "        194.,  439.,  270., 1000., 1317.,  320., 1450.,  641.,  154.,\n",
       "       1400.,  301.,  199.,  245.,  497.,  221.,  222.,  365.,  521.,\n",
       "        234.,  311.,  326.,  264.,  157.,  166.,  335.,  315.,  300.,\n",
       "        117.,  151.,  241.,  253.,  144.,  248.,  127.,  210.,  236.,\n",
       "        312.,  468.,  136.,  589.,  276.,  880.,  634.,  265.,  251.,\n",
       "        211.,  112.,  177., 1609.,  152.,  212.,  173.,  427.,  493.,\n",
       "        254.,  380.,  165.,  410.,  196.,  327.,  305.,   38.,  356.,\n",
       "        198.,  247.,  225.,  283.,  258.,  235.,  171.,  142.,  139.,\n",
       "        181.,  296.,  739.,  302.,  208.,  519.,  483.,  162.,  371.,\n",
       "       1244.,  412.,  350.,  325.,  390.,  428.,  255.,  416.,  218.,\n",
       "        233.,  242.,   25.,   24.,  568.,  168.,  536.,  450.,  259.,\n",
       "        263.,  850.,  319.,  172.,  470.,  492.,  471.,  800.,  546.,\n",
       "        391.,  238.,  163.,  287.,  321.,  385.,  268.,  273.,  605.,\n",
       "        237.,  426.,  295.,  304.,   21.,   27.,  807.,  500.,  400.,\n",
       "        968.,   26.,  372.,  354.,  261.,  567.,  796.,  292., 1200.,\n",
       "         19.,  274.,  648.,  476.,   22., 1011.,  694.,  438.,  193.,\n",
       "        614.,  590.,  580.,  401.,  297.,  610.,  185.,  298.,   20.,\n",
       "        499.,   28.,  370.,  231.,  723.,  285.,  262.,  600.,  329.,\n",
       "        260.,  217.,  454.,  332.,  535.,  815., 1493.,  421.,  269.,\n",
       "        346.,  244.,  284.,  316.,  307.,  440.,  511.,  362.,  318.,\n",
       "        378.,  408.,  675.,  668.,  455.,  540.,  622.,  560.,  303.,\n",
       "        286.,  291.,  299.,  570.,  278.,  501.,  520.,  368.,  348.,\n",
       "        359.,  639.,  907.,  720.,  950.,  388.,  322.,  420.,  601.,\n",
       "        367.,  246., 1227.,  257.,  331.,  340.,  352.,  358.,  672.,\n",
       "        403.,  309.,  646.,  451.,  275.,  650.,  565.,  386.,  342.,\n",
       "        418., 1794.,  186.,  902.,  725.,  281.,  252.,  288.,  389.,\n",
       "        569.,  660.,  377.,  459.,  355.,  524.,  682.,  399.,  534.,\n",
       "        554.,  585.,  434.,  430.,  699.,  517.,  282.], dtype=float32)"
      ]
     },
     "execution_count": 138,
     "metadata": {},
     "output_type": "execute_result"
    }
   ],
   "source": [
    "dirty_data[\"sq_m_built\"].unique()"
   ]
  },
  {
   "cell_type": "markdown",
   "id": "709d22b0",
   "metadata": {},
   "source": [
    "These two columns have different types. I'll change them both to be int"
   ]
  },
  {
   "cell_type": "code",
   "execution_count": 139,
   "id": "58418b42",
   "metadata": {},
   "outputs": [],
   "source": [
    "raw_data[\"size_in_m2\"] = raw_data[\"size_in_m2\"].astype(\"int32\")"
   ]
  },
  {
   "cell_type": "code",
   "execution_count": 140,
   "id": "162f5ff5",
   "metadata": {},
   "outputs": [],
   "source": [
    "dirty_data[\"sq_m_built\"] = dirty_data[\"sq_m_built\"].astype(\"int32\")"
   ]
  },
  {
   "cell_type": "markdown",
   "id": "2078935d",
   "metadata": {},
   "source": [
    "I can now compare both values"
   ]
  },
  {
   "cell_type": "code",
   "execution_count": 141,
   "id": "44b0a766",
   "metadata": {},
   "outputs": [
    {
     "data": {
      "text/plain": [
       "Series([], Name: size_in_m2, dtype: int32)"
      ]
     },
     "execution_count": 141,
     "metadata": {},
     "output_type": "execute_result"
    }
   ],
   "source": [
    "raw_data.loc[~(raw_data[\"size_in_m2\"] == dirty_data[\"sq_m_built\"]),\"size_in_m2\"]"
   ]
  },
  {
   "cell_type": "markdown",
   "id": "407868c2",
   "metadata": {},
   "source": [
    "They are both the same value. In this case I'll use sq_m_built since it's more descriptive."
   ]
  },
  {
   "cell_type": "markdown",
   "id": "9687329e",
   "metadata": {},
   "source": [
    "#### Bedrooms"
   ]
  },
  {
   "cell_type": "code",
   "execution_count": 142,
   "id": "56ed37be",
   "metadata": {},
   "outputs": [
    {
     "data": {
      "text/plain": [
       "array(['2', '3', '4', 0, '1', '5', '6', '7', '10', '17', '8', '9', '11',\n",
       "       '15', '14', '12', '13'], dtype=object)"
      ]
     },
     "execution_count": 142,
     "metadata": {},
     "output_type": "execute_result"
    }
   ],
   "source": [
    "raw_data[\"n_bedrooms\"].unique()"
   ]
  },
  {
   "cell_type": "code",
   "execution_count": 143,
   "id": "fe67de88",
   "metadata": {},
   "outputs": [
    {
     "data": {
      "text/plain": [
       "array([ 2,  3,  4,  0,  1,  5,  6,  7, 10, 17,  8, 11, 15, 14, 12, 13])"
      ]
     },
     "execution_count": 143,
     "metadata": {},
     "output_type": "execute_result"
    }
   ],
   "source": [
    "dirty_data[\"bedrooms\"].unique()"
   ]
  },
  {
   "cell_type": "markdown",
   "id": "98e3702d",
   "metadata": {},
   "source": [
    "I'll convert them to the same type int32"
   ]
  },
  {
   "cell_type": "code",
   "execution_count": 144,
   "id": "b89c445e",
   "metadata": {},
   "outputs": [],
   "source": [
    "raw_data[\"n_bedrooms\"] = raw_data[\"n_bedrooms\"].astype(\"int32\")"
   ]
  },
  {
   "cell_type": "code",
   "execution_count": 145,
   "id": "18f61037",
   "metadata": {},
   "outputs": [
    {
     "data": {
      "text/plain": [
       "1952    9\n",
       "1969    9\n",
       "2009    9\n",
       "2940    9\n",
       "4077    9\n",
       "5217    9\n",
       "5484    9\n",
       "7328    9\n",
       "8376    9\n",
       "Name: n_bedrooms, dtype: int32"
      ]
     },
     "execution_count": 145,
     "metadata": {},
     "output_type": "execute_result"
    }
   ],
   "source": [
    "raw_data.loc[~(raw_data[\"n_bedrooms\"] == dirty_data[\"bedrooms\"]),\"n_bedrooms\"]"
   ]
  },
  {
   "cell_type": "markdown",
   "id": "85d2f775",
   "metadata": {},
   "source": [
    "I'll use n_bedrooms seince it's more descriptive. It also looks weird that there are not 9 bedrooms properties in the \"bedrooms\" column"
   ]
  },
  {
   "cell_type": "markdown",
   "id": "6251a928",
   "metadata": {},
   "source": [
    "#### floor\n"
   ]
  },
  {
   "cell_type": "code",
   "execution_count": 146,
   "id": "8e24c98e",
   "metadata": {},
   "outputs": [
    {
     "data": {
      "text/plain": [
       "array([\"'3\", \"'1\", \"'4\", \"''\", \"'5\", \"'2\", \"'0\", \"'7\", '404', \"'10\", \"'8\",\n",
       "       \"'21\", \"'6\", \"'24\", \"'-1\", \"'9\", \"'15\", \"'14\", \"'16\", \"'11\", \"'-2\",\n",
       "       \"'17\", \"'22\", \"'12\", \"'23\", \"'13\", \"'25\", \"'20\"], dtype=object)"
      ]
     },
     "execution_count": 146,
     "metadata": {},
     "output_type": "execute_result"
    }
   ],
   "source": [
    "raw_data[\"floor\"].unique()"
   ]
  },
  {
   "cell_type": "code",
   "execution_count": 147,
   "id": "23550ef7",
   "metadata": {},
   "outputs": [
    {
     "data": {
      "text/plain": [
       "array([ 3,  1,  4,  0,  5,  2,  7, 10,  8, 21,  6, 24,  9, 15, 14, 16, -1,\n",
       "       11, -2, 17, 22, 12, 23, 13, 25, 20])"
      ]
     },
     "execution_count": 147,
     "metadata": {},
     "output_type": "execute_result"
    }
   ],
   "source": [
    "dirty_data[\"floor\"].unique()"
   ]
  },
  {
   "cell_type": "markdown",
   "id": "05848c0a",
   "metadata": {},
   "source": [
    "Since raw_data floor isn't cleaned yet, I'll use dirty_data floor instead"
   ]
  },
  {
   "cell_type": "markdown",
   "id": "0a6d373e",
   "metadata": {},
   "source": [
    "#### lift"
   ]
  },
  {
   "cell_type": "code",
   "execution_count": 148,
   "id": "1affea68",
   "metadata": {},
   "outputs": [
    {
     "data": {
      "text/plain": [
       "array([ True, False])"
      ]
     },
     "execution_count": 148,
     "metadata": {},
     "output_type": "execute_result"
    }
   ],
   "source": [
    "raw_data[\"lift\"].unique()"
   ]
  },
  {
   "cell_type": "code",
   "execution_count": 149,
   "id": "394d2d12",
   "metadata": {},
   "outputs": [
    {
     "data": {
      "text/plain": [
       "array([ True, False])"
      ]
     },
     "execution_count": 149,
     "metadata": {},
     "output_type": "execute_result"
    }
   ],
   "source": [
    "dirty_data[\"lift\"].unique()"
   ]
  },
  {
   "cell_type": "code",
   "execution_count": 150,
   "id": "7c543832",
   "metadata": {},
   "outputs": [
    {
     "data": {
      "text/plain": [
       "Series([], Name: lift, dtype: bool)"
      ]
     },
     "execution_count": 150,
     "metadata": {},
     "output_type": "execute_result"
    }
   ],
   "source": [
    "raw_data.loc[~(raw_data[\"lift\"]==dirty_data[\"lift\"]), \"lift\"]"
   ]
  },
  {
   "cell_type": "markdown",
   "id": "261e4503",
   "metadata": {},
   "source": [
    "These two columns are identical, so it doesn't matter which one we use"
   ]
  },
  {
   "cell_type": "markdown",
   "id": "d280a09d",
   "metadata": {},
   "source": [
    "#### exterior"
   ]
  },
  {
   "cell_type": "code",
   "execution_count": 151,
   "id": "2792b4d3",
   "metadata": {},
   "outputs": [
    {
     "data": {
      "text/plain": [
       "array([ True, False])"
      ]
     },
     "execution_count": 151,
     "metadata": {},
     "output_type": "execute_result"
    }
   ],
   "source": [
    "raw_data[\"exterior\"].unique()"
   ]
  },
  {
   "cell_type": "code",
   "execution_count": 152,
   "id": "0b356e73",
   "metadata": {},
   "outputs": [
    {
     "data": {
      "text/plain": [
       "array([ True, False])"
      ]
     },
     "execution_count": 152,
     "metadata": {},
     "output_type": "execute_result"
    }
   ],
   "source": [
    "dirty_data[\"exterior\"].unique()"
   ]
  },
  {
   "cell_type": "code",
   "execution_count": 153,
   "id": "25692fa1",
   "metadata": {},
   "outputs": [
    {
     "data": {
      "text/plain": [
       "Series([], Name: exterior, dtype: bool)"
      ]
     },
     "execution_count": 153,
     "metadata": {},
     "output_type": "execute_result"
    }
   ],
   "source": [
    "raw_data.loc[~(raw_data[\"exterior\"]==dirty_data[\"exterior\"]), \"exterior\"]"
   ]
  },
  {
   "cell_type": "markdown",
   "id": "47f26d25",
   "metadata": {},
   "source": [
    "Since they are the same it doesn't matter which we use"
   ]
  },
  {
   "cell_type": "markdown",
   "id": "49839bfa",
   "metadata": {},
   "source": [
    "#### Merge"
   ]
  },
  {
   "cell_type": "code",
   "execution_count": 154,
   "id": "d4820159",
   "metadata": {},
   "outputs": [],
   "source": [
    "raw_data = raw_data.merge(dirty_data, on=\"id\")"
   ]
  },
  {
   "cell_type": "code",
   "execution_count": 155,
   "id": "954424e1",
   "metadata": {},
   "outputs": [
    {
     "data": {
      "text/plain": [
       "Index(['id', 'title', 'neighborhood', 'price', 'info_features', 'features',\n",
       "       'description', 'size_in_m2', 'n_bedrooms', 'floor_x', 'exterior_x',\n",
       "       'lift_x', 'property_type', 'adress', 'city', 'raw_row', 'terrace',\n",
       "       'balcony', 'exterior_y', 'heating', 'lift_y', 'second hand',\n",
       "       'air conditioning', 'needs renovating', 'parking', 'swimming pool',\n",
       "       'garden', 'sq_m_built', 'sq_m_floor_area', 'floor_y', 'bedrooms',\n",
       "       'bathrooms', 'year_built', 'central_heating', 'heating_type',\n",
       "       'consumption_in_mkw/m2_year', 'emissions_in_kgco2/m2_year',\n",
       "       'orientation'],\n",
       "      dtype='object')"
      ]
     },
     "execution_count": 155,
     "metadata": {},
     "output_type": "execute_result"
    }
   ],
   "source": [
    "raw_data.columns"
   ]
  },
  {
   "cell_type": "code",
   "execution_count": 156,
   "id": "f0c12d1f",
   "metadata": {},
   "outputs": [],
   "source": [
    "clean_data_w_description = raw_data[['id', 'property_type','adress','neighborhood','city', 'price',\n",
    "       'sq_m_built','sq_m_floor_area', 'n_bedrooms','bathrooms', 'floor_y','year_built', 'exterior_x',\n",
    "       'lift_x',  'terrace', 'balcony', 'second hand',  'needs renovating',\n",
    "       'parking', 'swimming pool', 'garden','air conditioning','heating','central_heating',\n",
    "       'heating_type', 'consumption_in_mkw/m2_year',\n",
    "       'emissions_in_kgco2/m2_year', 'orientation','description']]\n",
    "\n",
    "clean_data = raw_data[['id', 'property_type','adress','neighborhood','city', 'price',\n",
    "       'sq_m_built','sq_m_floor_area', 'n_bedrooms','bathrooms', 'floor_y','year_built', 'orientation', 'exterior_x',\n",
    "       'lift_x',  'terrace', 'balcony', 'second hand',  'needs renovating',\n",
    "       'parking', 'swimming pool', 'garden','air conditioning','heating','central_heating',\n",
    "       'heating_type', 'consumption_in_mkw/m2_year',\n",
    "       'emissions_in_kgco2/m2_year']]"
   ]
  },
  {
   "cell_type": "code",
   "execution_count": 157,
   "id": "0d1220f1",
   "metadata": {},
   "outputs": [
    {
     "data": {
      "text/html": [
       "<div>\n",
       "<style scoped>\n",
       "    .dataframe tbody tr th:only-of-type {\n",
       "        vertical-align: middle;\n",
       "    }\n",
       "\n",
       "    .dataframe tbody tr th {\n",
       "        vertical-align: top;\n",
       "    }\n",
       "\n",
       "    .dataframe thead th {\n",
       "        text-align: right;\n",
       "    }\n",
       "</style>\n",
       "<table border=\"1\" class=\"dataframe\">\n",
       "  <thead>\n",
       "    <tr style=\"text-align: right;\">\n",
       "      <th></th>\n",
       "      <th>id</th>\n",
       "      <th>property_type</th>\n",
       "      <th>adress</th>\n",
       "      <th>neighborhood</th>\n",
       "      <th>city</th>\n",
       "      <th>price</th>\n",
       "      <th>sq_m_built</th>\n",
       "      <th>sq_m_floor_area</th>\n",
       "      <th>n_bedrooms</th>\n",
       "      <th>bathrooms</th>\n",
       "      <th>...</th>\n",
       "      <th>needs renovating</th>\n",
       "      <th>parking</th>\n",
       "      <th>swimming pool</th>\n",
       "      <th>garden</th>\n",
       "      <th>air conditioning</th>\n",
       "      <th>heating</th>\n",
       "      <th>central_heating</th>\n",
       "      <th>heating_type</th>\n",
       "      <th>consumption_in_mkw/m2_year</th>\n",
       "      <th>emissions_in_kgco2/m2_year</th>\n",
       "    </tr>\n",
       "  </thead>\n",
       "  <tbody>\n",
       "    <tr>\n",
       "      <th>0</th>\n",
       "      <td>103375204</td>\n",
       "      <td>Flat / apartment</td>\n",
       "      <td>calle de Sant Pau, 25</td>\n",
       "      <td>El Raval</td>\n",
       "      <td>Barcelona</td>\n",
       "      <td>530000.0000</td>\n",
       "      <td>80</td>\n",
       "      <td>NaN</td>\n",
       "      <td>2</td>\n",
       "      <td>1</td>\n",
       "      <td>...</td>\n",
       "      <td>False</td>\n",
       "      <td>False</td>\n",
       "      <td>False</td>\n",
       "      <td>False</td>\n",
       "      <td>True</td>\n",
       "      <td>True</td>\n",
       "      <td>central</td>\n",
       "      <td>NaN</td>\n",
       "      <td>91.0000</td>\n",
       "      <td>17.0000</td>\n",
       "    </tr>\n",
       "    <tr>\n",
       "      <th>1</th>\n",
       "      <td>94000904</td>\n",
       "      <td>Flat / apartment</td>\n",
       "      <td>Hospìtal</td>\n",
       "      <td>El Raval</td>\n",
       "      <td>Barcelona</td>\n",
       "      <td>165000.0000</td>\n",
       "      <td>58</td>\n",
       "      <td>49.0000</td>\n",
       "      <td>2</td>\n",
       "      <td>1</td>\n",
       "      <td>...</td>\n",
       "      <td>False</td>\n",
       "      <td>False</td>\n",
       "      <td>False</td>\n",
       "      <td>False</td>\n",
       "      <td>False</td>\n",
       "      <td>False</td>\n",
       "      <td>no</td>\n",
       "      <td>NaN</td>\n",
       "      <td>311.0000</td>\n",
       "      <td>65.0000</td>\n",
       "    </tr>\n",
       "    <tr>\n",
       "      <th>2</th>\n",
       "      <td>104382041</td>\n",
       "      <td>Flat / apartment</td>\n",
       "      <td>El Raval</td>\n",
       "      <td>Ciutat Vella</td>\n",
       "      <td>Barcelona</td>\n",
       "      <td>430000.0000</td>\n",
       "      <td>155</td>\n",
       "      <td>89.0000</td>\n",
       "      <td>3</td>\n",
       "      <td>2</td>\n",
       "      <td>...</td>\n",
       "      <td>False</td>\n",
       "      <td>False</td>\n",
       "      <td>False</td>\n",
       "      <td>False</td>\n",
       "      <td>True</td>\n",
       "      <td>True</td>\n",
       "      <td>central</td>\n",
       "      <td>NaN</td>\n",
       "      <td>NaN</td>\n",
       "      <td>NaN</td>\n",
       "    </tr>\n",
       "    <tr>\n",
       "      <th>3</th>\n",
       "      <td>97791792</td>\n",
       "      <td>Flat / apartment</td>\n",
       "      <td>rambla del Raval</td>\n",
       "      <td>El Raval</td>\n",
       "      <td>Barcelona</td>\n",
       "      <td>279999.0000</td>\n",
       "      <td>89</td>\n",
       "      <td>80.0000</td>\n",
       "      <td>2</td>\n",
       "      <td>2</td>\n",
       "      <td>...</td>\n",
       "      <td>False</td>\n",
       "      <td>False</td>\n",
       "      <td>False</td>\n",
       "      <td>False</td>\n",
       "      <td>True</td>\n",
       "      <td>True</td>\n",
       "      <td>individual</td>\n",
       "      <td>electric</td>\n",
       "      <td>15.0000</td>\n",
       "      <td>71.0000</td>\n",
       "    </tr>\n",
       "    <tr>\n",
       "      <th>4</th>\n",
       "      <td>104397583</td>\n",
       "      <td>Flat / apartment</td>\n",
       "      <td>calle de les Carretes</td>\n",
       "      <td>El Raval</td>\n",
       "      <td>Barcelona</td>\n",
       "      <td>230000.0000</td>\n",
       "      <td>70</td>\n",
       "      <td>NaN</td>\n",
       "      <td>2</td>\n",
       "      <td>2</td>\n",
       "      <td>...</td>\n",
       "      <td>False</td>\n",
       "      <td>False</td>\n",
       "      <td>False</td>\n",
       "      <td>False</td>\n",
       "      <td>True</td>\n",
       "      <td>False</td>\n",
       "      <td>no</td>\n",
       "      <td>NaN</td>\n",
       "      <td>90.0000</td>\n",
       "      <td>190.0000</td>\n",
       "    </tr>\n",
       "  </tbody>\n",
       "</table>\n",
       "<p>5 rows × 28 columns</p>\n",
       "</div>"
      ],
      "text/plain": [
       "          id     property_type                 adress  neighborhood  \\\n",
       "0  103375204  Flat / apartment  calle de Sant Pau, 25      El Raval   \n",
       "1   94000904  Flat / apartment               Hospìtal      El Raval   \n",
       "2  104382041  Flat / apartment               El Raval  Ciutat Vella   \n",
       "3   97791792  Flat / apartment       rambla del Raval      El Raval   \n",
       "4  104397583  Flat / apartment  calle de les Carretes      El Raval   \n",
       "\n",
       "        city       price  sq_m_built  sq_m_floor_area  n_bedrooms  bathrooms  \\\n",
       "0  Barcelona 530000.0000          80              NaN           2          1   \n",
       "1  Barcelona 165000.0000          58          49.0000           2          1   \n",
       "2  Barcelona 430000.0000         155          89.0000           3          2   \n",
       "3  Barcelona 279999.0000          89          80.0000           2          2   \n",
       "4  Barcelona 230000.0000          70              NaN           2          2   \n",
       "\n",
       "   ...  needs renovating  parking swimming pool  garden  air conditioning  \\\n",
       "0  ...             False    False         False   False              True   \n",
       "1  ...             False    False         False   False             False   \n",
       "2  ...             False    False         False   False              True   \n",
       "3  ...             False    False         False   False              True   \n",
       "4  ...             False    False         False   False              True   \n",
       "\n",
       "   heating  central_heating  heating_type  consumption_in_mkw/m2_year  \\\n",
       "0     True          central           NaN                     91.0000   \n",
       "1    False               no           NaN                    311.0000   \n",
       "2     True          central           NaN                         NaN   \n",
       "3     True       individual      electric                     15.0000   \n",
       "4    False               no           NaN                     90.0000   \n",
       "\n",
       "   emissions_in_kgco2/m2_year  \n",
       "0                     17.0000  \n",
       "1                     65.0000  \n",
       "2                         NaN  \n",
       "3                     71.0000  \n",
       "4                    190.0000  \n",
       "\n",
       "[5 rows x 28 columns]"
      ]
     },
     "execution_count": 157,
     "metadata": {},
     "output_type": "execute_result"
    }
   ],
   "source": [
    "clean_data.head()"
   ]
  },
  {
   "cell_type": "code",
   "execution_count": 158,
   "id": "c71e73c9",
   "metadata": {},
   "outputs": [
    {
     "data": {
      "text/plain": [
       "Index(['id', 'property_type', 'adress', 'neighborhood', 'city', 'price',\n",
       "       'sq_m_built', 'sq_m_floor_area', 'n_bedrooms', 'bathrooms', 'floor_y',\n",
       "       'year_built', 'orientation', 'exterior_x', 'lift_x', 'terrace',\n",
       "       'balcony', 'second hand', 'needs renovating', 'parking',\n",
       "       'swimming pool', 'garden', 'air conditioning', 'heating',\n",
       "       'central_heating', 'heating_type', 'consumption_in_mkw/m2_year',\n",
       "       'emissions_in_kgco2/m2_year'],\n",
       "      dtype='object')"
      ]
     },
     "execution_count": 158,
     "metadata": {},
     "output_type": "execute_result"
    }
   ],
   "source": [
    "clean_data.columns"
   ]
  },
  {
   "cell_type": "code",
   "execution_count": 159,
   "id": "ba9880cc",
   "metadata": {},
   "outputs": [],
   "source": [
    "clean_data = clean_data.rename(columns={\"sq_m_built\":\"m2_built\", \n",
    "                                        \"sq_m_floor_area\":\"m2_floor_area\",\n",
    "                                        \"floor_y\":\"floor\",\n",
    "                                        \"exterior_x\":\"exterior\",\n",
    "                                        \"lift_x\":\"lift\", \n",
    "                                        \"second_hand\":\"second_hand\", \n",
    "                                        \"needs renovating\":\"needs_renovating\", \n",
    "                                        \"swimming pool\": \"swimming_pool\", \n",
    "                                        \"air conditioning\":\"air_conditioning\"})"
   ]
  },
  {
   "cell_type": "code",
   "execution_count": 160,
   "id": "20537e9f",
   "metadata": {},
   "outputs": [
    {
     "data": {
      "text/plain": [
       "Index(['id', 'property_type', 'adress', 'neighborhood', 'city', 'price',\n",
       "       'm2_built', 'm2_floor_area', 'n_bedrooms', 'bathrooms', 'floor',\n",
       "       'year_built', 'orientation', 'exterior', 'lift', 'terrace', 'balcony',\n",
       "       'second hand', 'needs_renovating', 'parking', 'swimming_pool', 'garden',\n",
       "       'air_conditioning', 'heating', 'central_heating', 'heating_type',\n",
       "       'consumption_in_mkw/m2_year', 'emissions_in_kgco2/m2_year'],\n",
       "      dtype='object')"
      ]
     },
     "execution_count": 160,
     "metadata": {},
     "output_type": "execute_result"
    }
   ],
   "source": [
    "clean_data.columns"
   ]
  },
  {
   "cell_type": "code",
   "execution_count": 161,
   "id": "fc41fdaf",
   "metadata": {},
   "outputs": [],
   "source": [
    "clean_data.to_csv(\"clean_data.csv\",index = False)\n",
    "clean_data_w_description.to_csv(\"clean_data_w_description.csv\", index = False)"
   ]
  },
  {
   "cell_type": "code",
   "execution_count": null,
   "id": "61667f04",
   "metadata": {},
   "outputs": [],
   "source": []
  }
 ],
 "metadata": {
  "kernelspec": {
   "display_name": "Python 3 (ipykernel)",
   "language": "python",
   "name": "python3"
  },
  "language_info": {
   "codemirror_mode": {
    "name": "ipython",
    "version": 3
   },
   "file_extension": ".py",
   "mimetype": "text/x-python",
   "name": "python",
   "nbconvert_exporter": "python",
   "pygments_lexer": "ipython3",
   "version": "3.9.7"
  }
 },
 "nbformat": 4,
 "nbformat_minor": 5
}
