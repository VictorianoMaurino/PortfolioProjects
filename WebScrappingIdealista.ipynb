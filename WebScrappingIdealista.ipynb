{
 "cells": [
  {
   "cell_type": "markdown",
   "id": "069a4275",
   "metadata": {},
   "source": [
    "# Idealista Web Scrapping"
   ]
  },
  {
   "cell_type": "markdown",
   "id": "6197f725",
   "metadata": {},
   "source": [
    "## Goals and challenges"
   ]
  },
  {
   "cell_type": "markdown",
   "id": "9b29bce0",
   "metadata": {},
   "source": [
    "Before we start using beautiful soup, we need to explore Idealista's browsing mechanics. At first sight, Barcelona city has 15328 properties avalible. However we can only see 60 pages per category with 30 properties displayed per page. That means that we can only access to 30x60 (1800) properties if we choose the Barcelona category. In order to avoid this restrictions, we can subdivide our search into smaller groups of data. In this case Districts.\n",
    "\n",
    "Barcelona consists of 10 districts:"
   ]
  },
  {
   "cell_type": "code",
   "execution_count": 1,
   "id": "63e3078a",
   "metadata": {},
   "outputs": [],
   "source": [
    "#Initializing pandas and numpy\n",
    "import numpy as np\n",
    "import pandas as pd"
   ]
  },
  {
   "cell_type": "code",
   "execution_count": 2,
   "id": "330af898",
   "metadata": {},
   "outputs": [],
   "source": [
    "#Importing districts and neighborhoods\n",
    "districts = pd.read_csv(\"districts.csv\")\n",
    "neighborhoods = pd.read_csv(\"neighborhoods.csv\")"
   ]
  },
  {
   "cell_type": "code",
   "execution_count": 3,
   "id": "d82dc9ec",
   "metadata": {
    "scrolled": false
   },
   "outputs": [
    {
     "data": {
      "text/html": [
       "<div>\n",
       "<style scoped>\n",
       "    .dataframe tbody tr th:only-of-type {\n",
       "        vertical-align: middle;\n",
       "    }\n",
       "\n",
       "    .dataframe tbody tr th {\n",
       "        vertical-align: top;\n",
       "    }\n",
       "\n",
       "    .dataframe thead th {\n",
       "        text-align: right;\n",
       "    }\n",
       "</style>\n",
       "<table border=\"1\" class=\"dataframe\">\n",
       "  <thead>\n",
       "    <tr style=\"text-align: right;\">\n",
       "      <th></th>\n",
       "      <th>district_id</th>\n",
       "      <th>district_name</th>\n",
       "      <th>neighborhood_id</th>\n",
       "      <th>neighborhood_name</th>\n",
       "      <th>idealista_link</th>\n",
       "    </tr>\n",
       "  </thead>\n",
       "  <tbody>\n",
       "    <tr>\n",
       "      <th>0</th>\n",
       "      <td>0</td>\n",
       "      <td>Ciutat Vella</td>\n",
       "      <td>0</td>\n",
       "      <td>El Raval</td>\n",
       "      <td>https://www.idealista.com/en/venta-viviendas/b...</td>\n",
       "    </tr>\n",
       "    <tr>\n",
       "      <th>1</th>\n",
       "      <td>0</td>\n",
       "      <td>Ciutat Vella</td>\n",
       "      <td>1</td>\n",
       "      <td>El Gotic</td>\n",
       "      <td>https://www.idealista.com/en/venta-viviendas/b...</td>\n",
       "    </tr>\n",
       "    <tr>\n",
       "      <th>2</th>\n",
       "      <td>0</td>\n",
       "      <td>Ciutat Vella</td>\n",
       "      <td>2</td>\n",
       "      <td>La Barceloneta</td>\n",
       "      <td>https://www.idealista.com/en/venta-viviendas/b...</td>\n",
       "    </tr>\n",
       "    <tr>\n",
       "      <th>3</th>\n",
       "      <td>0</td>\n",
       "      <td>Ciutat Vella</td>\n",
       "      <td>3</td>\n",
       "      <td>Sant Pere  Santa Caterina i la Ribera</td>\n",
       "      <td>https://www.idealista.com/en/venta-viviendas/b...</td>\n",
       "    </tr>\n",
       "    <tr>\n",
       "      <th>4</th>\n",
       "      <td>1</td>\n",
       "      <td>Eixample</td>\n",
       "      <td>4</td>\n",
       "      <td>El Fort Pienc</td>\n",
       "      <td>https://www.idealista.com/en/venta-viviendas/b...</td>\n",
       "    </tr>\n",
       "    <tr>\n",
       "      <th>...</th>\n",
       "      <td>...</td>\n",
       "      <td>...</td>\n",
       "      <td>...</td>\n",
       "      <td>...</td>\n",
       "      <td>...</td>\n",
       "    </tr>\n",
       "    <tr>\n",
       "      <th>68</th>\n",
       "      <td>9</td>\n",
       "      <td>Sant Marti</td>\n",
       "      <td>68</td>\n",
       "      <td>La Verneda i la Pau</td>\n",
       "      <td>https://www.idealista.com/en/venta-viviendas/b...</td>\n",
       "    </tr>\n",
       "    <tr>\n",
       "      <th>69</th>\n",
       "      <td>10</td>\n",
       "      <td>Badalona</td>\n",
       "      <td>69</td>\n",
       "      <td>Badalona</td>\n",
       "      <td>https://www.idealista.com/en/venta-viviendas/b...</td>\n",
       "    </tr>\n",
       "    <tr>\n",
       "      <th>70</th>\n",
       "      <td>11</td>\n",
       "      <td>Hospitalet de Llobregat</td>\n",
       "      <td>70</td>\n",
       "      <td>Hospitalet de Llobregat</td>\n",
       "      <td>https://www.idealista.com/en/venta-viviendas/h...</td>\n",
       "    </tr>\n",
       "    <tr>\n",
       "      <th>71</th>\n",
       "      <td>12</td>\n",
       "      <td>Santa Coloma de Gramanet</td>\n",
       "      <td>71</td>\n",
       "      <td>Santa Coloma de Gramanet</td>\n",
       "      <td>https://www.idealista.com/en/venta-viviendas/s...</td>\n",
       "    </tr>\n",
       "    <tr>\n",
       "      <th>72</th>\n",
       "      <td>13</td>\n",
       "      <td>Sant Adria del Besos</td>\n",
       "      <td>72</td>\n",
       "      <td>Sant Adria del Besos</td>\n",
       "      <td>https://www.idealista.com/en/venta-viviendas/s...</td>\n",
       "    </tr>\n",
       "  </tbody>\n",
       "</table>\n",
       "<p>73 rows × 5 columns</p>\n",
       "</div>"
      ],
      "text/plain": [
       "    district_id             district_name  neighborhood_id  \\\n",
       "0             0              Ciutat Vella                0   \n",
       "1             0              Ciutat Vella                1   \n",
       "2             0              Ciutat Vella                2   \n",
       "3             0              Ciutat Vella                3   \n",
       "4             1                  Eixample                4   \n",
       "..          ...                       ...              ...   \n",
       "68            9                Sant Marti               68   \n",
       "69           10                  Badalona               69   \n",
       "70           11   Hospitalet de Llobregat               70   \n",
       "71           12  Santa Coloma de Gramanet               71   \n",
       "72           13      Sant Adria del Besos               72   \n",
       "\n",
       "                        neighborhood_name  \\\n",
       "0                                El Raval   \n",
       "1                                El Gotic   \n",
       "2                          La Barceloneta   \n",
       "3   Sant Pere  Santa Caterina i la Ribera   \n",
       "4                           El Fort Pienc   \n",
       "..                                    ...   \n",
       "68                    La Verneda i la Pau   \n",
       "69                               Badalona   \n",
       "70                Hospitalet de Llobregat   \n",
       "71               Santa Coloma de Gramanet   \n",
       "72                   Sant Adria del Besos   \n",
       "\n",
       "                                       idealista_link  \n",
       "0   https://www.idealista.com/en/venta-viviendas/b...  \n",
       "1   https://www.idealista.com/en/venta-viviendas/b...  \n",
       "2   https://www.idealista.com/en/venta-viviendas/b...  \n",
       "3   https://www.idealista.com/en/venta-viviendas/b...  \n",
       "4   https://www.idealista.com/en/venta-viviendas/b...  \n",
       "..                                                ...  \n",
       "68  https://www.idealista.com/en/venta-viviendas/b...  \n",
       "69  https://www.idealista.com/en/venta-viviendas/b...  \n",
       "70  https://www.idealista.com/en/venta-viviendas/h...  \n",
       "71  https://www.idealista.com/en/venta-viviendas/s...  \n",
       "72  https://www.idealista.com/en/venta-viviendas/s...  \n",
       "\n",
       "[73 rows x 5 columns]"
      ]
     },
     "execution_count": 3,
     "metadata": {},
     "output_type": "execute_result"
    }
   ],
   "source": [
    "neighborhoods.head(74)"
   ]
  },
  {
   "cell_type": "markdown",
   "id": "f2b38857",
   "metadata": {},
   "source": [
    "Now that we have segmented the data into smaller groups and links, we can start scraping the data"
   ]
  },
  {
   "cell_type": "markdown",
   "id": "4f3df8e4",
   "metadata": {},
   "source": [
    "## Web scrapping"
   ]
  },
  {
   "cell_type": "markdown",
   "id": "4d46cf00",
   "metadata": {},
   "source": [
    "### Obtaining Links"
   ]
  },
  {
   "cell_type": "markdown",
   "id": "cbafd0fe",
   "metadata": {},
   "source": [
    " It's time to start actually webscrapping. Let's initialize our libraries."
   ]
  },
  {
   "cell_type": "code",
   "execution_count": 4,
   "id": "c3519b44",
   "metadata": {},
   "outputs": [],
   "source": [
    "from bs4 import BeautifulSoup as bs\n",
    "import proxy_script as ps\n",
    "import time\n",
    "import random\n",
    "import urllib3\n",
    "import concurrent.futures\n",
    "\n",
    "urllib3.disable_warnings()\n",
    "\n",
    "errorList = []"
   ]
  },
  {
   "cell_type": "raw",
   "id": "46fa3b5e",
   "metadata": {
    "vscode": {
     "languageId": "raw"
    }
   },
   "source": [
    "With the web scraper now functioning, we can begin testing it. The first step is to scrape all property links from a selected neighborhood. Additionally, we need to deal with pagination."
   ]
  },
  {
   "cell_type": "code",
   "execution_count": 5,
   "id": "82f3e65c",
   "metadata": {},
   "outputs": [],
   "source": [
    "#Making our request and returning our made soup\n",
    "def get_soup(link):\n",
    "    req = ps.api_scrap(link)\n",
    "    soup = bs(req.content, 'lxml')\n",
    "    return soup\n",
    "    "
   ]
  },
  {
   "cell_type": "code",
   "execution_count": 6,
   "id": "044b3c07",
   "metadata": {},
   "outputs": [],
   "source": [
    "#Getting all ids from our soup\n",
    "def get_page_ids(soup, n_id):\n",
    "    articles = soup.find(\"section\", class_=\"items-container items-list\").findAll(\"article\", class_ = 'item')\n",
    "    page_ids= []\n",
    "    for article in articles:\n",
    "        property_info = {\n",
    "            \"neighborhood_id\" :n_id,\n",
    "            \"property_id\" : article.get(\"data-adid\")\n",
    "        }\n",
    "        page_ids.append(property_info)\n",
    "    return page_ids"
   ]
  },
  {
   "cell_type": "code",
   "execution_count": 7,
   "id": "bbf72d74",
   "metadata": {},
   "outputs": [],
   "source": [
    "#Cheking if it's last page by looking if there isn't a next button\n",
    "def is_last_page(soup):\n",
    "    if(soup.find(\"li\", class_=\"next\")!= None):\n",
    "        return False\n",
    "    return True"
   ]
  },
  {
   "cell_type": "code",
   "execution_count": 8,
   "id": "c7b253d1",
   "metadata": {},
   "outputs": [],
   "source": [
    "def get_error_page(n_id, page_index):\n",
    "    error_info = {\n",
    "        \"neighborhood_id\" :n_id,\n",
    "        \"page_link\" : neighborhoods[\"idealista_link\"][n_id] +\"pagina-{}.htm\".format(page_index)\n",
    "    }\n",
    "    \n",
    "    return error_info\n"
   ]
  },
  {
   "cell_type": "code",
   "execution_count": 9,
   "id": "d3812ad8",
   "metadata": {},
   "outputs": [],
   "source": [
    "#looping through pagination and getting all ids of a neighborhood\n",
    "def get_neighborhood_properties_ids(n_id):\n",
    "    \n",
    "    page_index = 1\n",
    "    neighborhood_properties_ids=[]\n",
    "    page_errors = 0\n",
    "    errorList = []\n",
    "    #To see progress while working\n",
    "    print(n_id)\n",
    "    while True:\n",
    "        try:\n",
    "            print(page_index)\n",
    "            soup_link = neighborhoods[\"idealista_link\"][n_id] +\"pagina-{}.htm\".format(page_index)\n",
    "            soup = get_soup(soup_link)\n",
    "            \n",
    "            neighborhood_properties_ids = neighborhood_properties_ids + get_page_ids(soup, n_id)\n",
    "\n",
    "            #Checking if we are in the last page so we stop our loop\n",
    "            if(is_last_page(soup)):\n",
    "                break\n",
    "            #Making sure it isn't infinite and avoid unwanted errors.\n",
    "            if(page_index > 60):\n",
    "                break\n",
    "            page_errors = 0\n",
    "                \n",
    "        #Looking for errors and retrying 3 times\n",
    "        except Exception as e:\n",
    "            page_errors = page_errors +1\n",
    "            if(page_errors <= 3):\n",
    "                page_index = page_index - 1\n",
    "            if(page_errors >3):\n",
    "                errorList = errorList + get_error_page(n_id, page_index)\n",
    "                page_errors = 0\n",
    "            print(f\"an error has ocurred: {e}\")\n",
    "            #Waiting some time to avoid errors\n",
    "            time.sleep(random.uniform(5, 10))\n",
    "            pass\n",
    "            \n",
    "        page_index = page_index +1\n",
    "        \n",
    "    return neighborhood_properties_ids    "
   ]
  },
  {
   "cell_type": "code",
   "execution_count": 18,
   "id": "329c8983",
   "metadata": {},
   "outputs": [],
   "source": [
    "import threading\n",
    "import queue\n",
    "\n",
    "MAX_THREADS = 20\n",
    "\n",
    "thread_results = [[] for _ in range(MAX_THREADS)]\n",
    "\n",
    "lock = threading.Lock()"
   ]
  },
  {
   "cell_type": "code",
   "execution_count": 19,
   "id": "374449b2",
   "metadata": {},
   "outputs": [],
   "source": [
    "q = queue.Queue()\n",
    "\n",
    "for n_id in neighborhoods[\"neighborhood_id\"]:\n",
    "        q.put(n_id) "
   ]
  },
  {
   "cell_type": "code",
   "execution_count": 10,
   "id": "e6b9a517",
   "metadata": {},
   "outputs": [],
   "source": [
    "def get_all_ids(thread_index):\n",
    "    global thread_results\n",
    "    global q\n",
    "    while not q.empty():\n",
    "        try:\n",
    "            n_id = q.get()\n",
    "            result = get_neighborhood_properties_ids(n_id)\n",
    "            with lock:\n",
    "                thread_results[thread_index] += result\n",
    "        except:\n",
    "            continue\n",
    "        time.sleep(random.uniform(1, 3))"
   ]
  },
  {
   "cell_type": "code",
   "execution_count": null,
   "id": "f6a9d46d",
   "metadata": {
    "scrolled": true
   },
   "outputs": [],
   "source": [
    "for i in range(MAX_THREADS):\n",
    "    threading.Thread(target=get_all_ids, args=(i,)).start()"
   ]
  },
  {
   "cell_type": "code",
   "execution_count": 23,
   "id": "a37e91e8",
   "metadata": {},
   "outputs": [],
   "source": [
    "final_result = sum(thread_results,[])\n",
    "df = pd.DataFrame(final_result)\n",
    "df.to_csv(\"urls.csv\",index=False)"
   ]
  },
  {
   "cell_type": "markdown",
   "id": "467e93f2",
   "metadata": {},
   "source": [
    "### Scraping Houses"
   ]
  },
  {
   "cell_type": "markdown",
   "id": "cd2663a8",
   "metadata": {},
   "source": [
    "Once we have all property links in barcelona, we start scrapping for the features of each house."
   ]
  },
  {
   "cell_type": "code",
   "execution_count": 10,
   "id": "b96b06e2",
   "metadata": {},
   "outputs": [],
   "source": [
    "idealista_link = \"https://www.idealista.com/en/\"\n",
    "ids = pd.read_csv(\"urls.csv\")"
   ]
  },
  {
   "cell_type": "code",
   "execution_count": 11,
   "id": "c50e0e35",
   "metadata": {},
   "outputs": [],
   "source": [
    "import threading\n",
    "import queue\n",
    "\n",
    "MAX_THREADS = 20\n",
    "\n",
    "thread_results = [[] for _ in range(MAX_THREADS)]\n",
    "errors = []\n",
    "\n",
    "lock = threading.Lock()\n",
    "\n",
    "q = queue.Queue()\n",
    "\n",
    "for property_id in ids[\"property_id\"]:\n",
    "    q.put(property_id)"
   ]
  },
  {
   "cell_type": "code",
   "execution_count": 13,
   "id": "a6192be0",
   "metadata": {},
   "outputs": [],
   "source": [
    "def scrap_house(thread_index):\n",
    "    global thread_results\n",
    "    global q\n",
    "    error_count = 0 \n",
    "    while not q.empty():\n",
    "        if(error_count == 0):\n",
    "            link = q.get()\n",
    "            error_link = link\n",
    "        else:\n",
    "            link = error_link\n",
    "        soup_link = idealista_link + str(link)\n",
    "        try:\n",
    "            print(link)\n",
    "            soup = get_soup(soup_link)\n",
    "            feature_lists = list(soup.find_all(\"div\", class_=\"details-property_features\"))\n",
    "            feats = []\n",
    "            for feature_list in feature_lists:\n",
    "                feats.append([feature.get_text(strip=True) for feature in list(feature_list.find_all(\"li\"))])\n",
    "\n",
    "            features = [\n",
    "                {\n",
    "                    \"id\": link,\n",
    "                    \"title\" : soup.find(\"span\", class_= \"main-info__title-main\").get_text(),\n",
    "                    \"neighborhood\" : soup.find(\"span\", class_= \"main-info__title-minor\").get_text(),\n",
    "                    \"price\": soup.find(\"span\", class_= \"info-data-price\").find(\"span\", class_= \"txt-bold\").get_text(),\n",
    "                    \"info_features\": [feature.get_text(strip = True )for feature in list(soup.find(\"div\", class_= \"info-features\").find_all(\"span\"))],\n",
    "                    \"features\" : feats,\n",
    "                    \"description\" : soup.find(\"div\", class_=\"comment\").find(\"p\").get_text(strip = True)   \n",
    "                }\n",
    "            ]\n",
    "            with lock:\n",
    "                    thread_results[thread_index] += features\n",
    "            error_count = 0\n",
    "        except Exception as e:\n",
    "                print(f\"an error has ocurred: {e}\")\n",
    "                error_count += 1\n",
    "                if(error_count >= 3):\n",
    "                    error_count = 0\n",
    "        time.sleep(random.uniform(1, 3))"
   ]
  },
  {
   "cell_type": "code",
   "execution_count": null,
   "id": "a7692c5b",
   "metadata": {},
   "outputs": [],
   "source": [
    "for i in range(MAX_THREADS):\n",
    "    threading.Thread(target = scrap_house, args= (i,)).start()\n",
    "    "
   ]
  },
  {
   "cell_type": "code",
   "execution_count": 29,
   "id": "f0e092b2",
   "metadata": {},
   "outputs": [],
   "source": [
    "final_result = sum(thread_results,[])\n",
    "df = pd.DataFrame(final_result)\n",
    "df.to_csv(\"features_plus.csv\",index=False)\n",
    "\n"
   ]
  }
 ],
 "metadata": {
  "kernelspec": {
   "display_name": "Python 3 (ipykernel)",
   "language": "python",
   "name": "python3"
  },
  "language_info": {
   "codemirror_mode": {
    "name": "ipython",
    "version": 3
   },
   "file_extension": ".py",
   "mimetype": "text/x-python",
   "name": "python",
   "nbconvert_exporter": "python",
   "pygments_lexer": "ipython3",
   "version": "3.9.7"
  }
 },
 "nbformat": 4,
 "nbformat_minor": 5
}
